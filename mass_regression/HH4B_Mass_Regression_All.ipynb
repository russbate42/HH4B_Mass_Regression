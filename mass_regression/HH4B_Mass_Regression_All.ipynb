{
 "cells": [
  {
   "cell_type": "markdown",
   "id": "0f135aca-d637-433f-9c62-0d1439df614f",
   "metadata": {},
   "source": [
    "# Mass Regression With Background"
   ]
  },
  {
   "cell_type": "code",
   "execution_count": 1,
   "id": "9083b15f-367a-43cd-9450-267d00ffd69f",
   "metadata": {},
   "outputs": [
    {
     "name": "stdout",
     "output_type": "stream",
     "text": [
      "0\n",
      "1\n",
      "2\n",
      "4\n"
     ]
    }
   ],
   "source": [
    "import numpy as np\n",
    "\n",
    "for i in range(5):\n",
    "    if i == 3:\n",
    "        continue\n",
    "    print(i)"
   ]
  },
  {
   "cell_type": "code",
   "execution_count": 2,
   "id": "da73529a-a967-4243-a4ac-45f644aa1b99",
   "metadata": {},
   "outputs": [
    {
     "name": "stdout",
     "output_type": "stream",
     "text": [
      "0\n"
     ]
    }
   ],
   "source": [
    "empty_list = []\n",
    "empty_arr = np.array(empty_list)\n",
    "print(empty_arr.shape[0])"
   ]
  },
  {
   "cell_type": "code",
   "execution_count": null,
   "id": "ea6ab15d-7821-4bcb-8bfc-3c4df0af7ba5",
   "metadata": {},
   "outputs": [],
   "source": []
  }
 ],
 "metadata": {
  "kernelspec": {
   "display_name": "Python 3 (ipykernel)",
   "language": "python",
   "name": "python3"
  },
  "language_info": {
   "codemirror_mode": {
    "name": "ipython",
    "version": 3
   },
   "file_extension": ".py",
   "mimetype": "text/x-python",
   "name": "python",
   "nbconvert_exporter": "python",
   "pygments_lexer": "ipython3",
   "version": "3.8.10"
  }
 },
 "nbformat": 4,
 "nbformat_minor": 5
}
