{
 "cells": [
  {
   "cell_type": "markdown",
   "id": "31b59553-a3da-4271-b64c-73d262d5c2d8",
   "metadata": {},
   "source": [
    "# Mass Regression Notebook\n",
    "In this notebook we will explore the first concepts of how to apply a neural network or deep learning to the 2-D mass plane."
   ]
  },
  {
   "cell_type": "code",
   "execution_count": 1,
   "id": "f00c0991-2d4e-492a-837e-8e366de1f8cc",
   "metadata": {},
   "outputs": [
    {
     "name": "stdout",
     "output_type": "stream",
     "text": [
      "Numpy version: 1.21.4\n",
      "Uproot version: 4.1.8\n"
     ]
    }
   ],
   "source": [
    "import numpy as np\n",
    "import matplotlib.pyplot as plt\n",
    "import uproot as ur\n",
    "\n",
    "print('Numpy version: {}'.format(np.__version__))\n",
    "print('Uproot version: {}'.format(ur.__version__))"
   ]
  },
  {
   "cell_type": "markdown",
   "id": "b299db28-36b7-4757-8210-2930b5e50fa5",
   "metadata": {},
   "source": [
    "## Uproot files"
   ]
  },
  {
   "cell_type": "code",
   "execution_count": null,
   "id": "62423280-92e0-4b8b-b1c8-1a877484117e",
   "metadata": {},
   "outputs": [],
   "source": []
  }
 ],
 "metadata": {
  "kernelspec": {
   "display_name": "Python 3 (ipykernel)",
   "language": "python",
   "name": "python3"
  },
  "language_info": {
   "codemirror_mode": {
    "name": "ipython",
    "version": 3
   },
   "file_extension": ".py",
   "mimetype": "text/x-python",
   "name": "python",
   "nbconvert_exporter": "python",
   "pygments_lexer": "ipython3",
   "version": "3.8.10"
  }
 },
 "nbformat": 4,
 "nbformat_minor": 5
}
