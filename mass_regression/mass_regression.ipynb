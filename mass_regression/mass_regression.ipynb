{
 "cells": [
  {
   "cell_type": "markdown",
   "id": "31b59553-a3da-4271-b64c-73d262d5c2d8",
   "metadata": {},
   "source": [
    "# Mass Regression Notebook\n",
    "In this notebook we will explore the first concepts of how to apply a neural network or deep learning to the 2-D mass plane."
   ]
  },
  {
   "cell_type": "code",
   "execution_count": 1,
   "id": "f00c0991-2d4e-492a-837e-8e366de1f8cc",
   "metadata": {},
   "outputs": [
    {
     "name": "stdout",
     "output_type": "stream",
     "text": [
      "Numpy version: 1.23.1\n",
      "Uproot version: 4.3.3\n",
      "Awkward version: 1.8.0\n"
     ]
    }
   ],
   "source": [
    "import numpy as np\n",
    "import matplotlib.pyplot as plt\n",
    "import uproot as ur\n",
    "import awkward as ak\n",
    "\n",
    "print('Numpy version: {}'.format(np.__version__))\n",
    "print('Uproot version: {}'.format(ur.__version__))\n",
    "print('Awkward version: {}'.format(ak.__version__))"
   ]
  },
  {
   "cell_type": "markdown",
   "id": "b299db28-36b7-4757-8210-2930b5e50fa5",
   "metadata": {},
   "source": [
    "## Uproot files"
   ]
  },
  {
   "cell_type": "code",
   "execution_count": 2,
   "id": "62423280-92e0-4b8b-b1c8-1a877484117e",
   "metadata": {},
   "outputs": [],
   "source": [
    "rootfile_prefix = '/fast_scratch_1/atlas_images/XhhNTuple/'\n",
    "rfile = 'user.zhenw.29137978._000001.MiniNTuple.root'"
   ]
  },
  {
   "cell_type": "code",
   "execution_count": 3,
   "id": "d94ae136-3c87-47f9-95ae-35a82920601a",
   "metadata": {},
   "outputs": [
    {
     "data": {
      "text/plain": [
       "['XhhMiniNtuple;1',\n",
       " 'cutflow_XhhMiniNtuple;1',\n",
       " 'cutflow_weighted_XhhMiniNtuple;1',\n",
       " 'MetaData_EventCount_XhhMiniNtuple;1']"
      ]
     },
     "execution_count": 3,
     "metadata": {},
     "output_type": "execute_result"
    }
   ],
   "source": [
    "uprooted = ur.open(rootfile_prefix+rfile)\n",
    "uprooted.keys()"
   ]
  },
  {
   "cell_type": "code",
   "execution_count": 4,
   "id": "30641216-fa46-424a-b22c-8f8101c210a6",
   "metadata": {
    "scrolled": true,
    "tags": []
   },
   "outputs": [
    {
     "name": "stdout",
     "output_type": "stream",
     "text": [
      "name                             | typename                 | interpretation                \n",
      "---------------------------------+--------------------------+-------------------------------\n",
      "runNumber                        | int32_t                  | AsDtype('>i4')\n",
      "eventNumber                      | int64_t                  | AsDtype('>i8')\n",
      "lumiBlock                        | int32_t                  | AsDtype('>i4')\n",
      "coreFlags                        | uint32_t                 | AsDtype('>u4')\n",
      "bcid                             | int32_t                  | AsDtype('>i4')\n",
      "mcEventNumber                    | int32_t                  | AsDtype('>i4')\n",
      "mcChannelNumber                  | int32_t                  | AsDtype('>i4')\n",
      "mcEventWeight                    | float                    | AsDtype('>f4')\n",
      "NPV                              | int32_t                  | AsDtype('>i4')\n",
      "actualInteractionsPerCrossing    | float                    | AsDtype('>f4')\n",
      "averageInteractionsPerCrossing   | float                    | AsDtype('>f4')\n",
      "weight_pileup                    | float                    | AsDtype('>f4')\n",
      "correctedAverageMu               | float                    | AsDtype('>f4')\n",
      "correctedAndScaledAverageMu      | float                    | AsDtype('>f4')\n",
      "correctedActualMu                | float                    | AsDtype('>f4')\n",
      "correctedAndScaledActualMu       | float                    | AsDtype('>f4')\n",
      "weight_pileup_up                 | float                    | AsDtype('>f4')\n",
      "weight_pileup_down               | float                    | AsDtype('>f4')\n",
      "rand_run_nr                      | int32_t                  | AsDtype('>i4')\n",
      "rand_lumiblock_nr                | int32_t                  | AsDtype('>i4')\n",
      "passedTriggerHashes              | std::vector<uint64_t>    | AsJagged(AsDtype('>u8'), he...\n",
      "matchedTriggerHashes             | std::vector<uint64_t>    | AsJagged(AsDtype('>u8'), he...\n",
      "HLT_2j15_gsc35_bmv2c1040_spli... | bool                     | AsDtype('bool')\n",
      "HLT_2j330_a10t_lcw_jes_35smcI... | bool                     | AsDtype('bool')\n",
      "HLT_2j330_a10t_lcw_jes_35smcI... | bool                     | AsDtype('bool')\n",
      "HLT_2j330_a10t_lcw_jes_40smcI... | bool                     | AsDtype('bool')\n",
      "HLT_2j35_bmv2c1060_split_2j35... | bool                     | AsDtype('bool')\n",
      "HLT_2j35_bmv2c2060_split_2j35... | bool                     | AsDtype('bool')\n",
      "HLT_2j35_btight_2j35_L13J25_0... | bool                     | AsDtype('bool')\n",
      "HLT_2j35_gsc55_bmv2c1050_spli... | bool                     | AsDtype('bool')\n",
      "HLT_2j45_gsc55_bmv2c1050_spli... | bool                     | AsDtype('bool')\n",
      "HLT_2j55_bmv2c2060_split_ht30... | bool                     | AsDtype('bool')\n",
      "HLT_ht1000_L1J100                | bool                     | AsDtype('bool')\n",
      "HLT_j100_2j55_bmedium            | bool                     | AsDtype('bool')\n",
      "HLT_j100_2j55_bmv2c2060_split    | bool                     | AsDtype('bool')\n",
      "HLT_j110_gsc150_boffperf_spli... | bool                     | AsDtype('bool')\n",
      "HLT_j110_gsc150_boffperf_spli... | bool                     | AsDtype('bool')\n",
      "HLT_j225_bloose                  | bool                     | AsDtype('bool')\n",
      "HLT_j225_bmv2c2060_split         | bool                     | AsDtype('bool')\n",
      "HLT_j225_gsc300_bmv2c1070_split  | bool                     | AsDtype('bool')\n",
      "HLT_j35_gsc55_bmv2c1070_split... | bool                     | AsDtype('bool')\n",
      "HLT_j360_a10_lcw_sub_L1J100      | bool                     | AsDtype('bool')\n",
      "HLT_j360_a10t_lcw_jes_60smcIN... | bool                     | AsDtype('bool')\n",
      "HLT_j370_a10t_lcw_jes_35smcIN... | bool                     | AsDtype('bool')\n",
      "HLT_j390_a10t_lcw_jes_30smcIN... | bool                     | AsDtype('bool')\n",
      "HLT_j420_a10_lcw_L1J100          | bool                     | AsDtype('bool')\n",
      "HLT_j420_a10t_lcw_jes_35smcIN... | bool                     | AsDtype('bool')\n",
      "HLT_j420_a10t_lcw_jes_35smcIN... | bool                     | AsDtype('bool')\n",
      "HLT_j420_a10t_lcw_jes_40smcIN... | bool                     | AsDtype('bool')\n",
      "HLT_j460_a10_lcw_subjes_L1J100   | bool                     | AsDtype('bool')\n",
      "HLT_j460_a10_lcw_subjes_L1SC111  | bool                     | AsDtype('bool')\n",
      "HLT_j460_a10t_lcw_jes_L1J100     | bool                     | AsDtype('bool')\n",
      "HLT_j460_a10t_lcw_jes_L1SC111    | bool                     | AsDtype('bool')\n",
      "HLT_j70_0eta490_j50_0eta490_2... | bool                     | AsDtype('bool')\n",
      "HLT_j70_j50_0eta490_invm1100j... | bool                     | AsDtype('bool')\n",
      "nresolvedJets                    | int32_t                  | AsDtype('>i4')\n",
      "resolvedJets_E                   | std::vector<float>       | AsJagged(AsDtype('>f4'), he...\n",
      "resolvedJets_pt                  | std::vector<float>       | AsJagged(AsDtype('>f4'), he...\n",
      "resolvedJets_phi                 | std::vector<float>       | AsJagged(AsDtype('>f4'), he...\n",
      "resolvedJets_eta                 | std::vector<float>       | AsJagged(AsDtype('>f4'), he...\n",
      "resolvedJets_NumTrkPt1000PV      | std::vector<float>       | AsJagged(AsDtype('>f4'), he...\n",
      "resolvedJets_SumPtTrkPt1000PV    | std::vector<float>       | AsJagged(AsDtype('>f4'), he...\n",
      "resolvedJets_TrackWidthPt1000PV  | std::vector<float>       | AsJagged(AsDtype('>f4'), he...\n",
      "resolvedJets_NumTrkPt500PV       | std::vector<float>       | AsJagged(AsDtype('>f4'), he...\n",
      "resolvedJets_SumPtTrkPt500PV     | std::vector<float>       | AsJagged(AsDtype('>f4'), he...\n",
      "resolvedJets_TrackWidthPt500PV   | std::vector<float>       | AsJagged(AsDtype('>f4'), he...\n",
      "resolvedJets_JVFPV               | std::vector<float>       | AsJagged(AsDtype('>f4'), he...\n",
      "resolvedJets_JvtJvfcorr          | std::vector<float>       | AsJagged(AsDtype('>f4'), he...\n",
      "resolvedJets_JvtRpt              | std::vector<float>       | AsJagged(AsDtype('>f4'), he...\n",
      "resolvedJets_Jvt                 | std::vector<float>       | AsJagged(AsDtype('>f4'), he...\n",
      "resolvedJets_JvtPass_Loose       | std::vector<int32_t>     | AsJagged(AsDtype('>i4'), he...\n",
      "resolvedJets_JvtEff_SF_Loose     | std::vector<std::vect... | AsObjects(AsVector(True, As...\n",
      "resolvedJets_JvtPass_Medium      | std::vector<int32_t>     | AsJagged(AsDtype('>i4'), he...\n",
      "resolvedJets_JvtEff_SF_Medium    | std::vector<std::vect... | AsObjects(AsVector(True, As...\n",
      "resolvedJets_JvtPass_Tight       | std::vector<int32_t>     | AsJagged(AsDtype('>i4'), he...\n",
      "resolvedJets_JvtEff_SF_Tight     | std::vector<std::vect... | AsObjects(AsVector(True, As...\n",
      "resolvedJets_fJvtPass_Medium     | std::vector<int32_t>     | AsJagged(AsDtype('>i4'), he...\n",
      "resolvedJets_fJvtEff_SF_Medium   | std::vector<std::vect... | AsObjects(AsVector(True, As...\n",
      "resolvedJets_fJvtPass_Tight      | std::vector<int32_t>     | AsJagged(AsDtype('>i4'), he...\n",
      "resolvedJets_fJvtEff_SF_Tight    | std::vector<std::vect... | AsObjects(AsVector(True, As...\n",
      "resolvedJets_MV2c00              | std::vector<float>       | AsJagged(AsDtype('>f4'), he...\n",
      "resolvedJets_MV2c10              | std::vector<float>       | AsJagged(AsDtype('>f4'), he...\n",
      "resolvedJets_MV2c10mu            | std::vector<float>       | AsJagged(AsDtype('>f4'), he...\n",
      "resolvedJets_MV2c10rnn           | std::vector<float>       | AsJagged(AsDtype('>f4'), he...\n",
      "resolvedJets_MV2rmu              | std::vector<float>       | AsJagged(AsDtype('>f4'), he...\n",
      "resolvedJets_MV2r                | std::vector<float>       | AsJagged(AsDtype('>f4'), he...\n",
      "resolvedJets_MV2c20              | std::vector<float>       | AsJagged(AsDtype('>f4'), he...\n",
      "resolvedJets_MV2c100             | std::vector<float>       | AsJagged(AsDtype('>f4'), he...\n",
      "resolvedJets_DL1                 | std::vector<float>       | AsJagged(AsDtype('>f4'), he...\n",
      "resolvedJets_DL1_pu              | std::vector<float>       | AsJagged(AsDtype('>f4'), he...\n",
      "resolvedJets_DL1_pc              | std::vector<float>       | AsJagged(AsDtype('>f4'), he...\n",
      "resolvedJets_DL1_pb              | std::vector<float>       | AsJagged(AsDtype('>f4'), he...\n",
      "resolvedJets_DL1mu               | std::vector<float>       | AsJagged(AsDtype('>f4'), he...\n",
      "resolvedJets_DL1mu_pu            | std::vector<float>       | AsJagged(AsDtype('>f4'), he...\n",
      "resolvedJets_DL1mu_pc            | std::vector<float>       | AsJagged(AsDtype('>f4'), he...\n",
      "resolvedJets_DL1mu_pb            | std::vector<float>       | AsJagged(AsDtype('>f4'), he...\n",
      "resolvedJets_DL1rnn              | std::vector<float>       | AsJagged(AsDtype('>f4'), he...\n",
      "resolvedJets_DL1rnn_pu           | std::vector<float>       | AsJagged(AsDtype('>f4'), he...\n",
      "resolvedJets_DL1rnn_pc           | std::vector<float>       | AsJagged(AsDtype('>f4'), he...\n",
      "resolvedJets_DL1rnn_pb           | std::vector<float>       | AsJagged(AsDtype('>f4'), he...\n",
      "resolvedJets_DL1rmu              | std::vector<float>       | AsJagged(AsDtype('>f4'), he...\n",
      "resolvedJets_DL1rmu_pu           | std::vector<float>       | AsJagged(AsDtype('>f4'), he...\n",
      "resolvedJets_DL1rmu_pc           | std::vector<float>       | AsJagged(AsDtype('>f4'), he...\n",
      "resolvedJets_DL1rmu_pb           | std::vector<float>       | AsJagged(AsDtype('>f4'), he...\n",
      "resolvedJets_DL1r                | std::vector<float>       | AsJagged(AsDtype('>f4'), he...\n",
      "resolvedJets_DL1r_pu             | std::vector<float>       | AsJagged(AsDtype('>f4'), he...\n",
      "resolvedJets_DL1r_pc             | std::vector<float>       | AsJagged(AsDtype('>f4'), he...\n",
      "resolvedJets_DL1r_pb             | std::vector<float>       | AsJagged(AsDtype('>f4'), he...\n",
      "resolvedJets_HadronConeExclTr... | std::vector<int32_t>     | AsJagged(AsDtype('>i4'), he...\n",
      "resolvedJets_HadronConeExclEx... | std::vector<int32_t>     | AsJagged(AsDtype('>i4'), he...\n",
      "resolvedJets_JetVertexCharge_... | std::vector<double>      | AsJagged(AsDtype('>f8'), he...\n",
      "resolvedJets_is_DL1r_FixedCut... | std::vector<int32_t>     | AsJagged(AsDtype('>i4'), he...\n",
      "resolvedJets_SF_DL1r_FixedCut... | std::vector<std::vect... | AsObjects(AsVector(True, As...\n",
      "resolvedJets_is_DL1r_FixedCut... | std::vector<int32_t>     | AsJagged(AsDtype('>i4'), he...\n",
      "resolvedJets_SF_DL1r_FixedCut... | std::vector<std::vect... | AsObjects(AsVector(True, As...\n",
      "resolvedJets_is_DL1r_FixedCut... | std::vector<int32_t>     | AsJagged(AsDtype('>i4'), he...\n",
      "resolvedJets_SF_DL1r_FixedCut... | std::vector<std::vect... | AsObjects(AsVector(True, As...\n",
      "resolvedJets_Quantile_DL1r_Co... | std::vector<int32_t>     | AsJagged(AsDtype('>i4'), he...\n",
      "resolvedJets_SF_DL1r_Continuous  | std::vector<std::vect... | AsObjects(AsVector(True, As...\n",
      "resolvedJets_InefficiencySF_D... | std::vector<std::vect... | AsObjects(AsVector(True, As...\n",
      "nboostedJets                     | int32_t                  | AsDtype('>i4')\n",
      "boostedJets_m                    | std::vector<float>       | AsJagged(AsDtype('>f4'), he...\n",
      "boostedJets_pt                   | std::vector<float>       | AsJagged(AsDtype('>f4'), he...\n",
      "boostedJets_phi                  | std::vector<float>       | AsJagged(AsDtype('>f4'), he...\n",
      "boostedJets_eta                  | std::vector<float>       | AsJagged(AsDtype('>f4'), he...\n",
      "boostedJets_Split12              | std::vector<float>       | AsJagged(AsDtype('>f4'), he...\n",
      "boostedJets_Split23              | std::vector<float>       | AsJagged(AsDtype('>f4'), he...\n",
      "boostedJets_Split34              | std::vector<float>       | AsJagged(AsDtype('>f4'), he...\n",
      "boostedJets_tau1_wta             | std::vector<float>       | AsJagged(AsDtype('>f4'), he...\n",
      "boostedJets_tau2_wta             | std::vector<float>       | AsJagged(AsDtype('>f4'), he...\n",
      "boostedJets_tau3_wta             | std::vector<float>       | AsJagged(AsDtype('>f4'), he...\n",
      "boostedJets_tau21_wta            | std::vector<float>       | AsJagged(AsDtype('>f4'), he...\n",
      "boostedJets_tau32_wta            | std::vector<float>       | AsJagged(AsDtype('>f4'), he...\n",
      "boostedJets_ECF1                 | std::vector<float>       | AsJagged(AsDtype('>f4'), he...\n",
      "boostedJets_ECF2                 | std::vector<float>       | AsJagged(AsDtype('>f4'), he...\n",
      "boostedJets_ECF3                 | std::vector<float>       | AsJagged(AsDtype('>f4'), he...\n",
      "boostedJets_C2                   | std::vector<float>       | AsJagged(AsDtype('>f4'), he...\n",
      "boostedJets_D2                   | std::vector<float>       | AsJagged(AsDtype('>f4'), he...\n",
      "boostedJets_NTrimSubjets         | std::vector<float>       | AsJagged(AsDtype('>f4'), he...\n",
      "boostedJets_Nclusters            | std::vector<int32_t>     | AsJagged(AsDtype('>i4'), he...\n",
      "boostedJets_nTracks              | std::vector<int32_t>     | AsJagged(AsDtype('>i4'), he...\n",
      "boostedJets_ungrtrk500           | std::vector<int32_t>     | AsJagged(AsDtype('>i4'), he...\n",
      "boostedJets_EMFrac               | std::vector<float>       | AsJagged(AsDtype('>f4'), he...\n",
      "boostedJets_nChargedParticles    | std::vector<int32_t>     | AsJagged(AsDtype('>i4'), he...\n",
      "boostedJets_numConstituents      | std::vector<int32_t>     | AsJagged(AsDtype('>i4'), he...\n",
      "nboostedTrkJets                  | int32_t                  | AsDtype('>i4')\n",
      "boostedTrkJets_E                 | std::vector<float>       | AsJagged(AsDtype('>f4'), he...\n",
      "boostedTrkJets_pt                | std::vector<float>       | AsJagged(AsDtype('>f4'), he...\n",
      "boostedTrkJets_phi               | std::vector<float>       | AsJagged(AsDtype('>f4'), he...\n",
      "boostedTrkJets_eta               | std::vector<float>       | AsJagged(AsDtype('>f4'), he...\n",
      "boostedTrkJets_NumTrkPt1000PV    | std::vector<float>       | AsJagged(AsDtype('>f4'), he...\n",
      "boostedTrkJets_SumPtTrkPt1000PV  | std::vector<float>       | AsJagged(AsDtype('>f4'), he...\n",
      "boostedTrkJets_TrackWidthPt10... | std::vector<float>       | AsJagged(AsDtype('>f4'), he...\n",
      "boostedTrkJets_NumTrkPt500PV     | std::vector<float>       | AsJagged(AsDtype('>f4'), he...\n",
      "boostedTrkJets_SumPtTrkPt500PV   | std::vector<float>       | AsJagged(AsDtype('>f4'), he...\n",
      "boostedTrkJets_TrackWidthPt500PV | std::vector<float>       | AsJagged(AsDtype('>f4'), he...\n",
      "boostedTrkJets_JVFPV             | std::vector<float>       | AsJagged(AsDtype('>f4'), he...\n",
      "boostedTrkJets_JvtJvfcorr        | std::vector<float>       | AsJagged(AsDtype('>f4'), he...\n",
      "boostedTrkJets_JvtRpt            | std::vector<float>       | AsJagged(AsDtype('>f4'), he...\n",
      "boostedTrkJets_Jvt               | std::vector<float>       | AsJagged(AsDtype('>f4'), he...\n",
      "boostedTrkJets_JvtPass_Loose     | std::vector<int32_t>     | AsJagged(AsDtype('>i4'), he...\n",
      "boostedTrkJets_JvtEff_SF_Loose   | std::vector<std::vect... | AsObjects(AsVector(True, As...\n",
      "boostedTrkJets_JvtPass_Medium    | std::vector<int32_t>     | AsJagged(AsDtype('>i4'), he...\n",
      "boostedTrkJets_JvtEff_SF_Medium  | std::vector<std::vect... | AsObjects(AsVector(True, As...\n",
      "boostedTrkJets_JvtPass_Tight     | std::vector<int32_t>     | AsJagged(AsDtype('>i4'), he...\n",
      "boostedTrkJets_JvtEff_SF_Tight   | std::vector<std::vect... | AsObjects(AsVector(True, As...\n",
      "boostedTrkJets_fJvtPass_Medium   | std::vector<int32_t>     | AsJagged(AsDtype('>i4'), he...\n",
      "boostedTrkJets_fJvtEff_SF_Medium | std::vector<std::vect... | AsObjects(AsVector(True, As...\n",
      "boostedTrkJets_fJvtPass_Tight    | std::vector<int32_t>     | AsJagged(AsDtype('>i4'), he...\n",
      "boostedTrkJets_fJvtEff_SF_Tight  | std::vector<std::vect... | AsObjects(AsVector(True, As...\n",
      "boostedTrkJets_MV2c00            | std::vector<float>       | AsJagged(AsDtype('>f4'), he...\n",
      "boostedTrkJets_MV2c10            | std::vector<float>       | AsJagged(AsDtype('>f4'), he...\n",
      "boostedTrkJets_MV2c10mu          | std::vector<float>       | AsJagged(AsDtype('>f4'), he...\n",
      "boostedTrkJets_MV2c10rnn         | std::vector<float>       | AsJagged(AsDtype('>f4'), he...\n",
      "boostedTrkJets_MV2rmu            | std::vector<float>       | AsJagged(AsDtype('>f4'), he...\n",
      "boostedTrkJets_MV2r              | std::vector<float>       | AsJagged(AsDtype('>f4'), he...\n",
      "boostedTrkJets_MV2c20            | std::vector<float>       | AsJagged(AsDtype('>f4'), he...\n",
      "boostedTrkJets_MV2c100           | std::vector<float>       | AsJagged(AsDtype('>f4'), he...\n",
      "boostedTrkJets_DL1               | std::vector<float>       | AsJagged(AsDtype('>f4'), he...\n",
      "boostedTrkJets_DL1_pu            | std::vector<float>       | AsJagged(AsDtype('>f4'), he...\n",
      "boostedTrkJets_DL1_pc            | std::vector<float>       | AsJagged(AsDtype('>f4'), he...\n",
      "boostedTrkJets_DL1_pb            | std::vector<float>       | AsJagged(AsDtype('>f4'), he...\n",
      "boostedTrkJets_DL1mu             | std::vector<float>       | AsJagged(AsDtype('>f4'), he...\n",
      "boostedTrkJets_DL1mu_pu          | std::vector<float>       | AsJagged(AsDtype('>f4'), he...\n",
      "boostedTrkJets_DL1mu_pc          | std::vector<float>       | AsJagged(AsDtype('>f4'), he...\n",
      "boostedTrkJets_DL1mu_pb          | std::vector<float>       | AsJagged(AsDtype('>f4'), he...\n",
      "boostedTrkJets_DL1rnn            | std::vector<float>       | AsJagged(AsDtype('>f4'), he...\n",
      "boostedTrkJets_DL1rnn_pu         | std::vector<float>       | AsJagged(AsDtype('>f4'), he...\n",
      "boostedTrkJets_DL1rnn_pc         | std::vector<float>       | AsJagged(AsDtype('>f4'), he...\n",
      "boostedTrkJets_DL1rnn_pb         | std::vector<float>       | AsJagged(AsDtype('>f4'), he...\n",
      "boostedTrkJets_DL1rmu            | std::vector<float>       | AsJagged(AsDtype('>f4'), he...\n",
      "boostedTrkJets_DL1rmu_pu         | std::vector<float>       | AsJagged(AsDtype('>f4'), he...\n",
      "boostedTrkJets_DL1rmu_pc         | std::vector<float>       | AsJagged(AsDtype('>f4'), he...\n",
      "boostedTrkJets_DL1rmu_pb         | std::vector<float>       | AsJagged(AsDtype('>f4'), he...\n",
      "boostedTrkJets_DL1r              | std::vector<float>       | AsJagged(AsDtype('>f4'), he...\n",
      "boostedTrkJets_DL1r_pu           | std::vector<float>       | AsJagged(AsDtype('>f4'), he...\n",
      "boostedTrkJets_DL1r_pc           | std::vector<float>       | AsJagged(AsDtype('>f4'), he...\n",
      "boostedTrkJets_DL1r_pb           | std::vector<float>       | AsJagged(AsDtype('>f4'), he...\n",
      "boostedTrkJets_HadronConeExcl... | std::vector<int32_t>     | AsJagged(AsDtype('>i4'), he...\n",
      "boostedTrkJets_HadronConeExcl... | std::vector<int32_t>     | AsJagged(AsDtype('>i4'), he...\n",
      "boostedTrkJets_is_DL1r_FixedC... | std::vector<int32_t>     | AsJagged(AsDtype('>i4'), he...\n",
      "boostedTrkJets_SF_DL1r_FixedC... | std::vector<std::vect... | AsObjects(AsVector(True, As...\n",
      "boostedTrkJets_is_DL1r_FixedC... | std::vector<int32_t>     | AsJagged(AsDtype('>i4'), he...\n",
      "boostedTrkJets_SF_DL1r_FixedC... | std::vector<std::vect... | AsObjects(AsVector(True, As...\n",
      "boostedTrkJets_is_DL1r_FixedC... | std::vector<int32_t>     | AsJagged(AsDtype('>i4'), he...\n",
      "boostedTrkJets_SF_DL1r_FixedC... | std::vector<std::vect... | AsObjects(AsVector(True, As...\n",
      "boostedTrkJets_is_DL1r_FixedC... | std::vector<int32_t>     | AsJagged(AsDtype('>i4'), he...\n",
      "boostedTrkJets_SF_DL1r_FixedC... | std::vector<std::vect... | AsObjects(AsVector(True, As...\n",
      "nmuon                            | int32_t                  | AsDtype('>i4')\n",
      "muon_m                           | std::vector<float>       | AsJagged(AsDtype('>f4'), he...\n",
      "muon_pt                          | std::vector<float>       | AsJagged(AsDtype('>f4'), he...\n",
      "muon_phi                         | std::vector<float>       | AsJagged(AsDtype('>f4'), he...\n",
      "muon_eta                         | std::vector<float>       | AsJagged(AsDtype('>f4'), he...\n",
      "muon_charge                      | std::vector<float>       | AsJagged(AsDtype('>f4'), he...\n",
      "muon_isIsolated_FCTight          | std::vector<int32_t>     | AsJagged(AsDtype('>i4'), he...\n",
      "muon_trkd0                       | std::vector<float>       | AsJagged(AsDtype('>f4'), he...\n",
      "muon_trkd0sig                    | std::vector<float>       | AsJagged(AsDtype('>f4'), he...\n",
      "muon_trkz0                       | std::vector<float>       | AsJagged(AsDtype('>f4'), he...\n",
      "muon_trkz0sintheta               | std::vector<float>       | AsJagged(AsDtype('>f4'), he...\n",
      "muon_trkphi0                     | std::vector<float>       | AsJagged(AsDtype('>f4'), he...\n",
      "muon_trktheta                    | std::vector<float>       | AsJagged(AsDtype('>f4'), he...\n",
      "muon_trkcharge                   | std::vector<float>       | AsJagged(AsDtype('>f4'), he...\n",
      "muon_trkqOverP                   | std::vector<float>       | AsJagged(AsDtype('>f4'), he...\n",
      "muon_EnergyLoss                  | std::vector<float>       | AsJagged(AsDtype('>f4'), he...\n",
      "muon_EnergyLossSigma             | std::vector<float>       | AsJagged(AsDtype('>f4'), he...\n",
      "muon_energyLossType              | std::vector<uint8_t>     | AsJagged(AsDtype('uint8'), ...\n",
      "muon_MeasEnergyLoss              | std::vector<float>       | AsJagged(AsDtype('>f4'), he...\n",
      "muon_MeasEnergyLossSigma         | std::vector<float>       | AsJagged(AsDtype('>f4'), he...\n",
      "muon_ParamEnergyLoss             | std::vector<float>       | AsJagged(AsDtype('>f4'), he...\n",
      "muon_ParamEnergyLossSigmaMinus   | std::vector<float>       | AsJagged(AsDtype('>f4'), he...\n",
      "muon_ParamEnergyLossSigmaPlus    | std::vector<float>       | AsJagged(AsDtype('>f4'), he...\n",
      "ntruth                           | int32_t                  | AsDtype('>i4')\n",
      "truth_E                          | std::vector<float>       | AsJagged(AsDtype('>f4'), he...\n",
      "truth_pt                         | std::vector<float>       | AsJagged(AsDtype('>f4'), he...\n",
      "truth_phi                        | std::vector<float>       | AsJagged(AsDtype('>f4'), he...\n",
      "truth_eta                        | std::vector<float>       | AsJagged(AsDtype('>f4'), he...\n",
      "truth_pdgId                      | std::vector<int32_t>     | AsJagged(AsDtype('>i4'), he...\n",
      "truth_status                     | std::vector<int32_t>     | AsJagged(AsDtype('>i4'), he...\n",
      "truth_barcode                    | std::vector<int32_t>     | AsJagged(AsDtype('>i4'), he...\n",
      "truth_is_higgs                   | std::vector<int32_t>     | AsJagged(AsDtype('>i4'), he...\n",
      "truth_is_bhad                    | std::vector<int32_t>     | AsJagged(AsDtype('>i4'), he...\n",
      "truth_Bdecay_x                   | std::vector<float>       | AsJagged(AsDtype('>f4'), he...\n",
      "truth_Bdecay_y                   | std::vector<float>       | AsJagged(AsDtype('>f4'), he...\n",
      "truth_Bdecay_z                   | std::vector<float>       | AsJagged(AsDtype('>f4'), he...\n",
      "truth_nParents                   | std::vector<int32_t>     | AsJagged(AsDtype('>i4'), he...\n",
      "truth_parent_pdgId               | std::vector<std::vect... | AsObjects(AsVector(True, As...\n",
      "truth_parent_barcode             | std::vector<std::vect... | AsObjects(AsVector(True, As...\n",
      "truth_parent_status              | std::vector<std::vect... | AsObjects(AsVector(True, As...\n",
      "truth_nChildren                  | std::vector<int32_t>     | AsJagged(AsDtype('>i4'), he...\n",
      "truth_child_pdgId                | std::vector<std::vect... | AsObjects(AsVector(True, As...\n",
      "truth_child_barcode              | std::vector<std::vect... | AsObjects(AsVector(True, As...\n",
      "truth_child_status               | std::vector<std::vect... | AsObjects(AsVector(True, As...\n",
      "truth_mtt                        | double                   | AsDtype('>f8')\n",
      "isVHH                            | bool                     | AsDtype('bool')\n",
      "truth_mHH                        | double                   | AsDtype('>f8')\n",
      "truth_pT_H1                      | double                   | AsDtype('>f8')\n",
      "resolvedJets_bjetTrigSFs         | std::vector<std::vect... | AsObjects(AsVector(True, As...\n",
      "resolvedJets_jetTrigL1SFs        | vector<TrigSF>           | AsGroup(<TBranchElement 're...\n",
      "resolvedJets_jetTrigL1SFs/res... | float[]                  | AsJagged(AsDtype('>f4'))\n",
      "resolvedJets_jetTrigL1SFs/res... | float[]                  | AsJagged(AsDtype('>f4'))\n",
      "resolvedJets_jetTrigL1SFs/res... | float[]                  | AsJagged(AsDtype('>f4'))\n",
      "resolvedJets_jetTrigL1SFs/res... | float[]                  | AsJagged(AsDtype('>f4'))\n",
      "resolvedJets_jetTrigL1SFs_1up    | vector<TrigSF>           | AsGroup(<TBranchElement 're...\n",
      "resolvedJets_jetTrigL1SFs_1up... | float[]                  | AsJagged(AsDtype('>f4'))\n",
      "resolvedJets_jetTrigL1SFs_1up... | float[]                  | AsJagged(AsDtype('>f4'))\n",
      "resolvedJets_jetTrigL1SFs_1up... | float[]                  | AsJagged(AsDtype('>f4'))\n",
      "resolvedJets_jetTrigL1SFs_1up... | float[]                  | AsJagged(AsDtype('>f4'))\n",
      "resolvedJets_jetTrigL1SFs_1down  | vector<TrigSF>           | AsGroup(<TBranchElement 're...\n",
      "resolvedJets_jetTrigL1SFs_1do... | float[]                  | AsJagged(AsDtype('>f4'))\n",
      "resolvedJets_jetTrigL1SFs_1do... | float[]                  | AsJagged(AsDtype('>f4'))\n",
      "resolvedJets_jetTrigL1SFs_1do... | float[]                  | AsJagged(AsDtype('>f4'))\n",
      "resolvedJets_jetTrigL1SFs_1do... | float[]                  | AsJagged(AsDtype('>f4'))\n",
      "resolvedJets_jetTrigHLTSFs       | vector<TrigSF>           | AsGroup(<TBranchElement 're...\n",
      "resolvedJets_jetTrigHLTSFs/re... | float[]                  | AsJagged(AsDtype('>f4'))\n",
      "resolvedJets_jetTrigHLTSFs/re... | float[]                  | AsJagged(AsDtype('>f4'))\n",
      "resolvedJets_jetTrigHLTSFs/re... | float[]                  | AsJagged(AsDtype('>f4'))\n",
      "resolvedJets_jetTrigHLTSFs/re... | float[]                  | AsJagged(AsDtype('>f4'))\n",
      "resolvedJets_jetTrigHLTSFs_1up   | vector<TrigSF>           | AsGroup(<TBranchElement 're...\n",
      "resolvedJets_jetTrigHLTSFs_1u... | float[]                  | AsJagged(AsDtype('>f4'))\n",
      "resolvedJets_jetTrigHLTSFs_1u... | float[]                  | AsJagged(AsDtype('>f4'))\n",
      "resolvedJets_jetTrigHLTSFs_1u... | float[]                  | AsJagged(AsDtype('>f4'))\n",
      "resolvedJets_jetTrigHLTSFs_1u... | float[]                  | AsJagged(AsDtype('>f4'))\n",
      "resolvedJets_jetTrigHLTSFs_1down | vector<TrigSF>           | AsGroup(<TBranchElement 're...\n",
      "resolvedJets_jetTrigHLTSFs_1d... | float[]                  | AsJagged(AsDtype('>f4'))\n",
      "resolvedJets_jetTrigHLTSFs_1d... | float[]                  | AsJagged(AsDtype('>f4'))\n",
      "resolvedJets_jetTrigHLTSFs_1d... | float[]                  | AsJagged(AsDtype('>f4'))\n",
      "resolvedJets_jetTrigHLTSFs_1d... | float[]                  | AsJagged(AsDtype('>f4'))\n",
      "resolved_htTrigL1SF              | float                    | AsDtype('>f4')\n",
      "resolved_htTrigL1SF_1up          | float                    | AsDtype('>f4')\n",
      "resolved_htTrigL1SF_1down        | float                    | AsDtype('>f4')\n",
      "resolved_htTrigHLTSF             | float                    | AsDtype('>f4')\n",
      "resolved_htTrigHLTSF_1up         | float                    | AsDtype('>f4')\n",
      "resolved_htTrigHLTSF_1down       | float                    | AsDtype('>f4')\n",
      "resolvedJets_isOnlineTagged      | vector<TrigSF>           | AsGroup(<TBranchElement 're...\n",
      "resolvedJets_isOnlineTagged/r... | float[]                  | AsJagged(AsDtype('>f4'))\n",
      "resolvedJets_isOnlineTagged/r... | float[]                  | AsJagged(AsDtype('>f4'))\n",
      "resolvedJets_isOnlineTagged/r... | float[]                  | AsJagged(AsDtype('>f4'))\n",
      "resolvedJets_isOnlineTagged/r... | float[]                  | AsJagged(AsDtype('>f4'))\n",
      "resolvedJets_rawPt               | std::vector<float>       | AsJagged(AsDtype('>f4'), he...\n",
      "resolvedJets_pullMag             | std::vector<float>       | AsJagged(AsDtype('>f4'), he...\n",
      "resolvedJets_pullPhi             | std::vector<float>       | AsJagged(AsDtype('>f4'), he...\n",
      "resolved_nGoodJets               | int32_t                  | AsDtype('>i4')\n",
      "resolved_nBTags                  | int32_t                  | AsDtype('>i4')\n",
      "resolved_nValidPairings          | int32_t                  | AsDtype('>i4')\n",
      "resolved_isSR                    | bool                     | AsDtype('bool')\n",
      "resolved_isVR                    | bool                     | AsDtype('bool')\n",
      "resolved_isCR                    | bool                     | AsDtype('bool')\n",
      "resolved_mHH                     | float                    | AsDtype('>f4')\n",
      "boosted_nGoodJets                | int32_t                  | AsDtype('>i4')\n",
      "boosted_DEtaHH                   | float                    | AsDtype('>f4')\n",
      "boosted_mHH                      | float                    | AsDtype('>f4')\n",
      "boosted_isSR                     | bool                     | AsDtype('bool')\n",
      "boosted_isVR                     | bool                     | AsDtype('bool')\n",
      "boosted_isCR                     | bool                     | AsDtype('bool')\n",
      "boosted_is2b                     | bool                     | AsDtype('bool')\n",
      "boosted_is3b                     | bool                     | AsDtype('bool')\n",
      "boosted_is4b                     | bool                     | AsDtype('bool')\n",
      "boosted_is1b-1                   | bool                     | AsDtype('bool')\n",
      "boosted_is2b-1                   | bool                     | AsDtype('bool')\n",
      "boosted_is2b-2                   | bool                     | AsDtype('bool')\n",
      "boostedJets_ptcalo               | std::vector<float>       | AsJagged(AsDtype('>f4'), he...\n",
      "boostedJets_ptTA                 | std::vector<float>       | AsJagged(AsDtype('>f4'), he...\n",
      "boostedJets_etacalo              | std::vector<float>       | AsJagged(AsDtype('>f4'), he...\n",
      "boostedJets_etaTA                | std::vector<float>       | AsJagged(AsDtype('>f4'), he...\n",
      "boostedJets_phicalo              | std::vector<float>       | AsJagged(AsDtype('>f4'), he...\n",
      "boostedJets_phiTA                | std::vector<float>       | AsJagged(AsDtype('>f4'), he...\n",
      "boostedJets_mcalo                | std::vector<float>       | AsJagged(AsDtype('>f4'), he...\n",
      "boostedJets_mTA                  | std::vector<float>       | AsJagged(AsDtype('>f4'), he...\n",
      "boostedJets_dRjj                 | std::vector<float>       | AsJagged(AsDtype('>f4'), he...\n",
      "boostedJets_ntrk500              | std::vector<float>       | AsJagged(AsDtype('>f4'), he...\n",
      "boostedJets_ntrk1000             | std::vector<float>       | AsJagged(AsDtype('>f4'), he...\n",
      "boostedJets_trkwidth500          | std::vector<float>       | AsJagged(AsDtype('>f4'), he...\n",
      "boostedJets_trkwidth1000         | std::vector<float>       | AsJagged(AsDtype('>f4'), he...\n",
      "jet_ak2track_asso_fatjet         | std::vector<int32_t>     | AsJagged(AsDtype('>i4'), he...\n",
      "jet_ak2track_asso_sys            | std::vector<std::vect... | AsObjects(AsVector(True, As...\n",
      "boosted_bevent_sys               | std::vector<float>       | AsJagged(AsDtype('>f4'), he...\n",
      "boostedTrkJets_BHadPt            | std::vector<float>       | AsJagged(AsDtype('>f4'), he...\n",
      "boostedJets_Xbb202006_Higgs      | std::vector<float>       | AsJagged(AsDtype('>f4'), he...\n",
      "boostedJets_Xbb202006_Top        | std::vector<float>       | AsJagged(AsDtype('>f4'), he...\n",
      "boostedJets_Xbb202006_QCD        | std::vector<float>       | AsJagged(AsDtype('>f4'), he...\n",
      "boostedJets_Xbb2020v2_Higgs      | std::vector<float>       | AsJagged(AsDtype('>f4'), he...\n",
      "boostedJets_Xbb2020v2_Top        | std::vector<float>       | AsJagged(AsDtype('>f4'), he...\n",
      "boostedJets_Xbb2020v2_QCD        | std::vector<float>       | AsJagged(AsDtype('>f4'), he...\n",
      "boostedJets_Xbb2020v3_Higgs      | std::vector<float>       | AsJagged(AsDtype('>f4'), he...\n",
      "boostedJets_Xbb2020v3_Top        | std::vector<float>       | AsJagged(AsDtype('>f4'), he...\n",
      "boostedJets_Xbb2020v3_QCD        | std::vector<float>       | AsJagged(AsDtype('>f4'), he...\n",
      "truthjet_antikt4_pt              | std::vector<float>       | AsJagged(AsDtype('>f4'), he...\n",
      "truthjet_antikt4_eta             | std::vector<float>       | AsJagged(AsDtype('>f4'), he...\n",
      "truthjet_antikt4_phi             | std::vector<float>       | AsJagged(AsDtype('>f4'), he...\n",
      "truthjet_antikt4_m               | std::vector<float>       | AsJagged(AsDtype('>f4'), he...\n",
      "truthjet_antikt10_pt             | std::vector<float>       | AsJagged(AsDtype('>f4'), he...\n",
      "truthjet_antikt10_eta            | std::vector<float>       | AsJagged(AsDtype('>f4'), he...\n",
      "truthjet_antikt10_phi            | std::vector<float>       | AsJagged(AsDtype('>f4'), he...\n",
      "truthjet_antikt10_m              | std::vector<float>       | AsJagged(AsDtype('>f4'), he...\n",
      "passedEmulatedTriggerHashes      | std::vector<uint64_t>    | AsJagged(AsDtype('>u8'), he...\n",
      "GenFiltHT                        | float                    | AsDtype('>f4')\n",
      "weight                           | float                    | AsDtype('>f4')\n",
      "weight_xs                        | float                    | AsDtype('>f4')\n",
      "cleanEvent                       | bool                     | AsDtype('bool')\n",
      "passResolvedGRL                  | bool                     | AsDtype('bool')\n"
     ]
    }
   ],
   "source": [
    "MNTuple = uprooted['XhhMiniNtuple']\n",
    "# events.arrays([\"px1\", \"py1\", \"pz1\"])\n",
    "MNTuple.show(name_width=32,\n",
    "            interpretation_width=30)"
   ]
  },
  {
   "cell_type": "markdown",
   "id": "32901c53-0107-430f-92ae-3307a2a38e37",
   "metadata": {},
   "source": [
    "## Load Utils"
   ]
  },
  {
   "cell_type": "code",
   "execution_count": 5,
   "id": "9f6c11b6-74d2-4cbd-a120-4dace4498cdb",
   "metadata": {},
   "outputs": [],
   "source": [
    "import os\n",
    "import sys\n",
    "cwd = os.getcwd()\n",
    "path_head, path_tail = os.path.split(cwd)\n",
    "sys.path.append(path_head+'/utils')\n",
    "from ml_utils import dict_from_tree, DeltaR\n",
    "from time import perf_counter as cput"
   ]
  },
  {
   "cell_type": "markdown",
   "id": "0b18d81e-6619-4291-8111-75d9b0d1b64e",
   "metadata": {},
   "source": [
    "## Load Data"
   ]
  },
  {
   "cell_type": "code",
   "execution_count": 6,
   "id": "e055a9be-122c-45bb-a80d-7d386f259d98",
   "metadata": {},
   "outputs": [],
   "source": [
    "branches = ['boosted_nGoodJets', \"nboostedJets\", \"boostedJets_m\",\n",
    "            \"boostedJets_pt\", \"boostedJets_phi\", \"boostedJets_eta\",\n",
    "           \"truth_mHH\", 'truthjet_antikt10_pt', 'truthjet_antikt10_eta',\n",
    "           'truthjet_antikt10_phi', 'truthjet_antikt10_m']\n",
    "np_branches = ['eventNumber']"
   ]
  },
  {
   "cell_type": "code",
   "execution_count": 7,
   "id": "45646dce-e3a0-4567-9a51-01198600301f",
   "metadata": {},
   "outputs": [
    {
     "name": "stdout",
     "output_type": "stream",
     "text": [
      "Time to load arrays:   1.6411 (s)\n",
      "339978 Events\n"
     ]
    }
   ],
   "source": [
    "t0 = cput()\n",
    "hh4b_dict = dict_from_tree(MNTuple, branches, np_branches)\n",
    "t1 = cput()\n",
    "method_1_time = t1 - t0\n",
    "print('Time to load arrays: {:8.4f} (s)'.format(method_1_time))\n",
    "\n",
    "nEvents = len(hh4b_dict['eventNumber'])\n",
    "print('{} Events'.format(nEvents))"
   ]
  },
  {
   "cell_type": "code",
   "execution_count": 8,
   "id": "0437e315-217f-4dd1-80d2-b047fa63bfd2",
   "metadata": {},
   "outputs": [
    {
     "name": "stdout",
     "output_type": "stream",
     "text": [
      "95892\n",
      "29.207738445024006\n"
     ]
    }
   ],
   "source": [
    "gt_twoJets = np.zeros(nEvents, dtype=bool)\n",
    "t0 = cput()\n",
    "for i in range(nEvents):\n",
    "    boostedJets_pt = ak.to_numpy(hh4b_dict['boostedJets_pt'][i])\n",
    "    \n",
    "    if len(boostedJets_pt) >=2:\n",
    "        gt_twoJets[i] = True\n",
    "\n",
    "n2jets = np.count_nonzero(gt_twoJets)\n",
    "print(n2jets)\n",
    "t1 = cput()\n",
    "print(t1 - t0)"
   ]
  },
  {
   "cell_type": "markdown",
   "id": "b551db1a-969e-4054-abe7-165dfbf84116",
   "metadata": {},
   "source": [
    "# Fill arrays with inputs"
   ]
  },
  {
   "cell_type": "code",
   "execution_count": 20,
   "id": "1859be89-a3a5-4a9e-86e3-741f712069df",
   "metadata": {
    "scrolled": true,
    "tags": []
   },
   "outputs": [
    {
     "name": "stdout",
     "output_type": "stream",
     "text": [
      "Event with matched jets: 1\n",
      "Number of boosted jets:   2\n",
      "Event with matched jets: 3\n",
      "Number of boosted jets:   2\n",
      "Event with matched jets: 9\n",
      "Number of boosted jets:   2\n",
      "Event with matched jets: 14\n",
      "Number of boosted jets:   2\n",
      "Event with matched jets: 20\n",
      "Number of boosted jets:   3\n",
      "Event with matched jets: 27\n",
      "Number of boosted jets:   2\n",
      "Event with matched jets: 29\n",
      "Number of boosted jets:   2\n",
      "Event with matched jets: 33\n",
      "Number of boosted jets:   2\n",
      "Event with matched jets: 34\n",
      "Number of boosted jets:   2\n",
      "Event with matched jets: 36\n",
      "Number of boosted jets:   2\n",
      "Event with matched jets: 50\n",
      "Number of boosted jets:   2\n",
      "Event with matched jets: 51\n",
      "Number of boosted jets:   2\n",
      "Event with matched jets: 54\n",
      "Number of boosted jets:   2\n",
      "Event with matched jets: 55\n",
      "Number of boosted jets:   2\n",
      "Event with matched jets: 56\n",
      "Number of boosted jets:   2\n",
      "Event with matched jets: 58\n",
      "Number of boosted jets:   2\n",
      "Event with matched jets: 62\n",
      "Number of boosted jets:   2\n",
      "Event with matched jets: 67\n",
      "Number of boosted jets:   2\n",
      "Event with matched jets: 72\n",
      "Number of boosted jets:   2\n",
      "Event with matched jets: 73\n",
      "Number of boosted jets:   2\n"
     ]
    }
   ],
   "source": [
    "list_indices = np.arange(nEvents)\n",
    "# evt_idx = np.full(shape=(n2jets,), fill_value=-1)\n",
    "evt_idx = np.ndarray.copy(list_indices[gt_twoJets])\n",
    "\n",
    "for jk in range(20):\n",
    "    evt = evt_idx[jk]\n",
    "    nboosted = len(ak.to_numpy(hh4b_dict['boostedJets_pt'][evt]))\n",
    "    print('Event with matched jets: {}'.format(evt_idx[jk]))\n",
    "    print('Number of boosted jets:   {}'.format(nboosted))"
   ]
  },
  {
   "cell_type": "code",
   "execution_count": 21,
   "id": "9eb0c1b7-6ddc-4c10-9d25-31d2e96f4885",
   "metadata": {
    "scrolled": true,
    "tags": []
   },
   "outputs": [
    {
     "name": "stdout",
     "output_type": "stream",
     "text": [
      "Time to complete jet matching:  1.687 (m)\n",
      "\n",
      "\n",
      "(94859, 3)\n"
     ]
    }
   ],
   "source": [
    "t0 = cput()\n",
    "matched_jets = []\n",
    "for i, evt in enumerate(evt_idx):\n",
    "    \n",
    "    nTruthJets = ak.to_numpy(hh4b_dict['truthjet_antikt10_m'][evt]).shape[0]\n",
    "    truthJet_coords = np.empty((nTruthJets, 2))\n",
    "    # this can be vectorized easily (too tired)\n",
    "    for j in range(nTruthJets):\n",
    "        truthJet_coords[j,0] = hh4b_dict['truthjet_antikt10_eta'][evt][j]\n",
    "        truthJet_coords[j,1] = hh4b_dict['truthjet_antikt10_phi'][evt][j]\n",
    "    \n",
    "    BoostedJet0_eta = hh4b_dict['boostedJets_eta'][evt][0]\n",
    "    BoostedJet0_phi = hh4b_dict['boostedJets_phi'][evt][0]\n",
    "    BoostedJet0_coords = np.array([BoostedJet0_eta, BoostedJet0_phi])\n",
    "    LeadingJet_DR_arr = DeltaR(truthJet_coords, BoostedJet0_coords)\n",
    "    # print(LeadingJet_DR_arr)\n",
    "    LJ_DR = np.min(LeadingJet_DR_arr)\n",
    "    LJ_DR_idx = np.argmin(LeadingJet_DR_arr)\n",
    "    \n",
    "    BoostedJet1_eta = hh4b_dict['boostedJets_eta'][evt][1]\n",
    "    BoostedJet1_phi = hh4b_dict['boostedJets_phi'][evt][1]\n",
    "    BoostedJet1_coords = np.array([BoostedJet1_eta, BoostedJet1_phi])\n",
    "    subLeadingJet_DR_arr = DeltaR(truthJet_coords, BoostedJet1_coords)\n",
    "    # print(subLeadingJet_DR_arr)\n",
    "    SLJ_DR = np.min(subLeadingJet_DR_arr)\n",
    "    SLJ_DR_idx = np.argmin(subLeadingJet_DR_arr)\n",
    "    \n",
    "    if SLJ_DR_idx != LJ_DR_idx:\n",
    "        if LJ_DR < .1 and SLJ_DR < .1:\n",
    "            matched_jets.append([evt, LJ_DR_idx, SLJ_DR_idx])\n",
    "    \n",
    "    # print();print()\n",
    "\n",
    "t1 = cput()\n",
    "print('Time to complete jet matching: {:6.3f} (m)'.format((t1 - t0)/60))\n",
    "print();print()\n",
    "matched_jets = np.array(matched_jets)\n",
    "\n",
    "print(matched_jets.shape)"
   ]
  },
  {
   "cell_type": "code",
   "execution_count": 22,
   "id": "c52f7c73-429e-42ea-a9bb-68382cf345a2",
   "metadata": {},
   "outputs": [],
   "source": [
    "X = np.empty((matched_jets.shape[0],8))\n",
    "Y = np.empty((matched_jets.shape[0],2))"
   ]
  },
  {
   "cell_type": "code",
   "execution_count": 26,
   "id": "4b2ce5ac-820f-47d9-ba83-adcc530c2723",
   "metadata": {},
   "outputs": [],
   "source": [
    "for i in range(matched_jets.shape[0]):\n",
    "    arr_slc = matched_jets[i]\n",
    "    evt = arr_slc[0]\n",
    "    ld_idx = arr_slc[1]\n",
    "    sld_idx = arr_slc[2]\n",
    "\n",
    "    nboosted = len(ak.to_numpy(hh4b_dict['boostedJets_pt'][evt]))\n",
    "    \n",
    "    # Leading\n",
    "    X[i,0] = hh4b_dict['boostedJets_m'][evt][0]\n",
    "    X[i,1] = hh4b_dict['boostedJets_pt'][evt][0]\n",
    "    X[i,2] = hh4b_dict['boostedJets_eta'][evt][0]\n",
    "    X[i,3] = hh4b_dict['boostedJets_phi'][evt][0]\n",
    "    \n",
    "    # Sub-Leading\n",
    "    X[i,4] = hh4b_dict['boostedJets_m'][evt][1]\n",
    "    X[i,5] = hh4b_dict['boostedJets_pt'][evt][1]\n",
    "    X[i,6] = hh4b_dict['boostedJets_eta'][evt][1]\n",
    "    X[i,7] = hh4b_dict['boostedJets_phi'][evt][1]\n",
    "    \n",
    "    # Truth Jet\n",
    "    Y[i,0] = hh4b_dict['truthjet_antikt10_m'][evt][0]\n",
    "    Y[i,1] = hh4b_dict['truthjet_antikt10_m'][evt][1]"
   ]
  },
  {
   "cell_type": "code",
   "execution_count": 13,
   "id": "406a8556-73f1-4b76-ade2-919699d5892d",
   "metadata": {},
   "outputs": [],
   "source": [
    "# X = np.random.uniform(low=-1, high=1.0, size=(matched_jets.shape[0],8))\n",
    "# Y = np.random.uniform(low=-1, high=1.0, size=(matched_jets.shape[0],2))"
   ]
  },
  {
   "cell_type": "code",
   "execution_count": 27,
   "id": "d79ea2c3-d9da-44b5-ab65-bdf2e69fe72d",
   "metadata": {},
   "outputs": [],
   "source": [
    "from ml_mass_regression_models import Dumb_Network\n",
    "import tensorflow as tf\n",
    "from tensorflow import keras\n",
    "\n",
    "import os\n",
    "os.environ['CUDA_VISIBLE_DEVICES'] = \"1\"\n",
    "os.environ['TF_FORCE_GPU_ALLOW_GROWTH'] = 'true'"
   ]
  },
  {
   "cell_type": "code",
   "execution_count": 28,
   "id": "4247b7ef-4b0b-4c97-99a4-7987adc664e1",
   "metadata": {},
   "outputs": [
    {
     "name": "stderr",
     "output_type": "stream",
     "text": [
      "2022-08-22 08:02:27.273968: W tensorflow/core/common_runtime/gpu/gpu_bfc_allocator.cc:39] Overriding allow_growth setting because the TF_FORCE_GPU_ALLOW_GROWTH environment variable is set. Original config value was 0.\n",
      "2022-08-22 08:02:27.274056: I tensorflow/core/common_runtime/gpu/gpu_device.cc:1510] Created device /job:localhost/replica:0/task:0/device:GPU:0 with 9672 MB memory:  -> device: 0, name: NVIDIA GeForce RTX 2080 Ti, pci bus id: 0000:1b:00.0, compute capability: 7.5\n"
     ]
    },
    {
     "name": "stdout",
     "output_type": "stream",
     "text": [
      "Model: \"dum-dum-net\"\n",
      "_________________________________________________________________\n",
      "Layer (type)                 Output Shape              Param #   \n",
      "=================================================================\n",
      "input (InputLayer)           [(None, 8)]               0         \n",
      "_________________________________________________________________\n",
      "dense_0 (Dense)              (None, 100)               900       \n",
      "_________________________________________________________________\n",
      "activation_0 (Activation)    (None, 100)               0         \n",
      "_________________________________________________________________\n",
      "dense_1 (Dense)              (None, 100)               10100     \n",
      "_________________________________________________________________\n",
      "activation_1 (Activation)    (None, 100)               0         \n",
      "_________________________________________________________________\n",
      "dense_2 (Dense)              (None, 100)               10100     \n",
      "_________________________________________________________________\n",
      "activation_2 (Activation)    (None, 100)               0         \n",
      "_________________________________________________________________\n",
      "output (Dense)               (None, 2)                 202       \n",
      "_________________________________________________________________\n",
      "activation_3 (Activation)    (None, 2)                 0         \n",
      "=================================================================\n",
      "Total params: 21,302\n",
      "Trainable params: 21,302\n",
      "Non-trainable params: 0\n",
      "_________________________________________________________________\n"
     ]
    }
   ],
   "source": [
    "test_model = Dumb_Network(num_features=8)\n",
    "test_model.compile(loss='mse', optimizer=keras.optimizers.Adam(\n",
    "    learning_rate=.001))\n",
    "test_model.summary()"
   ]
  },
  {
   "cell_type": "code",
   "execution_count": 29,
   "id": "3c8689c5-b057-4374-90c9-c00a792c92e8",
   "metadata": {},
   "outputs": [
    {
     "name": "stderr",
     "output_type": "stream",
     "text": [
      "2022-08-22 08:02:43.290335: I tensorflow/compiler/mlir/mlir_graph_optimization_pass.cc:185] None of the MLIR Optimization Passes are enabled (registered 2)\n"
     ]
    },
    {
     "name": "stdout",
     "output_type": "stream",
     "text": [
      "Epoch 1/10\n",
      "95/95 [==============================] - 5s 3ms/step - loss: 8846184448.0000\n",
      "Epoch 2/10\n",
      "95/95 [==============================] - 0s 3ms/step - loss: 1735729536.0000\n",
      "Epoch 3/10\n",
      "95/95 [==============================] - 0s 3ms/step - loss: 1310253568.0000\n",
      "Epoch 4/10\n",
      "95/95 [==============================] - 0s 3ms/step - loss: 736819008.0000\n",
      "Epoch 5/10\n",
      "95/95 [==============================] - 0s 3ms/step - loss: 453055040.0000\n",
      "Epoch 6/10\n",
      "95/95 [==============================] - 0s 3ms/step - loss: 438613600.0000\n",
      "Epoch 7/10\n",
      "95/95 [==============================] - 0s 3ms/step - loss: 436799680.0000\n",
      "Epoch 8/10\n",
      "95/95 [==============================] - 0s 3ms/step - loss: 435512416.0000\n",
      "Epoch 9/10\n",
      "95/95 [==============================] - 0s 3ms/step - loss: 433376992.0000\n",
      "Epoch 10/10\n",
      "95/95 [==============================] - 0s 3ms/step - loss: 429825664.0000\n"
     ]
    }
   ],
   "source": [
    "history = test_model.fit(X,\n",
    "              Y,\n",
    "              epochs=10,\n",
    "              batch_size=1000)"
   ]
  },
  {
   "cell_type": "markdown",
   "id": "921974cd-e47d-4713-861c-70a08b5ea9df",
   "metadata": {},
   "source": [
    "## Okay model is learning but we need to normalize inputs of course!"
   ]
  },
  {
   "cell_type": "markdown",
   "id": "7bb37be9-9c07-4a2c-893f-80779e18b00a",
   "metadata": {},
   "source": [
    "## un-normalized"
   ]
  },
  {
   "cell_type": "code",
   "execution_count": 37,
   "id": "bc1df4ab-a904-4aa7-9298-37d52db34910",
   "metadata": {},
   "outputs": [
    {
     "data": {
      "image/png": "[encoded data removed]",
      "text/plain": [
       "<Figure size 432x288 with 1 Axes>"
      ]
     },
     "metadata": {
      "needs_background": "light"
     },
     "output_type": "display_data"
    }
   ],
   "source": [
    "mass_bins = np.linspace(0,300,100,endpoint=True)\n",
    "\n",
    "plt.hist(X[:,0], bins=mass_bins, label='leading', alpha=.65, color='royalblue',\n",
    "        edgecolor='black', histtype='stepfilled')\n",
    "plt.hist(X[:,4], bins=mass_bins, label='sub leading', alpha=.65,\n",
    "         color='olivedrab', edgecolor='black', histtype='stepfilled')\n",
    "plt.xlim(np.min(mass_bins), np.max(mass_bins))\n",
    "plt.legend()\n",
    "plt.show()"
   ]
  },
  {
   "cell_type": "code",
   "execution_count": 44,
   "id": "298218d4-4d2f-4a2b-96ed-335b3e1e682b",
   "metadata": {},
   "outputs": [
    {
     "data": {
      "image/png": "[encoded data removed]",
      "text/plain": [
       "<Figure size 432x288 with 1 Axes>"
      ]
     },
     "metadata": {
      "needs_background": "light"
     },
     "output_type": "display_data"
    }
   ],
   "source": [
    "logPt_bins = np.linspace(4,10,100,endpoint=True)\n",
    "\n",
    "plt.hist(np.log(X[:,1]), bins=logPt_bins, label='leading', alpha=.65, color='indigo',\n",
    "        edgecolor='black', histtype='stepfilled')\n",
    "plt.hist(np.log(X[:,5]), bins=logPt_bins, label='sub leading', alpha=.65,\n",
    "         color='seagreen', edgecolor='black', histtype='stepfilled')\n",
    "plt.xlim(4, np.max(logPt_bins))\n",
    "plt.legend()\n",
    "plt.show()"
   ]
  },
  {
   "cell_type": "code",
   "execution_count": 47,
   "id": "4518182a-1ea0-4cd0-80e5-5024efd25a1d",
   "metadata": {},
   "outputs": [
    {
     "data": {
      "image/png": "[encoded data removed]",
      "text/plain": [
       "<Figure size 432x288 with 1 Axes>"
      ]
     },
     "metadata": {
      "needs_background": "light"
     },
     "output_type": "display_data"
    }
   ],
   "source": [
    "eta_bins = np.linspace(-2.5,2.5,100,endpoint=True)\n",
    "\n",
    "plt.hist(X[:,2], bins=eta_bins, label='leading', alpha=.65, color='darkblue',\n",
    "        edgecolor='black', histtype='stepfilled')\n",
    "plt.hist(X[:,6], bins=eta_bins, label='sub leading', alpha=.65,\n",
    "         color='limegreen', edgecolor='black', histtype='stepfilled')\n",
    "plt.xlim(np.min(eta_bins), np.max(eta_bins))\n",
    "plt.legend()\n",
    "plt.show()"
   ]
  },
  {
   "cell_type": "code",
   "execution_count": 50,
   "id": "4d1e6608-2302-4667-a40c-af3aea0424d0",
   "metadata": {},
   "outputs": [
    {
     "data": {
      "image/png": "[encoded data removed]",
      "text/plain": [
       "<Figure size 432x288 with 1 Axes>"
      ]
     },
     "metadata": {
      "needs_background": "light"
     },
     "output_type": "display_data"
    }
   ],
   "source": [
    "phi_bins = np.linspace(-np.pi,np.pi,100,endpoint=True)\n",
    "\n",
    "plt.hist(X[:,3], bins=phi_bins, label='leading', alpha=.65, color='darkviolet',\n",
    "        edgecolor='black', histtype='stepfilled')\n",
    "plt.hist(X[:,7], bins=phi_bins, label='sub leading', alpha=.65,\n",
    "         color='darkgreen', edgecolor='black', histtype='stepfilled')\n",
    "plt.xlim(np.min(phi_bins), np.max(phi_bins))\n",
    "plt.legend()\n",
    "plt.show()"
   ]
  },
  {
   "cell_type": "code",
   "execution_count": 58,
   "id": "6e0e0b29-76ef-4c5a-958e-c1ac06216278",
   "metadata": {},
   "outputs": [
    {
     "data": {
      "image/png": "[encoded data removed]",
      "text/plain": [
       "<Figure size 432x288 with 1 Axes>"
      ]
     },
     "metadata": {
      "needs_background": "light"
     },
     "output_type": "display_data"
    }
   ],
   "source": [
    "target_bins = np.linspace(0,3e5,100,endpoint=True)\n",
    "\n",
    "plt.hist(Y[:,0], bins=target_bins, label='leading', alpha=.65, color='thistle',\n",
    "        edgecolor='black', histtype='stepfilled')\n",
    "plt.hist(Y[:,1], bins=target_bins, label='sub leading', alpha=.65,\n",
    "         color='greenyellow', edgecolor='black', histtype='stepfilled')\n",
    "plt.xlim(np.min(target_bins), np.max(target_bins))\n",
    "plt.legend()\n",
    "plt.show()"
   ]
  },
  {
   "cell_type": "markdown",
   "id": "4881868d-b8f8-420a-80a7-46aafa3925cb",
   "metadata": {},
   "source": [
    "## Normalized"
   ]
  },
  {
   "cell_type": "code",
   "execution_count": 60,
   "id": "c73f26dd-3811-4c30-ace8-f6a695bb3eca",
   "metadata": {},
   "outputs": [],
   "source": [
    "Yn = np.empty(Y.shape)\n",
    "Xn = np.empty(X.shape)"
   ]
  },
  {
   "cell_type": "markdown",
   "id": "ac79f6b7-9451-4e90-8d3e-5067b8bda0d3",
   "metadata": {},
   "source": [
    "### Target"
   ]
  },
  {
   "cell_type": "code",
   "execution_count": 67,
   "id": "b0af7968-fde3-48a4-84da-4154869fad67",
   "metadata": {},
   "outputs": [],
   "source": [
    "Yn = (Y - 1e5) / 1e5"
   ]
  },
  {
   "cell_type": "code",
   "execution_count": 68,
   "id": "88fd0f06-30d5-4b2c-91f8-3a1bea436e14",
   "metadata": {},
   "outputs": [
    {
     "data": {
      "image/png": "[encoded data removed]",
      "text/plain": [
       "<Figure size 432x288 with 1 Axes>"
      ]
     },
     "metadata": {
      "needs_background": "light"
     },
     "output_type": "display_data"
    }
   ],
   "source": [
    "targetn_bins = np.linspace(-1.5,1,100,endpoint=True)\n",
    "\n",
    "plt.hist(Yn[:,0], bins=targetn_bins, label='leading', alpha=.65, color='thistle',\n",
    "        edgecolor='black', histtype='stepfilled')\n",
    "plt.hist(Yn[:,1], bins=targetn_bins, label='sub leading', alpha=.65,\n",
    "         color='greenyellow', edgecolor='black', histtype='stepfilled')\n",
    "plt.xlim(np.min(targetn_bins), np.max(targetn_bins))\n",
    "plt.legend()\n",
    "plt.show()"
   ]
  },
  {
   "cell_type": "markdown",
   "id": "72760425-c014-45ef-b675-f4819b5c087a",
   "metadata": {},
   "source": [
    "### Inputs"
   ]
  },
  {
   "cell_type": "code",
   "execution_count": 69,
   "id": "9dd07248-068b-42a1-86f6-b71fd1080a75",
   "metadata": {},
   "outputs": [],
   "source": [
    "Xn[:,0] = (X[:,0] - 100) / 1e2\n",
    "Xn[:,4] = (X[:,4] - 100) / 1e2"
   ]
  },
  {
   "cell_type": "code",
   "execution_count": 71,
   "id": "c2e5b823-5b1f-457c-91db-9eb9835cfc2e",
   "metadata": {},
   "outputs": [
    {
     "data": {
      "image/png": "[encoded data removed]",
      "text/plain": [
       "<Figure size 432x288 with 1 Axes>"
      ]
     },
     "metadata": {
      "needs_background": "light"
     },
     "output_type": "display_data"
    }
   ],
   "source": [
    "massn_bins = np.linspace(-2,2,100,endpoint=True)\n",
    "\n",
    "plt.hist(Xn[:,0], bins=massn_bins, label='leading', alpha=.65, color='royalblue',\n",
    "        edgecolor='black', histtype='stepfilled')\n",
    "plt.hist(Xn[:,4], bins=massn_bins, label='sub leading', alpha=.65,\n",
    "         color='olivedrab', edgecolor='black', histtype='stepfilled')\n",
    "plt.xlim(np.min(massn_bins), np.max(massn_bins))\n",
    "plt.legend()\n",
    "plt.show()"
   ]
  },
  {
   "cell_type": "code",
   "execution_count": 72,
   "id": "55307ff4-f934-4f40-bbfe-d174584cf126",
   "metadata": {},
   "outputs": [
    {
     "name": "stdout",
     "output_type": "stream",
     "text": [
      "pt average: 6.288599983163265\n",
      "pt_std: 0.39843910930253384\n"
     ]
    }
   ],
   "source": [
    "pt_av = ( np.mean(np.log(X[:,1])) + np.mean(np.log(X[:,5])) ) /2\n",
    "pt_std = ( np.std(np.log(X[:,1])) + np.std(np.log(X[:,5])) ) /2\n",
    "print('pt average: {}'.format(pt_av))\n",
    "print('pt_std: {}'.format(pt_std))\n",
    "\n",
    "Xn[:,1] = (np.log(X[:,1]) - pt_av) / pt_std\n",
    "Xn[:,5] = (np.log(X[:,5]) - pt_av) / pt_std"
   ]
  },
  {
   "cell_type": "code",
   "execution_count": 83,
   "id": "f5ec4c72-6b83-4b7a-a306-777e57e60fdc",
   "metadata": {},
   "outputs": [
    {
     "data": {
      "image/png": "[encoded data removed]",
      "text/plain": [
       "<Figure size 432x288 with 1 Axes>"
      ]
     },
     "metadata": {
      "needs_background": "light"
     },
     "output_type": "display_data"
    }
   ],
   "source": [
    "logPtn_bins = np.linspace(-2.5,3.5,100,endpoint=True)\n",
    "\n",
    "plt.hist(Xn[:,1], bins=logPtn_bins, label='leading', alpha=.65, color='indigo',\n",
    "        edgecolor='black', histtype='stepfilled')\n",
    "plt.hist(Xn[:,5], bins=logPtn_bins, label='sub leading', alpha=.65,\n",
    "         color='seagreen', edgecolor='black', histtype='stepfilled')\n",
    "plt.xlim(np.min(logPtn_bins), np.max(logPtn_bins))\n",
    "plt.legend()\n",
    "plt.show()"
   ]
  },
  {
   "cell_type": "code",
   "execution_count": 77,
   "id": "7790b5b2-1675-4d5c-a3a6-05681700f57f",
   "metadata": {},
   "outputs": [
    {
     "name": "stdout",
     "output_type": "stream",
     "text": [
      "eta average: -0.0009072141019247392\n",
      "eta_std: 0.8337986058000857\n"
     ]
    }
   ],
   "source": [
    "eta_av = ( np.mean(X[:,2]) + np.mean(X[:,6]) ) /2\n",
    "eta_std = ( np.std(X[:,2]) + np.std(X[:,6]) ) /2\n",
    "print('eta average: {}'.format(eta_av))\n",
    "print('eta_std: {}'.format(eta_std))\n",
    "\n",
    "Xn[:,2] = X[:,2] / eta_std\n",
    "Xn[:,6] = X[:,6] / eta_std"
   ]
  },
  {
   "cell_type": "code",
   "execution_count": 82,
   "id": "9ad76f61-3869-4fe4-ba38-8ea70233662f",
   "metadata": {},
   "outputs": [
    {
     "data": {
      "image/png": "[encoded data removed]",
      "text/plain": [
       "<Figure size 432x288 with 1 Axes>"
      ]
     },
     "metadata": {
      "needs_background": "light"
     },
     "output_type": "display_data"
    }
   ],
   "source": [
    "etan_bins = np.linspace(-2.5,2.5,100,endpoint=True)\n",
    "\n",
    "plt.hist(Xn[:,2], bins=etan_bins, label='leading', alpha=.65, color='darkblue',\n",
    "        edgecolor='black', histtype='stepfilled')\n",
    "plt.hist(Xn[:,6], bins=etan_bins, label='sub leading', alpha=.65,\n",
    "         color='limegreen', edgecolor='black', histtype='stepfilled')\n",
    "plt.xlim(np.min(etan_bins), np.max(etan_bins))\n",
    "plt.legend()\n",
    "plt.show()"
   ]
  },
  {
   "cell_type": "code",
   "execution_count": 79,
   "id": "33a4e17c-a641-4f2c-a286-3221621768f5",
   "metadata": {},
   "outputs": [],
   "source": [
    "Xn[:,3] = X[:,3] / 3\n",
    "Xn[:,7] = X[:,7] / 3"
   ]
  },
  {
   "cell_type": "code",
   "execution_count": 81,
   "id": "bf6a3508-8e69-4989-aa82-54c05cb93818",
   "metadata": {},
   "outputs": [
    {
     "data": {
      "image/png": "[encoded data removed]",
      "text/plain": [
       "<Figure size 432x288 with 1 Axes>"
      ]
     },
     "metadata": {
      "needs_background": "light"
     },
     "output_type": "display_data"
    }
   ],
   "source": [
    "phin_bins = np.linspace(-1.2,1.2,100,endpoint=True)\n",
    "\n",
    "plt.hist(Xn[:,3], bins=phin_bins, label='leading', alpha=.65, color='darkviolet',\n",
    "        edgecolor='black', histtype='stepfilled')\n",
    "plt.hist(Xn[:,7], bins=phin_bins, label='sub leading', alpha=.65,\n",
    "         color='darkgreen', edgecolor='black', histtype='stepfilled')\n",
    "plt.xlim(np.min(phin_bins), np.max(phin_bins))\n",
    "plt.legend()\n",
    "plt.show()"
   ]
  },
  {
   "cell_type": "markdown",
   "id": "8d60d672-3db0-4783-8244-eea6ca6838cc",
   "metadata": {},
   "source": [
    "# Properly Train Network"
   ]
  },
  {
   "cell_type": "code",
   "execution_count": 96,
   "id": "5bc09a2b-1155-4a13-a30e-5196c5404d3e",
   "metadata": {},
   "outputs": [
    {
     "name": "stdout",
     "output_type": "stream",
     "text": [
      "Model: \"baseline_DNN\"\n",
      "_________________________________________________________________\n",
      "Layer (type)                 Output Shape              Param #   \n",
      "=================================================================\n",
      "input (InputLayer)           [(None, 8)]               0         \n",
      "_________________________________________________________________\n",
      "dense_0 (Dense)              (None, 100)               900       \n",
      "_________________________________________________________________\n",
      "activation_0 (Activation)    (None, 100)               0         \n",
      "_________________________________________________________________\n",
      "dense_1 (Dense)              (None, 100)               10100     \n",
      "_________________________________________________________________\n",
      "activation_1 (Activation)    (None, 100)               0         \n",
      "_________________________________________________________________\n",
      "dense_2 (Dense)              (None, 100)               10100     \n",
      "_________________________________________________________________\n",
      "activation_2 (Activation)    (None, 100)               0         \n",
      "_________________________________________________________________\n",
      "output (Dense)               (None, 2)                 202       \n",
      "_________________________________________________________________\n",
      "activation_3 (Activation)    (None, 2)                 0         \n",
      "=================================================================\n",
      "Total params: 21,302\n",
      "Trainable params: 21,302\n",
      "Non-trainable params: 0\n",
      "_________________________________________________________________\n"
     ]
    }
   ],
   "source": [
    "base_model = Dumb_Network(num_features=8, name='baseline_DNN')\n",
    "base_model.compile(loss='mse', optimizer=keras.optimizers.Adam(\n",
    "    learning_rate=.002))\n",
    "base_model.summary()"
   ]
  },
  {
   "cell_type": "code",
   "execution_count": 97,
   "id": "77c7088c-f854-4a11-8a10-7002a68d511d",
   "metadata": {
    "scrolled": true,
    "tags": []
   },
   "outputs": [
    {
     "name": "stdout",
     "output_type": "stream",
     "text": [
      "Epoch 1/100\n",
      "16/16 [==============================] - 0s 3ms/step - loss: 0.0624\n",
      "Epoch 2/100\n",
      "16/16 [==============================] - 0s 3ms/step - loss: 0.0366\n",
      "Epoch 3/100\n",
      "16/16 [==============================] - 0s 3ms/step - loss: 0.0329\n",
      "Epoch 4/100\n",
      "16/16 [==============================] - 0s 3ms/step - loss: 0.0320\n",
      "Epoch 5/100\n",
      "16/16 [==============================] - 0s 3ms/step - loss: 0.0315\n",
      "Epoch 6/100\n",
      "16/16 [==============================] - 0s 3ms/step - loss: 0.0311\n",
      "Epoch 7/100\n",
      "16/16 [==============================] - 0s 3ms/step - loss: 0.0310\n",
      "Epoch 8/100\n",
      "16/16 [==============================] - 0s 3ms/step - loss: 0.0307\n",
      "Epoch 9/100\n",
      "16/16 [==============================] - 0s 3ms/step - loss: 0.0305\n",
      "Epoch 10/100\n",
      "16/16 [==============================] - 0s 4ms/step - loss: 0.0303\n",
      "Epoch 11/100\n",
      "16/16 [==============================] - 0s 3ms/step - loss: 0.0301\n",
      "Epoch 12/100\n",
      "16/16 [==============================] - 0s 3ms/step - loss: 0.0299\n",
      "Epoch 13/100\n",
      "16/16 [==============================] - 0s 3ms/step - loss: 0.0298\n",
      "Epoch 14/100\n",
      "16/16 [==============================] - 0s 3ms/step - loss: 0.0298\n",
      "Epoch 15/100\n",
      "16/16 [==============================] - 0s 3ms/step - loss: 0.0296\n",
      "Epoch 16/100\n",
      "16/16 [==============================] - 0s 3ms/step - loss: 0.0295\n",
      "Epoch 17/100\n",
      "16/16 [==============================] - 0s 3ms/step - loss: 0.0294\n",
      "Epoch 18/100\n",
      "16/16 [==============================] - 0s 3ms/step - loss: 0.0294\n",
      "Epoch 19/100\n",
      "16/16 [==============================] - 0s 3ms/step - loss: 0.0293\n",
      "Epoch 20/100\n",
      "16/16 [==============================] - 0s 3ms/step - loss: 0.0292\n",
      "Epoch 21/100\n",
      "16/16 [==============================] - 0s 3ms/step - loss: 0.0292\n",
      "Epoch 22/100\n",
      "16/16 [==============================] - 0s 3ms/step - loss: 0.0291\n",
      "Epoch 23/100\n",
      "16/16 [==============================] - 0s 3ms/step - loss: 0.0289\n",
      "Epoch 24/100\n",
      "16/16 [==============================] - 0s 3ms/step - loss: 0.0288\n",
      "Epoch 25/100\n",
      "16/16 [==============================] - 0s 3ms/step - loss: 0.0288\n",
      "Epoch 26/100\n",
      "16/16 [==============================] - 0s 3ms/step - loss: 0.0288\n",
      "Epoch 27/100\n",
      "16/16 [==============================] - 0s 3ms/step - loss: 0.0287\n",
      "Epoch 28/100\n",
      "16/16 [==============================] - 0s 3ms/step - loss: 0.0286\n",
      "Epoch 29/100\n",
      "16/16 [==============================] - 0s 3ms/step - loss: 0.0285\n",
      "Epoch 30/100\n",
      "16/16 [==============================] - 0s 3ms/step - loss: 0.0286\n",
      "Epoch 31/100\n",
      "16/16 [==============================] - 0s 3ms/step - loss: 0.0285\n",
      "Epoch 32/100\n",
      "16/16 [==============================] - 0s 3ms/step - loss: 0.0283\n",
      "Epoch 33/100\n",
      "16/16 [==============================] - 0s 3ms/step - loss: 0.0284\n",
      "Epoch 34/100\n",
      "16/16 [==============================] - 0s 3ms/step - loss: 0.0283\n",
      "Epoch 35/100\n",
      "16/16 [==============================] - 0s 3ms/step - loss: 0.0283\n",
      "Epoch 36/100\n",
      "16/16 [==============================] - 0s 3ms/step - loss: 0.0283\n",
      "Epoch 37/100\n",
      "16/16 [==============================] - 0s 3ms/step - loss: 0.0283\n",
      "Epoch 38/100\n",
      "16/16 [==============================] - 0s 3ms/step - loss: 0.0281\n",
      "Epoch 39/100\n",
      "16/16 [==============================] - 0s 3ms/step - loss: 0.0282\n",
      "Epoch 40/100\n",
      "16/16 [==============================] - 0s 3ms/step - loss: 0.0282\n",
      "Epoch 41/100\n",
      "16/16 [==============================] - 0s 3ms/step - loss: 0.0280\n",
      "Epoch 42/100\n",
      "16/16 [==============================] - 0s 3ms/step - loss: 0.0279\n",
      "Epoch 43/100\n",
      "16/16 [==============================] - 0s 3ms/step - loss: 0.0278\n",
      "Epoch 44/100\n",
      "16/16 [==============================] - 0s 3ms/step - loss: 0.0279\n",
      "Epoch 45/100\n",
      "16/16 [==============================] - 0s 3ms/step - loss: 0.0280\n",
      "Epoch 46/100\n",
      "16/16 [==============================] - 0s 3ms/step - loss: 0.0277\n",
      "Epoch 47/100\n",
      "16/16 [==============================] - 0s 3ms/step - loss: 0.0276\n",
      "Epoch 48/100\n",
      "16/16 [==============================] - 0s 4ms/step - loss: 0.0275\n",
      "Epoch 49/100\n",
      "16/16 [==============================] - 0s 3ms/step - loss: 0.0278\n",
      "Epoch 50/100\n",
      "16/16 [==============================] - 0s 3ms/step - loss: 0.0277\n",
      "Epoch 51/100\n",
      "16/16 [==============================] - 0s 3ms/step - loss: 0.0275\n",
      "Epoch 52/100\n",
      "16/16 [==============================] - 0s 3ms/step - loss: 0.0274\n",
      "Epoch 53/100\n",
      "16/16 [==============================] - 0s 3ms/step - loss: 0.0274\n",
      "Epoch 54/100\n",
      "16/16 [==============================] - 0s 3ms/step - loss: 0.0273\n",
      "Epoch 55/100\n",
      "16/16 [==============================] - 0s 3ms/step - loss: 0.0275\n",
      "Epoch 56/100\n",
      "16/16 [==============================] - 0s 3ms/step - loss: 0.0275\n",
      "Epoch 57/100\n",
      "16/16 [==============================] - 0s 3ms/step - loss: 0.0272\n",
      "Epoch 58/100\n",
      "16/16 [==============================] - 0s 3ms/step - loss: 0.0271\n",
      "Epoch 59/100\n",
      "16/16 [==============================] - 0s 3ms/step - loss: 0.0271\n",
      "Epoch 60/100\n",
      "16/16 [==============================] - 0s 3ms/step - loss: 0.0270\n",
      "Epoch 61/100\n",
      "16/16 [==============================] - 0s 3ms/step - loss: 0.0271\n",
      "Epoch 62/100\n",
      "16/16 [==============================] - 0s 3ms/step - loss: 0.0272\n",
      "Epoch 63/100\n",
      "16/16 [==============================] - 0s 3ms/step - loss: 0.0270\n",
      "Epoch 64/100\n",
      "16/16 [==============================] - 0s 3ms/step - loss: 0.0269\n",
      "Epoch 65/100\n",
      "16/16 [==============================] - 0s 3ms/step - loss: 0.0270\n",
      "Epoch 66/100\n",
      "16/16 [==============================] - 0s 3ms/step - loss: 0.0270\n",
      "Epoch 67/100\n",
      "16/16 [==============================] - 0s 3ms/step - loss: 0.0269\n",
      "Epoch 68/100\n",
      "16/16 [==============================] - 0s 3ms/step - loss: 0.0269\n",
      "Epoch 69/100\n",
      "16/16 [==============================] - 0s 3ms/step - loss: 0.0267\n",
      "Epoch 70/100\n",
      "16/16 [==============================] - 0s 3ms/step - loss: 0.0265\n",
      "Epoch 71/100\n",
      "16/16 [==============================] - 0s 3ms/step - loss: 0.0266\n",
      "Epoch 72/100\n",
      "16/16 [==============================] - 0s 3ms/step - loss: 0.0267\n",
      "Epoch 73/100\n",
      "16/16 [==============================] - 0s 3ms/step - loss: 0.0265\n",
      "Epoch 74/100\n",
      "16/16 [==============================] - 0s 3ms/step - loss: 0.0266\n",
      "Epoch 75/100\n",
      "16/16 [==============================] - 0s 3ms/step - loss: 0.0264\n",
      "Epoch 76/100\n",
      "16/16 [==============================] - 0s 3ms/step - loss: 0.0265\n",
      "Epoch 77/100\n",
      "16/16 [==============================] - 0s 3ms/step - loss: 0.0265\n",
      "Epoch 78/100\n",
      "16/16 [==============================] - 0s 3ms/step - loss: 0.0264\n",
      "Epoch 79/100\n",
      "16/16 [==============================] - 0s 3ms/step - loss: 0.0264\n",
      "Epoch 80/100\n",
      "16/16 [==============================] - 0s 3ms/step - loss: 0.0263\n",
      "Epoch 81/100\n",
      "16/16 [==============================] - 0s 3ms/step - loss: 0.0262\n",
      "Epoch 82/100\n",
      "16/16 [==============================] - 0s 3ms/step - loss: 0.0261\n",
      "Epoch 83/100\n",
      "16/16 [==============================] - 0s 3ms/step - loss: 0.0260\n",
      "Epoch 84/100\n",
      "16/16 [==============================] - 0s 3ms/step - loss: 0.0261\n",
      "Epoch 85/100\n",
      "16/16 [==============================] - 0s 3ms/step - loss: 0.0261\n",
      "Epoch 86/100\n",
      "16/16 [==============================] - 0s 3ms/step - loss: 0.0258\n",
      "Epoch 87/100\n",
      "16/16 [==============================] - 0s 3ms/step - loss: 0.0257\n",
      "Epoch 88/100\n",
      "16/16 [==============================] - 0s 3ms/step - loss: 0.0257\n",
      "Epoch 89/100\n",
      "16/16 [==============================] - 0s 3ms/step - loss: 0.0259\n",
      "Epoch 90/100\n",
      "16/16 [==============================] - 0s 3ms/step - loss: 0.0257\n",
      "Epoch 91/100\n",
      "16/16 [==============================] - 0s 3ms/step - loss: 0.0256\n",
      "Epoch 92/100\n",
      "16/16 [==============================] - 0s 3ms/step - loss: 0.0256\n",
      "Epoch 93/100\n",
      "16/16 [==============================] - 0s 3ms/step - loss: 0.0256\n",
      "Epoch 94/100\n",
      "16/16 [==============================] - 0s 3ms/step - loss: 0.0254\n",
      "Epoch 95/100\n",
      "16/16 [==============================] - 0s 3ms/step - loss: 0.0255\n",
      "Epoch 96/100\n",
      "16/16 [==============================] - 0s 3ms/step - loss: 0.0254\n",
      "Epoch 97/100\n",
      "16/16 [==============================] - 0s 3ms/step - loss: 0.0254\n",
      "Epoch 98/100\n",
      "16/16 [==============================] - 0s 3ms/step - loss: 0.0253\n",
      "Epoch 99/100\n",
      "16/16 [==============================] - 0s 3ms/step - loss: 0.0253\n",
      "Epoch 100/100\n",
      "16/16 [==============================] - 0s 3ms/step - loss: 0.0254\n"
     ]
    }
   ],
   "source": [
    "dnn_history = base_model.fit(Xn,\n",
    "              Yn,\n",
    "              epochs=100,\n",
    "              batch_size=6000)"
   ]
  },
  {
   "cell_type": "code",
   "execution_count": 98,
   "id": "93b52980-ac30-47fc-9286-adc908f4c55c",
   "metadata": {},
   "outputs": [
    {
     "name": "stdout",
     "output_type": "stream",
     "text": [
      "<class 'keras.callbacks.History'>\n",
      "dict_keys(['loss'])\n"
     ]
    },
    {
     "data": {
      "image/png": "[encoded data removed]",
      "text/plain": [
       "<Figure size 432x288 with 1 Axes>"
      ]
     },
     "metadata": {
      "needs_background": "light"
     },
     "output_type": "display_data"
    }
   ],
   "source": [
    "print(type(dnn_history))\n",
    "print(dnn_history.history.keys())\n",
    "\n",
    "plt.plot(dnn_history.history['loss'])\n",
    "plt.show()"
   ]
  },
  {
   "cell_type": "markdown",
   "id": "977606de-46e2-46bd-809c-4feee94fdeae",
   "metadata": {},
   "source": [
    "### Notes:\n",
    " - okay so the network is clearly learning to optimize something here despite minimal information\n",
    " \n",
    "### Next steps:\n",
    " - [ ] Split data into training and validation to see where overtraining is happening"
   ]
  },
  {
   "cell_type": "markdown",
   "id": "4c5e3932-3a24-4913-9b16-9cdb6a0d3628",
   "metadata": {},
   "source": [
    "## Mass Plane"
   ]
  },
  {
   "cell_type": "code",
   "execution_count": null,
   "id": "94820d00-35d6-4cc6-91a9-362dae0655eb",
   "metadata": {},
   "outputs": [],
   "source": [
    "mp_range = [[5e4], [1.5e5]]\n",
    "\n",
    "plt.hist2d(x=Y[:,0], y=Y[:,1], bins=10, range=mp_range,\n",
    "                         density=False, weights=None, cmin=None, cmax=None)\n",
    "plt.show()"
   ]
  }
 ],
 "metadata": {
  "kernelspec": {
   "display_name": "Python 3 (ipykernel)",
   "language": "python",
   "name": "python3"
  },
  "language_info": {
   "codemirror_mode": {
    "name": "ipython",
    "version": 3
   },
   "file_extension": ".py",
   "mimetype": "text/x-python",
   "name": "python",
   "nbconvert_exporter": "python",
   "pygments_lexer": "ipython3",
   "version": "3.8.10"
  }
 },
 "nbformat": 4,
 "nbformat_minor": 5
}
