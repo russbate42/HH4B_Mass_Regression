{
 "cells": [
  {
   "cell_type": "markdown",
   "id": "31b59553-a3da-4271-b64c-73d262d5c2d8",
   "metadata": {},
   "source": [
    "# Mass Regression Notebook\n",
    "In this notebook we will explore the first concepts of how to apply a neural network or deep learning to the 2-D mass plane."
   ]
  },
  {
   "cell_type": "code",
   "execution_count": 1,
   "id": "f00c0991-2d4e-492a-837e-8e366de1f8cc",
   "metadata": {},
   "outputs": [
    {
     "name": "stdout",
     "output_type": "stream",
     "text": [
      "Numpy version: 1.23.1\n",
      "Uproot version: 4.3.3\n",
      "Awkward version: 1.8.0\n"
     ]
    }
   ],
   "source": [
    "import numpy as np\n",
    "import matplotlib.pyplot as plt\n",
    "import uproot as ur\n",
    "import awkward as ak\n",
    "import atlas_mpl_style as ampl\n",
    "ampl.use_atlas_style()\n",
    "\n",
    "print('Numpy version: {}'.format(np.__version__))\n",
    "print('Uproot version: {}'.format(ur.__version__))\n",
    "print('Awkward version: {}'.format(ak.__version__))"
   ]
  },
  {
   "cell_type": "markdown",
   "id": "b299db28-36b7-4757-8210-2930b5e50fa5",
   "metadata": {},
   "source": [
    "## Uproot files"
   ]
  },
  {
   "cell_type": "code",
   "execution_count": 2,
   "id": "62423280-92e0-4b8b-b1c8-1a877484117e",
   "metadata": {},
   "outputs": [],
   "source": [
    "rootfile_prefix = '/fast_scratch_1/atlas_images/XhhNTuple/'\n",
    "rfile = 'user.zhenw.29137978._000001.MiniNTuple.root'"
   ]
  },
  {
   "cell_type": "code",
   "execution_count": 3,
   "id": "d94ae136-3c87-47f9-95ae-35a82920601a",
   "metadata": {},
   "outputs": [
    {
     "data": {
      "text/plain": [
       "['XhhMiniNtuple;1',\n",
       " 'cutflow_XhhMiniNtuple;1',\n",
       " 'cutflow_weighted_XhhMiniNtuple;1',\n",
       " 'MetaData_EventCount_XhhMiniNtuple;1']"
      ]
     },
     "execution_count": 3,
     "metadata": {},
     "output_type": "execute_result"
    }
   ],
   "source": [
    "uprooted = ur.open(rootfile_prefix+rfile)\n",
    "uprooted.keys()"
   ]
  },
  {
   "cell_type": "code",
   "execution_count": 4,
   "id": "30641216-fa46-424a-b22c-8f8101c210a6",
   "metadata": {
    "scrolled": true,
    "tags": []
   },
   "outputs": [
    {
     "name": "stdout",
     "output_type": "stream",
     "text": [
      "name                             | typename                 | interpretation                \n",
      "---------------------------------+--------------------------+-------------------------------\n",
      "runNumber                        | int32_t                  | AsDtype('>i4')\n",
      "eventNumber                      | int64_t                  | AsDtype('>i8')\n",
      "lumiBlock                        | int32_t                  | AsDtype('>i4')\n",
      "coreFlags                        | uint32_t                 | AsDtype('>u4')\n",
      "bcid                             | int32_t                  | AsDtype('>i4')\n",
      "mcEventNumber                    | int32_t                  | AsDtype('>i4')\n",
      "mcChannelNumber                  | int32_t                  | AsDtype('>i4')\n",
      "mcEventWeight                    | float                    | AsDtype('>f4')\n",
      "NPV                              | int32_t                  | AsDtype('>i4')\n",
      "actualInteractionsPerCrossing    | float                    | AsDtype('>f4')\n",
      "averageInteractionsPerCrossing   | float                    | AsDtype('>f4')\n",
      "weight_pileup                    | float                    | AsDtype('>f4')\n",
      "correctedAverageMu               | float                    | AsDtype('>f4')\n",
      "correctedAndScaledAverageMu      | float                    | AsDtype('>f4')\n",
      "correctedActualMu                | float                    | AsDtype('>f4')\n",
      "correctedAndScaledActualMu       | float                    | AsDtype('>f4')\n",
      "weight_pileup_up                 | float                    | AsDtype('>f4')\n",
      "weight_pileup_down               | float                    | AsDtype('>f4')\n",
      "rand_run_nr                      | int32_t                  | AsDtype('>i4')\n",
      "rand_lumiblock_nr                | int32_t                  | AsDtype('>i4')\n",
      "passedTriggerHashes              | std::vector<uint64_t>    | AsJagged(AsDtype('>u8'), he...\n",
      "matchedTriggerHashes             | std::vector<uint64_t>    | AsJagged(AsDtype('>u8'), he...\n",
      "HLT_2j15_gsc35_bmv2c1040_spli... | bool                     | AsDtype('bool')\n",
      "HLT_2j330_a10t_lcw_jes_35smcI... | bool                     | AsDtype('bool')\n",
      "HLT_2j330_a10t_lcw_jes_35smcI... | bool                     | AsDtype('bool')\n",
      "HLT_2j330_a10t_lcw_jes_40smcI... | bool                     | AsDtype('bool')\n",
      "HLT_2j35_bmv2c1060_split_2j35... | bool                     | AsDtype('bool')\n",
      "HLT_2j35_bmv2c2060_split_2j35... | bool                     | AsDtype('bool')\n",
      "HLT_2j35_btight_2j35_L13J25_0... | bool                     | AsDtype('bool')\n",
      "HLT_2j35_gsc55_bmv2c1050_spli... | bool                     | AsDtype('bool')\n",
      "HLT_2j45_gsc55_bmv2c1050_spli... | bool                     | AsDtype('bool')\n",
      "HLT_2j55_bmv2c2060_split_ht30... | bool                     | AsDtype('bool')\n",
      "HLT_ht1000_L1J100                | bool                     | AsDtype('bool')\n",
      "HLT_j100_2j55_bmedium            | bool                     | AsDtype('bool')\n",
      "HLT_j100_2j55_bmv2c2060_split    | bool                     | AsDtype('bool')\n",
      "HLT_j110_gsc150_boffperf_spli... | bool                     | AsDtype('bool')\n",
      "HLT_j110_gsc150_boffperf_spli... | bool                     | AsDtype('bool')\n",
      "HLT_j225_bloose                  | bool                     | AsDtype('bool')\n",
      "HLT_j225_bmv2c2060_split         | bool                     | AsDtype('bool')\n",
      "HLT_j225_gsc300_bmv2c1070_split  | bool                     | AsDtype('bool')\n",
      "HLT_j35_gsc55_bmv2c1070_split... | bool                     | AsDtype('bool')\n",
      "HLT_j360_a10_lcw_sub_L1J100      | bool                     | AsDtype('bool')\n",
      "HLT_j360_a10t_lcw_jes_60smcIN... | bool                     | AsDtype('bool')\n",
      "HLT_j370_a10t_lcw_jes_35smcIN... | bool                     | AsDtype('bool')\n",
      "HLT_j390_a10t_lcw_jes_30smcIN... | bool                     | AsDtype('bool')\n",
      "HLT_j420_a10_lcw_L1J100          | bool                     | AsDtype('bool')\n",
      "HLT_j420_a10t_lcw_jes_35smcIN... | bool                     | AsDtype('bool')\n",
      "HLT_j420_a10t_lcw_jes_35smcIN... | bool                     | AsDtype('bool')\n",
      "HLT_j420_a10t_lcw_jes_40smcIN... | bool                     | AsDtype('bool')\n",
      "HLT_j460_a10_lcw_subjes_L1J100   | bool                     | AsDtype('bool')\n",
      "HLT_j460_a10_lcw_subjes_L1SC111  | bool                     | AsDtype('bool')\n",
      "HLT_j460_a10t_lcw_jes_L1J100     | bool                     | AsDtype('bool')\n",
      "HLT_j460_a10t_lcw_jes_L1SC111    | bool                     | AsDtype('bool')\n",
      "HLT_j70_0eta490_j50_0eta490_2... | bool                     | AsDtype('bool')\n",
      "HLT_j70_j50_0eta490_invm1100j... | bool                     | AsDtype('bool')\n",
      "nresolvedJets                    | int32_t                  | AsDtype('>i4')\n",
      "resolvedJets_E                   | std::vector<float>       | AsJagged(AsDtype('>f4'), he...\n",
      "resolvedJets_pt                  | std::vector<float>       | AsJagged(AsDtype('>f4'), he...\n",
      "resolvedJets_phi                 | std::vector<float>       | AsJagged(AsDtype('>f4'), he...\n",
      "resolvedJets_eta                 | std::vector<float>       | AsJagged(AsDtype('>f4'), he...\n",
      "resolvedJets_NumTrkPt1000PV      | std::vector<float>       | AsJagged(AsDtype('>f4'), he...\n",
      "resolvedJets_SumPtTrkPt1000PV    | std::vector<float>       | AsJagged(AsDtype('>f4'), he...\n",
      "resolvedJets_TrackWidthPt1000PV  | std::vector<float>       | AsJagged(AsDtype('>f4'), he...\n",
      "resolvedJets_NumTrkPt500PV       | std::vector<float>       | AsJagged(AsDtype('>f4'), he...\n",
      "resolvedJets_SumPtTrkPt500PV     | std::vector<float>       | AsJagged(AsDtype('>f4'), he...\n",
      "resolvedJets_TrackWidthPt500PV   | std::vector<float>       | AsJagged(AsDtype('>f4'), he...\n",
      "resolvedJets_JVFPV               | std::vector<float>       | AsJagged(AsDtype('>f4'), he...\n",
      "resolvedJets_JvtJvfcorr          | std::vector<float>       | AsJagged(AsDtype('>f4'), he...\n",
      "resolvedJets_JvtRpt              | std::vector<float>       | AsJagged(AsDtype('>f4'), he...\n",
      "resolvedJets_Jvt                 | std::vector<float>       | AsJagged(AsDtype('>f4'), he...\n",
      "resolvedJets_JvtPass_Loose       | std::vector<int32_t>     | AsJagged(AsDtype('>i4'), he...\n",
      "resolvedJets_JvtEff_SF_Loose     | std::vector<std::vect... | AsObjects(AsVector(True, As...\n",
      "resolvedJets_JvtPass_Medium      | std::vector<int32_t>     | AsJagged(AsDtype('>i4'), he...\n",
      "resolvedJets_JvtEff_SF_Medium    | std::vector<std::vect... | AsObjects(AsVector(True, As...\n",
      "resolvedJets_JvtPass_Tight       | std::vector<int32_t>     | AsJagged(AsDtype('>i4'), he...\n",
      "resolvedJets_JvtEff_SF_Tight     | std::vector<std::vect... | AsObjects(AsVector(True, As...\n",
      "resolvedJets_fJvtPass_Medium     | std::vector<int32_t>     | AsJagged(AsDtype('>i4'), he...\n",
      "resolvedJets_fJvtEff_SF_Medium   | std::vector<std::vect... | AsObjects(AsVector(True, As...\n",
      "resolvedJets_fJvtPass_Tight      | std::vector<int32_t>     | AsJagged(AsDtype('>i4'), he...\n",
      "resolvedJets_fJvtEff_SF_Tight    | std::vector<std::vect... | AsObjects(AsVector(True, As...\n",
      "resolvedJets_MV2c00              | std::vector<float>       | AsJagged(AsDtype('>f4'), he...\n",
      "resolvedJets_MV2c10              | std::vector<float>       | AsJagged(AsDtype('>f4'), he...\n",
      "resolvedJets_MV2c10mu            | std::vector<float>       | AsJagged(AsDtype('>f4'), he...\n",
      "resolvedJets_MV2c10rnn           | std::vector<float>       | AsJagged(AsDtype('>f4'), he...\n",
      "resolvedJets_MV2rmu              | std::vector<float>       | AsJagged(AsDtype('>f4'), he...\n",
      "resolvedJets_MV2r                | std::vector<float>       | AsJagged(AsDtype('>f4'), he...\n",
      "resolvedJets_MV2c20              | std::vector<float>       | AsJagged(AsDtype('>f4'), he...\n",
      "resolvedJets_MV2c100             | std::vector<float>       | AsJagged(AsDtype('>f4'), he...\n",
      "resolvedJets_DL1                 | std::vector<float>       | AsJagged(AsDtype('>f4'), he...\n",
      "resolvedJets_DL1_pu              | std::vector<float>       | AsJagged(AsDtype('>f4'), he...\n",
      "resolvedJets_DL1_pc              | std::vector<float>       | AsJagged(AsDtype('>f4'), he...\n",
      "resolvedJets_DL1_pb              | std::vector<float>       | AsJagged(AsDtype('>f4'), he...\n",
      "resolvedJets_DL1mu               | std::vector<float>       | AsJagged(AsDtype('>f4'), he...\n",
      "resolvedJets_DL1mu_pu            | std::vector<float>       | AsJagged(AsDtype('>f4'), he...\n",
      "resolvedJets_DL1mu_pc            | std::vector<float>       | AsJagged(AsDtype('>f4'), he...\n",
      "resolvedJets_DL1mu_pb            | std::vector<float>       | AsJagged(AsDtype('>f4'), he...\n",
      "resolvedJets_DL1rnn              | std::vector<float>       | AsJagged(AsDtype('>f4'), he...\n",
      "resolvedJets_DL1rnn_pu           | std::vector<float>       | AsJagged(AsDtype('>f4'), he...\n",
      "resolvedJets_DL1rnn_pc           | std::vector<float>       | AsJagged(AsDtype('>f4'), he...\n",
      "resolvedJets_DL1rnn_pb           | std::vector<float>       | AsJagged(AsDtype('>f4'), he...\n",
      "resolvedJets_DL1rmu              | std::vector<float>       | AsJagged(AsDtype('>f4'), he...\n",
      "resolvedJets_DL1rmu_pu           | std::vector<float>       | AsJagged(AsDtype('>f4'), he...\n",
      "resolvedJets_DL1rmu_pc           | std::vector<float>       | AsJagged(AsDtype('>f4'), he...\n",
      "resolvedJets_DL1rmu_pb           | std::vector<float>       | AsJagged(AsDtype('>f4'), he...\n",
      "resolvedJets_DL1r                | std::vector<float>       | AsJagged(AsDtype('>f4'), he...\n",
      "resolvedJets_DL1r_pu             | std::vector<float>       | AsJagged(AsDtype('>f4'), he...\n",
      "resolvedJets_DL1r_pc             | std::vector<float>       | AsJagged(AsDtype('>f4'), he...\n",
      "resolvedJets_DL1r_pb             | std::vector<float>       | AsJagged(AsDtype('>f4'), he...\n",
      "resolvedJets_HadronConeExclTr... | std::vector<int32_t>     | AsJagged(AsDtype('>i4'), he...\n",
      "resolvedJets_HadronConeExclEx... | std::vector<int32_t>     | AsJagged(AsDtype('>i4'), he...\n",
      "resolvedJets_JetVertexCharge_... | std::vector<double>      | AsJagged(AsDtype('>f8'), he...\n",
      "resolvedJets_is_DL1r_FixedCut... | std::vector<int32_t>     | AsJagged(AsDtype('>i4'), he...\n",
      "resolvedJets_SF_DL1r_FixedCut... | std::vector<std::vect... | AsObjects(AsVector(True, As...\n",
      "resolvedJets_is_DL1r_FixedCut... | std::vector<int32_t>     | AsJagged(AsDtype('>i4'), he...\n",
      "resolvedJets_SF_DL1r_FixedCut... | std::vector<std::vect... | AsObjects(AsVector(True, As...\n",
      "resolvedJets_is_DL1r_FixedCut... | std::vector<int32_t>     | AsJagged(AsDtype('>i4'), he...\n",
      "resolvedJets_SF_DL1r_FixedCut... | std::vector<std::vect... | AsObjects(AsVector(True, As...\n",
      "resolvedJets_Quantile_DL1r_Co... | std::vector<int32_t>     | AsJagged(AsDtype('>i4'), he...\n",
      "resolvedJets_SF_DL1r_Continuous  | std::vector<std::vect... | AsObjects(AsVector(True, As...\n",
      "resolvedJets_InefficiencySF_D... | std::vector<std::vect... | AsObjects(AsVector(True, As...\n",
      "nboostedJets                     | int32_t                  | AsDtype('>i4')\n",
      "boostedJets_m                    | std::vector<float>       | AsJagged(AsDtype('>f4'), he...\n",
      "boostedJets_pt                   | std::vector<float>       | AsJagged(AsDtype('>f4'), he...\n",
      "boostedJets_phi                  | std::vector<float>       | AsJagged(AsDtype('>f4'), he...\n",
      "boostedJets_eta                  | std::vector<float>       | AsJagged(AsDtype('>f4'), he...\n",
      "boostedJets_Split12              | std::vector<float>       | AsJagged(AsDtype('>f4'), he...\n",
      "boostedJets_Split23              | std::vector<float>       | AsJagged(AsDtype('>f4'), he...\n",
      "boostedJets_Split34              | std::vector<float>       | AsJagged(AsDtype('>f4'), he...\n",
      "boostedJets_tau1_wta             | std::vector<float>       | AsJagged(AsDtype('>f4'), he...\n",
      "boostedJets_tau2_wta             | std::vector<float>       | AsJagged(AsDtype('>f4'), he...\n",
      "boostedJets_tau3_wta             | std::vector<float>       | AsJagged(AsDtype('>f4'), he...\n",
      "boostedJets_tau21_wta            | std::vector<float>       | AsJagged(AsDtype('>f4'), he...\n",
      "boostedJets_tau32_wta            | std::vector<float>       | AsJagged(AsDtype('>f4'), he...\n",
      "boostedJets_ECF1                 | std::vector<float>       | AsJagged(AsDtype('>f4'), he...\n",
      "boostedJets_ECF2                 | std::vector<float>       | AsJagged(AsDtype('>f4'), he...\n",
      "boostedJets_ECF3                 | std::vector<float>       | AsJagged(AsDtype('>f4'), he...\n",
      "boostedJets_C2                   | std::vector<float>       | AsJagged(AsDtype('>f4'), he...\n",
      "boostedJets_D2                   | std::vector<float>       | AsJagged(AsDtype('>f4'), he...\n",
      "boostedJets_NTrimSubjets         | std::vector<float>       | AsJagged(AsDtype('>f4'), he...\n",
      "boostedJets_Nclusters            | std::vector<int32_t>     | AsJagged(AsDtype('>i4'), he...\n",
      "boostedJets_nTracks              | std::vector<int32_t>     | AsJagged(AsDtype('>i4'), he...\n",
      "boostedJets_ungrtrk500           | std::vector<int32_t>     | AsJagged(AsDtype('>i4'), he...\n",
      "boostedJets_EMFrac               | std::vector<float>       | AsJagged(AsDtype('>f4'), he...\n",
      "boostedJets_nChargedParticles    | std::vector<int32_t>     | AsJagged(AsDtype('>i4'), he...\n",
      "boostedJets_numConstituents      | std::vector<int32_t>     | AsJagged(AsDtype('>i4'), he...\n",
      "nboostedTrkJets                  | int32_t                  | AsDtype('>i4')\n",
      "boostedTrkJets_E                 | std::vector<float>       | AsJagged(AsDtype('>f4'), he...\n",
      "boostedTrkJets_pt                | std::vector<float>       | AsJagged(AsDtype('>f4'), he...\n",
      "boostedTrkJets_phi               | std::vector<float>       | AsJagged(AsDtype('>f4'), he...\n",
      "boostedTrkJets_eta               | std::vector<float>       | AsJagged(AsDtype('>f4'), he...\n",
      "boostedTrkJets_NumTrkPt1000PV    | std::vector<float>       | AsJagged(AsDtype('>f4'), he...\n",
      "boostedTrkJets_SumPtTrkPt1000PV  | std::vector<float>       | AsJagged(AsDtype('>f4'), he...\n",
      "boostedTrkJets_TrackWidthPt10... | std::vector<float>       | AsJagged(AsDtype('>f4'), he...\n",
      "boostedTrkJets_NumTrkPt500PV     | std::vector<float>       | AsJagged(AsDtype('>f4'), he...\n",
      "boostedTrkJets_SumPtTrkPt500PV   | std::vector<float>       | AsJagged(AsDtype('>f4'), he...\n",
      "boostedTrkJets_TrackWidthPt500PV | std::vector<float>       | AsJagged(AsDtype('>f4'), he...\n",
      "boostedTrkJets_JVFPV             | std::vector<float>       | AsJagged(AsDtype('>f4'), he...\n",
      "boostedTrkJets_JvtJvfcorr        | std::vector<float>       | AsJagged(AsDtype('>f4'), he...\n",
      "boostedTrkJets_JvtRpt            | std::vector<float>       | AsJagged(AsDtype('>f4'), he...\n",
      "boostedTrkJets_Jvt               | std::vector<float>       | AsJagged(AsDtype('>f4'), he...\n",
      "boostedTrkJets_JvtPass_Loose     | std::vector<int32_t>     | AsJagged(AsDtype('>i4'), he...\n",
      "boostedTrkJets_JvtEff_SF_Loose   | std::vector<std::vect... | AsObjects(AsVector(True, As...\n",
      "boostedTrkJets_JvtPass_Medium    | std::vector<int32_t>     | AsJagged(AsDtype('>i4'), he...\n",
      "boostedTrkJets_JvtEff_SF_Medium  | std::vector<std::vect... | AsObjects(AsVector(True, As...\n",
      "boostedTrkJets_JvtPass_Tight     | std::vector<int32_t>     | AsJagged(AsDtype('>i4'), he...\n",
      "boostedTrkJets_JvtEff_SF_Tight   | std::vector<std::vect... | AsObjects(AsVector(True, As...\n",
      "boostedTrkJets_fJvtPass_Medium   | std::vector<int32_t>     | AsJagged(AsDtype('>i4'), he...\n",
      "boostedTrkJets_fJvtEff_SF_Medium | std::vector<std::vect... | AsObjects(AsVector(True, As...\n",
      "boostedTrkJets_fJvtPass_Tight    | std::vector<int32_t>     | AsJagged(AsDtype('>i4'), he...\n",
      "boostedTrkJets_fJvtEff_SF_Tight  | std::vector<std::vect... | AsObjects(AsVector(True, As...\n",
      "boostedTrkJets_MV2c00            | std::vector<float>       | AsJagged(AsDtype('>f4'), he...\n",
      "boostedTrkJets_MV2c10            | std::vector<float>       | AsJagged(AsDtype('>f4'), he...\n",
      "boostedTrkJets_MV2c10mu          | std::vector<float>       | AsJagged(AsDtype('>f4'), he...\n",
      "boostedTrkJets_MV2c10rnn         | std::vector<float>       | AsJagged(AsDtype('>f4'), he...\n",
      "boostedTrkJets_MV2rmu            | std::vector<float>       | AsJagged(AsDtype('>f4'), he...\n",
      "boostedTrkJets_MV2r              | std::vector<float>       | AsJagged(AsDtype('>f4'), he...\n",
      "boostedTrkJets_MV2c20            | std::vector<float>       | AsJagged(AsDtype('>f4'), he...\n",
      "boostedTrkJets_MV2c100           | std::vector<float>       | AsJagged(AsDtype('>f4'), he...\n",
      "boostedTrkJets_DL1               | std::vector<float>       | AsJagged(AsDtype('>f4'), he...\n",
      "boostedTrkJets_DL1_pu            | std::vector<float>       | AsJagged(AsDtype('>f4'), he...\n",
      "boostedTrkJets_DL1_pc            | std::vector<float>       | AsJagged(AsDtype('>f4'), he...\n",
      "boostedTrkJets_DL1_pb            | std::vector<float>       | AsJagged(AsDtype('>f4'), he...\n",
      "boostedTrkJets_DL1mu             | std::vector<float>       | AsJagged(AsDtype('>f4'), he...\n",
      "boostedTrkJets_DL1mu_pu          | std::vector<float>       | AsJagged(AsDtype('>f4'), he...\n",
      "boostedTrkJets_DL1mu_pc          | std::vector<float>       | AsJagged(AsDtype('>f4'), he...\n",
      "boostedTrkJets_DL1mu_pb          | std::vector<float>       | AsJagged(AsDtype('>f4'), he...\n",
      "boostedTrkJets_DL1rnn            | std::vector<float>       | AsJagged(AsDtype('>f4'), he...\n",
      "boostedTrkJets_DL1rnn_pu         | std::vector<float>       | AsJagged(AsDtype('>f4'), he...\n",
      "boostedTrkJets_DL1rnn_pc         | std::vector<float>       | AsJagged(AsDtype('>f4'), he...\n",
      "boostedTrkJets_DL1rnn_pb         | std::vector<float>       | AsJagged(AsDtype('>f4'), he...\n",
      "boostedTrkJets_DL1rmu            | std::vector<float>       | AsJagged(AsDtype('>f4'), he...\n",
      "boostedTrkJets_DL1rmu_pu         | std::vector<float>       | AsJagged(AsDtype('>f4'), he...\n",
      "boostedTrkJets_DL1rmu_pc         | std::vector<float>       | AsJagged(AsDtype('>f4'), he...\n",
      "boostedTrkJets_DL1rmu_pb         | std::vector<float>       | AsJagged(AsDtype('>f4'), he...\n",
      "boostedTrkJets_DL1r              | std::vector<float>       | AsJagged(AsDtype('>f4'), he...\n",
      "boostedTrkJets_DL1r_pu           | std::vector<float>       | AsJagged(AsDtype('>f4'), he...\n",
      "boostedTrkJets_DL1r_pc           | std::vector<float>       | AsJagged(AsDtype('>f4'), he...\n",
      "boostedTrkJets_DL1r_pb           | std::vector<float>       | AsJagged(AsDtype('>f4'), he...\n",
      "boostedTrkJets_HadronConeExcl... | std::vector<int32_t>     | AsJagged(AsDtype('>i4'), he...\n",
      "boostedTrkJets_HadronConeExcl... | std::vector<int32_t>     | AsJagged(AsDtype('>i4'), he...\n",
      "boostedTrkJets_is_DL1r_FixedC... | std::vector<int32_t>     | AsJagged(AsDtype('>i4'), he...\n",
      "boostedTrkJets_SF_DL1r_FixedC... | std::vector<std::vect... | AsObjects(AsVector(True, As...\n",
      "boostedTrkJets_is_DL1r_FixedC... | std::vector<int32_t>     | AsJagged(AsDtype('>i4'), he...\n",
      "boostedTrkJets_SF_DL1r_FixedC... | std::vector<std::vect... | AsObjects(AsVector(True, As...\n",
      "boostedTrkJets_is_DL1r_FixedC... | std::vector<int32_t>     | AsJagged(AsDtype('>i4'), he...\n",
      "boostedTrkJets_SF_DL1r_FixedC... | std::vector<std::vect... | AsObjects(AsVector(True, As...\n",
      "boostedTrkJets_is_DL1r_FixedC... | std::vector<int32_t>     | AsJagged(AsDtype('>i4'), he...\n",
      "boostedTrkJets_SF_DL1r_FixedC... | std::vector<std::vect... | AsObjects(AsVector(True, As...\n",
      "nmuon                            | int32_t                  | AsDtype('>i4')\n",
      "muon_m                           | std::vector<float>       | AsJagged(AsDtype('>f4'), he...\n",
      "muon_pt                          | std::vector<float>       | AsJagged(AsDtype('>f4'), he...\n",
      "muon_phi                         | std::vector<float>       | AsJagged(AsDtype('>f4'), he...\n",
      "muon_eta                         | std::vector<float>       | AsJagged(AsDtype('>f4'), he...\n",
      "muon_charge                      | std::vector<float>       | AsJagged(AsDtype('>f4'), he...\n",
      "muon_isIsolated_FCTight          | std::vector<int32_t>     | AsJagged(AsDtype('>i4'), he...\n",
      "muon_trkd0                       | std::vector<float>       | AsJagged(AsDtype('>f4'), he...\n",
      "muon_trkd0sig                    | std::vector<float>       | AsJagged(AsDtype('>f4'), he...\n",
      "muon_trkz0                       | std::vector<float>       | AsJagged(AsDtype('>f4'), he...\n",
      "muon_trkz0sintheta               | std::vector<float>       | AsJagged(AsDtype('>f4'), he...\n",
      "muon_trkphi0                     | std::vector<float>       | AsJagged(AsDtype('>f4'), he...\n",
      "muon_trktheta                    | std::vector<float>       | AsJagged(AsDtype('>f4'), he...\n",
      "muon_trkcharge                   | std::vector<float>       | AsJagged(AsDtype('>f4'), he...\n",
      "muon_trkqOverP                   | std::vector<float>       | AsJagged(AsDtype('>f4'), he...\n",
      "muon_EnergyLoss                  | std::vector<float>       | AsJagged(AsDtype('>f4'), he...\n",
      "muon_EnergyLossSigma             | std::vector<float>       | AsJagged(AsDtype('>f4'), he...\n",
      "muon_energyLossType              | std::vector<uint8_t>     | AsJagged(AsDtype('uint8'), ...\n",
      "muon_MeasEnergyLoss              | std::vector<float>       | AsJagged(AsDtype('>f4'), he...\n",
      "muon_MeasEnergyLossSigma         | std::vector<float>       | AsJagged(AsDtype('>f4'), he...\n",
      "muon_ParamEnergyLoss             | std::vector<float>       | AsJagged(AsDtype('>f4'), he...\n",
      "muon_ParamEnergyLossSigmaMinus   | std::vector<float>       | AsJagged(AsDtype('>f4'), he...\n",
      "muon_ParamEnergyLossSigmaPlus    | std::vector<float>       | AsJagged(AsDtype('>f4'), he...\n",
      "ntruth                           | int32_t                  | AsDtype('>i4')\n",
      "truth_E                          | std::vector<float>       | AsJagged(AsDtype('>f4'), he...\n",
      "truth_pt                         | std::vector<float>       | AsJagged(AsDtype('>f4'), he...\n",
      "truth_phi                        | std::vector<float>       | AsJagged(AsDtype('>f4'), he...\n",
      "truth_eta                        | std::vector<float>       | AsJagged(AsDtype('>f4'), he...\n",
      "truth_pdgId                      | std::vector<int32_t>     | AsJagged(AsDtype('>i4'), he...\n",
      "truth_status                     | std::vector<int32_t>     | AsJagged(AsDtype('>i4'), he...\n",
      "truth_barcode                    | std::vector<int32_t>     | AsJagged(AsDtype('>i4'), he...\n",
      "truth_is_higgs                   | std::vector<int32_t>     | AsJagged(AsDtype('>i4'), he...\n",
      "truth_is_bhad                    | std::vector<int32_t>     | AsJagged(AsDtype('>i4'), he...\n",
      "truth_Bdecay_x                   | std::vector<float>       | AsJagged(AsDtype('>f4'), he...\n",
      "truth_Bdecay_y                   | std::vector<float>       | AsJagged(AsDtype('>f4'), he...\n",
      "truth_Bdecay_z                   | std::vector<float>       | AsJagged(AsDtype('>f4'), he...\n",
      "truth_nParents                   | std::vector<int32_t>     | AsJagged(AsDtype('>i4'), he...\n",
      "truth_parent_pdgId               | std::vector<std::vect... | AsObjects(AsVector(True, As...\n",
      "truth_parent_barcode             | std::vector<std::vect... | AsObjects(AsVector(True, As...\n",
      "truth_parent_status              | std::vector<std::vect... | AsObjects(AsVector(True, As...\n",
      "truth_nChildren                  | std::vector<int32_t>     | AsJagged(AsDtype('>i4'), he...\n",
      "truth_child_pdgId                | std::vector<std::vect... | AsObjects(AsVector(True, As...\n",
      "truth_child_barcode              | std::vector<std::vect... | AsObjects(AsVector(True, As...\n",
      "truth_child_status               | std::vector<std::vect... | AsObjects(AsVector(True, As...\n",
      "truth_mtt                        | double                   | AsDtype('>f8')\n",
      "isVHH                            | bool                     | AsDtype('bool')\n",
      "truth_mHH                        | double                   | AsDtype('>f8')\n",
      "truth_pT_H1                      | double                   | AsDtype('>f8')\n",
      "resolvedJets_bjetTrigSFs         | std::vector<std::vect... | AsObjects(AsVector(True, As...\n",
      "resolvedJets_jetTrigL1SFs        | vector<TrigSF>           | AsGroup(<TBranchElement 're...\n",
      "resolvedJets_jetTrigL1SFs/res... | float[]                  | AsJagged(AsDtype('>f4'))\n",
      "resolvedJets_jetTrigL1SFs/res... | float[]                  | AsJagged(AsDtype('>f4'))\n",
      "resolvedJets_jetTrigL1SFs/res... | float[]                  | AsJagged(AsDtype('>f4'))\n",
      "resolvedJets_jetTrigL1SFs/res... | float[]                  | AsJagged(AsDtype('>f4'))\n",
      "resolvedJets_jetTrigL1SFs_1up    | vector<TrigSF>           | AsGroup(<TBranchElement 're...\n",
      "resolvedJets_jetTrigL1SFs_1up... | float[]                  | AsJagged(AsDtype('>f4'))\n",
      "resolvedJets_jetTrigL1SFs_1up... | float[]                  | AsJagged(AsDtype('>f4'))\n",
      "resolvedJets_jetTrigL1SFs_1up... | float[]                  | AsJagged(AsDtype('>f4'))\n",
      "resolvedJets_jetTrigL1SFs_1up... | float[]                  | AsJagged(AsDtype('>f4'))\n",
      "resolvedJets_jetTrigL1SFs_1down  | vector<TrigSF>           | AsGroup(<TBranchElement 're...\n",
      "resolvedJets_jetTrigL1SFs_1do... | float[]                  | AsJagged(AsDtype('>f4'))\n",
      "resolvedJets_jetTrigL1SFs_1do... | float[]                  | AsJagged(AsDtype('>f4'))\n",
      "resolvedJets_jetTrigL1SFs_1do... | float[]                  | AsJagged(AsDtype('>f4'))\n",
      "resolvedJets_jetTrigL1SFs_1do... | float[]                  | AsJagged(AsDtype('>f4'))\n",
      "resolvedJets_jetTrigHLTSFs       | vector<TrigSF>           | AsGroup(<TBranchElement 're...\n",
      "resolvedJets_jetTrigHLTSFs/re... | float[]                  | AsJagged(AsDtype('>f4'))\n",
      "resolvedJets_jetTrigHLTSFs/re... | float[]                  | AsJagged(AsDtype('>f4'))\n",
      "resolvedJets_jetTrigHLTSFs/re... | float[]                  | AsJagged(AsDtype('>f4'))\n",
      "resolvedJets_jetTrigHLTSFs/re... | float[]                  | AsJagged(AsDtype('>f4'))\n",
      "resolvedJets_jetTrigHLTSFs_1up   | vector<TrigSF>           | AsGroup(<TBranchElement 're...\n",
      "resolvedJets_jetTrigHLTSFs_1u... | float[]                  | AsJagged(AsDtype('>f4'))\n",
      "resolvedJets_jetTrigHLTSFs_1u... | float[]                  | AsJagged(AsDtype('>f4'))\n",
      "resolvedJets_jetTrigHLTSFs_1u... | float[]                  | AsJagged(AsDtype('>f4'))\n",
      "resolvedJets_jetTrigHLTSFs_1u... | float[]                  | AsJagged(AsDtype('>f4'))\n",
      "resolvedJets_jetTrigHLTSFs_1down | vector<TrigSF>           | AsGroup(<TBranchElement 're...\n",
      "resolvedJets_jetTrigHLTSFs_1d... | float[]                  | AsJagged(AsDtype('>f4'))\n",
      "resolvedJets_jetTrigHLTSFs_1d... | float[]                  | AsJagged(AsDtype('>f4'))\n",
      "resolvedJets_jetTrigHLTSFs_1d... | float[]                  | AsJagged(AsDtype('>f4'))\n",
      "resolvedJets_jetTrigHLTSFs_1d... | float[]                  | AsJagged(AsDtype('>f4'))\n",
      "resolved_htTrigL1SF              | float                    | AsDtype('>f4')\n",
      "resolved_htTrigL1SF_1up          | float                    | AsDtype('>f4')\n",
      "resolved_htTrigL1SF_1down        | float                    | AsDtype('>f4')\n",
      "resolved_htTrigHLTSF             | float                    | AsDtype('>f4')\n",
      "resolved_htTrigHLTSF_1up         | float                    | AsDtype('>f4')\n",
      "resolved_htTrigHLTSF_1down       | float                    | AsDtype('>f4')\n",
      "resolvedJets_isOnlineTagged      | vector<TrigSF>           | AsGroup(<TBranchElement 're...\n",
      "resolvedJets_isOnlineTagged/r... | float[]                  | AsJagged(AsDtype('>f4'))\n",
      "resolvedJets_isOnlineTagged/r... | float[]                  | AsJagged(AsDtype('>f4'))\n",
      "resolvedJets_isOnlineTagged/r... | float[]                  | AsJagged(AsDtype('>f4'))\n",
      "resolvedJets_isOnlineTagged/r... | float[]                  | AsJagged(AsDtype('>f4'))\n",
      "resolvedJets_rawPt               | std::vector<float>       | AsJagged(AsDtype('>f4'), he...\n",
      "resolvedJets_pullMag             | std::vector<float>       | AsJagged(AsDtype('>f4'), he...\n",
      "resolvedJets_pullPhi             | std::vector<float>       | AsJagged(AsDtype('>f4'), he...\n",
      "resolved_nGoodJets               | int32_t                  | AsDtype('>i4')\n",
      "resolved_nBTags                  | int32_t                  | AsDtype('>i4')\n",
      "resolved_nValidPairings          | int32_t                  | AsDtype('>i4')\n",
      "resolved_isSR                    | bool                     | AsDtype('bool')\n",
      "resolved_isVR                    | bool                     | AsDtype('bool')\n",
      "resolved_isCR                    | bool                     | AsDtype('bool')\n",
      "resolved_mHH                     | float                    | AsDtype('>f4')\n",
      "boosted_nGoodJets                | int32_t                  | AsDtype('>i4')\n",
      "boosted_DEtaHH                   | float                    | AsDtype('>f4')\n",
      "boosted_mHH                      | float                    | AsDtype('>f4')\n",
      "boosted_isSR                     | bool                     | AsDtype('bool')\n",
      "boosted_isVR                     | bool                     | AsDtype('bool')\n",
      "boosted_isCR                     | bool                     | AsDtype('bool')\n",
      "boosted_is2b                     | bool                     | AsDtype('bool')\n",
      "boosted_is3b                     | bool                     | AsDtype('bool')\n",
      "boosted_is4b                     | bool                     | AsDtype('bool')\n",
      "boosted_is1b-1                   | bool                     | AsDtype('bool')\n",
      "boosted_is2b-1                   | bool                     | AsDtype('bool')\n",
      "boosted_is2b-2                   | bool                     | AsDtype('bool')\n",
      "boostedJets_ptcalo               | std::vector<float>       | AsJagged(AsDtype('>f4'), he...\n",
      "boostedJets_ptTA                 | std::vector<float>       | AsJagged(AsDtype('>f4'), he...\n",
      "boostedJets_etacalo              | std::vector<float>       | AsJagged(AsDtype('>f4'), he...\n",
      "boostedJets_etaTA                | std::vector<float>       | AsJagged(AsDtype('>f4'), he...\n",
      "boostedJets_phicalo              | std::vector<float>       | AsJagged(AsDtype('>f4'), he...\n",
      "boostedJets_phiTA                | std::vector<float>       | AsJagged(AsDtype('>f4'), he...\n",
      "boostedJets_mcalo                | std::vector<float>       | AsJagged(AsDtype('>f4'), he...\n",
      "boostedJets_mTA                  | std::vector<float>       | AsJagged(AsDtype('>f4'), he...\n",
      "boostedJets_dRjj                 | std::vector<float>       | AsJagged(AsDtype('>f4'), he...\n",
      "boostedJets_ntrk500              | std::vector<float>       | AsJagged(AsDtype('>f4'), he...\n",
      "boostedJets_ntrk1000             | std::vector<float>       | AsJagged(AsDtype('>f4'), he...\n",
      "boostedJets_trkwidth500          | std::vector<float>       | AsJagged(AsDtype('>f4'), he...\n",
      "boostedJets_trkwidth1000         | std::vector<float>       | AsJagged(AsDtype('>f4'), he...\n",
      "jet_ak2track_asso_fatjet         | std::vector<int32_t>     | AsJagged(AsDtype('>i4'), he...\n",
      "jet_ak2track_asso_sys            | std::vector<std::vect... | AsObjects(AsVector(True, As...\n",
      "boosted_bevent_sys               | std::vector<float>       | AsJagged(AsDtype('>f4'), he...\n",
      "boostedTrkJets_BHadPt            | std::vector<float>       | AsJagged(AsDtype('>f4'), he...\n",
      "boostedJets_Xbb202006_Higgs      | std::vector<float>       | AsJagged(AsDtype('>f4'), he...\n",
      "boostedJets_Xbb202006_Top        | std::vector<float>       | AsJagged(AsDtype('>f4'), he...\n",
      "boostedJets_Xbb202006_QCD        | std::vector<float>       | AsJagged(AsDtype('>f4'), he...\n",
      "boostedJets_Xbb2020v2_Higgs      | std::vector<float>       | AsJagged(AsDtype('>f4'), he...\n",
      "boostedJets_Xbb2020v2_Top        | std::vector<float>       | AsJagged(AsDtype('>f4'), he...\n",
      "boostedJets_Xbb2020v2_QCD        | std::vector<float>       | AsJagged(AsDtype('>f4'), he...\n",
      "boostedJets_Xbb2020v3_Higgs      | std::vector<float>       | AsJagged(AsDtype('>f4'), he...\n",
      "boostedJets_Xbb2020v3_Top        | std::vector<float>       | AsJagged(AsDtype('>f4'), he...\n",
      "boostedJets_Xbb2020v3_QCD        | std::vector<float>       | AsJagged(AsDtype('>f4'), he...\n",
      "truthjet_antikt4_pt              | std::vector<float>       | AsJagged(AsDtype('>f4'), he...\n",
      "truthjet_antikt4_eta             | std::vector<float>       | AsJagged(AsDtype('>f4'), he...\n",
      "truthjet_antikt4_phi             | std::vector<float>       | AsJagged(AsDtype('>f4'), he...\n",
      "truthjet_antikt4_m               | std::vector<float>       | AsJagged(AsDtype('>f4'), he...\n",
      "truthjet_antikt10_pt             | std::vector<float>       | AsJagged(AsDtype('>f4'), he...\n",
      "truthjet_antikt10_eta            | std::vector<float>       | AsJagged(AsDtype('>f4'), he...\n",
      "truthjet_antikt10_phi            | std::vector<float>       | AsJagged(AsDtype('>f4'), he...\n",
      "truthjet_antikt10_m              | std::vector<float>       | AsJagged(AsDtype('>f4'), he...\n",
      "passedEmulatedTriggerHashes      | std::vector<uint64_t>    | AsJagged(AsDtype('>u8'), he...\n",
      "GenFiltHT                        | float                    | AsDtype('>f4')\n",
      "weight                           | float                    | AsDtype('>f4')\n",
      "weight_xs                        | float                    | AsDtype('>f4')\n",
      "cleanEvent                       | bool                     | AsDtype('bool')\n",
      "passResolvedGRL                  | bool                     | AsDtype('bool')\n"
     ]
    }
   ],
   "source": [
    "MNTuple = uprooted['XhhMiniNtuple']\n",
    "# events.arrays([\"px1\", \"py1\", \"pz1\"])\n",
    "MNTuple.show(name_width=32,\n",
    "            interpretation_width=30)"
   ]
  },
  {
   "cell_type": "markdown",
   "id": "32901c53-0107-430f-92ae-3307a2a38e37",
   "metadata": {},
   "source": [
    "## Load Utils"
   ]
  },
  {
   "cell_type": "code",
   "execution_count": 5,
   "id": "9f6c11b6-74d2-4cbd-a120-4dace4498cdb",
   "metadata": {},
   "outputs": [],
   "source": [
    "import os\n",
    "import sys\n",
    "cwd = os.getcwd()\n",
    "path_head, path_tail = os.path.split(cwd)\n",
    "sys.path.append(path_head+'/utils')\n",
    "from ml_utils import dict_from_tree, DeltaR, tvt_num\n",
    "from time import perf_counter as cput"
   ]
  },
  {
   "cell_type": "markdown",
   "id": "0b18d81e-6619-4291-8111-75d9b0d1b64e",
   "metadata": {},
   "source": [
    "## Load Data"
   ]
  },
  {
   "cell_type": "code",
   "execution_count": 6,
   "id": "e055a9be-122c-45bb-a80d-7d386f259d98",
   "metadata": {},
   "outputs": [],
   "source": [
    "branches = ['boosted_nGoodJets', \"nboostedJets\", \"boostedJets_m\",\n",
    "            \"boostedJets_pt\", \"boostedJets_phi\", \"boostedJets_eta\",\n",
    "           \"truth_mHH\", 'truthjet_antikt10_pt', 'truthjet_antikt10_eta',\n",
    "           'truthjet_antikt10_phi', 'truthjet_antikt10_m',\n",
    "           'boostedJets_numConstituents', 'boostedJets_nChargedParticles',\n",
    "           'boostedJets_EMFrac', 'boostedJets_Nclusters',\n",
    "           'boostedJets_NTrimSubjets', 'boostedJets_ungrtrk500']\n",
    "np_branches = ['eventNumber']"
   ]
  },
  {
   "cell_type": "code",
   "execution_count": 7,
   "id": "45646dce-e3a0-4567-9a51-01198600301f",
   "metadata": {},
   "outputs": [
    {
     "name": "stdout",
     "output_type": "stream",
     "text": [
      "Time to load arrays:   1.4723 (s)\n",
      "339978 Events\n"
     ]
    }
   ],
   "source": [
    "t0 = cput()\n",
    "hh4b_dict = dict_from_tree(MNTuple, branches, np_branches)\n",
    "t1 = cput()\n",
    "method_1_time = t1 - t0\n",
    "print('Time to load arrays: {:8.4f} (s)'.format(method_1_time))\n",
    "\n",
    "nEvents = len(hh4b_dict['eventNumber'])\n",
    "print('{} Events'.format(nEvents))"
   ]
  },
  {
   "cell_type": "code",
   "execution_count": 8,
   "id": "0437e315-217f-4dd1-80d2-b047fa63bfd2",
   "metadata": {},
   "outputs": [
    {
     "name": "stdout",
     "output_type": "stream",
     "text": [
      "Number of events with > 2 jets\n",
      "time:    29.09\n"
     ]
    }
   ],
   "source": [
    "gt_twoJets = np.zeros(nEvents, dtype=bool)\n",
    "t0 = cput()\n",
    "for i in range(nEvents):\n",
    "    boostedJets_pt = ak.to_numpy(hh4b_dict['boostedJets_pt'][i])\n",
    "    \n",
    "    if len(boostedJets_pt) >=2:\n",
    "        gt_twoJets[i] = True\n",
    "\n",
    "n2jets = np.count_nonzero(gt_twoJets)\n",
    "print('Number of events with > 2 jets'.format(n2jets))\n",
    "t1 = cput()\n",
    "print('time: {:8.2f}'.format(t1 - t0))"
   ]
  },
  {
   "cell_type": "markdown",
   "id": "b551db1a-969e-4054-abe7-165dfbf84116",
   "metadata": {},
   "source": [
    "# Fill arrays with inputs"
   ]
  },
  {
   "cell_type": "code",
   "execution_count": 9,
   "id": "1859be89-a3a5-4a9e-86e3-741f712069df",
   "metadata": {
    "scrolled": true,
    "tags": []
   },
   "outputs": [],
   "source": [
    "list_indices = np.arange(nEvents)\n",
    "# evt_idx = np.full(shape=(n2jets,), fill_value=-1)\n",
    "evt_idx = np.ndarray.copy(list_indices[gt_twoJets])\n",
    "\n",
    "# for jk in range(20):\n",
    "#     evt = evt_idx[jk]\n",
    "#     nboosted = len(ak.to_numpy(hh4b_dict['boostedJets_pt'][evt]))\n",
    "#     print('Event with matched jets: {}'.format(evt_idx[jk]))\n",
    "#     print('Number of boosted jets:   {}'.format(nboosted))"
   ]
  },
  {
   "cell_type": "code",
   "execution_count": 10,
   "id": "9eb0c1b7-6ddc-4c10-9d25-31d2e96f4885",
   "metadata": {
    "scrolled": true,
    "tags": []
   },
   "outputs": [
    {
     "name": "stdout",
     "output_type": "stream",
     "text": [
      "Time to complete jet matching:  1.661 (m)\n",
      "\n",
      "\n",
      "(94859, 3)\n"
     ]
    }
   ],
   "source": [
    "t0 = cput()\n",
    "matched_jets = []\n",
    "for i, evt in enumerate(evt_idx):\n",
    "    \n",
    "    nTruthJets = ak.to_numpy(hh4b_dict['truthjet_antikt10_m'][evt]).shape[0]\n",
    "    truthJet_coords = np.empty((nTruthJets, 2))\n",
    "    # this can be vectorized easily (too tired)\n",
    "    for j in range(nTruthJets):\n",
    "        truthJet_coords[j,0] = hh4b_dict['truthjet_antikt10_eta'][evt][j]\n",
    "        truthJet_coords[j,1] = hh4b_dict['truthjet_antikt10_phi'][evt][j]\n",
    "    \n",
    "    BoostedJet0_eta = hh4b_dict['boostedJets_eta'][evt][0]\n",
    "    BoostedJet0_phi = hh4b_dict['boostedJets_phi'][evt][0]\n",
    "    BoostedJet0_coords = np.array([BoostedJet0_eta, BoostedJet0_phi])\n",
    "    LeadingJet_DR_arr = DeltaR(truthJet_coords, BoostedJet0_coords)\n",
    "    # print(LeadingJet_DR_arr)\n",
    "    LJ_DR = np.min(LeadingJet_DR_arr)\n",
    "    LJ_DR_idx = np.argmin(LeadingJet_DR_arr)\n",
    "    \n",
    "    BoostedJet1_eta = hh4b_dict['boostedJets_eta'][evt][1]\n",
    "    BoostedJet1_phi = hh4b_dict['boostedJets_phi'][evt][1]\n",
    "    BoostedJet1_coords = np.array([BoostedJet1_eta, BoostedJet1_phi])\n",
    "    subLeadingJet_DR_arr = DeltaR(truthJet_coords, BoostedJet1_coords)\n",
    "    # print(subLeadingJet_DR_arr)\n",
    "    SLJ_DR = np.min(subLeadingJet_DR_arr)\n",
    "    SLJ_DR_idx = np.argmin(subLeadingJet_DR_arr)\n",
    "    \n",
    "    if SLJ_DR_idx != LJ_DR_idx:\n",
    "        if LJ_DR < .1 and SLJ_DR < .1:\n",
    "            matched_jets.append([evt, LJ_DR_idx, SLJ_DR_idx])\n",
    "    \n",
    "    # print();print()\n",
    "\n",
    "t1 = cput()\n",
    "print('Time to complete jet matching: {:6.3f} (m)'.format((t1 - t0)/60))\n",
    "print();print()\n",
    "matched_jets = np.array(matched_jets)\n",
    "\n",
    "print(matched_jets.shape)"
   ]
  },
  {
   "cell_type": "code",
   "execution_count": 11,
   "id": "c52f7c73-429e-42ea-a9bb-68382cf345a2",
   "metadata": {},
   "outputs": [],
   "source": [
    "X = np.empty((matched_jets.shape[0],20))\n",
    "Y = np.empty((matched_jets.shape[0],2))"
   ]
  },
  {
   "cell_type": "code",
   "execution_count": 12,
   "id": "4b2ce5ac-820f-47d9-ba83-adcc530c2723",
   "metadata": {},
   "outputs": [],
   "source": [
    "for i in range(matched_jets.shape[0]):\n",
    "    arr_slc = matched_jets[i]\n",
    "    evt = arr_slc[0]\n",
    "    ld_idx = arr_slc[1]\n",
    "    sld_idx = arr_slc[2]\n",
    "\n",
    "    nboosted = len(ak.to_numpy(hh4b_dict['boostedJets_pt'][evt]))\n",
    "    \n",
    "    # Leading\n",
    "    X[i,0] = hh4b_dict['boostedJets_m'][evt][0]\n",
    "    X[i,1] = hh4b_dict['boostedJets_pt'][evt][0]\n",
    "    X[i,2] = hh4b_dict['boostedJets_eta'][evt][0]\n",
    "    X[i,3] = hh4b_dict['boostedJets_phi'][evt][0]\n",
    "    X[i,4] = hh4b_dict['boostedJets_numConstituents'][evt][0]\n",
    "    X[i,5] = hh4b_dict['boostedJets_nChargedParticles'][evt][0]\n",
    "    X[i,6] = hh4b_dict['boostedJets_EMFrac'][evt][0]\n",
    "    X[i,7] = hh4b_dict['boostedJets_ungrtrk500'][evt][0]\n",
    "    X[i,8] = hh4b_dict['boostedJets_Nclusters'][evt][0]\n",
    "    X[i,9] = hh4b_dict['boostedJets_NTrimSubjets'][evt][0]\n",
    "    \n",
    "    \n",
    "    # Sub-Leading\n",
    "    X[i,10] = hh4b_dict['boostedJets_m'][evt][1]\n",
    "    X[i,11] = hh4b_dict['boostedJets_pt'][evt][1]\n",
    "    X[i,12] = hh4b_dict['boostedJets_eta'][evt][1]\n",
    "    X[i,13] = hh4b_dict['boostedJets_phi'][evt][1]\n",
    "    X[i,14] = hh4b_dict['boostedJets_numConstituents'][evt][1]\n",
    "    X[i,15] = hh4b_dict['boostedJets_nChargedParticles'][evt][1]\n",
    "    X[i,16] = hh4b_dict['boostedJets_EMFrac'][evt][1]\n",
    "    X[i,17] = hh4b_dict['boostedJets_ungrtrk500'][evt][1]\n",
    "    X[i,18] = hh4b_dict['boostedJets_Nclusters'][evt][1]\n",
    "    X[i,19] = hh4b_dict['boostedJets_NTrimSubjets'][evt][1]\n",
    "    \n",
    "    # Truth Jet\n",
    "    ''' in rare circumstances these can be mismatched with reco\n",
    "    jets so we need to be consistent with this! '''\n",
    "    Y[i,0] = hh4b_dict['truthjet_antikt10_m'][evt][ld_idx]\n",
    "    Y[i,1] = hh4b_dict['truthjet_antikt10_m'][evt][sld_idx]"
   ]
  },
  {
   "cell_type": "code",
   "execution_count": 13,
   "id": "406a8556-73f1-4b76-ade2-919699d5892d",
   "metadata": {},
   "outputs": [],
   "source": [
    "# X = np.random.uniform(low=-1, high=1.0, size=(matched_jets.shape[0],8))\n",
    "# Y = np.random.uniform(low=-1, high=1.0, size=(matched_jets.shape[0],2))"
   ]
  },
  {
   "cell_type": "code",
   "execution_count": 14,
   "id": "d79ea2c3-d9da-44b5-ab65-bdf2e69fe72d",
   "metadata": {},
   "outputs": [],
   "source": [
    "from ml_mass_regression_models import Dumb_Network, DNN_wDropout, Split_Network\n",
    "import tensorflow as tf\n",
    "from tensorflow import keras\n",
    "\n",
    "import os\n",
    "os.environ['CUDA_VISIBLE_DEVICES'] = \"1\"\n",
    "os.environ['TF_FORCE_GPU_ALLOW_GROWTH'] = 'true'"
   ]
  },
  {
   "cell_type": "code",
   "execution_count": 15,
   "id": "4247b7ef-4b0b-4c97-99a4-7987adc664e1",
   "metadata": {},
   "outputs": [
    {
     "name": "stdout",
     "output_type": "stream",
     "text": [
      "Model: \"dum-dum-net\"\n",
      "_________________________________________________________________\n",
      "Layer (type)                 Output Shape              Param #   \n",
      "=================================================================\n",
      "input (InputLayer)           [(None, 8)]               0         \n",
      "_________________________________________________________________\n",
      "dense_0 (Dense)              (None, 100)               900       \n",
      "_________________________________________________________________\n",
      "activation_0 (Activation)    (None, 100)               0         \n",
      "_________________________________________________________________\n",
      "dense_1 (Dense)              (None, 100)               10100     \n",
      "_________________________________________________________________\n",
      "activation_1 (Activation)    (None, 100)               0         \n",
      "_________________________________________________________________\n",
      "dense_2 (Dense)              (None, 100)               10100     \n",
      "_________________________________________________________________\n",
      "activation_2 (Activation)    (None, 100)               0         \n",
      "_________________________________________________________________\n",
      "output (Dense)               (None, 2)                 202       \n",
      "_________________________________________________________________\n",
      "activation_3 (Activation)    (None, 2)                 0         \n",
      "=================================================================\n",
      "Total params: 21,302\n",
      "Trainable params: 21,302\n",
      "Non-trainable params: 0\n",
      "_________________________________________________________________\n"
     ]
    },
    {
     "name": "stderr",
     "output_type": "stream",
     "text": [
      "2022-10-04 06:10:37.196036: W tensorflow/core/common_runtime/gpu/gpu_bfc_allocator.cc:39] Overriding allow_growth setting because the TF_FORCE_GPU_ALLOW_GROWTH environment variable is set. Original config value was 0.\n",
      "2022-10-04 06:10:37.196095: I tensorflow/core/common_runtime/gpu/gpu_device.cc:1510] Created device /job:localhost/replica:0/task:0/device:GPU:0 with 9672 MB memory:  -> device: 0, name: NVIDIA GeForce RTX 2080 Ti, pci bus id: 0000:1b:00.0, compute capability: 7.5\n"
     ]
    }
   ],
   "source": [
    "test_model = Dumb_Network(num_features=8)\n",
    "test_model.compile(loss='mse', optimizer=keras.optimizers.Adam(\n",
    "    learning_rate=.001))\n",
    "test_model.summary()"
   ]
  },
  {
   "cell_type": "code",
   "execution_count": 16,
   "id": "3c8689c5-b057-4374-90c9-c00a792c92e8",
   "metadata": {},
   "outputs": [],
   "source": [
    "# history = test_model.fit(X,\n",
    "#               Y,\n",
    "#               epochs=10,\n",
    "#               batch_size=1000)"
   ]
  },
  {
   "cell_type": "markdown",
   "id": "921974cd-e47d-4713-861c-70a08b5ea9df",
   "metadata": {},
   "source": [
    "## Okay model is learning but we need to normalize inputs of course!"
   ]
  },
  {
   "cell_type": "markdown",
   "id": "7bb37be9-9c07-4a2c-893f-80779e18b00a",
   "metadata": {},
   "source": [
    "## un-normalized"
   ]
  },
  {
   "cell_type": "code",
   "execution_count": 17,
   "id": "bc1df4ab-a904-4aa7-9298-37d52db34910",
   "metadata": {},
   "outputs": [
    {
     "data": {
      "image/png": "[encoded data removed]",
      "text/plain": [
       "<Figure size 432x288 with 1 Axes>"
      ]
     },
     "metadata": {
      "needs_background": "light"
     },
     "output_type": "display_data"
    }
   ],
   "source": [
    "mass_bins = np.linspace(35,180,100,endpoint=True)\n",
    "\n",
    "plt.hist(X[:,0], bins=mass_bins, label='leading', alpha=.65, color='royalblue',\n",
    "        edgecolor='black', histtype='stepfilled')\n",
    "plt.hist(X[:,10], bins=mass_bins, label='sub leading', alpha=.65,\n",
    "         color='olivedrab', edgecolor='black', histtype='stepfilled')\n",
    "plt.xlim(np.min(mass_bins), np.max(mass_bins))\n",
    "plt.xlabel('Jet Mass [GeV]', fontsize=12)\n",
    "plt.legend()\n",
    "plt.tight_layout()\n",
    "# plt.savefig('Plots/Sept22/jetmass_unnormalized.png')\n",
    "plt.show()"
   ]
  },
  {
   "cell_type": "code",
   "execution_count": 18,
   "id": "298218d4-4d2f-4a2b-96ed-335b3e1e682b",
   "metadata": {},
   "outputs": [
    {
     "data": {
      "image/png": "[encoded data removed]",
      "text/plain": [
       "<Figure size 432x288 with 1 Axes>"
      ]
     },
     "metadata": {
      "needs_background": "light"
     },
     "output_type": "display_data"
    },
    {
     "name": "stdout",
     "output_type": "stream",
     "text": [
      "Minimum pt: -999.0000\n",
      "Maximum pt jet: 3312.10205078125\n"
     ]
    }
   ],
   "source": [
    "logPt_bins = np.linspace(4,10,100,endpoint=True)\n",
    "\n",
    "plt.hist(np.log(X[:,1]), bins=logPt_bins, label='leading', alpha=.65, color='indigo',\n",
    "        edgecolor='black', histtype='stepfilled')\n",
    "plt.hist(np.log(X[:,11]), bins=logPt_bins, label='sub leading', alpha=.65,\n",
    "         color='seagreen', edgecolor='black', histtype='stepfilled')\n",
    "plt.xlim(4, np.max(logPt_bins))\n",
    "plt.xlabel('Jet $p_t$ - logscale [log(GeV/c)]', fontsize=12)\n",
    "plt.legend()\n",
    "plt.tight_layout()\n",
    "# plt.savefig('Plots/Sept22/jetpt_unnormalized.png')\n",
    "plt.show()\n",
    "\n",
    "print('Minimum pt: {:8.4f}'.format(np.min(X[:,5])))\n",
    "print('Maximum pt jet: {}'.format(np.max(X[:,1])))"
   ]
  },
  {
   "cell_type": "code",
   "execution_count": 19,
   "id": "4518182a-1ea0-4cd0-80e5-5024efd25a1d",
   "metadata": {},
   "outputs": [
    {
     "data": {
      "image/png": "[encoded data removed]",
      "text/plain": [
       "<Figure size 432x288 with 1 Axes>"
      ]
     },
     "metadata": {
      "needs_background": "light"
     },
     "output_type": "display_data"
    }
   ],
   "source": [
    "eta_bins = np.linspace(-2.5,2.5,100,endpoint=True)\n",
    "\n",
    "plt.hist(X[:,2], bins=eta_bins, label='leading', alpha=.65, color='darkblue',\n",
    "        edgecolor='black', histtype='stepfilled')\n",
    "plt.hist(X[:,12], bins=eta_bins, label='sub leading', alpha=.65,\n",
    "         color='limegreen', edgecolor='black', histtype='stepfilled')\n",
    "plt.xlim(np.min(eta_bins), np.max(eta_bins))\n",
    "plt.legend()\n",
    "plt.xlabel('Jet $\\eta$', fontsize=12)\n",
    "plt.tight_layout()\n",
    "# plt.savefig('Plots/Sept22/jeteta_unnormalized.png')\n",
    "plt.show()"
   ]
  },
  {
   "cell_type": "code",
   "execution_count": 20,
   "id": "4d1e6608-2302-4667-a40c-af3aea0424d0",
   "metadata": {},
   "outputs": [
    {
     "data": {
      "image/png": "[encoded data removed]",
      "text/plain": [
       "<Figure size 432x288 with 1 Axes>"
      ]
     },
     "metadata": {
      "needs_background": "light"
     },
     "output_type": "display_data"
    }
   ],
   "source": [
    "phi_bins = np.linspace(-np.pi,np.pi,100,endpoint=True)\n",
    "\n",
    "plt.hist(X[:,3], bins=phi_bins, label='leading', alpha=.65, color='darkviolet',\n",
    "        edgecolor='black', histtype='stepfilled')\n",
    "plt.hist(X[:,13], bins=phi_bins, label='sub leading', alpha=.65,\n",
    "         color='darkgreen', edgecolor='black', histtype='stepfilled')\n",
    "plt.xlim(np.min(phi_bins), np.max(phi_bins))\n",
    "plt.legend()\n",
    "plt.xlabel('Jet $\\phi$', fontsize=12)\n",
    "plt.tight_layout()\n",
    "# plt.savefig('Plots/Sept22/jetphi_unnormalized.png')\n",
    "plt.show()"
   ]
  },
  {
   "cell_type": "code",
   "execution_count": 21,
   "id": "6e0e0b29-76ef-4c5a-958e-c1ac06216278",
   "metadata": {},
   "outputs": [
    {
     "data": {
      "image/png": "[encoded data removed]",
      "text/plain": [
       "<Figure size 432x288 with 1 Axes>"
      ]
     },
     "metadata": {
      "needs_background": "light"
     },
     "output_type": "display_data"
    }
   ],
   "source": [
    "target_bins = np.linspace(0,175,100,endpoint=True)\n",
    "\n",
    "plt.hist(Y[:,0]/1000, bins=target_bins, label='leading', alpha=.65, color='thistle',\n",
    "        edgecolor='black', histtype='stepfilled')\n",
    "plt.hist(Y[:,1]/1000, bins=target_bins, label='sub leading', alpha=.65,\n",
    "         color='greenyellow', edgecolor='black', histtype='stepfilled')\n",
    "plt.xlim(np.min(target_bins), np.max(target_bins))\n",
    "plt.legend()\n",
    "plt.xlabel('Truth Jet Mass $[GeV/c^2]$', fontsize=12)\n",
    "plt.tight_layout()\n",
    "# plt.savefig('Plots/Sept22/truthJetMass_unnormalized.png')\n",
    "plt.show()"
   ]
  },
  {
   "cell_type": "markdown",
   "id": "4881868d-b8f8-420a-80a7-46aafa3925cb",
   "metadata": {},
   "source": [
    "## Normalized"
   ]
  },
  {
   "cell_type": "code",
   "execution_count": 22,
   "id": "c73f26dd-3811-4c30-ace8-f6a695bb3eca",
   "metadata": {},
   "outputs": [],
   "source": [
    "Yn = np.empty(Y.shape)\n",
    "Xsn = np.empty((X.shape[0], 8))"
   ]
  },
  {
   "cell_type": "markdown",
   "id": "ac79f6b7-9451-4e90-8d3e-5067b8bda0d3",
   "metadata": {},
   "source": [
    "### Target"
   ]
  },
  {
   "cell_type": "code",
   "execution_count": 23,
   "id": "b0af7968-fde3-48a4-84da-4154869fad67",
   "metadata": {},
   "outputs": [
    {
     "name": "stdout",
     "output_type": "stream",
     "text": [
      "(94859, 2)\n"
     ]
    }
   ],
   "source": [
    "Yn = (Y - 1e5) / 1e5 #this is in MeV\n",
    "\n",
    "print(Yn.shape)"
   ]
  },
  {
   "cell_type": "code",
   "execution_count": 24,
   "id": "88fd0f06-30d5-4b2c-91f8-3a1bea436e14",
   "metadata": {},
   "outputs": [
    {
     "data": {
      "image/png": "[encoded data removed]",
      "text/plain": [
       "<Figure size 432x288 with 1 Axes>"
      ]
     },
     "metadata": {
      "needs_background": "light"
     },
     "output_type": "display_data"
    }
   ],
   "source": [
    "targetn_bins = (target_bins - 1e2) / 1e2 #because of MeV to GeV as above\n",
    "\n",
    "plt.hist(Yn[:,0], bins=targetn_bins, label='leading', alpha=.65, color='thistle',\n",
    "        edgecolor='black', histtype='stepfilled')\n",
    "plt.hist(Yn[:,1], bins=targetn_bins, label='sub leading', alpha=.65,\n",
    "         color='greenyellow', edgecolor='black', histtype='stepfilled')\n",
    "plt.xlim(np.min(targetn_bins), np.max(targetn_bins))\n",
    "plt.xlabel('Normalized Truth Jet Mass', fontsize=12)\n",
    "plt.legend()\n",
    "plt.tight_layout()\n",
    "# plt.savefig('Plots/Sept22/truthJetMass_normalized.png')\n",
    "plt.show()"
   ]
  },
  {
   "cell_type": "markdown",
   "id": "72760425-c014-45ef-b675-f4819b5c087a",
   "metadata": {},
   "source": [
    "### Inputs"
   ]
  },
  {
   "cell_type": "code",
   "execution_count": 25,
   "id": "9dd07248-068b-42a1-86f6-b71fd1080a75",
   "metadata": {},
   "outputs": [],
   "source": [
    "Xsn[:,0] = (X[:,0] - 100) / 1e2\n",
    "Xsn[:,4] = (X[:,10] - 100) / 1e2"
   ]
  },
  {
   "cell_type": "code",
   "execution_count": 26,
   "id": "c2e5b823-5b1f-457c-91db-9eb9835cfc2e",
   "metadata": {},
   "outputs": [
    {
     "data": {
      "image/png": "[encoded data removed]",
      "text/plain": [
       "<Figure size 432x288 with 1 Axes>"
      ]
     },
     "metadata": {
      "needs_background": "light"
     },
     "output_type": "display_data"
    }
   ],
   "source": [
    "massn_bins = np.linspace(-2,2,100,endpoint=True)\n",
    "\n",
    "plt.hist(Xsn[:,0], bins=massn_bins, label='leading', alpha=.65, color='royalblue',\n",
    "        edgecolor='black', histtype='stepfilled')\n",
    "plt.hist(Xsn[:,4], bins=massn_bins, label='sub leading', alpha=.65,\n",
    "         color='olivedrab', edgecolor='black', histtype='stepfilled')\n",
    "plt.xlim(np.min(massn_bins), np.max(massn_bins))\n",
    "plt.legend()\n",
    "plt.tight_layout()\n",
    "# plt.savefig('Plots/Sept22/JetMass_normalized.png')\n",
    "plt.show()"
   ]
  },
  {
   "cell_type": "code",
   "execution_count": 27,
   "id": "55307ff4-f934-4f40-bbfe-d174584cf126",
   "metadata": {},
   "outputs": [
    {
     "name": "stdout",
     "output_type": "stream",
     "text": [
      "log pt average:   6.2886\n",
      "pt average: 538.3990 [MeV]\n",
      "log pt_std:   0.3984\n"
     ]
    }
   ],
   "source": [
    "pt_av = ( np.mean(np.log(X[:,1])) + np.mean(np.log(X[:,11])) ) /2\n",
    "pt_std = ( np.std(np.log(X[:,1])) + np.std(np.log(X[:,11])) ) /2\n",
    "print('log pt average: {:8.4f}'.format(pt_av))\n",
    "print('pt average: {:8.4f} [MeV]'.format(np.exp(pt_av)))\n",
    "print('log pt_std: {:8.4f}'.format(pt_std))\n",
    "\n",
    "Xsn[:,1] = (np.log(X[:,1]) - pt_av) / pt_std\n",
    "Xsn[:,5] = (np.log(X[:,11]) - pt_av) / pt_std"
   ]
  },
  {
   "cell_type": "code",
   "execution_count": 28,
   "id": "f5ec4c72-6b83-4b7a-a306-777e57e60fdc",
   "metadata": {},
   "outputs": [
    {
     "data": {
      "image/png": "[encoded data removed]",
      "text/plain": [
       "<Figure size 432x288 with 1 Axes>"
      ]
     },
     "metadata": {
      "needs_background": "light"
     },
     "output_type": "display_data"
    }
   ],
   "source": [
    "logPtn_bins = np.linspace(-2.5,3.5,100,endpoint=True)\n",
    "\n",
    "plt.hist(Xsn[:,1], bins=logPtn_bins, label='leading', alpha=.65, color='indigo',\n",
    "        edgecolor='black', histtype='stepfilled')\n",
    "plt.hist(Xsn[:,5], bins=logPtn_bins, label='sub leading', alpha=.65,\n",
    "         color='seagreen', edgecolor='black', histtype='stepfilled')\n",
    "plt.xlim(np.min(logPtn_bins), np.max(logPtn_bins))\n",
    "plt.xlabel('Normalized Jet $p_t$', fontsize=12)\n",
    "plt.legend()\n",
    "plt.tight_layout()\n",
    "# plt.savefig('Plots/Sept22/JetPt_normalized.png')\n",
    "plt.show()"
   ]
  },
  {
   "cell_type": "code",
   "execution_count": 29,
   "id": "7790b5b2-1675-4d5c-a3a6-05681700f57f",
   "metadata": {},
   "outputs": [
    {
     "name": "stdout",
     "output_type": "stream",
     "text": [
      "eta average: -0.0009072141019247392\n",
      "eta_std: 0.8337986058000857\n"
     ]
    }
   ],
   "source": [
    "eta_av = ( np.mean(X[:,2]) + np.mean(X[:,12]) ) /2\n",
    "eta_std = ( np.std(X[:,2]) + np.std(X[:,12]) ) /2\n",
    "print('eta average: {}'.format(eta_av))\n",
    "print('eta_std: {}'.format(eta_std))\n",
    "\n",
    "Xsn[:,2] = X[:,2] / eta_std\n",
    "Xsn[:,6] = X[:,12] / eta_std"
   ]
  },
  {
   "cell_type": "code",
   "execution_count": 30,
   "id": "9ad76f61-3869-4fe4-ba38-8ea70233662f",
   "metadata": {},
   "outputs": [
    {
     "data": {
      "image/png": "[encoded data removed]",
      "text/plain": [
       "<Figure size 432x288 with 1 Axes>"
      ]
     },
     "metadata": {
      "needs_background": "light"
     },
     "output_type": "display_data"
    }
   ],
   "source": [
    "etan_bins = np.linspace(-2.5,2.5,100,endpoint=True)\n",
    "\n",
    "plt.hist(Xsn[:,2], bins=etan_bins, label='leading', alpha=.65, color='darkblue',\n",
    "        edgecolor='black', histtype='stepfilled')\n",
    "plt.hist(Xsn[:,6], bins=etan_bins, label='sub leading', alpha=.65,\n",
    "         color='limegreen', edgecolor='black', histtype='stepfilled')\n",
    "plt.xlim(np.min(etan_bins), np.max(etan_bins))\n",
    "plt.xlabel('Normalized Jet $\\eta$', fontsize=12)\n",
    "plt.legend()\n",
    "plt.tight_layout()\n",
    "# plt.savefig('Plots/Sept22/JetEta_normalized.png')\n",
    "plt.show()"
   ]
  },
  {
   "cell_type": "code",
   "execution_count": 31,
   "id": "33a4e17c-a641-4f2c-a286-3221621768f5",
   "metadata": {},
   "outputs": [],
   "source": [
    "Xsn[:,3] = X[:,3] / 3\n",
    "Xsn[:,7] = X[:,13] / 3"
   ]
  },
  {
   "cell_type": "code",
   "execution_count": 32,
   "id": "bf6a3508-8e69-4989-aa82-54c05cb93818",
   "metadata": {},
   "outputs": [
    {
     "data": {
      "image/png": "[encoded data removed]",
      "text/plain": [
       "<Figure size 432x288 with 1 Axes>"
      ]
     },
     "metadata": {
      "needs_background": "light"
     },
     "output_type": "display_data"
    }
   ],
   "source": [
    "phin_bins = np.linspace(-1.2,1.2,100,endpoint=True)\n",
    "\n",
    "plt.hist(Xsn[:,3], bins=phin_bins, label='leading', alpha=.65, color='darkviolet',\n",
    "        edgecolor='black', histtype='stepfilled')\n",
    "plt.hist(Xsn[:,7], bins=phin_bins, label='sub leading', alpha=.65,\n",
    "         color='darkgreen', edgecolor='black', histtype='stepfilled')\n",
    "plt.xlim(np.min(phin_bins), np.max(phin_bins))\n",
    "plt.xlabel('Normalized Jet $\\eta$', fontsize=12)\n",
    "plt.legend()\n",
    "plt.tight_layout()\n",
    "# plt.savefig('Plots/Sept22/JetEta_normalized.png')\n",
    "plt.show()"
   ]
  },
  {
   "cell_type": "markdown",
   "id": "076d3baa-ffd0-4270-9b9f-91a9c0208111",
   "metadata": {},
   "source": [
    "## Inspect Jet Substructure Variables"
   ]
  },
  {
   "cell_type": "code",
   "execution_count": 33,
   "id": "f98abe3d-926d-46fa-9559-ea64a18e167e",
   "metadata": {},
   "outputs": [
    {
     "name": "stdout",
     "output_type": "stream",
     "text": [
      "[ 0.   2.5  5.   7.5 10.  12.5 15.  17.5 20.  22.5]\n"
     ]
    },
    {
     "data": {
      "image/png": "[encoded data removed]",
      "text/plain": [
       "<Figure size 432x288 with 1 Axes>"
      ]
     },
     "metadata": {
      "needs_background": "light"
     },
     "output_type": "display_data"
    }
   ],
   "source": [
    "constituent_bins = np.arange(0,60,2.5)\n",
    "print(constituent_bins[:10])\n",
    "\n",
    "plt.hist(X[:,4], bins=constituent_bins, color='blue', alpha=.5)\n",
    "plt.hist(X[:,14], bins=constituent_bins, color='red', alpha=.5)\n",
    "plt.title('boostedJets_numConstituents')\n",
    "plt.show()"
   ]
  },
  {
   "cell_type": "code",
   "execution_count": 34,
   "id": "27acbb04-454e-42fd-abd9-96d9e0264bbc",
   "metadata": {},
   "outputs": [
    {
     "data": {
      "image/png": "[encoded data removed]",
      "text/plain": [
       "<Figure size 432x288 with 1 Axes>"
      ]
     },
     "metadata": {
      "needs_background": "light"
     },
     "output_type": "display_data"
    },
    {
     "name": "stdout",
     "output_type": "stream",
     "text": [
      "[-999. -999. -999. -999. -999. -999. -999. -999. -999. -999. -999. -999.\n",
      " -999. -999. -999. -999. -999. -999. -999. -999.]\n"
     ]
    }
   ],
   "source": [
    "plt.hist(X[:,5])\n",
    "plt.title('boostedJets_nChargedParticles')\n",
    "plt.show()\n",
    "\n",
    "print(X[:20,5])"
   ]
  },
  {
   "cell_type": "code",
   "execution_count": 35,
   "id": "f16256d6-d373-4713-b205-d9f1fad6c591",
   "metadata": {},
   "outputs": [
    {
     "data": {
      "image/png": "[encoded data removed]",
      "text/plain": [
       "<Figure size 432x288 with 1 Axes>"
      ]
     },
     "metadata": {
      "needs_background": "light"
     },
     "output_type": "display_data"
    },
    {
     "name": "stdout",
     "output_type": "stream",
     "text": [
      "[-1. -1. -1. -1. -1. -1. -1. -1. -1. -1. -1. -1. -1. -1. -1. -1. -1. -1.\n",
      " -1. -1.]\n"
     ]
    }
   ],
   "source": [
    "plt.hist(X[:,6])\n",
    "plt.title('boostedJets_EMFrac')\n",
    "plt.show()\n",
    "\n",
    "print(X[:20,6])"
   ]
  },
  {
   "cell_type": "code",
   "execution_count": 36,
   "id": "2d5e6522-9f7c-4cda-9a7c-46046384e79f",
   "metadata": {},
   "outputs": [
    {
     "name": "stdout",
     "output_type": "stream",
     "text": [
      "[ 0.   2.5  5.   7.5 10.  12.5 15.  17.5 20.  22.5 25.  27.5 30.  32.5\n",
      " 35.  37.5 40.  42.5 45.  47.5 50.  52.5 55.  57.5]\n"
     ]
    },
    {
     "data": {
      "image/png": "[encoded data removed]",
      "text/plain": [
       "<Figure size 432x288 with 1 Axes>"
      ]
     },
     "metadata": {
      "needs_background": "light"
     },
     "output_type": "display_data"
    },
    {
     "name": "stdout",
     "output_type": "stream",
     "text": [
      "[24. 23. 26. 45. 29. 28. 35. 36. 15. 19. 30. 22. 27. 47. 29. 19. 22. 25.\n",
      " 31. 27.]\n"
     ]
    }
   ],
   "source": [
    "ungtrk_bins=np.arange(0,60,2.5)\n",
    "print(ungtrk_bins)\n",
    "\n",
    "plt.hist(X[:,7], bins=ungtrk_bins, color='blue', alpha=.5)\n",
    "plt.hist(X[:,17], bins=ungtrk_bins, color='red', alpha=.5)\n",
    "plt.title('boostedJets_ungrtrk500')\n",
    "plt.show()\n",
    "\n",
    "print(X[:20,7])"
   ]
  },
  {
   "cell_type": "code",
   "execution_count": 37,
   "id": "22b6ec86-e0da-4575-80e4-39d712f6e2e8",
   "metadata": {},
   "outputs": [
    {
     "name": "stdout",
     "output_type": "stream",
     "text": [
      "[ 0  5 10 15 20 25 30 35 40 45 50 55 60 65]\n"
     ]
    },
    {
     "data": {
      "image/png": "[encoded data removed]",
      "text/plain": [
       "<Figure size 432x288 with 1 Axes>"
      ]
     },
     "metadata": {
      "needs_background": "light"
     },
     "output_type": "display_data"
    },
    {
     "name": "stdout",
     "output_type": "stream",
     "text": [
      "[-999. -999. -999. -999. -999. -999. -999. -999. -999. -999. -999. -999.\n",
      " -999. -999. -999. -999. -999. -999. -999. -999.]\n"
     ]
    }
   ],
   "source": [
    "cluster_bins=np.arange(0,70,5)\n",
    "print(cluster_bins)\n",
    "\n",
    "plt.hist(X[:,8])\n",
    "plt.title('Nclusters')\n",
    "plt.show()\n",
    "\n",
    "print(X[:20,8])"
   ]
  },
  {
   "cell_type": "code",
   "execution_count": 38,
   "id": "94093f99-d719-4fd8-90a0-f93c12fb406d",
   "metadata": {},
   "outputs": [
    {
     "name": "stdout",
     "output_type": "stream",
     "text": [
      "[0.5 1.5 2.5 3.5 4.5 5.5 6.5 7.5 8.5 9.5]\n"
     ]
    },
    {
     "data": {
      "image/png": "[encoded data removed]",
      "text/plain": [
       "<Figure size 432x288 with 1 Axes>"
      ]
     },
     "metadata": {
      "needs_background": "light"
     },
     "output_type": "display_data"
    },
    {
     "name": "stdout",
     "output_type": "stream",
     "text": [
      "[2. 2. 2. 4. 3. 2. 3. 2. 1. 2. 2. 1. 3. 2. 1. 2. 3. 2. 2. 2.]\n"
     ]
    }
   ],
   "source": [
    "subjet_bins=np.arange(.5,10.5,1)\n",
    "print(subjet_bins)\n",
    "\n",
    "plt.hist(X[:,9], bins=subjet_bins, color='blue', alpha=.5)\n",
    "plt.hist(X[:,19], bins=subjet_bins, color='red', alpha=.5)\n",
    "plt.title('boostedJets_NtrimSubjets')\n",
    "plt.show()\n",
    "\n",
    "print(X[:20,9])"
   ]
  },
  {
   "cell_type": "markdown",
   "id": "db5f7e43-c7bb-472d-ba88-5a8225ce5562",
   "metadata": {},
   "source": [
    "# Normalize remainder"
   ]
  },
  {
   "cell_type": "code",
   "execution_count": 39,
   "id": "d73a30a8-ccaf-4422-a3e1-59f7440cd8a7",
   "metadata": {},
   "outputs": [],
   "source": [
    "# Xln = np.empty((X.shape[0], 14))\n",
    "# we want to create shallow copies as to conserve memory and not\n",
    "# have to do normalization calculations twice :)\n",
    "# Xspl1 = Xln[:,:7]\n",
    "# Xspl2 = Xln[:,7:14]\n",
    "\n",
    "#testing shallow copy!\n",
    "# Xln[0,1] = np.pi\n",
    "# Xln[0,8] = np.pi\n",
    "# print(Xspl1.shape)\n",
    "# print(Xspl2.shape)\n",
    "# print(Xspl1[0,1])\n",
    "# print(Xspl2[0,1])"
   ]
  },
  {
   "cell_type": "markdown",
   "id": "4b272078-7870-40ea-b257-da8b1b165caf",
   "metadata": {},
   "source": [
    "### Baseline Values"
   ]
  },
  {
   "cell_type": "code",
   "execution_count": 40,
   "id": "dd739362-81fc-4fbb-b531-f5d4502d701f",
   "metadata": {},
   "outputs": [
    {
     "name": "stdout",
     "output_type": "stream",
     "text": [
      "(94859, 4)\n",
      "(94859, 4)\n"
     ]
    }
   ],
   "source": [
    "Xln = np.empty((X.shape[0], 14))\n",
    "\n",
    "Xln[:,:4] = np.ndarray.copy(Xsn[:,:4])\n",
    "Xln[:,7:11] = np.ndarray.copy(Xsn[:,4:8])\n",
    "print(Xln[:,:4].shape)\n",
    "print(Xln[:,7:11].shape)"
   ]
  },
  {
   "cell_type": "markdown",
   "id": "c41b0dbd-58e2-4010-807d-f1d351e64bf3",
   "metadata": {},
   "source": [
    "### boostedJets_numConstituents (X \\#4,14)"
   ]
  },
  {
   "cell_type": "code",
   "execution_count": 41,
   "id": "bce05dfa-4997-4212-a1a1-f31d627a19e0",
   "metadata": {},
   "outputs": [
    {
     "name": "stdout",
     "output_type": "stream",
     "text": [
      "19\n",
      "\n"
     ]
    },
    {
     "data": {
      "image/png": "[encoded data removed]",
      "text/plain": [
       "<Figure size 432x288 with 1 Axes>"
      ]
     },
     "metadata": {
      "needs_background": "light"
     },
     "output_type": "display_data"
    },
    {
     "name": "stdout",
     "output_type": "stream",
     "text": [
      "[-2.05 -1.95 -1.85 -1.75 -1.65 -1.55 -1.45 -1.35 -1.25 -1.15 -1.05 -0.95\n",
      " -0.85 -0.75 -0.65 -0.55 -0.45 -0.35 -0.25 -0.15 -0.05  0.05  0.15  0.25\n",
      "  0.35  0.45  0.55  0.65  0.75  0.85  0.95  1.05  1.15  1.25  1.35  1.45\n",
      "  1.55  1.65  1.75  1.85  1.95  2.05  2.15  2.25  2.35  2.45  2.55  2.65\n",
      "  2.75  2.85  2.95]\n",
      "[-0.1 -0.2 -1.   1.3  0.9 -0.8  0.7  0.  -1.  -0.2]\n"
     ]
    }
   ],
   "source": [
    "av_nConstituents = int(np.round( np.mean(np.concatenate((X[:,4], X[:,14]), axis=0)) ))\n",
    "print(av_nConstituents);print()\n",
    "\n",
    "Xln[:,4] = (X[:,4] - av_nConstituents) /10\n",
    "Xln[:,11] = (X[:,14] - av_nConstituents) /10\n",
    "\n",
    "bJet_NCBins = np.arange(-2.05,3.05,.1)\n",
    "plt.hist(np.concatenate((Xln[:,4], Xln[:,11]), axis=0), color='maroon',\n",
    "         edgecolor='black', alpha=.65, bins=bJet_NCBins)\n",
    "plt.title('Normalized Jet Constituents')\n",
    "plt.show()\n",
    "\n",
    "print(bJet_NCBins)\n",
    "print(Xln[:10,4])"
   ]
  },
  {
   "cell_type": "markdown",
   "id": "7ed3a1d4-7339-4e53-9dac-58d000f9a5c5",
   "metadata": {},
   "source": [
    "### boostedJets_ungrtrk500 (X \\#7,17)"
   ]
  },
  {
   "cell_type": "code",
   "execution_count": 42,
   "id": "41b70e29-d940-4c00-b76a-d9e65d9e4c47",
   "metadata": {},
   "outputs": [
    {
     "name": "stdout",
     "output_type": "stream",
     "text": [
      "26\n",
      "\n"
     ]
    },
    {
     "data": {
      "image/png": "[encoded data removed]",
      "text/plain": [
       "<Figure size 432x288 with 1 Axes>"
      ]
     },
     "metadata": {
      "needs_background": "light"
     },
     "output_type": "display_data"
    },
    {
     "name": "stdout",
     "output_type": "stream",
     "text": [
      "[-2.05 -1.95 -1.85 -1.75 -1.65 -1.55 -1.45 -1.35 -1.25 -1.15 -1.05 -0.95\n",
      " -0.85 -0.75 -0.65 -0.55 -0.45 -0.35 -0.25 -0.15 -0.05  0.05  0.15  0.25\n",
      "  0.35  0.45  0.55  0.65  0.75  0.85  0.95  1.05  1.15  1.25  1.35  1.45\n",
      "  1.55  1.65  1.75  1.85  1.95  2.05  2.15  2.25  2.35  2.45  2.55  2.65\n",
      "  2.75  2.85  2.95]\n",
      "[-0.2 -0.3  0.   1.9  0.3  0.2  0.9  1.  -1.1 -0.7]\n"
     ]
    }
   ],
   "source": [
    "av_bJet_ungrtrk500 = int(np.round( np.mean( np.concatenate((X[:,7], X[:,17]), axis=0) ) ))\n",
    "print(av_bJet_ungrtrk500);print()\n",
    "\n",
    "Xln[:,5] = (X[:,7] - av_bJet_ungrtrk500) /10\n",
    "Xln[:,12] = (X[:,17] - av_bJet_ungrtrk500) /10\n",
    "\n",
    "bJet_ungrtk_bins = np.arange(-2.05,3.05,.1)\n",
    "plt.hist(np.concatenate((Xln[:,5], Xln[:,12]), axis=0), color='seagreen',\n",
    "         edgecolor='black', alpha=.65, bins=bJet_ungrtk_bins)\n",
    "plt.title('Normalized Jet ungtrk_500')\n",
    "plt.show()\n",
    "\n",
    "print(bJet_ungrtk_bins)\n",
    "print(Xln[:10,5])"
   ]
  },
  {
   "cell_type": "markdown",
   "id": "b32d73fd-4e12-4227-8913-64b1da0d4ae5",
   "metadata": {},
   "source": [
    "### boosted_NTrimSubjets"
   ]
  },
  {
   "cell_type": "code",
   "execution_count": 43,
   "id": "cc45672c-cb53-4ba4-aa3b-b81b46a2d621",
   "metadata": {},
   "outputs": [
    {
     "data": {
      "image/png": "[encoded data removed]",
      "text/plain": [
       "<Figure size 432x288 with 1 Axes>"
      ]
     },
     "metadata": {
      "needs_background": "light"
     },
     "output_type": "display_data"
    },
    {
     "name": "stdout",
     "output_type": "stream",
     "text": [
      "[-2.5 -1.5 -0.5  0.5  1.5  2.5  3.5]\n",
      "[ 0.  0.  0.  2.  1.  0.  1.  0. -1.  0.]\n"
     ]
    }
   ],
   "source": [
    "Xln[:,6] = X[:,9] - 2\n",
    "Xln[:,13] = X[:,19] - 2\n",
    "\n",
    "bJet_NTrimSub_bins = np.arange(-2.5,4.0,1.)\n",
    "plt.hist(np.concatenate((Xln[:,6], Xln[:,13]), axis=0), color='goldenrod',\n",
    "         edgecolor='black', alpha=.65, bins=bJet_NTrimSub_bins)\n",
    "plt.title('Normalized NTrimSubjets')\n",
    "plt.show()\n",
    "\n",
    "print(bJet_NTrimSub_bins)\n",
    "print(Xln[:10,6])"
   ]
  },
  {
   "cell_type": "markdown",
   "id": "aef585fe-5af5-4205-9073-9464412207af",
   "metadata": {},
   "source": [
    "## Split Data"
   ]
  },
  {
   "cell_type": "code",
   "execution_count": 44,
   "id": "f5a35102-f72c-46a8-92a9-4c1cdbab7024",
   "metadata": {},
   "outputs": [
    {
     "name": "stdout",
     "output_type": "stream",
     "text": [
      "(94859, 7)\n",
      "(94859, 7)\n"
     ]
    }
   ],
   "source": [
    "Xspl1 = Xln[:,:7]\n",
    "Xspl2 = Xln[:,7:14]\n",
    "print(Xspl1.shape)\n",
    "print(Xspl2.shape)"
   ]
  },
  {
   "cell_type": "code",
   "execution_count": 45,
   "id": "dd98d34b-e721-4da4-89ee-0e69aa6ff2af",
   "metadata": {},
   "outputs": [
    {
     "data": {
      "image/png": "[encoded data removed]",
      "text/plain": [
       "<Figure size 432x288 with 1 Axes>"
      ]
     },
     "metadata": {
      "needs_background": "light"
     },
     "output_type": "display_data"
    },
    {
     "data": {
      "image/png": "[encoded data removed]",
      "text/plain": [
       "<Figure size 432x288 with 1 Axes>"
      ]
     },
     "metadata": {
      "needs_background": "light"
     },
     "output_type": "display_data"
    },
    {
     "data": {
      "image/png": "[encoded data removed]",
      "text/plain": [
       "<Figure size 432x288 with 1 Axes>"
      ]
     },
     "metadata": {
      "needs_background": "light"
     },
     "output_type": "display_data"
    }
   ],
   "source": [
    "bJet_NCBins = np.arange(-2.05,3.05,.1)\n",
    "plt.hist(np.concatenate((Xspl1[:,4], Xspl2[:,4]), axis=0), color='goldenrod',\n",
    "         edgecolor='black', alpha=.65, bins=bJet_NCBins)\n",
    "plt.title('numConstituents\\n Split and Concatenated')\n",
    "plt.show()\n",
    "\n",
    "## Boosted Jet ungrtrk500\n",
    "bJet_ungrtk_bins = np.arange(-2.05,3.05,.1)\n",
    "plt.hist(np.concatenate((Xspl1[:,5], Xspl2[:,5]), axis=0), color='firebrick',\n",
    "         edgecolor='black', alpha=.65, bins=bJet_ungrtk_bins)\n",
    "plt.title('boostedJet_ungrtrk500\\n Split and Concatenated')\n",
    "plt.show()\n",
    "\n",
    "bJet_NTrimSub_bins = np.arange(-2.5,4.0,1.)\n",
    "plt.hist(np.concatenate((Xspl1[:,6], Xspl2[:,6]), axis=0), color='darkgreen',\n",
    "         edgecolor='black', alpha=.65, bins=bJet_NTrimSub_bins)\n",
    "plt.title('Normalized NTrimSubjets\\n Split and Concatenated')\n",
    "plt.show()"
   ]
  },
  {
   "cell_type": "markdown",
   "id": "1aa920d5-afba-4b80-9b9c-9f548c31e859",
   "metadata": {},
   "source": [
    "## Split Data for Training"
   ]
  },
  {
   "cell_type": "code",
   "execution_count": 46,
   "id": "b0bba658-6cb0-4de9-a8d0-aedc8fa2f037",
   "metadata": {},
   "outputs": [
    {
     "name": "stdout",
     "output_type": "stream",
     "text": [
      "66401 14229 14229\n"
     ]
    }
   ],
   "source": [
    "NTrain, NVal, NTest = tvt_num(Yn, (70,15,15))\n",
    "print(NTrain, NVal, NTest)"
   ]
  },
  {
   "cell_type": "code",
   "execution_count": 47,
   "id": "9c8a9a72-f2dc-4ac8-8bf7-282a46ac7ec4",
   "metadata": {},
   "outputs": [
    {
     "name": "stdout",
     "output_type": "stream",
     "text": [
      " -- Full shapes --\n",
      "\n",
      " -- Target --\n",
      "(94859, 2)\n",
      " -- Small Data --\n",
      "(94859, 8)\n",
      " -- Large Data --\n",
      "(94859, 14)\n",
      " -- Split Data --\n",
      "(94859, 7)\n",
      "(94859, 7)\n",
      "\n",
      " -- Training shapes --\n",
      "\n",
      " -- X small --\n",
      "(66401, 8)\n",
      "(14229, 8)\n",
      "(14229, 8)\n",
      "\n",
      " -- X large --\n",
      "(66401, 14)\n",
      "(14229, 14)\n",
      "(14229, 14)\n",
      "\n",
      " -- X split --\n",
      "(66401, 7)\n",
      "(14229, 7)\n",
      "(14229, 7)\n"
     ]
    }
   ],
   "source": [
    "## full shapes\n",
    "print(' -- Full shapes --'); print()\n",
    "print(' -- Target --')\n",
    "print(Yn.shape)\n",
    "NEvt = Yn.shape[0]\n",
    "print(' -- Small Data --')\n",
    "print(Xsn.shape)\n",
    "print(' -- Large Data --')\n",
    "print(Xln.shape)\n",
    "print(' -- Split Data --')\n",
    "print(Xspl1.shape)\n",
    "print(Xspl2.shape);print()\n",
    "\n",
    "Xsn_tr = Xsn[:NTrain,:]\n",
    "Xsn_val = Xsn[NTrain:NVal+NTrain,:]\n",
    "Xsn_test = Xsn[NVal+NTrain:,:]\n",
    "\n",
    "Xln_tr = Xln[:NTrain,:]\n",
    "Xln_val = Xln[NTrain:NVal+NTrain,:]\n",
    "Xln_test = Xln[NVal+NTrain:,:]\n",
    "\n",
    "Xspl1_tr = Xspl1[:NTrain,:]\n",
    "Xspl1_val = Xspl1[NTrain:NVal+NTrain,:]\n",
    "Xspl1_test = Xspl1[NVal+NTrain:,:]\n",
    "\n",
    "Xspl2_tr = Xspl2[:NTrain,:]\n",
    "Xspl2_val = Xspl2[NTrain:NVal+NTrain,:]\n",
    "Xspl2_test = Xspl2[NVal+NTrain:,:]\n",
    "\n",
    "Yn_tr = Yn[:NTrain,:]\n",
    "Yn_val = Yn[NTrain:NVal+NTrain,:]\n",
    "Yn_test = Yn[NVal+NTrain:,:]\n",
    "\n",
    "print(' -- Training shapes --');print()\n",
    "print(' -- X small --')\n",
    "print(Xsn_tr.shape)\n",
    "print(Xsn_val.shape)\n",
    "print(Xsn_test.shape);print()\n",
    "\n",
    "print(' -- X large --')\n",
    "print(Xln_tr.shape)\n",
    "print(Xln_val.shape)\n",
    "print(Xln_test.shape);print()\n",
    "\n",
    "print(' -- X split --')\n",
    "print(Xspl2_tr.shape)\n",
    "print(Xspl2_val.shape)\n",
    "print(Xspl2_test.shape)"
   ]
  },
  {
   "cell_type": "markdown",
   "id": "54e637b6-ed3c-423f-baa0-996a4edda51c",
   "metadata": {},
   "source": [
    "## Compile Networks"
   ]
  },
  {
   "cell_type": "code",
   "execution_count": 48,
   "id": "5bc09a2b-1155-4a13-a30e-5196c5404d3e",
   "metadata": {
    "scrolled": true,
    "tags": []
   },
   "outputs": [
    {
     "name": "stdout",
     "output_type": "stream",
     "text": [
      "Model: \"baseline_DNN\"\n",
      "_________________________________________________________________\n",
      "Layer (type)                 Output Shape              Param #   \n",
      "=================================================================\n",
      "input (InputLayer)           [(None, 8)]               0         \n",
      "_________________________________________________________________\n",
      "dense_0 (Dense)              (None, 100)               900       \n",
      "_________________________________________________________________\n",
      "activation_0 (Activation)    (None, 100)               0         \n",
      "_________________________________________________________________\n",
      "dense_1 (Dense)              (None, 100)               10100     \n",
      "_________________________________________________________________\n",
      "activation_1 (Activation)    (None, 100)               0         \n",
      "_________________________________________________________________\n",
      "dense_2 (Dense)              (None, 100)               10100     \n",
      "_________________________________________________________________\n",
      "activation_2 (Activation)    (None, 100)               0         \n",
      "_________________________________________________________________\n",
      "output (Dense)               (None, 2)                 202       \n",
      "_________________________________________________________________\n",
      "activation_3 (Activation)    (None, 2)                 0         \n",
      "=================================================================\n",
      "Total params: 21,302\n",
      "Trainable params: 21,302\n",
      "Non-trainable params: 0\n",
      "_________________________________________________________________\n"
     ]
    }
   ],
   "source": [
    "base_model = Dumb_Network(num_features=8, name='baseline_DNN')\n",
    "base_model.compile(loss='mse', optimizer=keras.optimizers.Adam(\n",
    "    learning_rate=.002))\n",
    "base_model.summary()"
   ]
  },
  {
   "cell_type": "code",
   "execution_count": 49,
   "id": "e025dafd-ee9f-4fbb-92f5-e05177450e50",
   "metadata": {},
   "outputs": [
    {
     "name": "stdout",
     "output_type": "stream",
     "text": [
      "Model: \"larger_DNN\"\n",
      "_________________________________________________________________\n",
      "Layer (type)                 Output Shape              Param #   \n",
      "=================================================================\n",
      "input (InputLayer)           [(None, 14)]              0         \n",
      "_________________________________________________________________\n",
      "dense_0 (Dense)              (None, 100)               1500      \n",
      "_________________________________________________________________\n",
      "activation_0 (Activation)    (None, 100)               0         \n",
      "_________________________________________________________________\n",
      "dense_1 (Dense)              (None, 100)               10100     \n",
      "_________________________________________________________________\n",
      "activation_1 (Activation)    (None, 100)               0         \n",
      "_________________________________________________________________\n",
      "dense_2 (Dense)              (None, 100)               10100     \n",
      "_________________________________________________________________\n",
      "activation_2 (Activation)    (None, 100)               0         \n",
      "_________________________________________________________________\n",
      "output (Dense)               (None, 2)                 202       \n",
      "_________________________________________________________________\n",
      "activation_3 (Activation)    (None, 2)                 0         \n",
      "=================================================================\n",
      "Total params: 21,902\n",
      "Trainable params: 21,902\n",
      "Non-trainable params: 0\n",
      "_________________________________________________________________\n"
     ]
    }
   ],
   "source": [
    "large_model = Dumb_Network(num_features=14, name='larger_DNN')\n",
    "large_model.compile(loss='mse', optimizer=keras.optimizers.Adam(\n",
    "    learning_rate=.002))\n",
    "large_model.summary()"
   ]
  },
  {
   "cell_type": "code",
   "execution_count": 50,
   "id": "2bbc150f-ff42-478c-a169-fceca673733e",
   "metadata": {
    "scrolled": true,
    "tags": []
   },
   "outputs": [
    {
     "name": "stdout",
     "output_type": "stream",
     "text": [
      "Model: \"DNN_wDO\"\n",
      "_________________________________________________________________\n",
      "Layer (type)                 Output Shape              Param #   \n",
      "=================================================================\n",
      "input (InputLayer)           [(None, 14)]              0         \n",
      "_________________________________________________________________\n",
      "dense_0 (Dense)              (None, 100)               1500      \n",
      "_________________________________________________________________\n",
      "activation_0 (Activation)    (None, 100)               0         \n",
      "_________________________________________________________________\n",
      "dropout_0 (Dropout)          (None, 100)               0         \n",
      "_________________________________________________________________\n",
      "dense_1 (Dense)              (None, 100)               10100     \n",
      "_________________________________________________________________\n",
      "activation_1 (Activation)    (None, 100)               0         \n",
      "_________________________________________________________________\n",
      "dropout_1 (Dropout)          (None, 100)               0         \n",
      "_________________________________________________________________\n",
      "dense_2 (Dense)              (None, 100)               10100     \n",
      "_________________________________________________________________\n",
      "activation_2 (Activation)    (None, 100)               0         \n",
      "_________________________________________________________________\n",
      "dropout_2 (Dropout)          (None, 100)               0         \n",
      "_________________________________________________________________\n",
      "output (Dense)               (None, 2)                 202       \n",
      "_________________________________________________________________\n",
      "activation_3 (Activation)    (None, 2)                 0         \n",
      "=================================================================\n",
      "Total params: 21,902\n",
      "Trainable params: 21,902\n",
      "Non-trainable params: 0\n",
      "_________________________________________________________________\n"
     ]
    }
   ],
   "source": [
    "dropout_model = DNN_wDropout(num_features=14, name='DNN_wDO')\n",
    "dropout_model.compile(loss='mse', optimizer=keras.optimizers.Adam(\n",
    "    learning_rate=.002))\n",
    "dropout_model.summary()"
   ]
  },
  {
   "cell_type": "code",
   "execution_count": 51,
   "id": "898430d6-fa55-4e30-b265-48340b04d9c9",
   "metadata": {
    "scrolled": true,
    "tags": []
   },
   "outputs": [
    {
     "name": "stdout",
     "output_type": "stream",
     "text": [
      "Model: \"Split_Network\"\n",
      "__________________________________________________________________________________________________\n",
      "Layer (type)                    Output Shape         Param #     Connected to                     \n",
      "==================================================================================================\n",
      "Leading Jet Input (InputLayer)  [(None, 7)]          0                                            \n",
      "__________________________________________________________________________________________________\n",
      "dense_L0 (Dense)                (None, 100)          800         Leading Jet Input[0][0]          \n",
      "__________________________________________________________________________________________________\n",
      "activation_L0 (Activation)      (None, 100)          0           dense_L0[0][0]                   \n",
      "__________________________________________________________________________________________________\n",
      "dense_L1 (Dense)                (None, 100)          10100       activation_L0[0][0]              \n",
      "__________________________________________________________________________________________________\n",
      "activation_L1 (Activation)      (None, 100)          0           dense_L1[0][0]                   \n",
      "__________________________________________________________________________________________________\n",
      "dense_L2 (Dense)                (None, 100)          10100       activation_L1[0][0]              \n",
      "__________________________________________________________________________________________________\n",
      "dense_SL2 (Dense)               (None, 100)          10100       activation_L1[0][0]              \n",
      "__________________________________________________________________________________________________\n",
      "activation_L2 (Activation)      (None, 100)          0           dense_L2[0][0]                   \n",
      "__________________________________________________________________________________________________\n",
      "activation_SL2 (Activation)     (None, 100)          0           dense_SL2[0][0]                  \n",
      "__________________________________________________________________________________________________\n",
      "concatenate (Concatenate)       (None, 200)          0           activation_L2[0][0]              \n",
      "                                                                 activation_SL2[0][0]             \n",
      "__________________________________________________________________________________________________\n",
      "dense_0 (Dense)                 (None, 100)          20100       concatenate[0][0]                \n",
      "__________________________________________________________________________________________________\n",
      "activation_0 (Activation)       (None, 100)          0           dense_0[0][0]                    \n",
      "__________________________________________________________________________________________________\n",
      "dense_1 (Dense)                 (None, 100)          10100       activation_0[0][0]               \n",
      "__________________________________________________________________________________________________\n",
      "activation_1 (Activation)       (None, 100)          0           dense_1[0][0]                    \n",
      "__________________________________________________________________________________________________\n",
      "dense_2 (Dense)                 (None, 100)          10100       activation_1[0][0]               \n",
      "__________________________________________________________________________________________________\n",
      "activation_2 (Activation)       (None, 100)          0           dense_2[0][0]                    \n",
      "__________________________________________________________________________________________________\n",
      "output (Dense)                  (None, 2)            202         activation_2[0][0]               \n",
      "__________________________________________________________________________________________________\n",
      "Subleading Jet Input (InputLaye [(None, 7)]          0                                            \n",
      "__________________________________________________________________________________________________\n",
      "activation_3 (Activation)       (None, 2)            0           output[0][0]                     \n",
      "==================================================================================================\n",
      "Total params: 71,602\n",
      "Trainable params: 71,602\n",
      "Non-trainable params: 0\n",
      "__________________________________________________________________________________________________\n"
     ]
    }
   ],
   "source": [
    "split_model = Split_Network(num_features=14, name='Split_Network')\n",
    "split_model.compile(loss='mse', optimizer=keras.optimizers.Adam(\n",
    "    learning_rate=.002))\n",
    "split_model.summary()"
   ]
  },
  {
   "cell_type": "markdown",
   "id": "8d60d672-3db0-4783-8244-eea6ca6838cc",
   "metadata": {},
   "source": [
    "# Properly Train Network"
   ]
  },
  {
   "cell_type": "code",
   "execution_count": 52,
   "id": "77c7088c-f854-4a11-8a10-7002a68d511d",
   "metadata": {
    "scrolled": true,
    "tags": []
   },
   "outputs": [
    {
     "name": "stderr",
     "output_type": "stream",
     "text": [
      "2022-10-04 06:10:42.028915: I tensorflow/compiler/mlir/mlir_graph_optimization_pass.cc:185] None of the MLIR Optimization Passes are enabled (registered 2)\n"
     ]
    },
    {
     "name": "stdout",
     "output_type": "stream",
     "text": [
      "Epoch 1/100\n",
      "12/12 [==============================] - 1s 19ms/step - loss: 0.0568 - val_loss: 0.0335\n",
      "Epoch 2/100\n",
      "12/12 [==============================] - 0s 7ms/step - loss: 0.0260 - val_loss: 0.0223\n",
      "Epoch 3/100\n",
      "12/12 [==============================] - 0s 7ms/step - loss: 0.0211 - val_loss: 0.0202\n",
      "Epoch 4/100\n",
      "12/12 [==============================] - 0s 7ms/step - loss: 0.0197 - val_loss: 0.0194\n",
      "Epoch 5/100\n",
      "12/12 [==============================] - 0s 7ms/step - loss: 0.0192 - val_loss: 0.0191\n",
      "Epoch 6/100\n",
      "12/12 [==============================] - 0s 7ms/step - loss: 0.0189 - val_loss: 0.0188\n",
      "Epoch 7/100\n",
      "12/12 [==============================] - 0s 7ms/step - loss: 0.0186 - val_loss: 0.0188\n",
      "Epoch 8/100\n",
      "12/12 [==============================] - 0s 7ms/step - loss: 0.0185 - val_loss: 0.0186\n",
      "Epoch 9/100\n",
      "12/12 [==============================] - 0s 7ms/step - loss: 0.0183 - val_loss: 0.0188\n",
      "Epoch 10/100\n",
      "12/12 [==============================] - 0s 7ms/step - loss: 0.0182 - val_loss: 0.0185\n",
      "Epoch 11/100\n",
      "12/12 [==============================] - 0s 7ms/step - loss: 0.0181 - val_loss: 0.0181\n",
      "Epoch 12/100\n",
      "12/12 [==============================] - 0s 7ms/step - loss: 0.0179 - val_loss: 0.0181\n",
      "Epoch 13/100\n",
      "12/12 [==============================] - 0s 7ms/step - loss: 0.0179 - val_loss: 0.0180\n",
      "Epoch 14/100\n",
      "12/12 [==============================] - 0s 7ms/step - loss: 0.0178 - val_loss: 0.0179\n",
      "Epoch 15/100\n",
      "12/12 [==============================] - 0s 7ms/step - loss: 0.0176 - val_loss: 0.0178\n",
      "Epoch 16/100\n",
      "12/12 [==============================] - 0s 7ms/step - loss: 0.0177 - val_loss: 0.0180\n",
      "Epoch 17/100\n",
      "12/12 [==============================] - 0s 7ms/step - loss: 0.0176 - val_loss: 0.0178\n",
      "Epoch 18/100\n",
      "12/12 [==============================] - 0s 7ms/step - loss: 0.0174 - val_loss: 0.0178\n",
      "Epoch 19/100\n",
      "12/12 [==============================] - 0s 7ms/step - loss: 0.0174 - val_loss: 0.0180\n",
      "Epoch 20/100\n",
      "12/12 [==============================] - 0s 7ms/step - loss: 0.0175 - val_loss: 0.0176\n",
      "Epoch 21/100\n",
      "12/12 [==============================] - 0s 7ms/step - loss: 0.0173 - val_loss: 0.0176\n",
      "Epoch 22/100\n",
      "12/12 [==============================] - 0s 7ms/step - loss: 0.0172 - val_loss: 0.0176\n",
      "Epoch 23/100\n",
      "12/12 [==============================] - 0s 7ms/step - loss: 0.0172 - val_loss: 0.0178\n",
      "Epoch 24/100\n",
      "12/12 [==============================] - 0s 7ms/step - loss: 0.0172 - val_loss: 0.0176\n",
      "Epoch 25/100\n",
      "12/12 [==============================] - 0s 7ms/step - loss: 0.0172 - val_loss: 0.0174\n",
      "Epoch 26/100\n",
      "12/12 [==============================] - 0s 7ms/step - loss: 0.0171 - val_loss: 0.0175\n",
      "Epoch 27/100\n",
      "12/12 [==============================] - 0s 7ms/step - loss: 0.0171 - val_loss: 0.0175\n",
      "Epoch 28/100\n",
      "12/12 [==============================] - 0s 7ms/step - loss: 0.0170 - val_loss: 0.0177\n",
      "Epoch 29/100\n",
      "12/12 [==============================] - 0s 7ms/step - loss: 0.0171 - val_loss: 0.0175\n",
      "Epoch 30/100\n",
      "12/12 [==============================] - 0s 7ms/step - loss: 0.0171 - val_loss: 0.0176\n",
      "Epoch 31/100\n",
      "12/12 [==============================] - 0s 7ms/step - loss: 0.0171 - val_loss: 0.0177\n",
      "Epoch 32/100\n",
      "12/12 [==============================] - 0s 7ms/step - loss: 0.0171 - val_loss: 0.0174\n",
      "Epoch 33/100\n",
      "12/12 [==============================] - 0s 7ms/step - loss: 0.0170 - val_loss: 0.0174\n",
      "Epoch 34/100\n",
      "12/12 [==============================] - 0s 7ms/step - loss: 0.0169 - val_loss: 0.0177\n",
      "Epoch 35/100\n",
      "12/12 [==============================] - 0s 7ms/step - loss: 0.0170 - val_loss: 0.0174\n",
      "Epoch 36/100\n",
      "12/12 [==============================] - 0s 7ms/step - loss: 0.0170 - val_loss: 0.0173\n",
      "Epoch 37/100\n",
      "12/12 [==============================] - 0s 7ms/step - loss: 0.0169 - val_loss: 0.0174\n",
      "Epoch 38/100\n",
      "12/12 [==============================] - 0s 7ms/step - loss: 0.0168 - val_loss: 0.0174\n",
      "Epoch 39/100\n",
      "12/12 [==============================] - 0s 7ms/step - loss: 0.0168 - val_loss: 0.0174\n",
      "Epoch 40/100\n",
      "12/12 [==============================] - 0s 7ms/step - loss: 0.0169 - val_loss: 0.0172\n",
      "Epoch 41/100\n",
      "12/12 [==============================] - 0s 7ms/step - loss: 0.0168 - val_loss: 0.0173\n",
      "Epoch 42/100\n",
      "12/12 [==============================] - 0s 7ms/step - loss: 0.0168 - val_loss: 0.0175\n",
      "Epoch 43/100\n",
      "12/12 [==============================] - 0s 7ms/step - loss: 0.0169 - val_loss: 0.0173\n",
      "Epoch 44/100\n",
      "12/12 [==============================] - 0s 7ms/step - loss: 0.0167 - val_loss: 0.0174\n",
      "Epoch 45/100\n",
      "12/12 [==============================] - 0s 7ms/step - loss: 0.0168 - val_loss: 0.0174\n",
      "Epoch 46/100\n",
      "12/12 [==============================] - 0s 7ms/step - loss: 0.0168 - val_loss: 0.0173\n",
      "Epoch 47/100\n",
      "12/12 [==============================] - 0s 6ms/step - loss: 0.0168 - val_loss: 0.0175\n",
      "Epoch 48/100\n",
      "12/12 [==============================] - 0s 7ms/step - loss: 0.0169 - val_loss: 0.0176\n",
      "Epoch 49/100\n",
      "12/12 [==============================] - 0s 6ms/step - loss: 0.0168 - val_loss: 0.0172\n",
      "Epoch 50/100\n",
      "12/12 [==============================] - 0s 7ms/step - loss: 0.0167 - val_loss: 0.0173\n",
      "Epoch 51/100\n",
      "12/12 [==============================] - 0s 6ms/step - loss: 0.0167 - val_loss: 0.0174\n",
      "Epoch 52/100\n",
      "12/12 [==============================] - 0s 7ms/step - loss: 0.0167 - val_loss: 0.0175\n",
      "Epoch 53/100\n",
      "12/12 [==============================] - 0s 7ms/step - loss: 0.0167 - val_loss: 0.0175\n",
      "Epoch 54/100\n",
      "12/12 [==============================] - 0s 7ms/step - loss: 0.0168 - val_loss: 0.0173\n",
      "Epoch 55/100\n",
      "12/12 [==============================] - 0s 7ms/step - loss: 0.0166 - val_loss: 0.0173\n",
      "Epoch 56/100\n",
      "12/12 [==============================] - 0s 7ms/step - loss: 0.0166 - val_loss: 0.0174\n",
      "Epoch 57/100\n",
      "12/12 [==============================] - 0s 7ms/step - loss: 0.0166 - val_loss: 0.0177\n",
      "Epoch 58/100\n",
      "12/12 [==============================] - 0s 7ms/step - loss: 0.0167 - val_loss: 0.0173\n",
      "Epoch 59/100\n",
      "12/12 [==============================] - 0s 6ms/step - loss: 0.0166 - val_loss: 0.0174\n",
      "Epoch 60/100\n",
      "12/12 [==============================] - 0s 7ms/step - loss: 0.0166 - val_loss: 0.0174\n",
      "Epoch 61/100\n",
      "12/12 [==============================] - 0s 6ms/step - loss: 0.0166 - val_loss: 0.0173\n",
      "Epoch 62/100\n",
      "12/12 [==============================] - 0s 7ms/step - loss: 0.0165 - val_loss: 0.0173\n",
      "Epoch 63/100\n",
      "12/12 [==============================] - 0s 7ms/step - loss: 0.0165 - val_loss: 0.0172\n",
      "Epoch 64/100\n",
      "12/12 [==============================] - 0s 7ms/step - loss: 0.0165 - val_loss: 0.0172\n",
      "Epoch 65/100\n",
      "12/12 [==============================] - 0s 7ms/step - loss: 0.0166 - val_loss: 0.0174\n",
      "Epoch 66/100\n",
      "12/12 [==============================] - 0s 7ms/step - loss: 0.0166 - val_loss: 0.0173\n",
      "Epoch 67/100\n",
      "12/12 [==============================] - 0s 7ms/step - loss: 0.0167 - val_loss: 0.0173\n",
      "Epoch 68/100\n",
      "12/12 [==============================] - 0s 7ms/step - loss: 0.0165 - val_loss: 0.0173\n",
      "Epoch 69/100\n",
      "12/12 [==============================] - 0s 7ms/step - loss: 0.0165 - val_loss: 0.0173\n",
      "Epoch 70/100\n",
      "12/12 [==============================] - 0s 7ms/step - loss: 0.0165 - val_loss: 0.0173\n",
      "Epoch 71/100\n",
      "12/12 [==============================] - 0s 9ms/step - loss: 0.0165 - val_loss: 0.0173\n",
      "Epoch 72/100\n",
      "12/12 [==============================] - 0s 7ms/step - loss: 0.0165 - val_loss: 0.0174\n",
      "Epoch 73/100\n",
      "12/12 [==============================] - 0s 7ms/step - loss: 0.0165 - val_loss: 0.0175\n",
      "Epoch 74/100\n",
      "12/12 [==============================] - 0s 7ms/step - loss: 0.0165 - val_loss: 0.0172\n",
      "Epoch 75/100\n",
      "12/12 [==============================] - 0s 7ms/step - loss: 0.0164 - val_loss: 0.0173\n",
      "Epoch 76/100\n",
      "12/12 [==============================] - 0s 7ms/step - loss: 0.0165 - val_loss: 0.0175\n",
      "Epoch 77/100\n",
      "12/12 [==============================] - 0s 7ms/step - loss: 0.0165 - val_loss: 0.0172\n",
      "Epoch 78/100\n",
      "12/12 [==============================] - 0s 7ms/step - loss: 0.0164 - val_loss: 0.0172\n",
      "Epoch 79/100\n",
      "12/12 [==============================] - 0s 7ms/step - loss: 0.0164 - val_loss: 0.0171\n",
      "Epoch 80/100\n",
      "12/12 [==============================] - 0s 7ms/step - loss: 0.0163 - val_loss: 0.0172\n",
      "Epoch 81/100\n",
      "12/12 [==============================] - 0s 7ms/step - loss: 0.0163 - val_loss: 0.0173\n",
      "Epoch 82/100\n",
      "12/12 [==============================] - 0s 7ms/step - loss: 0.0163 - val_loss: 0.0172\n",
      "Epoch 83/100\n",
      "12/12 [==============================] - 0s 7ms/step - loss: 0.0163 - val_loss: 0.0175\n",
      "Epoch 84/100\n",
      "12/12 [==============================] - 0s 7ms/step - loss: 0.0164 - val_loss: 0.0173\n",
      "Epoch 85/100\n",
      "12/12 [==============================] - 0s 7ms/step - loss: 0.0163 - val_loss: 0.0174\n",
      "Epoch 86/100\n",
      "12/12 [==============================] - 0s 7ms/step - loss: 0.0164 - val_loss: 0.0172\n",
      "Epoch 87/100\n",
      "12/12 [==============================] - 0s 7ms/step - loss: 0.0163 - val_loss: 0.0174\n",
      "Epoch 88/100\n",
      "12/12 [==============================] - 0s 7ms/step - loss: 0.0164 - val_loss: 0.0173\n",
      "Epoch 89/100\n",
      "12/12 [==============================] - 0s 7ms/step - loss: 0.0163 - val_loss: 0.0175\n",
      "Epoch 90/100\n",
      "12/12 [==============================] - 0s 7ms/step - loss: 0.0163 - val_loss: 0.0173\n",
      "Epoch 91/100\n",
      "12/12 [==============================] - 0s 7ms/step - loss: 0.0164 - val_loss: 0.0174\n",
      "Epoch 92/100\n",
      "12/12 [==============================] - 0s 7ms/step - loss: 0.0165 - val_loss: 0.0173\n",
      "Epoch 93/100\n",
      "12/12 [==============================] - 0s 7ms/step - loss: 0.0163 - val_loss: 0.0173\n",
      "Epoch 94/100\n",
      "12/12 [==============================] - 0s 7ms/step - loss: 0.0163 - val_loss: 0.0175\n",
      "Epoch 95/100\n",
      "12/12 [==============================] - 0s 7ms/step - loss: 0.0163 - val_loss: 0.0174\n",
      "Epoch 96/100\n",
      "12/12 [==============================] - 0s 7ms/step - loss: 0.0163 - val_loss: 0.0174\n",
      "Epoch 97/100\n",
      "12/12 [==============================] - 0s 8ms/step - loss: 0.0162 - val_loss: 0.0174\n",
      "Epoch 98/100\n",
      "12/12 [==============================] - 0s 7ms/step - loss: 0.0162 - val_loss: 0.0173\n",
      "Epoch 99/100\n",
      "12/12 [==============================] - 0s 7ms/step - loss: 0.0162 - val_loss: 0.0173\n",
      "Epoch 100/100\n",
      "12/12 [==============================] - 0s 7ms/step - loss: 0.0162 - val_loss: 0.0173\n"
     ]
    }
   ],
   "source": [
    "dnn_history = base_model.fit(\n",
    "                Xsn_tr,\n",
    "                Yn_tr,\n",
    "                validation_data=(Xsn_val, Yn_val),\n",
    "                shuffle=True,\n",
    "                epochs=100,\n",
    "                batch_size=6000)"
   ]
  },
  {
   "cell_type": "code",
   "execution_count": 53,
   "id": "4b8a1e47-9094-49f8-a09f-0614c6c6cfa2",
   "metadata": {
    "scrolled": true,
    "tags": []
   },
   "outputs": [
    {
     "name": "stdout",
     "output_type": "stream",
     "text": [
      "Epoch 1/100\n",
      "12/12 [==============================] - 1s 17ms/step - loss: 0.0603 - val_loss: 0.0435\n",
      "Epoch 2/100\n",
      "12/12 [==============================] - 0s 7ms/step - loss: 0.0347 - val_loss: 0.0264\n",
      "Epoch 3/100\n",
      "12/12 [==============================] - 0s 7ms/step - loss: 0.0237 - val_loss: 0.0215\n",
      "Epoch 4/100\n",
      "12/12 [==============================] - 0s 7ms/step - loss: 0.0209 - val_loss: 0.0201\n",
      "Epoch 5/100\n",
      "12/12 [==============================] - 0s 7ms/step - loss: 0.0197 - val_loss: 0.0194\n",
      "Epoch 6/100\n",
      "12/12 [==============================] - 0s 7ms/step - loss: 0.0190 - val_loss: 0.0190\n",
      "Epoch 7/100\n",
      "12/12 [==============================] - 0s 7ms/step - loss: 0.0186 - val_loss: 0.0189\n",
      "Epoch 8/100\n",
      "12/12 [==============================] - 0s 7ms/step - loss: 0.0184 - val_loss: 0.0190\n",
      "Epoch 9/100\n",
      "12/12 [==============================] - 0s 7ms/step - loss: 0.0184 - val_loss: 0.0184\n",
      "Epoch 10/100\n",
      "12/12 [==============================] - 0s 7ms/step - loss: 0.0182 - val_loss: 0.0188\n",
      "Epoch 11/100\n",
      "12/12 [==============================] - 0s 7ms/step - loss: 0.0179 - val_loss: 0.0181\n",
      "Epoch 12/100\n",
      "12/12 [==============================] - 0s 7ms/step - loss: 0.0177 - val_loss: 0.0179\n",
      "Epoch 13/100\n",
      "12/12 [==============================] - 0s 7ms/step - loss: 0.0175 - val_loss: 0.0178\n",
      "Epoch 14/100\n",
      "12/12 [==============================] - 0s 7ms/step - loss: 0.0174 - val_loss: 0.0177\n",
      "Epoch 15/100\n",
      "12/12 [==============================] - 0s 7ms/step - loss: 0.0173 - val_loss: 0.0176\n",
      "Epoch 16/100\n",
      "12/12 [==============================] - 0s 7ms/step - loss: 0.0172 - val_loss: 0.0179\n",
      "Epoch 17/100\n",
      "12/12 [==============================] - 0s 7ms/step - loss: 0.0172 - val_loss: 0.0177\n",
      "Epoch 18/100\n",
      "12/12 [==============================] - 0s 7ms/step - loss: 0.0171 - val_loss: 0.0175\n",
      "Epoch 19/100\n",
      "12/12 [==============================] - 0s 7ms/step - loss: 0.0170 - val_loss: 0.0175\n",
      "Epoch 20/100\n",
      "12/12 [==============================] - 0s 7ms/step - loss: 0.0169 - val_loss: 0.0176\n",
      "Epoch 21/100\n",
      "12/12 [==============================] - 0s 7ms/step - loss: 0.0169 - val_loss: 0.0174\n",
      "Epoch 22/100\n",
      "12/12 [==============================] - 0s 7ms/step - loss: 0.0167 - val_loss: 0.0177\n",
      "Epoch 23/100\n",
      "12/12 [==============================] - 0s 7ms/step - loss: 0.0169 - val_loss: 0.0174\n",
      "Epoch 24/100\n",
      "12/12 [==============================] - 0s 7ms/step - loss: 0.0166 - val_loss: 0.0173\n",
      "Epoch 25/100\n",
      "12/12 [==============================] - 0s 7ms/step - loss: 0.0167 - val_loss: 0.0174\n",
      "Epoch 26/100\n",
      "12/12 [==============================] - 0s 7ms/step - loss: 0.0167 - val_loss: 0.0173\n",
      "Epoch 27/100\n",
      "12/12 [==============================] - 0s 7ms/step - loss: 0.0166 - val_loss: 0.0173\n",
      "Epoch 28/100\n",
      "12/12 [==============================] - 0s 7ms/step - loss: 0.0165 - val_loss: 0.0171\n",
      "Epoch 29/100\n",
      "12/12 [==============================] - 0s 7ms/step - loss: 0.0165 - val_loss: 0.0171\n",
      "Epoch 30/100\n",
      "12/12 [==============================] - 0s 7ms/step - loss: 0.0164 - val_loss: 0.0171\n",
      "Epoch 31/100\n",
      "12/12 [==============================] - 0s 8ms/step - loss: 0.0164 - val_loss: 0.0170\n",
      "Epoch 32/100\n",
      "12/12 [==============================] - 0s 7ms/step - loss: 0.0163 - val_loss: 0.0170\n",
      "Epoch 33/100\n",
      "12/12 [==============================] - 0s 7ms/step - loss: 0.0163 - val_loss: 0.0170\n",
      "Epoch 34/100\n",
      "12/12 [==============================] - 0s 7ms/step - loss: 0.0162 - val_loss: 0.0171\n",
      "Epoch 35/100\n",
      "12/12 [==============================] - 0s 7ms/step - loss: 0.0162 - val_loss: 0.0170\n",
      "Epoch 36/100\n",
      "12/12 [==============================] - 0s 7ms/step - loss: 0.0162 - val_loss: 0.0172\n",
      "Epoch 37/100\n",
      "12/12 [==============================] - 0s 7ms/step - loss: 0.0163 - val_loss: 0.0172\n",
      "Epoch 38/100\n",
      "12/12 [==============================] - 0s 7ms/step - loss: 0.0162 - val_loss: 0.0170\n",
      "Epoch 39/100\n",
      "12/12 [==============================] - 0s 7ms/step - loss: 0.0162 - val_loss: 0.0176\n",
      "Epoch 40/100\n",
      "12/12 [==============================] - 0s 7ms/step - loss: 0.0165 - val_loss: 0.0172\n",
      "Epoch 41/100\n",
      "12/12 [==============================] - 0s 7ms/step - loss: 0.0163 - val_loss: 0.0171\n",
      "Epoch 42/100\n",
      "12/12 [==============================] - 0s 7ms/step - loss: 0.0162 - val_loss: 0.0169\n",
      "Epoch 43/100\n",
      "12/12 [==============================] - 0s 7ms/step - loss: 0.0160 - val_loss: 0.0169\n",
      "Epoch 44/100\n",
      "12/12 [==============================] - 0s 8ms/step - loss: 0.0160 - val_loss: 0.0170\n",
      "Epoch 45/100\n",
      "12/12 [==============================] - 0s 8ms/step - loss: 0.0160 - val_loss: 0.0169\n",
      "Epoch 46/100\n",
      "12/12 [==============================] - 0s 8ms/step - loss: 0.0159 - val_loss: 0.0170\n",
      "Epoch 47/100\n",
      "12/12 [==============================] - 0s 8ms/step - loss: 0.0159 - val_loss: 0.0169\n",
      "Epoch 48/100\n",
      "12/12 [==============================] - 0s 8ms/step - loss: 0.0159 - val_loss: 0.0171\n",
      "Epoch 49/100\n",
      "12/12 [==============================] - 0s 7ms/step - loss: 0.0159 - val_loss: 0.0169\n",
      "Epoch 50/100\n",
      "12/12 [==============================] - 0s 7ms/step - loss: 0.0158 - val_loss: 0.0170\n",
      "Epoch 51/100\n",
      "12/12 [==============================] - 0s 7ms/step - loss: 0.0158 - val_loss: 0.0168\n",
      "Epoch 52/100\n",
      "12/12 [==============================] - 0s 7ms/step - loss: 0.0158 - val_loss: 0.0169\n",
      "Epoch 53/100\n",
      "12/12 [==============================] - 0s 7ms/step - loss: 0.0158 - val_loss: 0.0169\n",
      "Epoch 54/100\n",
      "12/12 [==============================] - 0s 7ms/step - loss: 0.0158 - val_loss: 0.0169\n",
      "Epoch 55/100\n",
      "12/12 [==============================] - 0s 7ms/step - loss: 0.0158 - val_loss: 0.0170\n",
      "Epoch 56/100\n",
      "12/12 [==============================] - 0s 7ms/step - loss: 0.0158 - val_loss: 0.0169\n",
      "Epoch 57/100\n",
      "12/12 [==============================] - 0s 7ms/step - loss: 0.0157 - val_loss: 0.0169\n",
      "Epoch 58/100\n",
      "12/12 [==============================] - 0s 7ms/step - loss: 0.0157 - val_loss: 0.0169\n",
      "Epoch 59/100\n",
      "12/12 [==============================] - 0s 7ms/step - loss: 0.0157 - val_loss: 0.0169\n",
      "Epoch 60/100\n",
      "12/12 [==============================] - 0s 7ms/step - loss: 0.0157 - val_loss: 0.0169\n",
      "Epoch 61/100\n",
      "12/12 [==============================] - 0s 7ms/step - loss: 0.0156 - val_loss: 0.0169\n",
      "Epoch 62/100\n",
      "12/12 [==============================] - 0s 7ms/step - loss: 0.0156 - val_loss: 0.0169\n",
      "Epoch 63/100\n",
      "12/12 [==============================] - 0s 7ms/step - loss: 0.0156 - val_loss: 0.0170\n",
      "Epoch 64/100\n",
      "12/12 [==============================] - 0s 7ms/step - loss: 0.0157 - val_loss: 0.0170\n",
      "Epoch 65/100\n",
      "12/12 [==============================] - 0s 7ms/step - loss: 0.0155 - val_loss: 0.0169\n",
      "Epoch 66/100\n",
      "12/12 [==============================] - 0s 7ms/step - loss: 0.0155 - val_loss: 0.0169\n",
      "Epoch 67/100\n",
      "12/12 [==============================] - 0s 7ms/step - loss: 0.0155 - val_loss: 0.0169\n",
      "Epoch 68/100\n",
      "12/12 [==============================] - 0s 7ms/step - loss: 0.0155 - val_loss: 0.0170\n",
      "Epoch 69/100\n",
      "12/12 [==============================] - 0s 7ms/step - loss: 0.0155 - val_loss: 0.0170\n",
      "Epoch 70/100\n",
      "12/12 [==============================] - 0s 7ms/step - loss: 0.0155 - val_loss: 0.0169\n",
      "Epoch 71/100\n",
      "12/12 [==============================] - 0s 7ms/step - loss: 0.0155 - val_loss: 0.0170\n",
      "Epoch 72/100\n",
      "12/12 [==============================] - 0s 7ms/step - loss: 0.0155 - val_loss: 0.0172\n",
      "Epoch 73/100\n",
      "12/12 [==============================] - 0s 7ms/step - loss: 0.0155 - val_loss: 0.0170\n",
      "Epoch 74/100\n",
      "12/12 [==============================] - 0s 7ms/step - loss: 0.0155 - val_loss: 0.0171\n",
      "Epoch 75/100\n",
      "12/12 [==============================] - 0s 7ms/step - loss: 0.0155 - val_loss: 0.0171\n",
      "Epoch 76/100\n",
      "12/12 [==============================] - 0s 7ms/step - loss: 0.0155 - val_loss: 0.0170\n",
      "Epoch 77/100\n",
      "12/12 [==============================] - 0s 7ms/step - loss: 0.0154 - val_loss: 0.0171\n",
      "Epoch 78/100\n",
      "12/12 [==============================] - 0s 7ms/step - loss: 0.0154 - val_loss: 0.0172\n",
      "Epoch 79/100\n",
      "12/12 [==============================] - 0s 7ms/step - loss: 0.0153 - val_loss: 0.0171\n",
      "Epoch 80/100\n",
      "12/12 [==============================] - 0s 7ms/step - loss: 0.0155 - val_loss: 0.0169\n",
      "Epoch 81/100\n",
      "12/12 [==============================] - 0s 7ms/step - loss: 0.0153 - val_loss: 0.0169\n",
      "Epoch 82/100\n",
      "12/12 [==============================] - 0s 7ms/step - loss: 0.0152 - val_loss: 0.0170\n",
      "Epoch 83/100\n",
      "12/12 [==============================] - 0s 7ms/step - loss: 0.0152 - val_loss: 0.0170\n",
      "Epoch 84/100\n",
      "12/12 [==============================] - 0s 7ms/step - loss: 0.0152 - val_loss: 0.0171\n",
      "Epoch 85/100\n",
      "12/12 [==============================] - 0s 7ms/step - loss: 0.0153 - val_loss: 0.0170\n",
      "Epoch 86/100\n",
      "12/12 [==============================] - 0s 7ms/step - loss: 0.0153 - val_loss: 0.0172\n",
      "Epoch 87/100\n",
      "12/12 [==============================] - 0s 7ms/step - loss: 0.0153 - val_loss: 0.0172\n",
      "Epoch 88/100\n",
      "12/12 [==============================] - 0s 7ms/step - loss: 0.0153 - val_loss: 0.0172\n",
      "Epoch 89/100\n",
      "12/12 [==============================] - 0s 7ms/step - loss: 0.0153 - val_loss: 0.0170\n",
      "Epoch 90/100\n",
      "12/12 [==============================] - 0s 7ms/step - loss: 0.0151 - val_loss: 0.0170\n",
      "Epoch 91/100\n",
      "12/12 [==============================] - 0s 7ms/step - loss: 0.0151 - val_loss: 0.0170\n",
      "Epoch 92/100\n",
      "12/12 [==============================] - 0s 7ms/step - loss: 0.0151 - val_loss: 0.0170\n",
      "Epoch 93/100\n",
      "12/12 [==============================] - 0s 7ms/step - loss: 0.0151 - val_loss: 0.0173\n",
      "Epoch 94/100\n",
      "12/12 [==============================] - 0s 7ms/step - loss: 0.0151 - val_loss: 0.0170\n",
      "Epoch 95/100\n",
      "12/12 [==============================] - 0s 7ms/step - loss: 0.0150 - val_loss: 0.0170\n",
      "Epoch 96/100\n",
      "12/12 [==============================] - 0s 7ms/step - loss: 0.0150 - val_loss: 0.0170\n",
      "Epoch 97/100\n",
      "12/12 [==============================] - 0s 8ms/step - loss: 0.0150 - val_loss: 0.0171\n",
      "Epoch 98/100\n",
      "12/12 [==============================] - 0s 7ms/step - loss: 0.0150 - val_loss: 0.0178\n",
      "Epoch 99/100\n",
      "12/12 [==============================] - 0s 7ms/step - loss: 0.0153 - val_loss: 0.0171\n",
      "Epoch 100/100\n",
      "12/12 [==============================] - 0s 8ms/step - loss: 0.0150 - val_loss: 0.0171\n"
     ]
    }
   ],
   "source": [
    "Ldnn_history = large_model.fit(\n",
    "                Xln_tr,\n",
    "                Yn_tr,\n",
    "                validation_data=(Xln_val, Yn_val),\n",
    "                shuffle=True,\n",
    "                epochs=100,\n",
    "                batch_size=6000)"
   ]
  },
  {
   "cell_type": "code",
   "execution_count": 54,
   "id": "f3c94238-11ac-4ced-8c41-813b9ac9107d",
   "metadata": {
    "scrolled": true,
    "tags": []
   },
   "outputs": [
    {
     "name": "stdout",
     "output_type": "stream",
     "text": [
      "Epoch 1/100\n",
      "12/12 [==============================] - 1s 18ms/step - loss: 0.0741 - val_loss: 0.0489\n",
      "Epoch 2/100\n",
      "12/12 [==============================] - 0s 8ms/step - loss: 0.0475 - val_loss: 0.0332\n",
      "Epoch 3/100\n",
      "12/12 [==============================] - 0s 7ms/step - loss: 0.0356 - val_loss: 0.0248\n",
      "Epoch 4/100\n",
      "12/12 [==============================] - 0s 8ms/step - loss: 0.0290 - val_loss: 0.0221\n",
      "Epoch 5/100\n",
      "12/12 [==============================] - 0s 8ms/step - loss: 0.0261 - val_loss: 0.0207\n",
      "Epoch 6/100\n",
      "12/12 [==============================] - 0s 7ms/step - loss: 0.0243 - val_loss: 0.0196\n",
      "Epoch 7/100\n",
      "12/12 [==============================] - 0s 7ms/step - loss: 0.0234 - val_loss: 0.0191\n",
      "Epoch 8/100\n",
      "12/12 [==============================] - 0s 7ms/step - loss: 0.0225 - val_loss: 0.0190\n",
      "Epoch 9/100\n",
      "12/12 [==============================] - 0s 7ms/step - loss: 0.0218 - val_loss: 0.0184\n",
      "Epoch 10/100\n",
      "12/12 [==============================] - 0s 7ms/step - loss: 0.0213 - val_loss: 0.0179\n",
      "Epoch 11/100\n",
      "12/12 [==============================] - 0s 7ms/step - loss: 0.0208 - val_loss: 0.0179\n",
      "Epoch 12/100\n",
      "12/12 [==============================] - 0s 7ms/step - loss: 0.0203 - val_loss: 0.0176\n",
      "Epoch 13/100\n",
      "12/12 [==============================] - 0s 7ms/step - loss: 0.0203 - val_loss: 0.0177\n",
      "Epoch 14/100\n",
      "12/12 [==============================] - 0s 7ms/step - loss: 0.0199 - val_loss: 0.0175\n",
      "Epoch 15/100\n",
      "12/12 [==============================] - 0s 7ms/step - loss: 0.0195 - val_loss: 0.0175\n",
      "Epoch 16/100\n",
      "12/12 [==============================] - 0s 7ms/step - loss: 0.0194 - val_loss: 0.0174\n",
      "Epoch 17/100\n",
      "12/12 [==============================] - 0s 7ms/step - loss: 0.0192 - val_loss: 0.0172\n",
      "Epoch 18/100\n",
      "12/12 [==============================] - 0s 7ms/step - loss: 0.0191 - val_loss: 0.0172\n",
      "Epoch 19/100\n",
      "12/12 [==============================] - 0s 7ms/step - loss: 0.0189 - val_loss: 0.0173\n",
      "Epoch 20/100\n",
      "12/12 [==============================] - 0s 7ms/step - loss: 0.0189 - val_loss: 0.0173\n",
      "Epoch 21/100\n",
      "12/12 [==============================] - 0s 7ms/step - loss: 0.0187 - val_loss: 0.0173\n",
      "Epoch 22/100\n",
      "12/12 [==============================] - 0s 7ms/step - loss: 0.0187 - val_loss: 0.0171\n",
      "Epoch 23/100\n",
      "12/12 [==============================] - 0s 7ms/step - loss: 0.0185 - val_loss: 0.0172\n",
      "Epoch 24/100\n",
      "12/12 [==============================] - 0s 7ms/step - loss: 0.0185 - val_loss: 0.0170\n",
      "Epoch 25/100\n",
      "12/12 [==============================] - 0s 7ms/step - loss: 0.0184 - val_loss: 0.0172\n",
      "Epoch 26/100\n",
      "12/12 [==============================] - 0s 7ms/step - loss: 0.0184 - val_loss: 0.0169\n",
      "Epoch 27/100\n",
      "12/12 [==============================] - 0s 7ms/step - loss: 0.0183 - val_loss: 0.0169\n",
      "Epoch 28/100\n",
      "12/12 [==============================] - 0s 8ms/step - loss: 0.0183 - val_loss: 0.0170\n",
      "Epoch 29/100\n",
      "12/12 [==============================] - 0s 7ms/step - loss: 0.0181 - val_loss: 0.0169\n",
      "Epoch 30/100\n",
      "12/12 [==============================] - 0s 7ms/step - loss: 0.0182 - val_loss: 0.0170\n",
      "Epoch 31/100\n",
      "12/12 [==============================] - 0s 7ms/step - loss: 0.0182 - val_loss: 0.0168\n",
      "Epoch 32/100\n",
      "12/12 [==============================] - 0s 7ms/step - loss: 0.0180 - val_loss: 0.0168\n",
      "Epoch 33/100\n",
      "12/12 [==============================] - 0s 7ms/step - loss: 0.0180 - val_loss: 0.0170\n",
      "Epoch 34/100\n",
      "12/12 [==============================] - 0s 7ms/step - loss: 0.0180 - val_loss: 0.0169\n",
      "Epoch 35/100\n",
      "12/12 [==============================] - 0s 7ms/step - loss: 0.0179 - val_loss: 0.0167\n",
      "Epoch 36/100\n",
      "12/12 [==============================] - 0s 7ms/step - loss: 0.0179 - val_loss: 0.0168\n",
      "Epoch 37/100\n",
      "12/12 [==============================] - 0s 7ms/step - loss: 0.0178 - val_loss: 0.0173\n",
      "Epoch 38/100\n",
      "12/12 [==============================] - 0s 7ms/step - loss: 0.0181 - val_loss: 0.0171\n",
      "Epoch 39/100\n",
      "12/12 [==============================] - 0s 7ms/step - loss: 0.0179 - val_loss: 0.0169\n",
      "Epoch 40/100\n",
      "12/12 [==============================] - 0s 7ms/step - loss: 0.0178 - val_loss: 0.0169\n",
      "Epoch 41/100\n",
      "12/12 [==============================] - 0s 8ms/step - loss: 0.0178 - val_loss: 0.0167\n",
      "Epoch 42/100\n",
      "12/12 [==============================] - 0s 7ms/step - loss: 0.0177 - val_loss: 0.0167\n",
      "Epoch 43/100\n",
      "12/12 [==============================] - 0s 7ms/step - loss: 0.0176 - val_loss: 0.0168\n",
      "Epoch 44/100\n",
      "12/12 [==============================] - 0s 7ms/step - loss: 0.0175 - val_loss: 0.0166\n",
      "Epoch 45/100\n",
      "12/12 [==============================] - 0s 7ms/step - loss: 0.0176 - val_loss: 0.0168\n",
      "Epoch 46/100\n",
      "12/12 [==============================] - 0s 8ms/step - loss: 0.0176 - val_loss: 0.0169\n",
      "Epoch 47/100\n",
      "12/12 [==============================] - 0s 8ms/step - loss: 0.0176 - val_loss: 0.0169\n",
      "Epoch 48/100\n",
      "12/12 [==============================] - 0s 7ms/step - loss: 0.0175 - val_loss: 0.0167\n",
      "Epoch 49/100\n",
      "12/12 [==============================] - 0s 7ms/step - loss: 0.0176 - val_loss: 0.0168\n",
      "Epoch 50/100\n",
      "12/12 [==============================] - 0s 7ms/step - loss: 0.0175 - val_loss: 0.0166\n",
      "Epoch 51/100\n",
      "12/12 [==============================] - 0s 7ms/step - loss: 0.0175 - val_loss: 0.0166\n",
      "Epoch 52/100\n",
      "12/12 [==============================] - 0s 8ms/step - loss: 0.0175 - val_loss: 0.0169\n",
      "Epoch 53/100\n",
      "12/12 [==============================] - 0s 7ms/step - loss: 0.0175 - val_loss: 0.0166\n",
      "Epoch 54/100\n",
      "12/12 [==============================] - 0s 8ms/step - loss: 0.0174 - val_loss: 0.0167\n",
      "Epoch 55/100\n",
      "12/12 [==============================] - 0s 7ms/step - loss: 0.0175 - val_loss: 0.0167\n",
      "Epoch 56/100\n",
      "12/12 [==============================] - 0s 7ms/step - loss: 0.0175 - val_loss: 0.0169\n",
      "Epoch 57/100\n",
      "12/12 [==============================] - 0s 8ms/step - loss: 0.0174 - val_loss: 0.0167\n",
      "Epoch 58/100\n",
      "12/12 [==============================] - 0s 8ms/step - loss: 0.0173 - val_loss: 0.0167\n",
      "Epoch 59/100\n",
      "12/12 [==============================] - 0s 7ms/step - loss: 0.0173 - val_loss: 0.0168\n",
      "Epoch 60/100\n",
      "12/12 [==============================] - 0s 7ms/step - loss: 0.0174 - val_loss: 0.0168\n",
      "Epoch 61/100\n",
      "12/12 [==============================] - 0s 7ms/step - loss: 0.0174 - val_loss: 0.0168\n",
      "Epoch 62/100\n",
      "12/12 [==============================] - 0s 7ms/step - loss: 0.0172 - val_loss: 0.0169\n",
      "Epoch 63/100\n",
      "12/12 [==============================] - 0s 7ms/step - loss: 0.0173 - val_loss: 0.0167\n",
      "Epoch 64/100\n",
      "12/12 [==============================] - 0s 9ms/step - loss: 0.0173 - val_loss: 0.0166\n",
      "Epoch 65/100\n",
      "12/12 [==============================] - 0s 8ms/step - loss: 0.0173 - val_loss: 0.0166\n",
      "Epoch 66/100\n",
      "12/12 [==============================] - 0s 9ms/step - loss: 0.0172 - val_loss: 0.0169\n",
      "Epoch 67/100\n",
      "12/12 [==============================] - 0s 8ms/step - loss: 0.0173 - val_loss: 0.0168\n",
      "Epoch 68/100\n",
      "12/12 [==============================] - 0s 7ms/step - loss: 0.0173 - val_loss: 0.0169\n",
      "Epoch 69/100\n",
      "12/12 [==============================] - 0s 8ms/step - loss: 0.0173 - val_loss: 0.0169\n",
      "Epoch 70/100\n",
      "12/12 [==============================] - 0s 8ms/step - loss: 0.0173 - val_loss: 0.0169\n",
      "Epoch 71/100\n",
      "12/12 [==============================] - 0s 8ms/step - loss: 0.0173 - val_loss: 0.0167\n",
      "Epoch 72/100\n",
      "12/12 [==============================] - 0s 8ms/step - loss: 0.0172 - val_loss: 0.0167\n",
      "Epoch 73/100\n",
      "12/12 [==============================] - 0s 8ms/step - loss: 0.0172 - val_loss: 0.0168\n",
      "Epoch 74/100\n",
      "12/12 [==============================] - 0s 7ms/step - loss: 0.0172 - val_loss: 0.0166\n",
      "Epoch 75/100\n",
      "12/12 [==============================] - 0s 8ms/step - loss: 0.0172 - val_loss: 0.0167\n",
      "Epoch 76/100\n",
      "12/12 [==============================] - 0s 8ms/step - loss: 0.0171 - val_loss: 0.0166\n",
      "Epoch 77/100\n",
      "12/12 [==============================] - 0s 7ms/step - loss: 0.0172 - val_loss: 0.0167\n",
      "Epoch 78/100\n",
      "12/12 [==============================] - 0s 8ms/step - loss: 0.0171 - val_loss: 0.0169\n",
      "Epoch 79/100\n",
      "12/12 [==============================] - 0s 7ms/step - loss: 0.0174 - val_loss: 0.0169\n",
      "Epoch 80/100\n",
      "12/12 [==============================] - 0s 8ms/step - loss: 0.0174 - val_loss: 0.0169\n",
      "Epoch 81/100\n",
      "12/12 [==============================] - 0s 7ms/step - loss: 0.0173 - val_loss: 0.0166\n",
      "Epoch 82/100\n",
      "12/12 [==============================] - 0s 8ms/step - loss: 0.0173 - val_loss: 0.0167\n",
      "Epoch 83/100\n",
      "12/12 [==============================] - 0s 8ms/step - loss: 0.0171 - val_loss: 0.0166\n",
      "Epoch 84/100\n",
      "12/12 [==============================] - 0s 8ms/step - loss: 0.0171 - val_loss: 0.0167\n",
      "Epoch 85/100\n",
      "12/12 [==============================] - 0s 7ms/step - loss: 0.0171 - val_loss: 0.0167\n",
      "Epoch 86/100\n",
      "12/12 [==============================] - 0s 7ms/step - loss: 0.0171 - val_loss: 0.0170\n",
      "Epoch 87/100\n",
      "12/12 [==============================] - 0s 7ms/step - loss: 0.0171 - val_loss: 0.0172\n",
      "Epoch 88/100\n",
      "12/12 [==============================] - 0s 7ms/step - loss: 0.0171 - val_loss: 0.0168\n",
      "Epoch 89/100\n",
      "12/12 [==============================] - 0s 8ms/step - loss: 0.0170 - val_loss: 0.0168\n",
      "Epoch 90/100\n",
      "12/12 [==============================] - 0s 8ms/step - loss: 0.0171 - val_loss: 0.0170\n",
      "Epoch 91/100\n",
      "12/12 [==============================] - 0s 7ms/step - loss: 0.0171 - val_loss: 0.0170\n",
      "Epoch 92/100\n",
      "12/12 [==============================] - 0s 8ms/step - loss: 0.0170 - val_loss: 0.0168\n",
      "Epoch 93/100\n",
      "12/12 [==============================] - 0s 7ms/step - loss: 0.0170 - val_loss: 0.0168\n",
      "Epoch 94/100\n",
      "12/12 [==============================] - 0s 7ms/step - loss: 0.0170 - val_loss: 0.0168\n",
      "Epoch 95/100\n",
      "12/12 [==============================] - 0s 7ms/step - loss: 0.0170 - val_loss: 0.0166\n",
      "Epoch 96/100\n",
      "12/12 [==============================] - 0s 7ms/step - loss: 0.0170 - val_loss: 0.0168\n",
      "Epoch 97/100\n",
      "12/12 [==============================] - 0s 7ms/step - loss: 0.0170 - val_loss: 0.0167\n",
      "Epoch 98/100\n",
      "12/12 [==============================] - 0s 7ms/step - loss: 0.0170 - val_loss: 0.0167\n",
      "Epoch 99/100\n",
      "12/12 [==============================] - 0s 7ms/step - loss: 0.0170 - val_loss: 0.0168\n",
      "Epoch 100/100\n",
      "12/12 [==============================] - 0s 8ms/step - loss: 0.0169 - val_loss: 0.0170\n"
     ]
    }
   ],
   "source": [
    "L_DOdnn_history = dropout_model.fit(\n",
    "                Xln_tr,\n",
    "                Yn_tr,\n",
    "                validation_data=(Xln_val, Yn_val),\n",
    "                shuffle=True,\n",
    "                epochs=100,\n",
    "                batch_size=6000)"
   ]
  },
  {
   "cell_type": "code",
   "execution_count": 55,
   "id": "a8e5568a-92a2-439c-9cf0-5cce7a739678",
   "metadata": {
    "scrolled": true,
    "tags": []
   },
   "outputs": [
    {
     "name": "stdout",
     "output_type": "stream",
     "text": [
      "Epoch 1/100\n",
      "12/12 [==============================] - 1s 16ms/step - loss: 0.0587 - val_loss: 0.0473\n",
      "Epoch 2/100\n",
      "12/12 [==============================] - 0s 8ms/step - loss: 0.0456 - val_loss: 0.0437\n",
      "Epoch 3/100\n",
      "12/12 [==============================] - 0s 8ms/step - loss: 0.0439 - val_loss: 0.0433\n",
      "Epoch 4/100\n",
      "12/12 [==============================] - 0s 8ms/step - loss: 0.0438 - val_loss: 0.0431\n",
      "Epoch 5/100\n",
      "12/12 [==============================] - 0s 9ms/step - loss: 0.0435 - val_loss: 0.0429\n",
      "Epoch 6/100\n",
      "12/12 [==============================] - 0s 8ms/step - loss: 0.0433 - val_loss: 0.0430\n",
      "Epoch 7/100\n",
      "12/12 [==============================] - 0s 9ms/step - loss: 0.0433 - val_loss: 0.0433\n",
      "Epoch 8/100\n",
      "12/12 [==============================] - 0s 9ms/step - loss: 0.0433 - val_loss: 0.0427\n",
      "Epoch 9/100\n",
      "12/12 [==============================] - 0s 9ms/step - loss: 0.0432 - val_loss: 0.0427\n",
      "Epoch 10/100\n",
      "12/12 [==============================] - 0s 8ms/step - loss: 0.0430 - val_loss: 0.0429\n",
      "Epoch 11/100\n",
      "12/12 [==============================] - 0s 9ms/step - loss: 0.0431 - val_loss: 0.0426\n",
      "Epoch 12/100\n",
      "12/12 [==============================] - 0s 9ms/step - loss: 0.0430 - val_loss: 0.0427\n",
      "Epoch 13/100\n",
      "12/12 [==============================] - 0s 8ms/step - loss: 0.0429 - val_loss: 0.0426\n",
      "Epoch 14/100\n",
      "12/12 [==============================] - 0s 8ms/step - loss: 0.0428 - val_loss: 0.0426\n",
      "Epoch 15/100\n",
      "12/12 [==============================] - 0s 10ms/step - loss: 0.0429 - val_loss: 0.0426\n",
      "Epoch 16/100\n",
      "12/12 [==============================] - 0s 8ms/step - loss: 0.0429 - val_loss: 0.0431\n",
      "Epoch 17/100\n",
      "12/12 [==============================] - 0s 8ms/step - loss: 0.0429 - val_loss: 0.0427\n",
      "Epoch 18/100\n",
      "12/12 [==============================] - 0s 10ms/step - loss: 0.0428 - val_loss: 0.0425\n",
      "Epoch 19/100\n",
      "12/12 [==============================] - 0s 9ms/step - loss: 0.0427 - val_loss: 0.0430\n",
      "Epoch 20/100\n",
      "12/12 [==============================] - 0s 9ms/step - loss: 0.0428 - val_loss: 0.0429\n",
      "Epoch 21/100\n",
      "12/12 [==============================] - 0s 9ms/step - loss: 0.0429 - val_loss: 0.0426\n",
      "Epoch 22/100\n",
      "12/12 [==============================] - 0s 9ms/step - loss: 0.0427 - val_loss: 0.0427\n",
      "Epoch 23/100\n",
      "12/12 [==============================] - 0s 9ms/step - loss: 0.0427 - val_loss: 0.0426\n",
      "Epoch 24/100\n",
      "12/12 [==============================] - 0s 9ms/step - loss: 0.0425 - val_loss: 0.0426\n",
      "Epoch 25/100\n",
      "12/12 [==============================] - 0s 10ms/step - loss: 0.0425 - val_loss: 0.0427\n",
      "Epoch 26/100\n",
      "12/12 [==============================] - 0s 9ms/step - loss: 0.0425 - val_loss: 0.0428\n",
      "Epoch 27/100\n",
      "12/12 [==============================] - 0s 9ms/step - loss: 0.0426 - val_loss: 0.0438\n",
      "Epoch 28/100\n",
      "12/12 [==============================] - 0s 9ms/step - loss: 0.0428 - val_loss: 0.0429\n",
      "Epoch 29/100\n",
      "12/12 [==============================] - 0s 9ms/step - loss: 0.0426 - val_loss: 0.0430\n",
      "Epoch 30/100\n",
      "12/12 [==============================] - 0s 9ms/step - loss: 0.0426 - val_loss: 0.0427\n",
      "Epoch 31/100\n",
      "12/12 [==============================] - 0s 9ms/step - loss: 0.0424 - val_loss: 0.0427\n",
      "Epoch 32/100\n",
      "12/12 [==============================] - 0s 9ms/step - loss: 0.0424 - val_loss: 0.0427\n",
      "Epoch 33/100\n",
      "12/12 [==============================] - 0s 9ms/step - loss: 0.0423 - val_loss: 0.0428\n",
      "Epoch 34/100\n",
      "12/12 [==============================] - 0s 9ms/step - loss: 0.0423 - val_loss: 0.0435\n",
      "Epoch 35/100\n",
      "12/12 [==============================] - 0s 8ms/step - loss: 0.0429 - val_loss: 0.0429\n",
      "Epoch 36/100\n",
      "12/12 [==============================] - 0s 9ms/step - loss: 0.0423 - val_loss: 0.0430\n",
      "Epoch 37/100\n",
      "12/12 [==============================] - 0s 9ms/step - loss: 0.0424 - val_loss: 0.0428\n",
      "Epoch 38/100\n",
      "12/12 [==============================] - 0s 9ms/step - loss: 0.0423 - val_loss: 0.0431\n",
      "Epoch 39/100\n",
      "12/12 [==============================] - 0s 9ms/step - loss: 0.0423 - val_loss: 0.0427\n",
      "Epoch 40/100\n",
      "12/12 [==============================] - 0s 9ms/step - loss: 0.0421 - val_loss: 0.0435\n",
      "Epoch 41/100\n",
      "12/12 [==============================] - 0s 9ms/step - loss: 0.0423 - val_loss: 0.0429\n",
      "Epoch 42/100\n",
      "12/12 [==============================] - 0s 8ms/step - loss: 0.0421 - val_loss: 0.0428\n",
      "Epoch 43/100\n",
      "12/12 [==============================] - 0s 9ms/step - loss: 0.0420 - val_loss: 0.0430\n",
      "Epoch 44/100\n",
      "12/12 [==============================] - 0s 8ms/step - loss: 0.0420 - val_loss: 0.0433\n",
      "Epoch 45/100\n",
      "12/12 [==============================] - 0s 9ms/step - loss: 0.0422 - val_loss: 0.0431\n",
      "Epoch 46/100\n",
      "12/12 [==============================] - 0s 9ms/step - loss: 0.0421 - val_loss: 0.0431\n",
      "Epoch 47/100\n",
      "12/12 [==============================] - 0s 9ms/step - loss: 0.0421 - val_loss: 0.0429\n",
      "Epoch 48/100\n",
      "12/12 [==============================] - 0s 8ms/step - loss: 0.0419 - val_loss: 0.0429\n",
      "Epoch 49/100\n",
      "12/12 [==============================] - 0s 9ms/step - loss: 0.0417 - val_loss: 0.0437\n",
      "Epoch 50/100\n",
      "12/12 [==============================] - 0s 8ms/step - loss: 0.0420 - val_loss: 0.0432\n",
      "Epoch 51/100\n",
      "12/12 [==============================] - 0s 8ms/step - loss: 0.0418 - val_loss: 0.0429\n",
      "Epoch 52/100\n",
      "12/12 [==============================] - 0s 8ms/step - loss: 0.0417 - val_loss: 0.0438\n",
      "Epoch 53/100\n",
      "12/12 [==============================] - 0s 8ms/step - loss: 0.0422 - val_loss: 0.0435\n",
      "Epoch 54/100\n",
      "12/12 [==============================] - 0s 9ms/step - loss: 0.0419 - val_loss: 0.0430\n",
      "Epoch 55/100\n",
      "12/12 [==============================] - 0s 8ms/step - loss: 0.0417 - val_loss: 0.0433\n",
      "Epoch 56/100\n",
      "12/12 [==============================] - 0s 9ms/step - loss: 0.0417 - val_loss: 0.0434\n",
      "Epoch 57/100\n",
      "12/12 [==============================] - 0s 8ms/step - loss: 0.0416 - val_loss: 0.0433\n",
      "Epoch 58/100\n",
      "12/12 [==============================] - 0s 8ms/step - loss: 0.0416 - val_loss: 0.0454\n",
      "Epoch 59/100\n",
      "12/12 [==============================] - 0s 9ms/step - loss: 0.0421 - val_loss: 0.0429\n",
      "Epoch 60/100\n",
      "12/12 [==============================] - 0s 9ms/step - loss: 0.0416 - val_loss: 0.0437\n",
      "Epoch 61/100\n",
      "12/12 [==============================] - 0s 9ms/step - loss: 0.0419 - val_loss: 0.0435\n",
      "Epoch 62/100\n",
      "12/12 [==============================] - 0s 9ms/step - loss: 0.0420 - val_loss: 0.0431\n",
      "Epoch 63/100\n",
      "12/12 [==============================] - 0s 8ms/step - loss: 0.0415 - val_loss: 0.0432\n",
      "Epoch 64/100\n",
      "12/12 [==============================] - 0s 9ms/step - loss: 0.0413 - val_loss: 0.0435\n",
      "Epoch 65/100\n",
      "12/12 [==============================] - 0s 9ms/step - loss: 0.0414 - val_loss: 0.0438\n",
      "Epoch 66/100\n",
      "12/12 [==============================] - 0s 9ms/step - loss: 0.0413 - val_loss: 0.0433\n",
      "Epoch 67/100\n",
      "12/12 [==============================] - 0s 9ms/step - loss: 0.0413 - val_loss: 0.0440\n",
      "Epoch 68/100\n",
      "12/12 [==============================] - 0s 9ms/step - loss: 0.0412 - val_loss: 0.0437\n",
      "Epoch 69/100\n",
      "12/12 [==============================] - 0s 8ms/step - loss: 0.0413 - val_loss: 0.0433\n",
      "Epoch 70/100\n",
      "12/12 [==============================] - 0s 8ms/step - loss: 0.0412 - val_loss: 0.0438\n",
      "Epoch 71/100\n",
      "12/12 [==============================] - 0s 8ms/step - loss: 0.0411 - val_loss: 0.0442\n",
      "Epoch 72/100\n",
      "12/12 [==============================] - 0s 8ms/step - loss: 0.0411 - val_loss: 0.0434\n",
      "Epoch 73/100\n",
      "12/12 [==============================] - 0s 9ms/step - loss: 0.0409 - val_loss: 0.0438\n",
      "Epoch 74/100\n",
      "12/12 [==============================] - 0s 8ms/step - loss: 0.0408 - val_loss: 0.0440\n",
      "Epoch 75/100\n",
      "12/12 [==============================] - 0s 9ms/step - loss: 0.0409 - val_loss: 0.0440\n",
      "Epoch 76/100\n",
      "12/12 [==============================] - 0s 9ms/step - loss: 0.0412 - val_loss: 0.0443\n",
      "Epoch 77/100\n",
      "12/12 [==============================] - 0s 9ms/step - loss: 0.0414 - val_loss: 0.0451\n",
      "Epoch 78/100\n",
      "12/12 [==============================] - 0s 9ms/step - loss: 0.0423 - val_loss: 0.0435\n",
      "Epoch 79/100\n",
      "12/12 [==============================] - 0s 9ms/step - loss: 0.0414 - val_loss: 0.0434\n",
      "Epoch 80/100\n",
      "12/12 [==============================] - 0s 9ms/step - loss: 0.0411 - val_loss: 0.0433\n",
      "Epoch 81/100\n",
      "12/12 [==============================] - 0s 10ms/step - loss: 0.0408 - val_loss: 0.0436\n",
      "Epoch 82/100\n",
      "12/12 [==============================] - 0s 9ms/step - loss: 0.0406 - val_loss: 0.0438\n",
      "Epoch 83/100\n",
      "12/12 [==============================] - 0s 8ms/step - loss: 0.0408 - val_loss: 0.0440\n",
      "Epoch 84/100\n",
      "12/12 [==============================] - 0s 9ms/step - loss: 0.0407 - val_loss: 0.0442\n",
      "Epoch 85/100\n",
      "12/12 [==============================] - 0s 9ms/step - loss: 0.0405 - val_loss: 0.0444\n",
      "Epoch 86/100\n",
      "12/12 [==============================] - 0s 9ms/step - loss: 0.0405 - val_loss: 0.0440\n",
      "Epoch 87/100\n",
      "12/12 [==============================] - 0s 9ms/step - loss: 0.0403 - val_loss: 0.0444\n",
      "Epoch 88/100\n",
      "12/12 [==============================] - 0s 10ms/step - loss: 0.0401 - val_loss: 0.0444\n",
      "Epoch 89/100\n",
      "12/12 [==============================] - 0s 9ms/step - loss: 0.0401 - val_loss: 0.0447\n",
      "Epoch 90/100\n",
      "12/12 [==============================] - 0s 9ms/step - loss: 0.0400 - val_loss: 0.0450\n",
      "Epoch 91/100\n",
      "12/12 [==============================] - 0s 9ms/step - loss: 0.0412 - val_loss: 0.0437\n",
      "Epoch 92/100\n",
      "12/12 [==============================] - 0s 8ms/step - loss: 0.0410 - val_loss: 0.0441\n",
      "Epoch 93/100\n",
      "12/12 [==============================] - 0s 9ms/step - loss: 0.0406 - val_loss: 0.0441\n",
      "Epoch 94/100\n",
      "12/12 [==============================] - 0s 9ms/step - loss: 0.0403 - val_loss: 0.0452\n",
      "Epoch 95/100\n",
      "12/12 [==============================] - 0s 9ms/step - loss: 0.0406 - val_loss: 0.0441\n",
      "Epoch 96/100\n",
      "12/12 [==============================] - 0s 9ms/step - loss: 0.0402 - val_loss: 0.0441\n",
      "Epoch 97/100\n",
      "12/12 [==============================] - 0s 9ms/step - loss: 0.0401 - val_loss: 0.0452\n",
      "Epoch 98/100\n",
      "12/12 [==============================] - 0s 8ms/step - loss: 0.0401 - val_loss: 0.0451\n",
      "Epoch 99/100\n",
      "12/12 [==============================] - 0s 8ms/step - loss: 0.0400 - val_loss: 0.0442\n",
      "Epoch 100/100\n",
      "12/12 [==============================] - 0s 9ms/step - loss: 0.0399 - val_loss: 0.0450\n"
     ]
    }
   ],
   "source": [
    "split_history = split_model.fit(\n",
    "                [Xspl1_tr, Xspl2_tr],\n",
    "                Yn_tr,\n",
    "                validation_data=([Xspl1_val, Xspl2_val], Yn_val),\n",
    "                shuffle=True,\n",
    "                epochs=100,\n",
    "                batch_size=6000)"
   ]
  },
  {
   "cell_type": "markdown",
   "id": "b83cb00d-ee4f-489d-95d2-77beeeb66b82",
   "metadata": {},
   "source": [
    "## Make Dict With Results"
   ]
  },
  {
   "cell_type": "code",
   "execution_count": 56,
   "id": "b21c7489-c0ce-4a23-b572-271aa61b7dbf",
   "metadata": {},
   "outputs": [],
   "source": [
    "history_dict = dict()\n",
    "history_dict['base'] = dnn_history\n",
    "history_dict['larger'] = Ldnn_history\n",
    "history_dict['dropout'] = L_DOdnn_history\n",
    "history_dict['split'] = split_history"
   ]
  },
  {
   "cell_type": "code",
   "execution_count": 133,
   "id": "93b52980-ac30-47fc-9286-adc908f4c55c",
   "metadata": {},
   "outputs": [
    {
     "name": "stdout",
     "output_type": "stream",
     "text": [
      "<class 'keras.callbacks.History'>\n",
      "dict_keys(['loss', 'val_loss'])\n",
      "Key: base\n",
      "Color: firebrick\n",
      "Key: larger\n",
      "Color: tan\n",
      "Key: dropout\n",
      "Color: cadetblue\n",
      "Key: split\n",
      "Color: mediumorchid\n"
     ]
    },
    {
     "data": {
      "image/png": "[encoded data removed]",
      "text/plain": [
       "<Figure size 720x432 with 2 Axes>"
      ]
     },
     "metadata": {},
     "output_type": "display_data"
    }
   ],
   "source": [
    "print(type(dnn_history))\n",
    "print(dnn_history.history.keys())\n",
    "\n",
    "loss_curve_colors = ['firebrick', 'tan', 'cadetblue', 'mediumorchid']\n",
    "\n",
    "fig = plt.figure(figsize=(10,6))\n",
    "dnn_loss = np.array(dnn_history.history['loss'])\n",
    "dnn_val_loss = np.array(dnn_history.history['val_loss'])\n",
    "epoch = np.arange(1,len(dnn_loss)+1,1)\n",
    "\n",
    "ax1 = fig.add_axes([.075,.1,.9,.85])\n",
    "ax2 = fig.add_axes([.45,.425,.5,.45])\n",
    "\n",
    "for (color, (key, hist)) in zip(loss_curve_colors, history_dict.items()):\n",
    "    print('Key: {}'.format(key))\n",
    "    print('Color: {}'.format(color))\n",
    "    loss = hist.history['loss']\n",
    "    val_loss = hist.history['val_loss']    \n",
    "    ax1.plot(epoch, loss, label='{} model loss'.format(key), ls='solid',\n",
    "             color=color)\n",
    "    ax1.plot(epoch, val_loss, label='{} validation'.format(key),\n",
    "             ls='dashed', color=color)\n",
    "    ax2.plot(epoch, loss, ls='solid',\n",
    "             color=color)\n",
    "    ax2.plot(epoch, val_loss,\n",
    "             ls='dashed', color=color)\n",
    "\n",
    "# Axis 1\n",
    "ax1.set_xlim(0,len(dnn_loss))\n",
    "ax1.set_xlabel('Epoch', fontsize=18)\n",
    "ax1.set_ylabel('Mean Squared Error', fontsize=18)\n",
    "\n",
    "# Axis 2\n",
    "ax2.set_xlim(80,100)\n",
    "ax2.set_ylim(.014,.018)\n",
    "ax2.set_xticklabels([])\n",
    "\n",
    "# Figure\n",
    "fig.legend(fontsize=12, loc=[.125,.55], frameon=True, shadow=True, fancybox=True)\n",
    "fig.savefig('Plots/Oct22/AllNetworks_lossCurves_simple.png', format='png')\n",
    "fig.show()"
   ]
  },
  {
   "cell_type": "markdown",
   "id": "977606de-46e2-46bd-809c-4feee94fdeae",
   "metadata": {},
   "source": [
    "### Notes:\n",
    " - okay so the network is clearly learning to optimize something here despite minimal information\n",
    " - This loss curve suggests we should maybe try dropout?\n",
    "### Next steps:\n",
    " - [x] Split data into training and validation to see where overtraining is happening\n",
    " - [x] Add model with dropout\n",
    " - [x] Add more jet sub-structure variables\n",
    " - [x] Model which handles jets as two different networks\n",
    " - [x] Evaluate model with best performing ne-twerk "
   ]
  },
  {
   "cell_type": "markdown",
   "id": "4c5e3932-3a24-4913-9b16-9cdb6a0d3628",
   "metadata": {},
   "source": [
    "## Mass Plane"
   ]
  },
  {
   "cell_type": "code",
   "execution_count": 62,
   "id": "724f061f-8f85-49db-89c6-ff66452e906f",
   "metadata": {},
   "outputs": [
    {
     "name": "stdout",
     "output_type": "stream",
     "text": [
      "0\n",
      "0\n",
      "Conclusion is that neither target mass is zero, so why the error?\n"
     ]
    }
   ],
   "source": [
    "zeroMask1 = Y[:,0] == 0\n",
    "print(np.count_nonzero(zeroMask1))\n",
    "\n",
    "zeroMask2 = Y[:,1] == 0\n",
    "print(np.count_nonzero(zeroMask2))\n",
    "\n",
    "print('Conclusion is that neither target mass is zero, so why the error?')"
   ]
  },
  {
   "cell_type": "markdown",
   "id": "b55715a6-3fc5-4b72-9361-7411249e5911",
   "metadata": {},
   "source": [
    "# Mass Plane"
   ]
  },
  {
   "cell_type": "code",
   "execution_count": 65,
   "id": "e0f76432-3c41-42bc-82cf-bf6cc19e1bd0",
   "metadata": {},
   "outputs": [],
   "source": [
    "import atlas_mpl_style as ampl\n",
    "ampl.use_atlas_style()"
   ]
  },
  {
   "cell_type": "markdown",
   "id": "885cf254-9d78-484a-80d4-4096eb0e1f18",
   "metadata": {},
   "source": [
    "## Truth"
   ]
  },
  {
   "cell_type": "code",
   "execution_count": 106,
   "id": "94820d00-35d6-4cc6-91a9-362dae0655eb",
   "metadata": {},
   "outputs": [
    {
     "name": "stdout",
     "output_type": "stream",
     "text": [
      "4293.306640625\n",
      "847328.375\n",
      "3245.63671875\n",
      "624981.8125\n"
     ]
    },
    {
     "data": {
      "image/png": "[encoded data removed]",
      "text/plain": [
       "<Figure size 799.992x599.976 with 1 Axes>"
      ]
     },
     "metadata": {},
     "output_type": "display_data"
    }
   ],
   "source": [
    "print(np.min(Y[:,0]))\n",
    "print(np.max(Y[:,0]))\n",
    "print(np.min(Y[:,1]))\n",
    "print(np.max(Y[:,1]))\n",
    "\n",
    "mp_range = [[1e2, 1.35e2], [1e2, 1.35e2]]\n",
    "try:\n",
    "    mp1 = Y[:,0]/1000\n",
    "    mp2 = Y[:,1]/1000\n",
    "except:\n",
    "    print('found runtime warning')\n",
    "    RuntimeWarning\n",
    "\n",
    "plt.hist2d(x=mp1, y=mp2, bins=30, range=mp_range,\n",
    "                         density=True, weights=None)\n",
    "plt.xlabel('Leading Jet Mass [GeV]', fontsize=18)\n",
    "plt.ylabel('Sub-Leading Jet Mass [GeV]', fontsize=18)\n",
    "plt.title('Mass Plane for Di-Higgs Signal (Truth)', fontsize=18)\n",
    "ax_truth = plt.gca()\n",
    "ampl.plot.draw_atlas_label(x=.075, y=.925, ax=ax_truth, status='int',\n",
    "                           simulation=True, color='white', fontsize=24)\n",
    "plt.tight_layout()\n",
    "# plt.savefig('Plots/Oct22/MassPlane_truth.png')\n",
    "plt.show()"
   ]
  },
  {
   "cell_type": "markdown",
   "id": "d9977c61-ee3a-4658-ad08-bf2ce217d79c",
   "metadata": {},
   "source": [
    "## Reconstructed"
   ]
  },
  {
   "cell_type": "code",
   "execution_count": 105,
   "id": "593956b0-ac4a-46f5-b441-63e664c6cd3f",
   "metadata": {},
   "outputs": [
    {
     "name": "stdout",
     "output_type": "stream",
     "text": [
      "3.098712205886841\n",
      "848.7841186523438\n",
      "2.505497455596924\n",
      "661.237060546875\n"
     ]
    },
    {
     "data": {
      "image/png": "[encoded data removed]",
      "text/plain": [
       "<Figure size 799.992x599.976 with 1 Axes>"
      ]
     },
     "metadata": {},
     "output_type": "display_data"
    }
   ],
   "source": [
    "print(np.min(X[:,0]))\n",
    "print(np.max(X[:,0]))\n",
    "print(np.min(X[:,10]))\n",
    "print(np.max(X[:,10]))\n",
    "\n",
    "mp_range = [[1e2, 1.35e2], [1e2, 1.35e2]]\n",
    "try:\n",
    "    mp1r = X[:,0]\n",
    "    mp2r = X[:,10]\n",
    "except:\n",
    "    RuntimeWarning\n",
    "\n",
    "plt.hist2d(x=mp1r, y=mp2r, bins=30, range=mp_range, \n",
    "                         density=True, weights=None)\n",
    "plt.xlabel('Leading Jet Mass [GeV]', fontsize=18)\n",
    "plt.ylabel('Sub-Leading Jet Mass [GeV]', fontsize=18)\n",
    "plt.title('Mass Plane for Di-Higgs Signal (Reco)', fontsize=18)\n",
    "\n",
    "ax_reco = plt.gca()\n",
    "ampl.plot.draw_atlas_label(x=.075, y=.925, ax=ax_reco, status='int',\n",
    "                           simulation=True, color='white', fontsize=24)\n",
    "plt.tight_layout()\n",
    "# plt.savefig('Plots/Oct22/MassPlane_reco.png')\n",
    "plt.show()"
   ]
  },
  {
   "cell_type": "markdown",
   "id": "fe6f2bd7-72b1-43b3-a3e3-a90bea9fcd9f",
   "metadata": {},
   "source": [
    "## Predictions"
   ]
  },
  {
   "cell_type": "code",
   "execution_count": 81,
   "id": "84799bf8-190f-4523-bbf8-35e845a63492",
   "metadata": {},
   "outputs": [
    {
     "name": "stdout",
     "output_type": "stream",
     "text": [
      "<class 'numpy.ndarray'>\n"
     ]
    }
   ],
   "source": [
    "print(type(Xln_test))"
   ]
  },
  {
   "cell_type": "code",
   "execution_count": 83,
   "id": "c3e3feff-f57c-4bca-baed-51ad203f8bcb",
   "metadata": {},
   "outputs": [
    {
     "name": "stdout",
     "output_type": "stream",
     "text": [
      "(14229, 2)\n"
     ]
    }
   ],
   "source": [
    "'''\n",
    "Ldnn_history = large_model.fit(\n",
    "                Xln_tr,\n",
    "                Yn_tr,\n",
    "                validation_data=(Xln_val, Yn_val),\n",
    "                shuffle=True,\n",
    "                epochs=100,\n",
    "                batch_size=6000)\n",
    "'''\n",
    "\n",
    "best_preds = large_model.predict(\n",
    "                Xln_test,\n",
    "                batch_size=6000)\n",
    "print(best_preds.shape)\n",
    "print(type(best_preds))"
   ]
  },
  {
   "cell_type": "markdown",
   "id": "d621cf69-a880-4937-a0cd-7d83242f3404",
   "metadata": {},
   "source": [
    "### Rebuild mass from normalization"
   ]
  },
  {
   "cell_type": "code",
   "execution_count": 85,
   "id": "3cccb5fd-5c27-470c-a0ab-017df510e552",
   "metadata": {},
   "outputs": [
    {
     "name": "stdout",
     "output_type": "stream",
     "text": [
      "<class 'numpy.ndarray'>\n"
     ]
    }
   ],
   "source": [
    "'''\n",
    "Xsn[:,0] = (X[:,0] - 100) / 1e2\n",
    "Xsn[:,4] = (X[:,10] - 100) / 1e2\n",
    "'''\n",
    "LeadJetMass_NN = 100 * best_preds[:,0] + 100\n",
    "subLeadJetMass_NN = 100 * best_preds[:,1] + 100"
   ]
  },
  {
   "cell_type": "code",
   "execution_count": 103,
   "id": "49a57f96-8573-4971-bd96-aa8ba02740a4",
   "metadata": {},
   "outputs": [
    {
     "data": {
      "image/png": "[encoded data removed]",
      "text/plain": [
       "<Figure size 799.992x599.976 with 1 Axes>"
      ]
     },
     "metadata": {},
     "output_type": "display_data"
    },
    {
     "data": {
      "image/png": "[encoded data removed]",
      "text/plain": [
       "<Figure size 799.992x599.976 with 1 Axes>"
      ]
     },
     "metadata": {},
     "output_type": "display_data"
    }
   ],
   "source": [
    "'''\n",
    "target_bins = np.linspace(0,175,100,endpoint=True)\n",
    "\n",
    "plt.hist(Y[:,0]/1000, bins=target_bins, label='leading', alpha=.65, color='thistle',\n",
    "        edgecolor='black', histtype='stepfilled')\n",
    "plt.hist(Y[:,1]/1000, bins=target_bins, label='sub leading', alpha=.65,\n",
    "         color='greenyellow', edgecolor='black', histtype='stepfilled')\n",
    "plt.xlim(np.min(target_bins), np.max(target_bins))\n",
    "plt.legend()\n",
    "plt.xlabel('Truth Jet Mass $[GeV/c^2]$', fontsize=12)\n",
    "plt.tight_layout()\n",
    "# plt.savefig('Plots/Sept22/truthJetMass_unnormalized.png')\n",
    "plt.show()\n",
    "'''\n",
    "\n",
    "\n",
    "NN_mass_bins = np.linspace(40,160,num=100, endpoint=True)\n",
    "\n",
    "plt.hist(LeadJetMass_NN, bins=NN_mass_bins, density=True, alpha=.65,\n",
    "         edgecolor='black', color='red', label='NN Corrected')\n",
    "plt.hist(Y[NVal+NTrain:,0]/1000, bins=NN_mass_bins, density=True, alpha=.65,\n",
    "         edgecolor='black', color='forestgreen', label='Truth')\n",
    "plt.legend(loc='upper left', frameon=True, fontsize=16, shadow=True)\n",
    "plt.xlim(min(NN_mass_bins), max(NN_mass_bins))\n",
    "plt.title('Leading Jet', fontsize=20)\n",
    "plt.xlabel('Mass [$GeV/c^2$]', fontsize=18)\n",
    "plt.tight_layout()\n",
    "# plt.savefig('Plots/Oct22/Large_DNN_predictions_leading_jet.png')\n",
    "plt.show()\n",
    "\n",
    "NN_mass_bins = np.linspace(40,160,num=100, endpoint=True)\n",
    "\n",
    "plt.hist(subLeadJetMass_NN, bins=NN_mass_bins, density=True, alpha=.65,\n",
    "         edgecolor='black', color='orange', label='NN Corrected')\n",
    "plt.hist(Y[NVal+NTrain:,1]/1000, bins=NN_mass_bins, density=True, alpha=.65,\n",
    "         edgecolor='black', color='darkturquoise', label='Truth')\n",
    "plt.legend(loc='upper left', frameon=True, fontsize=16, shadow=True)\n",
    "plt.xlim(min(NN_mass_bins), max(NN_mass_bins))\n",
    "plt.title('Sub-Leading Jet', fontsize=20)\n",
    "plt.xlabel('Mass [$GeV/c^2$]', fontsize=18)\n",
    "plt.tight_layout()\n",
    "# plt.savefig('Plots/Oct22/Large_DNN_predictions_subleading_jet.png')\n",
    "plt.show()"
   ]
  },
  {
   "cell_type": "markdown",
   "id": "985a6c83-0521-4b93-9297-66b555458079",
   "metadata": {},
   "source": [
    "### Mass Plane"
   ]
  },
  {
   "cell_type": "code",
   "execution_count": 104,
   "id": "b9752d55-5500-45d2-93bd-159f73ad5780",
   "metadata": {},
   "outputs": [
    {
     "data": {
      "image/png": "[encoded data removed]",
      "text/plain": [
       "<Figure size 799.992x599.976 with 1 Axes>"
      ]
     },
     "metadata": {},
     "output_type": "display_data"
    }
   ],
   "source": [
    "plt.hist2d(x=LeadJetMass_NN, y=subLeadJetMass_NN, bins=30, range=mp_range, \n",
    "                         density=True, weights=None)\n",
    "plt.xlabel('Leading Jet Mass [GeV]', fontsize=18)\n",
    "plt.ylabel('Sub-Leading Jet Mass [GeV]', fontsize=18)\n",
    "plt.title('Mass Plane for Di-Higgs Signal (DNN Corrected)', fontsize=18)\n",
    "\n",
    "ax_reco = plt.gca()\n",
    "ampl.plot.draw_atlas_label(x=.075, y=.925, ax=ax_reco, status='int',\n",
    "                           simulation=True, color='white', fontsize=24)\n",
    "plt.tight_layout()\n",
    "# plt.savefig('Plots/Oct22/MassPlane_NN_corrected.png')\n",
    "plt.show()"
   ]
  },
  {
   "cell_type": "code",
   "execution_count": null,
   "id": "62a9e587-d94f-425f-a5f7-1e3d64791e76",
   "metadata": {},
   "outputs": [],
   "source": []
  }
 ],
 "metadata": {
  "kernelspec": {
   "display_name": "Python 3 (ipykernel)",
   "language": "python",
   "name": "python3"
  },
  "language_info": {
   "codemirror_mode": {
    "name": "ipython",
    "version": 3
   },
   "file_extension": ".py",
   "mimetype": "text/x-python",
   "name": "python",
   "nbconvert_exporter": "python",
   "pygments_lexer": "ipython3",
   "version": "3.8.10"
  }
 },
 "nbformat": 4,
 "nbformat_minor": 5
}
