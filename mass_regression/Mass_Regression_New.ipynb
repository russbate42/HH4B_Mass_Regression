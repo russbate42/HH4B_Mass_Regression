{
 "cells": [
  {
   "cell_type": "markdown",
   "id": "abbe5929-088e-4813-9ade-353bd70e9d41",
   "metadata": {},
   "source": [
    "# Mass Regression Notebook Updated\n",
    "After preliminary studies done in mass_regression.ipynb we move to this notebook where we have a better understanding of the variables and how to handle them"
   ]
  },
  {
   "cell_type": "code",
   "execution_count": 1,
   "id": "3cc1bc91-b216-495b-8ea0-1b0e4371a0c6",
   "metadata": {},
   "outputs": [
    {
     "name": "stdout",
     "output_type": "stream",
     "text": [
      "Numpy version: 1.23.1\n",
      "Uproot version: 4.3.3\n",
      "Awkward version: 1.8.0\n"
     ]
    }
   ],
   "source": [
    "import numpy as np\n",
    "import matplotlib.pyplot as plt\n",
    "import uproot as ur\n",
    "import awkward as ak\n",
    "import atlas_mpl_style as ampl\n",
    "ampl.use_atlas_style()\n",
    "\n",
    "print('Numpy version: {}'.format(np.__version__))\n",
    "print('Uproot version: {}'.format(ur.__version__))\n",
    "print('Awkward version: {}'.format(ak.__version__))\n",
    "\n",
    "def round_to_sigfigs(value, sigfig=3):\n",
    "    \n",
    "    # isntantiate array with same dimensions, return zero where values\n",
    "    # are zero!\n",
    "    value = np.array(value)\n",
    "    returnval = np.zeros(value.shape)\n",
    "    \n",
    "    # only do operations on nonzero as we deal with log\n",
    "    nz_bool = value != 0.0\n",
    "    exp = np.floor(np.log10(np.abs(value[nz_bool]))).astype(int)\n",
    "    mantissa = value[nz_bool]/10.0**exp\n",
    "    new_mantissa = np.round(mantissa, decimals=sigfig-1)\n",
    "\n",
    "    # return the mantissa back to the appropriate exponential\n",
    "    returnval[nz_bool] = np.multiply(new_mantissa, 10.0**exp)\n",
    "    return returnval"
   ]
  },
  {
   "cell_type": "code",
   "execution_count": 2,
   "id": "c8c4a669-4949-41e6-bebd-c8c4519b6f18",
   "metadata": {},
   "outputs": [
    {
     "data": {
      "text/plain": [
       "['XhhMiniNtuple;1',\n",
       " 'cutflow_XhhMiniNtuple;1',\n",
       " 'cutflow_weighted_XhhMiniNtuple;1',\n",
       " 'MetaData_EventCount_XhhMiniNtuple;1']"
      ]
     },
     "execution_count": 2,
     "metadata": {},
     "output_type": "execute_result"
    }
   ],
   "source": [
    "rootfile_prefix = '/fast_scratch_1/atlas_images/XhhNTuple/'\n",
    "rfile = 'user.zhenw.29137978._000001.MiniNTuple.root'\n",
    "uprooted = ur.open(rootfile_prefix+rfile)\n",
    "uprooted.keys()"
   ]
  },
  {
   "cell_type": "code",
   "execution_count": 3,
   "id": "6279a03d-c9bf-4328-bfe2-775f704a2d15",
   "metadata": {
    "scrolled": true,
    "tags": []
   },
   "outputs": [
    {
     "name": "stdout",
     "output_type": "stream",
     "text": [
      "name                             | typename                 | interpretation                \n",
      "---------------------------------+--------------------------+-------------------------------\n",
      "runNumber                        | int32_t                  | AsDtype('>i4')\n",
      "eventNumber                      | int64_t                  | AsDtype('>i8')\n",
      "lumiBlock                        | int32_t                  | AsDtype('>i4')\n",
      "coreFlags                        | uint32_t                 | AsDtype('>u4')\n",
      "bcid                             | int32_t                  | AsDtype('>i4')\n",
      "mcEventNumber                    | int32_t                  | AsDtype('>i4')\n",
      "mcChannelNumber                  | int32_t                  | AsDtype('>i4')\n",
      "mcEventWeight                    | float                    | AsDtype('>f4')\n",
      "NPV                              | int32_t                  | AsDtype('>i4')\n",
      "actualInteractionsPerCrossing    | float                    | AsDtype('>f4')\n",
      "averageInteractionsPerCrossing   | float                    | AsDtype('>f4')\n",
      "weight_pileup                    | float                    | AsDtype('>f4')\n",
      "correctedAverageMu               | float                    | AsDtype('>f4')\n",
      "correctedAndScaledAverageMu      | float                    | AsDtype('>f4')\n",
      "correctedActualMu                | float                    | AsDtype('>f4')\n",
      "correctedAndScaledActualMu       | float                    | AsDtype('>f4')\n",
      "weight_pileup_up                 | float                    | AsDtype('>f4')\n",
      "weight_pileup_down               | float                    | AsDtype('>f4')\n",
      "rand_run_nr                      | int32_t                  | AsDtype('>i4')\n",
      "rand_lumiblock_nr                | int32_t                  | AsDtype('>i4')\n",
      "passedTriggerHashes              | std::vector<uint64_t>    | AsJagged(AsDtype('>u8'), he...\n",
      "matchedTriggerHashes             | std::vector<uint64_t>    | AsJagged(AsDtype('>u8'), he...\n",
      "HLT_2j15_gsc35_bmv2c1040_spli... | bool                     | AsDtype('bool')\n",
      "HLT_2j330_a10t_lcw_jes_35smcI... | bool                     | AsDtype('bool')\n",
      "HLT_2j330_a10t_lcw_jes_35smcI... | bool                     | AsDtype('bool')\n",
      "HLT_2j330_a10t_lcw_jes_40smcI... | bool                     | AsDtype('bool')\n",
      "HLT_2j35_bmv2c1060_split_2j35... | bool                     | AsDtype('bool')\n",
      "HLT_2j35_bmv2c2060_split_2j35... | bool                     | AsDtype('bool')\n",
      "HLT_2j35_btight_2j35_L13J25_0... | bool                     | AsDtype('bool')\n",
      "HLT_2j35_gsc55_bmv2c1050_spli... | bool                     | AsDtype('bool')\n",
      "HLT_2j45_gsc55_bmv2c1050_spli... | bool                     | AsDtype('bool')\n",
      "HLT_2j55_bmv2c2060_split_ht30... | bool                     | AsDtype('bool')\n",
      "HLT_ht1000_L1J100                | bool                     | AsDtype('bool')\n",
      "HLT_j100_2j55_bmedium            | bool                     | AsDtype('bool')\n",
      "HLT_j100_2j55_bmv2c2060_split    | bool                     | AsDtype('bool')\n",
      "HLT_j110_gsc150_boffperf_spli... | bool                     | AsDtype('bool')\n",
      "HLT_j110_gsc150_boffperf_spli... | bool                     | AsDtype('bool')\n",
      "HLT_j225_bloose                  | bool                     | AsDtype('bool')\n",
      "HLT_j225_bmv2c2060_split         | bool                     | AsDtype('bool')\n",
      "HLT_j225_gsc300_bmv2c1070_split  | bool                     | AsDtype('bool')\n",
      "HLT_j35_gsc55_bmv2c1070_split... | bool                     | AsDtype('bool')\n",
      "HLT_j360_a10_lcw_sub_L1J100      | bool                     | AsDtype('bool')\n",
      "HLT_j360_a10t_lcw_jes_60smcIN... | bool                     | AsDtype('bool')\n",
      "HLT_j370_a10t_lcw_jes_35smcIN... | bool                     | AsDtype('bool')\n",
      "HLT_j390_a10t_lcw_jes_30smcIN... | bool                     | AsDtype('bool')\n",
      "HLT_j420_a10_lcw_L1J100          | bool                     | AsDtype('bool')\n",
      "HLT_j420_a10t_lcw_jes_35smcIN... | bool                     | AsDtype('bool')\n",
      "HLT_j420_a10t_lcw_jes_35smcIN... | bool                     | AsDtype('bool')\n",
      "HLT_j420_a10t_lcw_jes_40smcIN... | bool                     | AsDtype('bool')\n",
      "HLT_j460_a10_lcw_subjes_L1J100   | bool                     | AsDtype('bool')\n",
      "HLT_j460_a10_lcw_subjes_L1SC111  | bool                     | AsDtype('bool')\n",
      "HLT_j460_a10t_lcw_jes_L1J100     | bool                     | AsDtype('bool')\n",
      "HLT_j460_a10t_lcw_jes_L1SC111    | bool                     | AsDtype('bool')\n",
      "HLT_j70_0eta490_j50_0eta490_2... | bool                     | AsDtype('bool')\n",
      "HLT_j70_j50_0eta490_invm1100j... | bool                     | AsDtype('bool')\n",
      "nresolvedJets                    | int32_t                  | AsDtype('>i4')\n",
      "resolvedJets_E                   | std::vector<float>       | AsJagged(AsDtype('>f4'), he...\n",
      "resolvedJets_pt                  | std::vector<float>       | AsJagged(AsDtype('>f4'), he...\n",
      "resolvedJets_phi                 | std::vector<float>       | AsJagged(AsDtype('>f4'), he...\n",
      "resolvedJets_eta                 | std::vector<float>       | AsJagged(AsDtype('>f4'), he...\n",
      "resolvedJets_NumTrkPt1000PV      | std::vector<float>       | AsJagged(AsDtype('>f4'), he...\n",
      "resolvedJets_SumPtTrkPt1000PV    | std::vector<float>       | AsJagged(AsDtype('>f4'), he...\n",
      "resolvedJets_TrackWidthPt1000PV  | std::vector<float>       | AsJagged(AsDtype('>f4'), he...\n",
      "resolvedJets_NumTrkPt500PV       | std::vector<float>       | AsJagged(AsDtype('>f4'), he...\n",
      "resolvedJets_SumPtTrkPt500PV     | std::vector<float>       | AsJagged(AsDtype('>f4'), he...\n",
      "resolvedJets_TrackWidthPt500PV   | std::vector<float>       | AsJagged(AsDtype('>f4'), he...\n",
      "resolvedJets_JVFPV               | std::vector<float>       | AsJagged(AsDtype('>f4'), he...\n",
      "resolvedJets_JvtJvfcorr          | std::vector<float>       | AsJagged(AsDtype('>f4'), he...\n",
      "resolvedJets_JvtRpt              | std::vector<float>       | AsJagged(AsDtype('>f4'), he...\n",
      "resolvedJets_Jvt                 | std::vector<float>       | AsJagged(AsDtype('>f4'), he...\n",
      "resolvedJets_JvtPass_Loose       | std::vector<int32_t>     | AsJagged(AsDtype('>i4'), he...\n",
      "resolvedJets_JvtEff_SF_Loose     | std::vector<std::vect... | AsObjects(AsVector(True, As...\n",
      "resolvedJets_JvtPass_Medium      | std::vector<int32_t>     | AsJagged(AsDtype('>i4'), he...\n",
      "resolvedJets_JvtEff_SF_Medium    | std::vector<std::vect... | AsObjects(AsVector(True, As...\n",
      "resolvedJets_JvtPass_Tight       | std::vector<int32_t>     | AsJagged(AsDtype('>i4'), he...\n",
      "resolvedJets_JvtEff_SF_Tight     | std::vector<std::vect... | AsObjects(AsVector(True, As...\n",
      "resolvedJets_fJvtPass_Medium     | std::vector<int32_t>     | AsJagged(AsDtype('>i4'), he...\n",
      "resolvedJets_fJvtEff_SF_Medium   | std::vector<std::vect... | AsObjects(AsVector(True, As...\n",
      "resolvedJets_fJvtPass_Tight      | std::vector<int32_t>     | AsJagged(AsDtype('>i4'), he...\n",
      "resolvedJets_fJvtEff_SF_Tight    | std::vector<std::vect... | AsObjects(AsVector(True, As...\n",
      "resolvedJets_MV2c00              | std::vector<float>       | AsJagged(AsDtype('>f4'), he...\n",
      "resolvedJets_MV2c10              | std::vector<float>       | AsJagged(AsDtype('>f4'), he...\n",
      "resolvedJets_MV2c10mu            | std::vector<float>       | AsJagged(AsDtype('>f4'), he...\n",
      "resolvedJets_MV2c10rnn           | std::vector<float>       | AsJagged(AsDtype('>f4'), he...\n",
      "resolvedJets_MV2rmu              | std::vector<float>       | AsJagged(AsDtype('>f4'), he...\n",
      "resolvedJets_MV2r                | std::vector<float>       | AsJagged(AsDtype('>f4'), he...\n",
      "resolvedJets_MV2c20              | std::vector<float>       | AsJagged(AsDtype('>f4'), he...\n",
      "resolvedJets_MV2c100             | std::vector<float>       | AsJagged(AsDtype('>f4'), he...\n",
      "resolvedJets_DL1                 | std::vector<float>       | AsJagged(AsDtype('>f4'), he...\n",
      "resolvedJets_DL1_pu              | std::vector<float>       | AsJagged(AsDtype('>f4'), he...\n",
      "resolvedJets_DL1_pc              | std::vector<float>       | AsJagged(AsDtype('>f4'), he...\n",
      "resolvedJets_DL1_pb              | std::vector<float>       | AsJagged(AsDtype('>f4'), he...\n",
      "resolvedJets_DL1mu               | std::vector<float>       | AsJagged(AsDtype('>f4'), he...\n",
      "resolvedJets_DL1mu_pu            | std::vector<float>       | AsJagged(AsDtype('>f4'), he...\n",
      "resolvedJets_DL1mu_pc            | std::vector<float>       | AsJagged(AsDtype('>f4'), he...\n",
      "resolvedJets_DL1mu_pb            | std::vector<float>       | AsJagged(AsDtype('>f4'), he...\n",
      "resolvedJets_DL1rnn              | std::vector<float>       | AsJagged(AsDtype('>f4'), he...\n",
      "resolvedJets_DL1rnn_pu           | std::vector<float>       | AsJagged(AsDtype('>f4'), he...\n",
      "resolvedJets_DL1rnn_pc           | std::vector<float>       | AsJagged(AsDtype('>f4'), he...\n",
      "resolvedJets_DL1rnn_pb           | std::vector<float>       | AsJagged(AsDtype('>f4'), he...\n",
      "resolvedJets_DL1rmu              | std::vector<float>       | AsJagged(AsDtype('>f4'), he...\n",
      "resolvedJets_DL1rmu_pu           | std::vector<float>       | AsJagged(AsDtype('>f4'), he...\n",
      "resolvedJets_DL1rmu_pc           | std::vector<float>       | AsJagged(AsDtype('>f4'), he...\n",
      "resolvedJets_DL1rmu_pb           | std::vector<float>       | AsJagged(AsDtype('>f4'), he...\n",
      "resolvedJets_DL1r                | std::vector<float>       | AsJagged(AsDtype('>f4'), he...\n",
      "resolvedJets_DL1r_pu             | std::vector<float>       | AsJagged(AsDtype('>f4'), he...\n",
      "resolvedJets_DL1r_pc             | std::vector<float>       | AsJagged(AsDtype('>f4'), he...\n",
      "resolvedJets_DL1r_pb             | std::vector<float>       | AsJagged(AsDtype('>f4'), he...\n",
      "resolvedJets_HadronConeExclTr... | std::vector<int32_t>     | AsJagged(AsDtype('>i4'), he...\n",
      "resolvedJets_HadronConeExclEx... | std::vector<int32_t>     | AsJagged(AsDtype('>i4'), he...\n",
      "resolvedJets_JetVertexCharge_... | std::vector<double>      | AsJagged(AsDtype('>f8'), he...\n",
      "resolvedJets_is_DL1r_FixedCut... | std::vector<int32_t>     | AsJagged(AsDtype('>i4'), he...\n",
      "resolvedJets_SF_DL1r_FixedCut... | std::vector<std::vect... | AsObjects(AsVector(True, As...\n",
      "resolvedJets_is_DL1r_FixedCut... | std::vector<int32_t>     | AsJagged(AsDtype('>i4'), he...\n",
      "resolvedJets_SF_DL1r_FixedCut... | std::vector<std::vect... | AsObjects(AsVector(True, As...\n",
      "resolvedJets_is_DL1r_FixedCut... | std::vector<int32_t>     | AsJagged(AsDtype('>i4'), he...\n",
      "resolvedJets_SF_DL1r_FixedCut... | std::vector<std::vect... | AsObjects(AsVector(True, As...\n",
      "resolvedJets_Quantile_DL1r_Co... | std::vector<int32_t>     | AsJagged(AsDtype('>i4'), he...\n",
      "resolvedJets_SF_DL1r_Continuous  | std::vector<std::vect... | AsObjects(AsVector(True, As...\n",
      "resolvedJets_InefficiencySF_D... | std::vector<std::vect... | AsObjects(AsVector(True, As...\n",
      "nboostedJets                     | int32_t                  | AsDtype('>i4')\n",
      "boostedJets_m                    | std::vector<float>       | AsJagged(AsDtype('>f4'), he...\n",
      "boostedJets_pt                   | std::vector<float>       | AsJagged(AsDtype('>f4'), he...\n",
      "boostedJets_phi                  | std::vector<float>       | AsJagged(AsDtype('>f4'), he...\n",
      "boostedJets_eta                  | std::vector<float>       | AsJagged(AsDtype('>f4'), he...\n",
      "boostedJets_Split12              | std::vector<float>       | AsJagged(AsDtype('>f4'), he...\n",
      "boostedJets_Split23              | std::vector<float>       | AsJagged(AsDtype('>f4'), he...\n",
      "boostedJets_Split34              | std::vector<float>       | AsJagged(AsDtype('>f4'), he...\n",
      "boostedJets_tau1_wta             | std::vector<float>       | AsJagged(AsDtype('>f4'), he...\n",
      "boostedJets_tau2_wta             | std::vector<float>       | AsJagged(AsDtype('>f4'), he...\n",
      "boostedJets_tau3_wta             | std::vector<float>       | AsJagged(AsDtype('>f4'), he...\n",
      "boostedJets_tau21_wta            | std::vector<float>       | AsJagged(AsDtype('>f4'), he...\n",
      "boostedJets_tau32_wta            | std::vector<float>       | AsJagged(AsDtype('>f4'), he...\n",
      "boostedJets_ECF1                 | std::vector<float>       | AsJagged(AsDtype('>f4'), he...\n",
      "boostedJets_ECF2                 | std::vector<float>       | AsJagged(AsDtype('>f4'), he...\n",
      "boostedJets_ECF3                 | std::vector<float>       | AsJagged(AsDtype('>f4'), he...\n",
      "boostedJets_C2                   | std::vector<float>       | AsJagged(AsDtype('>f4'), he...\n",
      "boostedJets_D2                   | std::vector<float>       | AsJagged(AsDtype('>f4'), he...\n",
      "boostedJets_NTrimSubjets         | std::vector<float>       | AsJagged(AsDtype('>f4'), he...\n",
      "boostedJets_Nclusters            | std::vector<int32_t>     | AsJagged(AsDtype('>i4'), he...\n",
      "boostedJets_nTracks              | std::vector<int32_t>     | AsJagged(AsDtype('>i4'), he...\n",
      "boostedJets_ungrtrk500           | std::vector<int32_t>     | AsJagged(AsDtype('>i4'), he...\n",
      "boostedJets_EMFrac               | std::vector<float>       | AsJagged(AsDtype('>f4'), he...\n",
      "boostedJets_nChargedParticles    | std::vector<int32_t>     | AsJagged(AsDtype('>i4'), he...\n",
      "boostedJets_numConstituents      | std::vector<int32_t>     | AsJagged(AsDtype('>i4'), he...\n",
      "nboostedTrkJets                  | int32_t                  | AsDtype('>i4')\n",
      "boostedTrkJets_E                 | std::vector<float>       | AsJagged(AsDtype('>f4'), he...\n",
      "boostedTrkJets_pt                | std::vector<float>       | AsJagged(AsDtype('>f4'), he...\n",
      "boostedTrkJets_phi               | std::vector<float>       | AsJagged(AsDtype('>f4'), he...\n",
      "boostedTrkJets_eta               | std::vector<float>       | AsJagged(AsDtype('>f4'), he...\n",
      "boostedTrkJets_NumTrkPt1000PV    | std::vector<float>       | AsJagged(AsDtype('>f4'), he...\n",
      "boostedTrkJets_SumPtTrkPt1000PV  | std::vector<float>       | AsJagged(AsDtype('>f4'), he...\n",
      "boostedTrkJets_TrackWidthPt10... | std::vector<float>       | AsJagged(AsDtype('>f4'), he...\n",
      "boostedTrkJets_NumTrkPt500PV     | std::vector<float>       | AsJagged(AsDtype('>f4'), he...\n",
      "boostedTrkJets_SumPtTrkPt500PV   | std::vector<float>       | AsJagged(AsDtype('>f4'), he...\n",
      "boostedTrkJets_TrackWidthPt500PV | std::vector<float>       | AsJagged(AsDtype('>f4'), he...\n",
      "boostedTrkJets_JVFPV             | std::vector<float>       | AsJagged(AsDtype('>f4'), he...\n",
      "boostedTrkJets_JvtJvfcorr        | std::vector<float>       | AsJagged(AsDtype('>f4'), he...\n",
      "boostedTrkJets_JvtRpt            | std::vector<float>       | AsJagged(AsDtype('>f4'), he...\n",
      "boostedTrkJets_Jvt               | std::vector<float>       | AsJagged(AsDtype('>f4'), he...\n",
      "boostedTrkJets_JvtPass_Loose     | std::vector<int32_t>     | AsJagged(AsDtype('>i4'), he...\n",
      "boostedTrkJets_JvtEff_SF_Loose   | std::vector<std::vect... | AsObjects(AsVector(True, As...\n",
      "boostedTrkJets_JvtPass_Medium    | std::vector<int32_t>     | AsJagged(AsDtype('>i4'), he...\n",
      "boostedTrkJets_JvtEff_SF_Medium  | std::vector<std::vect... | AsObjects(AsVector(True, As...\n",
      "boostedTrkJets_JvtPass_Tight     | std::vector<int32_t>     | AsJagged(AsDtype('>i4'), he...\n",
      "boostedTrkJets_JvtEff_SF_Tight   | std::vector<std::vect... | AsObjects(AsVector(True, As...\n",
      "boostedTrkJets_fJvtPass_Medium   | std::vector<int32_t>     | AsJagged(AsDtype('>i4'), he...\n",
      "boostedTrkJets_fJvtEff_SF_Medium | std::vector<std::vect... | AsObjects(AsVector(True, As...\n",
      "boostedTrkJets_fJvtPass_Tight    | std::vector<int32_t>     | AsJagged(AsDtype('>i4'), he...\n",
      "boostedTrkJets_fJvtEff_SF_Tight  | std::vector<std::vect... | AsObjects(AsVector(True, As...\n",
      "boostedTrkJets_MV2c00            | std::vector<float>       | AsJagged(AsDtype('>f4'), he...\n",
      "boostedTrkJets_MV2c10            | std::vector<float>       | AsJagged(AsDtype('>f4'), he...\n",
      "boostedTrkJets_MV2c10mu          | std::vector<float>       | AsJagged(AsDtype('>f4'), he...\n",
      "boostedTrkJets_MV2c10rnn         | std::vector<float>       | AsJagged(AsDtype('>f4'), he...\n",
      "boostedTrkJets_MV2rmu            | std::vector<float>       | AsJagged(AsDtype('>f4'), he...\n",
      "boostedTrkJets_MV2r              | std::vector<float>       | AsJagged(AsDtype('>f4'), he...\n",
      "boostedTrkJets_MV2c20            | std::vector<float>       | AsJagged(AsDtype('>f4'), he...\n",
      "boostedTrkJets_MV2c100           | std::vector<float>       | AsJagged(AsDtype('>f4'), he...\n",
      "boostedTrkJets_DL1               | std::vector<float>       | AsJagged(AsDtype('>f4'), he...\n",
      "boostedTrkJets_DL1_pu            | std::vector<float>       | AsJagged(AsDtype('>f4'), he...\n",
      "boostedTrkJets_DL1_pc            | std::vector<float>       | AsJagged(AsDtype('>f4'), he...\n",
      "boostedTrkJets_DL1_pb            | std::vector<float>       | AsJagged(AsDtype('>f4'), he...\n",
      "boostedTrkJets_DL1mu             | std::vector<float>       | AsJagged(AsDtype('>f4'), he...\n",
      "boostedTrkJets_DL1mu_pu          | std::vector<float>       | AsJagged(AsDtype('>f4'), he...\n",
      "boostedTrkJets_DL1mu_pc          | std::vector<float>       | AsJagged(AsDtype('>f4'), he...\n",
      "boostedTrkJets_DL1mu_pb          | std::vector<float>       | AsJagged(AsDtype('>f4'), he...\n",
      "boostedTrkJets_DL1rnn            | std::vector<float>       | AsJagged(AsDtype('>f4'), he...\n",
      "boostedTrkJets_DL1rnn_pu         | std::vector<float>       | AsJagged(AsDtype('>f4'), he...\n",
      "boostedTrkJets_DL1rnn_pc         | std::vector<float>       | AsJagged(AsDtype('>f4'), he...\n",
      "boostedTrkJets_DL1rnn_pb         | std::vector<float>       | AsJagged(AsDtype('>f4'), he...\n",
      "boostedTrkJets_DL1rmu            | std::vector<float>       | AsJagged(AsDtype('>f4'), he...\n",
      "boostedTrkJets_DL1rmu_pu         | std::vector<float>       | AsJagged(AsDtype('>f4'), he...\n",
      "boostedTrkJets_DL1rmu_pc         | std::vector<float>       | AsJagged(AsDtype('>f4'), he...\n",
      "boostedTrkJets_DL1rmu_pb         | std::vector<float>       | AsJagged(AsDtype('>f4'), he...\n",
      "boostedTrkJets_DL1r              | std::vector<float>       | AsJagged(AsDtype('>f4'), he...\n",
      "boostedTrkJets_DL1r_pu           | std::vector<float>       | AsJagged(AsDtype('>f4'), he...\n",
      "boostedTrkJets_DL1r_pc           | std::vector<float>       | AsJagged(AsDtype('>f4'), he...\n",
      "boostedTrkJets_DL1r_pb           | std::vector<float>       | AsJagged(AsDtype('>f4'), he...\n",
      "boostedTrkJets_HadronConeExcl... | std::vector<int32_t>     | AsJagged(AsDtype('>i4'), he...\n",
      "boostedTrkJets_HadronConeExcl... | std::vector<int32_t>     | AsJagged(AsDtype('>i4'), he...\n",
      "boostedTrkJets_is_DL1r_FixedC... | std::vector<int32_t>     | AsJagged(AsDtype('>i4'), he...\n",
      "boostedTrkJets_SF_DL1r_FixedC... | std::vector<std::vect... | AsObjects(AsVector(True, As...\n",
      "boostedTrkJets_is_DL1r_FixedC... | std::vector<int32_t>     | AsJagged(AsDtype('>i4'), he...\n",
      "boostedTrkJets_SF_DL1r_FixedC... | std::vector<std::vect... | AsObjects(AsVector(True, As...\n",
      "boostedTrkJets_is_DL1r_FixedC... | std::vector<int32_t>     | AsJagged(AsDtype('>i4'), he...\n",
      "boostedTrkJets_SF_DL1r_FixedC... | std::vector<std::vect... | AsObjects(AsVector(True, As...\n",
      "boostedTrkJets_is_DL1r_FixedC... | std::vector<int32_t>     | AsJagged(AsDtype('>i4'), he...\n",
      "boostedTrkJets_SF_DL1r_FixedC... | std::vector<std::vect... | AsObjects(AsVector(True, As...\n",
      "nmuon                            | int32_t                  | AsDtype('>i4')\n",
      "muon_m                           | std::vector<float>       | AsJagged(AsDtype('>f4'), he...\n",
      "muon_pt                          | std::vector<float>       | AsJagged(AsDtype('>f4'), he...\n",
      "muon_phi                         | std::vector<float>       | AsJagged(AsDtype('>f4'), he...\n",
      "muon_eta                         | std::vector<float>       | AsJagged(AsDtype('>f4'), he...\n",
      "muon_charge                      | std::vector<float>       | AsJagged(AsDtype('>f4'), he...\n",
      "muon_isIsolated_FCTight          | std::vector<int32_t>     | AsJagged(AsDtype('>i4'), he...\n",
      "muon_trkd0                       | std::vector<float>       | AsJagged(AsDtype('>f4'), he...\n",
      "muon_trkd0sig                    | std::vector<float>       | AsJagged(AsDtype('>f4'), he...\n",
      "muon_trkz0                       | std::vector<float>       | AsJagged(AsDtype('>f4'), he...\n",
      "muon_trkz0sintheta               | std::vector<float>       | AsJagged(AsDtype('>f4'), he...\n",
      "muon_trkphi0                     | std::vector<float>       | AsJagged(AsDtype('>f4'), he...\n",
      "muon_trktheta                    | std::vector<float>       | AsJagged(AsDtype('>f4'), he...\n",
      "muon_trkcharge                   | std::vector<float>       | AsJagged(AsDtype('>f4'), he...\n",
      "muon_trkqOverP                   | std::vector<float>       | AsJagged(AsDtype('>f4'), he...\n",
      "muon_EnergyLoss                  | std::vector<float>       | AsJagged(AsDtype('>f4'), he...\n",
      "muon_EnergyLossSigma             | std::vector<float>       | AsJagged(AsDtype('>f4'), he...\n",
      "muon_energyLossType              | std::vector<uint8_t>     | AsJagged(AsDtype('uint8'), ...\n",
      "muon_MeasEnergyLoss              | std::vector<float>       | AsJagged(AsDtype('>f4'), he...\n",
      "muon_MeasEnergyLossSigma         | std::vector<float>       | AsJagged(AsDtype('>f4'), he...\n",
      "muon_ParamEnergyLoss             | std::vector<float>       | AsJagged(AsDtype('>f4'), he...\n",
      "muon_ParamEnergyLossSigmaMinus   | std::vector<float>       | AsJagged(AsDtype('>f4'), he...\n",
      "muon_ParamEnergyLossSigmaPlus    | std::vector<float>       | AsJagged(AsDtype('>f4'), he...\n",
      "ntruth                           | int32_t                  | AsDtype('>i4')\n",
      "truth_E                          | std::vector<float>       | AsJagged(AsDtype('>f4'), he...\n",
      "truth_pt                         | std::vector<float>       | AsJagged(AsDtype('>f4'), he...\n",
      "truth_phi                        | std::vector<float>       | AsJagged(AsDtype('>f4'), he...\n",
      "truth_eta                        | std::vector<float>       | AsJagged(AsDtype('>f4'), he...\n",
      "truth_pdgId                      | std::vector<int32_t>     | AsJagged(AsDtype('>i4'), he...\n",
      "truth_status                     | std::vector<int32_t>     | AsJagged(AsDtype('>i4'), he...\n",
      "truth_barcode                    | std::vector<int32_t>     | AsJagged(AsDtype('>i4'), he...\n",
      "truth_is_higgs                   | std::vector<int32_t>     | AsJagged(AsDtype('>i4'), he...\n",
      "truth_is_bhad                    | std::vector<int32_t>     | AsJagged(AsDtype('>i4'), he...\n",
      "truth_Bdecay_x                   | std::vector<float>       | AsJagged(AsDtype('>f4'), he...\n",
      "truth_Bdecay_y                   | std::vector<float>       | AsJagged(AsDtype('>f4'), he...\n",
      "truth_Bdecay_z                   | std::vector<float>       | AsJagged(AsDtype('>f4'), he...\n",
      "truth_nParents                   | std::vector<int32_t>     | AsJagged(AsDtype('>i4'), he...\n",
      "truth_parent_pdgId               | std::vector<std::vect... | AsObjects(AsVector(True, As...\n",
      "truth_parent_barcode             | std::vector<std::vect... | AsObjects(AsVector(True, As...\n",
      "truth_parent_status              | std::vector<std::vect... | AsObjects(AsVector(True, As...\n",
      "truth_nChildren                  | std::vector<int32_t>     | AsJagged(AsDtype('>i4'), he...\n",
      "truth_child_pdgId                | std::vector<std::vect... | AsObjects(AsVector(True, As...\n",
      "truth_child_barcode              | std::vector<std::vect... | AsObjects(AsVector(True, As...\n",
      "truth_child_status               | std::vector<std::vect... | AsObjects(AsVector(True, As...\n",
      "truth_mtt                        | double                   | AsDtype('>f8')\n",
      "isVHH                            | bool                     | AsDtype('bool')\n",
      "truth_mHH                        | double                   | AsDtype('>f8')\n",
      "truth_pT_H1                      | double                   | AsDtype('>f8')\n",
      "resolvedJets_bjetTrigSFs         | std::vector<std::vect... | AsObjects(AsVector(True, As...\n",
      "resolvedJets_jetTrigL1SFs        | vector<TrigSF>           | AsGroup(<TBranchElement 're...\n",
      "resolvedJets_jetTrigL1SFs/res... | float[]                  | AsJagged(AsDtype('>f4'))\n",
      "resolvedJets_jetTrigL1SFs/res... | float[]                  | AsJagged(AsDtype('>f4'))\n",
      "resolvedJets_jetTrigL1SFs/res... | float[]                  | AsJagged(AsDtype('>f4'))\n",
      "resolvedJets_jetTrigL1SFs/res... | float[]                  | AsJagged(AsDtype('>f4'))\n",
      "resolvedJets_jetTrigL1SFs_1up    | vector<TrigSF>           | AsGroup(<TBranchElement 're...\n",
      "resolvedJets_jetTrigL1SFs_1up... | float[]                  | AsJagged(AsDtype('>f4'))\n",
      "resolvedJets_jetTrigL1SFs_1up... | float[]                  | AsJagged(AsDtype('>f4'))\n",
      "resolvedJets_jetTrigL1SFs_1up... | float[]                  | AsJagged(AsDtype('>f4'))\n",
      "resolvedJets_jetTrigL1SFs_1up... | float[]                  | AsJagged(AsDtype('>f4'))\n",
      "resolvedJets_jetTrigL1SFs_1down  | vector<TrigSF>           | AsGroup(<TBranchElement 're...\n",
      "resolvedJets_jetTrigL1SFs_1do... | float[]                  | AsJagged(AsDtype('>f4'))\n",
      "resolvedJets_jetTrigL1SFs_1do... | float[]                  | AsJagged(AsDtype('>f4'))\n",
      "resolvedJets_jetTrigL1SFs_1do... | float[]                  | AsJagged(AsDtype('>f4'))\n",
      "resolvedJets_jetTrigL1SFs_1do... | float[]                  | AsJagged(AsDtype('>f4'))\n",
      "resolvedJets_jetTrigHLTSFs       | vector<TrigSF>           | AsGroup(<TBranchElement 're...\n",
      "resolvedJets_jetTrigHLTSFs/re... | float[]                  | AsJagged(AsDtype('>f4'))\n",
      "resolvedJets_jetTrigHLTSFs/re... | float[]                  | AsJagged(AsDtype('>f4'))\n",
      "resolvedJets_jetTrigHLTSFs/re... | float[]                  | AsJagged(AsDtype('>f4'))\n",
      "resolvedJets_jetTrigHLTSFs/re... | float[]                  | AsJagged(AsDtype('>f4'))\n",
      "resolvedJets_jetTrigHLTSFs_1up   | vector<TrigSF>           | AsGroup(<TBranchElement 're...\n",
      "resolvedJets_jetTrigHLTSFs_1u... | float[]                  | AsJagged(AsDtype('>f4'))\n",
      "resolvedJets_jetTrigHLTSFs_1u... | float[]                  | AsJagged(AsDtype('>f4'))\n",
      "resolvedJets_jetTrigHLTSFs_1u... | float[]                  | AsJagged(AsDtype('>f4'))\n",
      "resolvedJets_jetTrigHLTSFs_1u... | float[]                  | AsJagged(AsDtype('>f4'))\n",
      "resolvedJets_jetTrigHLTSFs_1down | vector<TrigSF>           | AsGroup(<TBranchElement 're...\n",
      "resolvedJets_jetTrigHLTSFs_1d... | float[]                  | AsJagged(AsDtype('>f4'))\n",
      "resolvedJets_jetTrigHLTSFs_1d... | float[]                  | AsJagged(AsDtype('>f4'))\n",
      "resolvedJets_jetTrigHLTSFs_1d... | float[]                  | AsJagged(AsDtype('>f4'))\n",
      "resolvedJets_jetTrigHLTSFs_1d... | float[]                  | AsJagged(AsDtype('>f4'))\n",
      "resolved_htTrigL1SF              | float                    | AsDtype('>f4')\n",
      "resolved_htTrigL1SF_1up          | float                    | AsDtype('>f4')\n",
      "resolved_htTrigL1SF_1down        | float                    | AsDtype('>f4')\n",
      "resolved_htTrigHLTSF             | float                    | AsDtype('>f4')\n",
      "resolved_htTrigHLTSF_1up         | float                    | AsDtype('>f4')\n",
      "resolved_htTrigHLTSF_1down       | float                    | AsDtype('>f4')\n",
      "resolvedJets_isOnlineTagged      | vector<TrigSF>           | AsGroup(<TBranchElement 're...\n",
      "resolvedJets_isOnlineTagged/r... | float[]                  | AsJagged(AsDtype('>f4'))\n",
      "resolvedJets_isOnlineTagged/r... | float[]                  | AsJagged(AsDtype('>f4'))\n",
      "resolvedJets_isOnlineTagged/r... | float[]                  | AsJagged(AsDtype('>f4'))\n",
      "resolvedJets_isOnlineTagged/r... | float[]                  | AsJagged(AsDtype('>f4'))\n",
      "resolvedJets_rawPt               | std::vector<float>       | AsJagged(AsDtype('>f4'), he...\n",
      "resolvedJets_pullMag             | std::vector<float>       | AsJagged(AsDtype('>f4'), he...\n",
      "resolvedJets_pullPhi             | std::vector<float>       | AsJagged(AsDtype('>f4'), he...\n",
      "resolved_nGoodJets               | int32_t                  | AsDtype('>i4')\n",
      "resolved_nBTags                  | int32_t                  | AsDtype('>i4')\n",
      "resolved_nValidPairings          | int32_t                  | AsDtype('>i4')\n",
      "resolved_isSR                    | bool                     | AsDtype('bool')\n",
      "resolved_isVR                    | bool                     | AsDtype('bool')\n",
      "resolved_isCR                    | bool                     | AsDtype('bool')\n",
      "resolved_mHH                     | float                    | AsDtype('>f4')\n",
      "boosted_nGoodJets                | int32_t                  | AsDtype('>i4')\n",
      "boosted_DEtaHH                   | float                    | AsDtype('>f4')\n",
      "boosted_mHH                      | float                    | AsDtype('>f4')\n",
      "boosted_isSR                     | bool                     | AsDtype('bool')\n",
      "boosted_isVR                     | bool                     | AsDtype('bool')\n",
      "boosted_isCR                     | bool                     | AsDtype('bool')\n",
      "boosted_is2b                     | bool                     | AsDtype('bool')\n",
      "boosted_is3b                     | bool                     | AsDtype('bool')\n",
      "boosted_is4b                     | bool                     | AsDtype('bool')\n",
      "boosted_is1b-1                   | bool                     | AsDtype('bool')\n",
      "boosted_is2b-1                   | bool                     | AsDtype('bool')\n",
      "boosted_is2b-2                   | bool                     | AsDtype('bool')\n",
      "boostedJets_ptcalo               | std::vector<float>       | AsJagged(AsDtype('>f4'), he...\n",
      "boostedJets_ptTA                 | std::vector<float>       | AsJagged(AsDtype('>f4'), he...\n",
      "boostedJets_etacalo              | std::vector<float>       | AsJagged(AsDtype('>f4'), he...\n",
      "boostedJets_etaTA                | std::vector<float>       | AsJagged(AsDtype('>f4'), he...\n",
      "boostedJets_phicalo              | std::vector<float>       | AsJagged(AsDtype('>f4'), he...\n",
      "boostedJets_phiTA                | std::vector<float>       | AsJagged(AsDtype('>f4'), he...\n",
      "boostedJets_mcalo                | std::vector<float>       | AsJagged(AsDtype('>f4'), he...\n",
      "boostedJets_mTA                  | std::vector<float>       | AsJagged(AsDtype('>f4'), he...\n",
      "boostedJets_dRjj                 | std::vector<float>       | AsJagged(AsDtype('>f4'), he...\n",
      "boostedJets_ntrk500              | std::vector<float>       | AsJagged(AsDtype('>f4'), he...\n",
      "boostedJets_ntrk1000             | std::vector<float>       | AsJagged(AsDtype('>f4'), he...\n",
      "boostedJets_trkwidth500          | std::vector<float>       | AsJagged(AsDtype('>f4'), he...\n",
      "boostedJets_trkwidth1000         | std::vector<float>       | AsJagged(AsDtype('>f4'), he...\n",
      "jet_ak2track_asso_fatjet         | std::vector<int32_t>     | AsJagged(AsDtype('>i4'), he...\n",
      "jet_ak2track_asso_sys            | std::vector<std::vect... | AsObjects(AsVector(True, As...\n",
      "boosted_bevent_sys               | std::vector<float>       | AsJagged(AsDtype('>f4'), he...\n",
      "boostedTrkJets_BHadPt            | std::vector<float>       | AsJagged(AsDtype('>f4'), he...\n",
      "boostedJets_Xbb202006_Higgs      | std::vector<float>       | AsJagged(AsDtype('>f4'), he...\n",
      "boostedJets_Xbb202006_Top        | std::vector<float>       | AsJagged(AsDtype('>f4'), he...\n",
      "boostedJets_Xbb202006_QCD        | std::vector<float>       | AsJagged(AsDtype('>f4'), he...\n",
      "boostedJets_Xbb2020v2_Higgs      | std::vector<float>       | AsJagged(AsDtype('>f4'), he...\n",
      "boostedJets_Xbb2020v2_Top        | std::vector<float>       | AsJagged(AsDtype('>f4'), he...\n",
      "boostedJets_Xbb2020v2_QCD        | std::vector<float>       | AsJagged(AsDtype('>f4'), he...\n",
      "boostedJets_Xbb2020v3_Higgs      | std::vector<float>       | AsJagged(AsDtype('>f4'), he...\n",
      "boostedJets_Xbb2020v3_Top        | std::vector<float>       | AsJagged(AsDtype('>f4'), he...\n",
      "boostedJets_Xbb2020v3_QCD        | std::vector<float>       | AsJagged(AsDtype('>f4'), he...\n",
      "truthjet_antikt4_pt              | std::vector<float>       | AsJagged(AsDtype('>f4'), he...\n",
      "truthjet_antikt4_eta             | std::vector<float>       | AsJagged(AsDtype('>f4'), he...\n",
      "truthjet_antikt4_phi             | std::vector<float>       | AsJagged(AsDtype('>f4'), he...\n",
      "truthjet_antikt4_m               | std::vector<float>       | AsJagged(AsDtype('>f4'), he...\n",
      "truthjet_antikt10_pt             | std::vector<float>       | AsJagged(AsDtype('>f4'), he...\n",
      "truthjet_antikt10_eta            | std::vector<float>       | AsJagged(AsDtype('>f4'), he...\n",
      "truthjet_antikt10_phi            | std::vector<float>       | AsJagged(AsDtype('>f4'), he...\n",
      "truthjet_antikt10_m              | std::vector<float>       | AsJagged(AsDtype('>f4'), he...\n",
      "passedEmulatedTriggerHashes      | std::vector<uint64_t>    | AsJagged(AsDtype('>u8'), he...\n",
      "GenFiltHT                        | float                    | AsDtype('>f4')\n",
      "weight                           | float                    | AsDtype('>f4')\n",
      "weight_xs                        | float                    | AsDtype('>f4')\n",
      "cleanEvent                       | bool                     | AsDtype('bool')\n",
      "passResolvedGRL                  | bool                     | AsDtype('bool')\n"
     ]
    }
   ],
   "source": [
    "MNTuple = uprooted['XhhMiniNtuple']\n",
    "# events.arrays([\"px1\", \"py1\", \"pz1\"])\n",
    "MNTuple.show(name_width=32,\n",
    "            interpretation_width=30)"
   ]
  },
  {
   "cell_type": "markdown",
   "id": "9fa4b6c0-9715-43ba-8bb4-88c563d69f99",
   "metadata": {},
   "source": [
    "## Load Utils"
   ]
  },
  {
   "cell_type": "code",
   "execution_count": 4,
   "id": "c22c1659-a14f-4998-a9ee-f14705359004",
   "metadata": {},
   "outputs": [],
   "source": [
    "import os\n",
    "import sys\n",
    "cwd = os.getcwd()\n",
    "path_head, path_tail = os.path.split(cwd)\n",
    "sys.path.append(path_head+'/utils')\n",
    "from ml_utils import dict_from_tree, DeltaR, tvt_num\n",
    "from time import perf_counter as cput"
   ]
  },
  {
   "cell_type": "code",
   "execution_count": 5,
   "id": "874876fa-d9b0-41a5-8495-a1b49b26eabe",
   "metadata": {
    "scrolled": true,
    "tags": []
   },
   "outputs": [
    {
     "name": "stdout",
     "output_type": "stream",
     "text": [
      "\n",
      "No information about the following:\n",
      "----------------------------------------\n",
      "boostedJets_Split34\n",
      "boostedJets_Nclusters\n",
      "boostedJets_EMFrac\n",
      "boostedJets_nChargedParticles\n",
      "\n",
      "Relevant substructure variables:\n",
      "----------------------------------------\n",
      "boostedJets_m\n",
      "boostedJets_pt\n",
      "boostedJets_phi\n",
      "boostedJets_eta\n",
      "boostedJets_Split12\n",
      "boostedJets_Split23\n",
      "boostedJets_Split34\n",
      "boostedJets_tau1_wta\n",
      "boostedJets_tau2_wta\n",
      "boostedJets_tau3_wta\n",
      "boostedJets_tau21_wta\n",
      "boostedJets_tau32_wta\n",
      "boostedJets_ECF1\n",
      "boostedJets_ECF2\n",
      "boostedJets_ECF3\n",
      "boostedJets_C2\n",
      "boostedJets_D2\n",
      "boostedJets_NTrimSubjets\n",
      "boostedJets_Nclusters\n",
      "boostedJets_nTracks\n",
      "boostedJets_ungrtrk500\n",
      "boostedJets_EMFrac\n",
      "boostedJets_nChargedParticles\n",
      "boostedJets_numConstituents\n"
     ]
    }
   ],
   "source": [
    "kitchen_sink = ['m', 'pt', 'phi', 'eta', 'Split12', 'Split23', 'Split34',\n",
    "            'tau1_wta', 'tau2_wta', 'tau3_wta', 'tau21_wta', 'tau32_wta',\n",
    "            'ECF1', 'ECF2', 'ECF3', 'C2', 'D2', 'NTrimSubjets', 'Nclusters',\n",
    "            'nTracks', 'ungrtrk500', 'EMFrac', 'nChargedParticles',\n",
    "            'numConstituents']\n",
    "truthJet_vars = ['truth_mHH', 'truthjet_antikt10_pt', 'truthjet_antikt10_eta',\n",
    "           'truthjet_antikt10_phi', 'truthjet_antikt10_m']\n",
    "\n",
    "# These are the substructure variables for which we have no information about\n",
    "no_info = ['Split34', 'Nclusters', 'EMFrac', 'nChargedParticles']\n",
    "\n",
    "for i, suffix in enumerate(kitchen_sink):\n",
    "    kitchen_sink[i] = 'boostedJets_'+suffix\n",
    "    \n",
    "for i, suffix in enumerate(no_info):\n",
    "    no_info[i] = 'boostedJets_'+suffix\n",
    "        \n",
    "print('\\nNo information about the following:')\n",
    "print('-'*40)\n",
    "for name in no_info:\n",
    "    print(name)\n",
    "    \n",
    "# This is the completed list for which we have all information\n",
    "boostedJets_keys = []\n",
    "print('\\nRelevant substructure variables:')\n",
    "print('-'*40)\n",
    "for cutlery in kitchen_sink:\n",
    "    print(cutlery)\n",
    "    if not cutlery in no_info:\n",
    "        boostedJets_keys.append(cutlery)"
   ]
  },
  {
   "cell_type": "markdown",
   "id": "a74c686c-1758-44ee-bd4e-9be64b53caa1",
   "metadata": {},
   "source": [
    "## Load Specified Arrays from NTuple into Dictionary"
   ]
  },
  {
   "cell_type": "code",
   "execution_count": 6,
   "id": "4f47e77f-f90a-4e75-a460-900217725791",
   "metadata": {},
   "outputs": [
    {
     "name": "stdout",
     "output_type": "stream",
     "text": [
      "Time to load arrays:   3.2740 (s)\n",
      "339978 Events\n"
     ]
    }
   ],
   "source": [
    "t0 = cput()\n",
    "boostedJets_dict = dict_from_tree(MNTuple, kitchen_sink, np_branches=None)\n",
    "truthJets_dict = dict_from_tree(MNTuple, truthJet_vars, np_branches=None)\n",
    "t1 = cput()\n",
    "load_time = t1 - t0\n",
    "print('Time to load arrays: {:8.4f} (s)'.format(load_time))\n",
    "\n",
    "nEvents = len(boostedJets_dict['boostedJets_m'])\n",
    "print('{} Events'.format(nEvents))"
   ]
  },
  {
   "cell_type": "markdown",
   "id": "5048e04b-8e81-43c2-89b9-7361a0bbfd90",
   "metadata": {},
   "source": [
    "### Preliminary Scan for Events With > 2 Jets"
   ]
  },
  {
   "cell_type": "code",
   "execution_count": 7,
   "id": "996157d9-9596-4e38-877f-5e3fe22dec2b",
   "metadata": {},
   "outputs": [
    {
     "name": "stdout",
     "output_type": "stream",
     "text": [
      "Number of events with > 2 jets: 95892\n",
      "Number of events total:         339978\n",
      "                                28.205354464112382 %\n",
      "time:    30.45 (s)\n"
     ]
    }
   ],
   "source": [
    "gt_twoJets = np.zeros(nEvents, dtype=bool)\n",
    "t0 = cput()\n",
    "for i in range(nEvents):\n",
    "    # just use jet pt as an arbitrary variable to look at how many jets\n",
    "    boostedJets_pt = ak.to_numpy(boostedJets_dict['boostedJets_pt'][i])\n",
    "    \n",
    "    if len(boostedJets_pt) >=2:\n",
    "        gt_twoJets[i] = True\n",
    "\n",
    "n2jets = np.count_nonzero(gt_twoJets)\n",
    "print('Number of events with > 2 jets: {}'.format(n2jets))\n",
    "print('Number of events total:         {}'.format(nEvents))\n",
    "print('                                {:5.2f} %'.format(n2jets*100/nEvents))\n",
    "t1 = cput()\n",
    "print('time: {:8.2f} (s)'.format(t1 - t0))"
   ]
  },
  {
   "cell_type": "markdown",
   "id": "13be05f2-b70b-4acc-a94c-5ca480606ca4",
   "metadata": {},
   "source": [
    "## Match Jets"
   ]
  },
  {
   "cell_type": "code",
   "execution_count": 8,
   "id": "9ac0f558-0f94-4f24-9a46-dc33181562d6",
   "metadata": {},
   "outputs": [
    {
     "name": "stdout",
     "output_type": "stream",
     "text": [
      "Time to complete jet matching:  1.693 (m)\n",
      "\n",
      "\n",
      "(94859, 3)\n"
     ]
    }
   ],
   "source": [
    "t0 = cput()\n",
    "# Track the DR between truth jets for leading and subleading\n",
    "# use -1 as an arbitrary flag\n",
    "LeadingJet_DR2 = np.full((n2jets,), -1, dtype=np.float64)\n",
    "subLeadingJet_DR2 = np.full((n2jets,), -1, dtype=np.float64)\n",
    "matched_jet_bool = np.zeros((n2jets,), dtype=bool)\n",
    "\n",
    "# int of events with more than two jets\n",
    "list_indices = np.arange(nEvents)\n",
    "evt_idx = np.ndarray.copy(list_indices[gt_twoJets])\n",
    "\n",
    "matched_jets = []\n",
    "for i, evt in enumerate(evt_idx):\n",
    "    \n",
    "    nTruthJets = ak.to_numpy(truthJets_dict['truthjet_antikt10_m'][evt]).shape[0]\n",
    "    truthJet_coords = np.empty((nTruthJets, 2))\n",
    "    # this can be vectorized easily (too tired)\n",
    "    for j in range(nTruthJets):\n",
    "        truthJet_coords[j,0] = truthJets_dict['truthjet_antikt10_eta'][evt][j]\n",
    "        truthJet_coords[j,1] = truthJets_dict['truthjet_antikt10_phi'][evt][j]\n",
    "    \n",
    "    ## Leading Jet\n",
    "    BoostedJet0_eta = boostedJets_dict['boostedJets_eta'][evt][0]\n",
    "    BoostedJet0_phi = boostedJets_dict['boostedJets_phi'][evt][0]\n",
    "    BoostedJet0_coords = np.array([BoostedJet0_eta, BoostedJet0_phi])\n",
    "    LeadingJet_DR_arr = DeltaR(truthJet_coords, BoostedJet0_coords)\n",
    "    \n",
    "    # Find the deltaR for the leading jet\n",
    "    LJ_DR = np.min(LeadingJet_DR_arr)\n",
    "    LJ_DR_idx = np.argmin(LeadingJet_DR_arr)\n",
    "    LJ_idx_bool = np.ones(LeadingJet_DR_arr.shape, dtype=bool)\n",
    "    LJ_idx_bool[LJ_DR_idx] = False\n",
    "    \n",
    "    # Find the next closest delta R for the next jet ordered in pt\n",
    "    LJ_DR2 = np.min(LeadingJet_DR_arr[LJ_idx_bool])\n",
    "    \n",
    "    ## Subleading Jet\n",
    "    BoostedJet1_eta = boostedJets_dict['boostedJets_eta'][evt][1]\n",
    "    BoostedJet1_phi = boostedJets_dict['boostedJets_phi'][evt][1]\n",
    "    BoostedJet1_coords = np.array([BoostedJet1_eta, BoostedJet1_phi])\n",
    "    subLeadingJet_DR_arr = DeltaR(truthJet_coords, BoostedJet1_coords)\n",
    "    \n",
    "    SLJ_DR = np.min(subLeadingJet_DR_arr)\n",
    "    SLJ_DR_idx = np.argmin(subLeadingJet_DR_arr)\n",
    "    SLJ_idx_bool = np.ones(subLeadingJet_DR_arr.shape, dtype=bool)\n",
    "    SLJ_idx_bool[SLJ_DR_idx] = False\n",
    "    \n",
    "    SLJ_DR2 = np.min(subLeadingJet_DR_arr[SLJ_idx_bool])\n",
    "    \n",
    "    if SLJ_DR_idx != LJ_DR_idx:\n",
    "        if LJ_DR < .1 and SLJ_DR < .1:\n",
    "            matched_jets.append([evt, LJ_DR_idx, SLJ_DR_idx])\n",
    "            matched_jet_bool[i] = True\n",
    "            LeadingJet_DR2[i] = LJ_DR2\n",
    "            subLeadingJet_DR2[i] = SLJ_DR2\n",
    "\n",
    "t1 = cput()\n",
    "print('Time to complete jet matching: {:6.3f} (m)'.format((t1 - t0)/60))\n",
    "print();print()\n",
    "matched_jets = np.array(matched_jets)\n",
    "print(matched_jets.shape)"
   ]
  },
  {
   "cell_type": "markdown",
   "id": "364c95ff-8dcd-4be3-9bc3-bd4d0cfb8b12",
   "metadata": {},
   "source": [
    "### Inspect Jet Matching\n",
    "### Check $\\Delta R$ to Nearest Jet"
   ]
  },
  {
   "cell_type": "code",
   "execution_count": 9,
   "id": "6fcb7d6d-0239-44ae-9601-061c9ec0aee9",
   "metadata": {},
   "outputs": [
    {
     "name": "stderr",
     "output_type": "stream",
     "text": [
      "findfont: Font family ['sans-serif'] not found. Falling back to DejaVu Sans.\n",
      "findfont: Generic family 'sans-serif' not found because none of the following families were found: Tex Gyre Heros, Helvetica, Nimbus Sans, FreeSans, Arial\n",
      "findfont: Font family ['sans-serif'] not found. Falling back to DejaVu Sans.\n",
      "findfont: Generic family 'sans-serif' not found because none of the following families were found: Tex Gyre Heros, Helvetica, Nimbus Sans, FreeSans, Arial\n",
      "findfont: Font family ['sans-serif'] not found. Falling back to DejaVu Sans.\n",
      "findfont: Generic family 'sans-serif' not found because none of the following families were found: Tex Gyre Heros, Helvetica, Nimbus Sans, FreeSans, Arial\n"
     ]
    },
    {
     "data": {
      "image/png": "[encoded data removed]",
      "text/plain": [
       "<Figure size 432x288 with 1 Axes>"
      ]
     },
     "metadata": {
      "needs_background": "light"
     },
     "output_type": "display_data"
    },
    {
     "data": {
      "image/png": "[encoded data removed]",
      "text/plain": [
       "<Figure size 432x288 with 1 Axes>"
      ]
     },
     "metadata": {
      "needs_background": "light"
     },
     "output_type": "display_data"
    }
   ],
   "source": [
    "DR2_bins = np.linspace(0,4,num=50, endpoint=True)\n",
    "\n",
    "plt.hist(LeadingJet_DR2[matched_jet_bool], bins=DR2_bins, density=True,\n",
    "        edgecolor='black', alpha=.45, color='firebrick')\n",
    "plt.title('Leading Jet', fontsize=18)\n",
    "plt.xlabel('$\\Delta R$', fontsize=14)\n",
    "plt.xlim(np.min(DR2_bins), np.max(DR2_bins))\n",
    "plt.show()\n",
    "\n",
    "plt.hist(subLeadingJet_DR2[matched_jet_bool], bins=DR2_bins, density=True,\n",
    "        edgecolor='black', alpha=.45, color='forestgreen')\n",
    "plt.title('Sub-Leading Jet', fontsize=18)\n",
    "plt.xlabel('$\\Delta R$', fontsize=14)\n",
    "plt.xlim(np.min(DR2_bins), np.max(DR2_bins))\n",
    "plt.show()"
   ]
  },
  {
   "cell_type": "markdown",
   "id": "cb7e7202-6c5e-43a7-add7-682e22aeb729",
   "metadata": {},
   "source": [
    "## Fill arrays with inputs\n",
    "\n",
    "### Update Event Indices to Handle NAN\n",
    "Notes: Working on fixing this such that we actually update "
   ]
  },
  {
   "cell_type": "code",
   "execution_count": 10,
   "id": "3c99f3fa-f3b1-4764-9191-72d9f5891e9e",
   "metadata": {},
   "outputs": [
    {
     "name": "stdout",
     "output_type": "stream",
     "text": [
      "   0.09 (s)\n",
      "Before NaN test: 94859\n",
      "After NaN test: 94741\n",
      "Efficiency: 99.88 %\n",
      "\n",
      "Peek at matched jets info\n",
      "(94741, 3)\n",
      "[[ 1  0  1]\n",
      " [ 3  0  1]\n",
      " [ 9  0  1]\n",
      " [14  0  1]\n",
      " [20  0  1]]\n"
     ]
    }
   ],
   "source": [
    "boostedJets_norm_info = np.empty((len(boostedJets_keys), 2), dtype=np.float64)\n",
    "\n",
    "matched_evt_indices = np.ndarray.copy(matched_jets[:,0])\n",
    "matched_jet_indices = np.ndarray.copy(matched_jets[:,1:3])\n",
    "\n",
    "''' We can iteratively figure out what events have substructure variables which\n",
    "contain nan values by searching leading and subleading jets '''\n",
    "# start assuming all events are fine so nan boolean is all False\n",
    "# this is the length of the matched indices\n",
    "evt_nan_bool = np.full((matched_evt_indices.shape[0],), False, dtype=bool)\n",
    "t0 = cput()\n",
    "for jetVar in boostedJets_keys:\n",
    "    np_slice = ak.to_numpy(boostedJets_dict[jetVar]\n",
    "                           [matched_evt_indices,:2])\n",
    "    \n",
    "    lead_jet_bool = np.isnan(np_slice[:,0])\n",
    "    sublead_jet_bool = np.isnan(np_slice[:,1])\n",
    "    \n",
    "    # condense this to either jet having a nan in the substructure variable\n",
    "    jets_bool = np.logical_or(lead_jet_bool, sublead_jet_bool)\n",
    "    # update the event bool - sort of a memory for each substructure\n",
    "    evt_nan_bool = np.logical_or(evt_nan_bool, jets_bool)\n",
    "t1 = cput()\n",
    "\n",
    "print(' {:6.2f} (s)'.format(t1 - t0))\n",
    "\n",
    "# we have an array which points to events which have nans. Invert this\n",
    "# to find the good values for matched jets\n",
    "evt_notNan_bool = np.invert(evt_nan_bool)\n",
    "old_matched_evt_indices = np.ndarray.copy(matched_evt_indices)\n",
    "matched_evt_indices = np.ndarray.copy(matched_evt_indices[evt_notNan_bool])\n",
    "## Update Matched Jets!!! ##\n",
    "matched_jets = np.ndarray.copy(matched_jets[evt_notNan_bool,:])\n",
    "\n",
    "old_evt_num = old_matched_evt_indices.shape[0]\n",
    "new_evt_num = matched_evt_indices.shape[0]\n",
    "print('Before NaN test: {}'.format(old_evt_num))\n",
    "print('After NaN test: {}'.format(new_evt_num))\n",
    "print('Efficiency: {:5.2f} %'.format(new_evt_num*100/old_evt_num))\n",
    "\n",
    "print('\\nPeek at matched jets info')\n",
    "print(matched_jets.shape)\n",
    "print(matched_jets[:5,:])"
   ]
  },
  {
   "cell_type": "markdown",
   "id": "fb1bff41-6afe-4e0f-ab75-25c402a0abf9",
   "metadata": {},
   "source": [
    "### Mean and Standard Deviation Dictionary\n",
    "Note this is only for the relevant variables"
   ]
  },
  {
   "cell_type": "code",
   "execution_count": 11,
   "id": "cf828c7d-03c5-45a5-b9d6-1aea75960f10",
   "metadata": {},
   "outputs": [
    {
     "name": "stdout",
     "output_type": "stream",
     "text": [
      "   0.09 (s)\n",
      "boostedJets_m                 -  ['+1.105e+02', '+2.706e+01']\n",
      "boostedJets_pt                -  ['+5.878e+02', '+2.677e+02']\n",
      "boostedJets_phi               -  ['-3.557e-03', '+1.813e+00']\n",
      "boostedJets_eta               -  ['-9.388e-04', '+8.341e-01']\n",
      "boostedJets_Split12           -  ['+6.193e+01', '+2.715e+01']\n",
      "boostedJets_Split23           -  ['+1.215e+01', '+8.905e+00']\n",
      "boostedJets_tau1_wta          -  ['+1.601e-01', '+8.122e-02']\n",
      "boostedJets_tau2_wta          -  ['+4.805e-02', '+3.098e-02']\n",
      "boostedJets_tau3_wta          -  ['+3.055e-02', '+1.959e-02']\n",
      "boostedJets_tau21_wta         -  ['+3.221e-01', '+1.528e-01']\n",
      "boostedJets_tau32_wta         -  ['+6.322e-01', '+1.451e-01']\n",
      "boostedJets_ECF1              -  ['+5.707e+02', '+2.581e+02']\n",
      "boostedJets_ECF2              -  ['+3.118e+07', '+1.965e+07']\n",
      "boostedJets_ECF3              -  ['+2.262e+11', '+5.188e+11']\n",
      "boostedJets_C2                -  ['+1.247e-01', '+5.655e-02']\n",
      "boostedJets_D2                -  ['+1.301e+00', '+1.22e+00']\n",
      "boostedJets_NTrimSubjets      -  ['+2.206e+00', '+6.346e-01']\n",
      "boostedJets_nTracks           -  ['+3.479e+01', '+1.286e+01']\n",
      "boostedJets_ungrtrk500        -  ['+2.616e+01', '+7.749e+00']\n",
      "boostedJets_numConstituents   -  ['+1.862e+01', '+7.585e+00']\n"
     ]
    }
   ],
   "source": [
    "## SIGNIFICANT FIGURES HERE FOR NORMALIZATION\n",
    "SIG_FIGS = 4\n",
    "\n",
    "# boostedJets_mean_dict is a dictionary with an array containing the mean and\n",
    "# standard deviation of all the relevant substructure variables\n",
    "boostedJets_mean_dict = dict()\n",
    "matched_evt_indices = matched_jets[:,0]\n",
    "matched_jet_indices = matched_jets[:,1:3]\n",
    "\n",
    "t0 = cput()\n",
    "for var in boostedJets_keys:\n",
    "    \n",
    "    np_slice = ak.to_numpy(boostedJets_dict[var]\n",
    "                           [matched_evt_indices,:2])\n",
    "    \n",
    "    flat_arr = np_slice.flatten()\n",
    "    nan_bool = np.isnan(flat_arr)\n",
    "    if np.any(nan_bool):\n",
    "        raise ValueError('found nans')\n",
    "        \n",
    "    jetVar_mean = np.mean(flat_arr)\n",
    "    jetVar_std = np.std(flat_arr)\n",
    "    \n",
    "    boostedJets_mean_dict[var] = round_to_sigfigs([jetVar_mean, jetVar_std], sigfig=SIG_FIGS)\n",
    "t1 = cput()\n",
    "\n",
    "print(' {:6.2f} (s)'.format(t1 - t0))\n",
    "\n",
    "np.set_printoptions(precision=4, suppress=True)\n",
    "for key, item in boostedJets_mean_dict.items():\n",
    "    snstring = [np.format_float_scientific(x, precision=3, sign=True) for x in item]\n",
    "    print('{:30s}-  {}'.format(key, snstring))"
   ]
  },
  {
   "cell_type": "markdown",
   "id": "522e8fc6-08f1-494f-8fbf-6302eaa4045c",
   "metadata": {},
   "source": [
    "## Show All Substructure Variables\n",
    " - agnostic of leading versus subleading"
   ]
  },
  {
   "cell_type": "code",
   "execution_count": 12,
   "id": "7d21ad42-df80-4db0-8eac-4ffd6c89cb24",
   "metadata": {},
   "outputs": [
    {
     "name": "stdout",
     "output_type": "stream",
     "text": [
      "24\n",
      "24\n"
     ]
    }
   ],
   "source": [
    "## Load the plotting dictionary from the designated module\n",
    "from plotting_module import plot_dict_list as pdl\n",
    "print(len(kitchen_sink))\n",
    "print(len(pdl))\n",
    "plot_dict_raw = dict(zip(kitchen_sink, pdl))"
   ]
  },
  {
   "cell_type": "code",
   "execution_count": 13,
   "id": "8cb0316e-951b-472d-a8c5-7a1a5cd25c4c",
   "metadata": {
    "scrolled": true,
    "tags": []
   },
   "outputs": [
    {
     "name": "stdout",
     "output_type": "stream",
     "text": [
      "\n",
      "-- All Variables --\n",
      "----------------------------------------\n",
      "boostedJets_m\n",
      "boostedJets_pt\n",
      "boostedJets_phi\n",
      "boostedJets_eta\n",
      "boostedJets_Split12\n",
      "boostedJets_Split23\n",
      "boostedJets_Split34\n",
      "boostedJets_tau1_wta\n",
      "boostedJets_tau2_wta\n",
      "boostedJets_tau3_wta\n",
      "boostedJets_tau21_wta\n",
      "boostedJets_tau32_wta\n",
      "boostedJets_ECF1\n",
      "boostedJets_ECF2\n",
      "boostedJets_ECF3\n",
      "boostedJets_C2\n",
      "boostedJets_D2\n",
      "boostedJets_NTrimSubjets\n",
      "boostedJets_Nclusters\n",
      "boostedJets_nTracks\n",
      "boostedJets_ungrtrk500\n",
      "boostedJets_EMFrac\n",
      "boostedJets_nChargedParticles\n",
      "boostedJets_numConstituents\n",
      "\n",
      "\n",
      "boostedJets_m\n",
      "----------------------------------------\n"
     ]
    },
    {
     "name": "stderr",
     "output_type": "stream",
     "text": [
      "findfont: Font family ['sans-serif'] not found. Falling back to DejaVu Sans.\n",
      "findfont: Generic family 'sans-serif' not found because none of the following families were found: Tex Gyre Heros, Helvetica, Nimbus Sans, FreeSans, Arial\n"
     ]
    },
    {
     "data": {
      "image/png": "[encoded data removed]",
      "text/plain": [
       "<Figure size 576x360 with 1 Axes>"
      ]
     },
     "metadata": {
      "needs_background": "light"
     },
     "output_type": "display_data"
    },
    {
     "name": "stdout",
     "output_type": "stream",
     "text": [
      " 0: boostedJets_m mean/std\n",
      "----------------------------------------\n",
      " mean: +1.105e+02\n",
      " std:  +2.706e+01\n",
      "----------------------------------------\n",
      "\n",
      "\n",
      "boostedJets_pt\n",
      "----------------------------------------\n"
     ]
    },
    {
     "data": {
      "image/png": "[encoded data removed]",
      "text/plain": [
       "<Figure size 576x360 with 1 Axes>"
      ]
     },
     "metadata": {
      "needs_background": "light"
     },
     "output_type": "display_data"
    },
    {
     "name": "stdout",
     "output_type": "stream",
     "text": [
      " 1: boostedJets_pt mean/std\n",
      "----------------------------------------\n",
      " mean: +5.878e+02\n",
      " std:  +2.677e+02\n",
      "----------------------------------------\n",
      "\n",
      "\n",
      "boostedJets_phi\n",
      "----------------------------------------\n"
     ]
    },
    {
     "data": {
      "image/png": "[encoded data removed]",
      "text/plain": [
       "<Figure size 576x360 with 1 Axes>"
      ]
     },
     "metadata": {
      "needs_background": "light"
     },
     "output_type": "display_data"
    },
    {
     "name": "stdout",
     "output_type": "stream",
     "text": [
      " 2: boostedJets_phi mean/std\n",
      "----------------------------------------\n",
      " mean: -3.557e-03\n",
      " std:  +1.813e+00\n",
      "----------------------------------------\n",
      "\n",
      "\n",
      "boostedJets_eta\n",
      "----------------------------------------\n"
     ]
    },
    {
     "data": {
      "image/png": "[encoded data removed]",
      "text/plain": [
       "<Figure size 576x360 with 1 Axes>"
      ]
     },
     "metadata": {
      "needs_background": "light"
     },
     "output_type": "display_data"
    },
    {
     "name": "stdout",
     "output_type": "stream",
     "text": [
      " 3: boostedJets_eta mean/std\n",
      "----------------------------------------\n",
      " mean: -9.388e-04\n",
      " std:  +8.341e-01\n",
      "----------------------------------------\n",
      "\n",
      "\n",
      "boostedJets_Split12\n",
      "----------------------------------------\n"
     ]
    },
    {
     "data": {
      "image/png": "[encoded data removed]",
      "text/plain": [
       "<Figure size 576x360 with 1 Axes>"
      ]
     },
     "metadata": {
      "needs_background": "light"
     },
     "output_type": "display_data"
    },
    {
     "name": "stdout",
     "output_type": "stream",
     "text": [
      " 4: boostedJets_Split12 mean/std\n",
      "----------------------------------------\n",
      " mean: +6.193e+01\n",
      " std:  +2.715e+01\n",
      "----------------------------------------\n",
      "\n",
      "\n",
      "boostedJets_Split23\n",
      "----------------------------------------\n"
     ]
    },
    {
     "data": {
      "image/png": "[encoded data removed]",
      "text/plain": [
       "<Figure size 576x360 with 1 Axes>"
      ]
     },
     "metadata": {
      "needs_background": "light"
     },
     "output_type": "display_data"
    },
    {
     "name": "stdout",
     "output_type": "stream",
     "text": [
      " 5: boostedJets_Split23 mean/std\n",
      "----------------------------------------\n",
      " mean: +1.215e+01\n",
      " std:  +8.905e+00\n",
      "----------------------------------------\n",
      "\n",
      "\n",
      "boostedJets_Split34\n",
      "----------------------------------------\n"
     ]
    },
    {
     "data": {
      "image/png": "[encoded data removed]",
      "text/plain": [
       "<Figure size 576x360 with 1 Axes>"
      ]
     },
     "metadata": {
      "needs_background": "light"
     },
     "output_type": "display_data"
    },
    {
     "name": "stdout",
     "output_type": "stream",
     "text": [
      " 6: boostedJets_Split34 mean/std\n",
      "----------------------------------------\n",
      " mean: N/A\n",
      " std:  N/A\n",
      "----------------------------------------\n",
      "\n",
      "\n",
      "boostedJets_tau1_wta\n",
      "----------------------------------------\n"
     ]
    },
    {
     "data": {
      "image/png": "[encoded data removed]",
      "text/plain": [
       "<Figure size 576x360 with 1 Axes>"
      ]
     },
     "metadata": {
      "needs_background": "light"
     },
     "output_type": "display_data"
    },
    {
     "name": "stdout",
     "output_type": "stream",
     "text": [
      " 7: boostedJets_tau1_wta mean/std\n",
      "----------------------------------------\n",
      " mean: +1.601e-01\n",
      " std:  +8.122e-02\n",
      "----------------------------------------\n",
      "\n",
      "\n",
      "boostedJets_tau2_wta\n",
      "----------------------------------------\n"
     ]
    },
    {
     "data": {
      "image/png": "[encoded data removed]",
      "text/plain": [
       "<Figure size 576x360 with 1 Axes>"
      ]
     },
     "metadata": {
      "needs_background": "light"
     },
     "output_type": "display_data"
    },
    {
     "name": "stdout",
     "output_type": "stream",
     "text": [
      " 8: boostedJets_tau2_wta mean/std\n",
      "----------------------------------------\n",
      " mean: +4.805e-02\n",
      " std:  +3.098e-02\n",
      "----------------------------------------\n",
      "\n",
      "\n",
      "boostedJets_tau3_wta\n",
      "----------------------------------------\n"
     ]
    },
    {
     "data": {
      "image/png": "[encoded data removed]",
      "text/plain": [
       "<Figure size 576x360 with 1 Axes>"
      ]
     },
     "metadata": {
      "needs_background": "light"
     },
     "output_type": "display_data"
    },
    {
     "name": "stdout",
     "output_type": "stream",
     "text": [
      " 9: boostedJets_tau3_wta mean/std\n",
      "----------------------------------------\n",
      " mean: +3.055e-02\n",
      " std:  +1.959e-02\n",
      "----------------------------------------\n",
      "\n",
      "\n",
      "boostedJets_tau21_wta\n",
      "----------------------------------------\n"
     ]
    },
    {
     "data": {
      "image/png": "[encoded data removed]",
      "text/plain": [
       "<Figure size 576x360 with 1 Axes>"
      ]
     },
     "metadata": {
      "needs_background": "light"
     },
     "output_type": "display_data"
    },
    {
     "name": "stdout",
     "output_type": "stream",
     "text": [
      " 10: boostedJets_tau21_wta mean/std\n",
      "----------------------------------------\n",
      " mean: +3.221e-01\n",
      " std:  +1.528e-01\n",
      "----------------------------------------\n",
      "\n",
      "\n",
      "boostedJets_tau32_wta\n",
      "----------------------------------------\n"
     ]
    },
    {
     "data": {
      "image/png": "[encoded data removed]",
      "text/plain": [
       "<Figure size 576x360 with 1 Axes>"
      ]
     },
     "metadata": {
      "needs_background": "light"
     },
     "output_type": "display_data"
    },
    {
     "name": "stdout",
     "output_type": "stream",
     "text": [
      " 11: boostedJets_tau32_wta mean/std\n",
      "----------------------------------------\n",
      " mean: +6.322e-01\n",
      " std:  +1.451e-01\n",
      "----------------------------------------\n",
      "\n",
      "\n",
      "boostedJets_ECF1\n",
      "----------------------------------------\n"
     ]
    },
    {
     "data": {
      "image/png": "[encoded data removed]",
      "text/plain": [
       "<Figure size 576x360 with 1 Axes>"
      ]
     },
     "metadata": {
      "needs_background": "light"
     },
     "output_type": "display_data"
    },
    {
     "name": "stdout",
     "output_type": "stream",
     "text": [
      " 12: boostedJets_ECF1 mean/std\n",
      "----------------------------------------\n",
      " mean: +5.707e+02\n",
      " std:  +2.581e+02\n",
      "----------------------------------------\n",
      "\n",
      "\n",
      "boostedJets_ECF2\n",
      "----------------------------------------\n"
     ]
    },
    {
     "data": {
      "image/png": "[encoded data removed]",
      "text/plain": [
       "<Figure size 576x360 with 1 Axes>"
      ]
     },
     "metadata": {
      "needs_background": "light"
     },
     "output_type": "display_data"
    },
    {
     "name": "stdout",
     "output_type": "stream",
     "text": [
      " 13: boostedJets_ECF2 mean/std\n",
      "----------------------------------------\n",
      " mean: +3.118e+07\n",
      " std:  +1.965e+07\n",
      "----------------------------------------\n",
      "\n",
      "\n",
      "boostedJets_ECF3\n",
      "----------------------------------------\n"
     ]
    },
    {
     "data": {
      "image/png": "[encoded data removed]",
      "text/plain": [
       "<Figure size 576x360 with 1 Axes>"
      ]
     },
     "metadata": {
      "needs_background": "light"
     },
     "output_type": "display_data"
    },
    {
     "name": "stdout",
     "output_type": "stream",
     "text": [
      " 14: boostedJets_ECF3 mean/std\n",
      "----------------------------------------\n",
      " mean: +2.262e+11\n",
      " std:  +5.188e+11\n",
      "----------------------------------------\n",
      "\n",
      "\n",
      "boostedJets_C2\n",
      "----------------------------------------\n"
     ]
    },
    {
     "data": {
      "image/png": "[encoded data removed]",
      "text/plain": [
       "<Figure size 576x360 with 1 Axes>"
      ]
     },
     "metadata": {
      "needs_background": "light"
     },
     "output_type": "display_data"
    },
    {
     "name": "stdout",
     "output_type": "stream",
     "text": [
      " 15: boostedJets_C2 mean/std\n",
      "----------------------------------------\n",
      " mean: +1.247e-01\n",
      " std:  +5.655e-02\n",
      "----------------------------------------\n",
      "\n",
      "\n",
      "boostedJets_D2\n",
      "----------------------------------------\n"
     ]
    },
    {
     "data": {
      "image/png": "[encoded data removed]",
      "text/plain": [
       "<Figure size 576x360 with 1 Axes>"
      ]
     },
     "metadata": {
      "needs_background": "light"
     },
     "output_type": "display_data"
    },
    {
     "name": "stdout",
     "output_type": "stream",
     "text": [
      " 16: boostedJets_D2 mean/std\n",
      "----------------------------------------\n",
      " mean: +1.301e+00\n",
      " std:  +1.22e+00\n",
      "----------------------------------------\n",
      "\n",
      "\n",
      "boostedJets_NTrimSubjets\n",
      "----------------------------------------\n"
     ]
    },
    {
     "data": {
      "image/png": "[encoded data removed]",
      "text/plain": [
       "<Figure size 576x360 with 1 Axes>"
      ]
     },
     "metadata": {
      "needs_background": "light"
     },
     "output_type": "display_data"
    },
    {
     "name": "stdout",
     "output_type": "stream",
     "text": [
      " 17: boostedJets_NTrimSubjets mean/std\n",
      "----------------------------------------\n",
      " mean: +2.206e+00\n",
      " std:  +6.346e-01\n",
      "----------------------------------------\n",
      "\n",
      "\n",
      "boostedJets_Nclusters\n",
      "----------------------------------------\n"
     ]
    },
    {
     "data": {
      "image/png": "[encoded data removed]",
      "text/plain": [
       "<Figure size 576x360 with 1 Axes>"
      ]
     },
     "metadata": {
      "needs_background": "light"
     },
     "output_type": "display_data"
    },
    {
     "name": "stdout",
     "output_type": "stream",
     "text": [
      " 18: boostedJets_Nclusters mean/std\n",
      "----------------------------------------\n",
      " mean: N/A\n",
      " std:  N/A\n",
      "----------------------------------------\n",
      "\n",
      "\n",
      "boostedJets_nTracks\n",
      "----------------------------------------\n"
     ]
    },
    {
     "data": {
      "image/png": "[encoded data removed]",
      "text/plain": [
       "<Figure size 576x360 with 1 Axes>"
      ]
     },
     "metadata": {
      "needs_background": "light"
     },
     "output_type": "display_data"
    },
    {
     "name": "stdout",
     "output_type": "stream",
     "text": [
      " 19: boostedJets_nTracks mean/std\n",
      "----------------------------------------\n",
      " mean: +3.479e+01\n",
      " std:  +1.286e+01\n",
      "----------------------------------------\n",
      "\n",
      "\n",
      "boostedJets_ungrtrk500\n",
      "----------------------------------------\n"
     ]
    },
    {
     "data": {
      "image/png": "[encoded data removed]",
      "text/plain": [
       "<Figure size 576x360 with 1 Axes>"
      ]
     },
     "metadata": {
      "needs_background": "light"
     },
     "output_type": "display_data"
    },
    {
     "name": "stdout",
     "output_type": "stream",
     "text": [
      " 20: boostedJets_ungrtrk500 mean/std\n",
      "----------------------------------------\n",
      " mean: +2.616e+01\n",
      " std:  +7.749e+00\n",
      "----------------------------------------\n",
      "\n",
      "\n",
      "boostedJets_EMFrac\n",
      "----------------------------------------\n"
     ]
    },
    {
     "data": {
      "image/png": "[encoded data removed]",
      "text/plain": [
       "<Figure size 576x360 with 1 Axes>"
      ]
     },
     "metadata": {
      "needs_background": "light"
     },
     "output_type": "display_data"
    },
    {
     "name": "stdout",
     "output_type": "stream",
     "text": [
      " 21: boostedJets_EMFrac mean/std\n",
      "----------------------------------------\n",
      " mean: N/A\n",
      " std:  N/A\n",
      "----------------------------------------\n",
      "\n",
      "\n",
      "boostedJets_nChargedParticles\n",
      "----------------------------------------\n"
     ]
    },
    {
     "data": {
      "image/png": "[encoded data removed]",
      "text/plain": [
       "<Figure size 576x360 with 1 Axes>"
      ]
     },
     "metadata": {
      "needs_background": "light"
     },
     "output_type": "display_data"
    },
    {
     "name": "stdout",
     "output_type": "stream",
     "text": [
      " 22: boostedJets_nChargedParticles mean/std\n",
      "----------------------------------------\n",
      " mean: N/A\n",
      " std:  N/A\n",
      "----------------------------------------\n",
      "\n",
      "\n",
      "boostedJets_numConstituents\n",
      "----------------------------------------\n"
     ]
    },
    {
     "data": {
      "image/png": "[encoded data removed]",
      "text/plain": [
       "<Figure size 576x360 with 1 Axes>"
      ]
     },
     "metadata": {
      "needs_background": "light"
     },
     "output_type": "display_data"
    },
    {
     "name": "stdout",
     "output_type": "stream",
     "text": [
      " 23: boostedJets_numConstituents mean/std\n",
      "----------------------------------------\n",
      " mean: +1.862e+01\n",
      " std:  +7.585e+00\n",
      "----------------------------------------\n",
      "\n"
     ]
    }
   ],
   "source": [
    "print()\n",
    "print('-- All Variables --')\n",
    "print('-'*40)\n",
    "for cutlery in kitchen_sink:\n",
    "    print(cutlery)\n",
    "\n",
    "print()\n",
    "idx = 0\n",
    "for j, cutlery in enumerate(kitchen_sink):\n",
    "    flat_arr = ak.to_numpy(boostedJets_dict[cutlery]\n",
    "                           [matched_evt_indices,:2]).flatten()\n",
    "    \n",
    "    if cutlery in boostedJets_keys:\n",
    "        ksj_mean = boostedJets_mean_dict[cutlery][0]\n",
    "        ksj_std = boostedJets_mean_dict[cutlery][1]\n",
    "    else:\n",
    "        ksj_mean = None\n",
    "        ksj_std = None\n",
    "    \n",
    "    print('\\n{}'.format(cutlery))\n",
    "    print('-'*40)\n",
    "    fig = plt.figure(figsize=(8,5))\n",
    "    \n",
    "    thisplot_bins = plot_dict_raw[cutlery]['bins']\n",
    "    plt.hist(flat_arr, bins=thisplot_bins, alpha=.45)\n",
    "    plt.xlim(thisplot_bins[0], thisplot_bins[-1])\n",
    "    \n",
    "    if plot_dict_raw[cutlery]['semilogy']:\n",
    "        plt.semilogy()\n",
    "    plt.title(cutlery, fontsize=20)\n",
    "    plt.show()\n",
    "    print(' {}: {} mean/std'.format(j,cutlery))\n",
    "    print('-'*40)\n",
    "    if ksj_mean is not None:\n",
    "        meanstr = np.format_float_scientific(ksj_mean, precision=SIG_FIGS-1, sign=True)\n",
    "        stdstr = np.format_float_scientific(ksj_std, precision=SIG_FIGS-1, sign=True)\n",
    "        print(' mean: {}'.format(meanstr))\n",
    "        print(' std:  {}'.format(stdstr))\n",
    "    else:\n",
    "        print(' mean: N/A')\n",
    "        print(' std:  N/A')\n",
    "    print('-'*40);print()"
   ]
  },
  {
   "cell_type": "markdown",
   "id": "b6f91f3d-8672-4117-9019-7333a692e8c5",
   "metadata": {},
   "source": [
    "## Build Normalized Dictionary with Relevant Values Only\n",
    "\n",
    "We can construct an array of normalization data for only the boosted jet\n",
    "substructure variables for which we have information for. During the inspection\n",
    "of all the variables, we can just simply re-test for nans? No this isn't correct\n",
    "as we wish to check these arrays as we go through all variables... Do this in two\n",
    "sections\n",
    "\n",
    "\n",
    "Notes: A note about the variable naming scheme..\n",
    "\n",
    "boostedJets contains all the information about boosted jet substructure.\n",
    "\n",
    "boostedJets_keys are ONLY the keys which we care about (other entries have null information)\n",
    "\n",
    "boostedJets_normalized will contain all the normalized arrays WITH EVENT SELECTION APPLIED!!!\n",
    "\n",
    "boostedJets_norm_mean will contain all the mean and standard deviations"
   ]
  },
  {
   "cell_type": "code",
   "execution_count": 14,
   "id": "18e4f4bb-d15c-4fcd-915f-522fef722634",
   "metadata": {},
   "outputs": [],
   "source": [
    "## After inspecting the variables these are the variables which we want to log scale\n",
    "log_vars = ['boostedJets_ECF1', 'boostedJets_ECF2', 'boostedJets_ECF3']\n",
    "\n",
    "## just input these manually because we have seen the distributions\n",
    "special_case_vars = ['boostedJets_NTrimSubjets', 'boostedJets_nTracks', 'boostedJets_ungrtrk500']\n",
    "special_case_std = [1, 10, 10]\n",
    "special_case_std_dict = dict(zip(special_case_vars, special_case_std))"
   ]
  },
  {
   "cell_type": "code",
   "execution_count": 15,
   "id": "c9141c61-d346-474c-aeb4-e2d7fbe8cd8e",
   "metadata": {},
   "outputs": [
    {
     "name": "stdout",
     "output_type": "stream",
     "text": [
      "-- boostedJets_m --\n",
      "----------------------------------------\n",
      "mean: 110.5\n",
      "std: 27.06\n",
      "(94741, 2)\n",
      "\n",
      "-- boostedJets_pt --\n",
      "----------------------------------------\n",
      "mean: 587.8\n",
      "std: 267.7\n",
      "(94741, 2)\n",
      "\n",
      "-- boostedJets_phi --\n",
      "----------------------------------------\n",
      "mean: -0.003557\n",
      "std: 1.813\n",
      "(94741, 2)\n",
      "\n",
      "-- boostedJets_eta --\n",
      "----------------------------------------\n",
      "mean: -0.0009388\n",
      "std: 0.8341\n",
      "(94741, 2)\n",
      "\n",
      "-- boostedJets_Split12 --\n",
      "----------------------------------------\n",
      "mean: 61.92999999999999\n",
      "std: 27.15\n",
      "(94741, 2)\n",
      "\n",
      "-- boostedJets_Split23 --\n",
      "----------------------------------------\n",
      "mean: 12.15\n",
      "std: 8.905\n",
      "(94741, 2)\n",
      "\n",
      "-- boostedJets_tau1_wta --\n",
      "----------------------------------------\n",
      "mean: 0.16010000000000002\n",
      "std: 0.08122\n",
      "(94741, 2)\n",
      "\n",
      "-- boostedJets_tau2_wta --\n",
      "----------------------------------------\n",
      "mean: 0.048049999999999995\n",
      "std: 0.03098\n",
      "(94741, 2)\n",
      "\n",
      "-- boostedJets_tau3_wta --\n",
      "----------------------------------------\n",
      "mean: 0.03055\n",
      "std: 0.01959\n",
      "(94741, 2)\n",
      "\n",
      "-- boostedJets_tau21_wta --\n",
      "----------------------------------------\n",
      "mean: 0.32210000000000005\n",
      "std: 0.15280000000000002\n",
      "(94741, 2)\n",
      "\n",
      "-- boostedJets_tau32_wta --\n",
      "----------------------------------------\n",
      "mean: 0.6322000000000001\n",
      "std: 0.1451\n",
      "(94741, 2)\n",
      "\n",
      "-- boostedJets_ECF1 --\n",
      "----------------------------------------\n",
      "mean: 6.26\n",
      "std: 0.40590000000000004\n",
      "(94741, 2)\n",
      "\n",
      "-- boostedJets_ECF2 --\n",
      "----------------------------------------\n",
      "mean: 17.1\n",
      "std: 0.5691\n",
      "(94741, 2)\n",
      "\n",
      "-- boostedJets_ECF3 --\n",
      "----------------------------------------\n",
      "mean: 25.74\n",
      "std: 0.9006000000000001\n",
      "(94741, 2)\n",
      "\n",
      "-- boostedJets_C2 --\n",
      "----------------------------------------\n",
      "mean: 0.12470000000000002\n",
      "std: 0.05655\n",
      "(94741, 2)\n",
      "\n",
      "-- boostedJets_D2 --\n",
      "----------------------------------------\n",
      "mean: 1.301\n",
      "std: 1.22\n",
      "(94741, 2)\n",
      "\n",
      "-- boostedJets_NTrimSubjets --\n",
      "----------------------------------------\n",
      "mean: 2\n",
      "std: 1\n",
      "(94741, 2)\n",
      "\n",
      "-- boostedJets_nTracks --\n",
      "----------------------------------------\n",
      "mean: 34\n",
      "std: 10\n",
      "(94741, 2)\n",
      "\n",
      "-- boostedJets_ungrtrk500 --\n",
      "----------------------------------------\n",
      "mean: 26\n",
      "std: 10\n",
      "(94741, 2)\n",
      "\n",
      "-- boostedJets_numConstituents --\n",
      "----------------------------------------\n",
      "mean: 18.62\n",
      "std: 7.585\n",
      "(94741, 2)\n",
      "\n"
     ]
    }
   ],
   "source": [
    "boostedJets_normalized = dict()\n",
    "boostedJets_norm_mean = dict()\n",
    "display_vars = True\n",
    "\n",
    "for key in boostedJets_keys:\n",
    "    var_mean = boostedJets_mean_dict[key][0]\n",
    "    var_std = boostedJets_mean_dict[key][1]\n",
    "    \n",
    "    # for the slicing: first we take the leading and subleading jet so we have a\n",
    "    # \"rectangular\" shape for the array slice, as well as the matched event\n",
    "    # indices that we found prior\n",
    "    np_slice = ak.to_numpy(boostedJets_dict[key][matched_evt_indices,:2])\n",
    "\n",
    "    # Handle log scale variables separately\n",
    "    if key in log_vars:\n",
    "        nz_mask = np_slice == 0\n",
    "        if np.any(nz_mask):\n",
    "            print('Found zero values in ECF functions!!')\n",
    "            print('Variable: {}\\n'.format(key))\n",
    "            raise ValueError('Found zero values in ECF functions!!')\n",
    "\n",
    "        log_slice = np.log(np_slice)\n",
    "        log_mean = np.mean(log_slice.flatten())\n",
    "        log_std = np.std(log_slice.flatten())\n",
    "        \n",
    "        # need to make a small array for mean and std with same rounding scheme\n",
    "        mean_sl = round_to_sigfigs([log_mean, log_std], sigfig=SIG_FIGS)\n",
    "        boostedJets_norm_mean[key] = np.ndarray.copy(mean_sl)\n",
    "\n",
    "        # set values in the dictionaries\n",
    "        boostedJets_normalized[key] = (log_slice - log_mean) / log_std\n",
    "\n",
    "    # discrete variables\n",
    "    elif key in special_case_vars:\n",
    "        ''' For now these seem to be the discrete variables, so we\n",
    "        can get away with dealing with integers '''\n",
    "        mean_spc = int(np.mean(np_slice))\n",
    "        std_spc  = special_case_std_dict[key]\n",
    "\n",
    "        # change these values in the dictionary\n",
    "        boostedJets_norm_mean[key] = np.array([mean_spc, std_spc])\n",
    "\n",
    "        # set values in the dictionaries\n",
    "        boostedJets_normalized[key] = (np_slice - mean_spc) / std_spc\n",
    "\n",
    "    # normalization procedure for 'normal' continuous variables \n",
    "    else:\n",
    "        # nothing to modify about mean/std, so just make a copy\n",
    "        boostedJets_norm_mean[key] = np.ndarray.copy(\n",
    "            boostedJets_mean_dict[key])  \n",
    "        \n",
    "        # standard normalization procedure\n",
    "        boostedJets_normalized[key] = (np_slice - var_mean) / var_std\n",
    "                       \n",
    "        \n",
    "    if display_vars:\n",
    "        print('-- {} --'.format(key))\n",
    "        print('-'*40)\n",
    "        print('mean: {}'.format(boostedJets_norm_mean[key][0]))\n",
    "        print('std: {}'.format(boostedJets_norm_mean[key][1]))\n",
    "        print(np_slice.shape)\n",
    "        print()\n",
    "if not display_vars:\n",
    "    print('\\nFinished constructing normalized dictionary!\\n')"
   ]
  },
  {
   "cell_type": "markdown",
   "id": "7493c499-0d11-42b2-82cd-339426f7cfd5",
   "metadata": {},
   "source": [
    "## Plot Normalized Variables"
   ]
  },
  {
   "cell_type": "code",
   "execution_count": 16,
   "id": "03a99374-ca47-495c-b08a-c0c543477233",
   "metadata": {},
   "outputs": [
    {
     "name": "stdout",
     "output_type": "stream",
     "text": [
      "20\n",
      "20\n"
     ]
    }
   ],
   "source": [
    "from plotting_module import plot_norm_list as pnl\n",
    "print(len(boostedJets_keys))\n",
    "print(len(pnl))\n",
    "plot_norm_dict = dict(zip(boostedJets_keys, pnl))"
   ]
  },
  {
   "cell_type": "code",
   "execution_count": 17,
   "id": "615f0e83-ec5e-48f9-a118-0917b73d65a7",
   "metadata": {
    "scrolled": true,
    "tags": []
   },
   "outputs": [
    {
     "name": "stdout",
     "output_type": "stream",
     "text": [
      "-- boostedJets_m --\n",
      "----------------------------------------\n"
     ]
    },
    {
     "data": {
      "image/png": "[encoded data removed]",
      "text/plain": [
       "<Figure size 432x288 with 1 Axes>"
      ]
     },
     "metadata": {
      "needs_background": "light"
     },
     "output_type": "display_data"
    },
    {
     "name": "stdout",
     "output_type": "stream",
     "text": [
      "mean: +1.105e+02\n",
      "std: +2.706e+01\n",
      "\n",
      "-- boostedJets_pt --\n",
      "----------------------------------------\n"
     ]
    },
    {
     "data": {
      "image/png": "[encoded data removed]",
      "text/plain": [
       "<Figure size 432x288 with 1 Axes>"
      ]
     },
     "metadata": {
      "needs_background": "light"
     },
     "output_type": "display_data"
    },
    {
     "name": "stdout",
     "output_type": "stream",
     "text": [
      "mean: +5.878e+02\n",
      "std: +2.677e+02\n",
      "\n",
      "-- boostedJets_phi --\n",
      "----------------------------------------\n"
     ]
    },
    {
     "data": {
      "image/png": "[encoded data removed]",
      "text/plain": [
       "<Figure size 432x288 with 1 Axes>"
      ]
     },
     "metadata": {
      "needs_background": "light"
     },
     "output_type": "display_data"
    },
    {
     "name": "stdout",
     "output_type": "stream",
     "text": [
      "mean: -3.557e-03\n",
      "std: +1.813e+00\n",
      "\n",
      "-- boostedJets_eta --\n",
      "----------------------------------------\n"
     ]
    },
    {
     "data": {
      "image/png": "[encoded data removed]",
      "text/plain": [
       "<Figure size 432x288 with 1 Axes>"
      ]
     },
     "metadata": {
      "needs_background": "light"
     },
     "output_type": "display_data"
    },
    {
     "name": "stdout",
     "output_type": "stream",
     "text": [
      "mean: -9.388e-04\n",
      "std: +8.341e-01\n",
      "\n",
      "-- boostedJets_Split12 --\n",
      "----------------------------------------\n"
     ]
    },
    {
     "data": {
      "image/png": "[encoded data removed]",
      "text/plain": [
       "<Figure size 432x288 with 1 Axes>"
      ]
     },
     "metadata": {
      "needs_background": "light"
     },
     "output_type": "display_data"
    },
    {
     "name": "stdout",
     "output_type": "stream",
     "text": [
      "mean: +6.193e+01\n",
      "std: +2.715e+01\n",
      "\n",
      "-- boostedJets_Split23 --\n",
      "----------------------------------------\n"
     ]
    },
    {
     "data": {
      "image/png": "[encoded data removed]",
      "text/plain": [
       "<Figure size 432x288 with 1 Axes>"
      ]
     },
     "metadata": {
      "needs_background": "light"
     },
     "output_type": "display_data"
    },
    {
     "name": "stdout",
     "output_type": "stream",
     "text": [
      "mean: +1.215e+01\n",
      "std: +8.905e+00\n",
      "\n",
      "-- boostedJets_tau1_wta --\n",
      "----------------------------------------\n"
     ]
    },
    {
     "data": {
      "image/png": "[encoded data removed]",
      "text/plain": [
       "<Figure size 432x288 with 1 Axes>"
      ]
     },
     "metadata": {
      "needs_background": "light"
     },
     "output_type": "display_data"
    },
    {
     "name": "stdout",
     "output_type": "stream",
     "text": [
      "mean: +1.601e-01\n",
      "std: +8.122e-02\n",
      "\n",
      "-- boostedJets_tau2_wta --\n",
      "----------------------------------------\n"
     ]
    },
    {
     "data": {
      "image/png": "[encoded data removed]",
      "text/plain": [
       "<Figure size 432x288 with 1 Axes>"
      ]
     },
     "metadata": {
      "needs_background": "light"
     },
     "output_type": "display_data"
    },
    {
     "name": "stdout",
     "output_type": "stream",
     "text": [
      "mean: +4.805e-02\n",
      "std: +3.098e-02\n",
      "\n",
      "-- boostedJets_tau3_wta --\n",
      "----------------------------------------\n"
     ]
    },
    {
     "data": {
      "image/png": "[encoded data removed]",
      "text/plain": [
       "<Figure size 432x288 with 1 Axes>"
      ]
     },
     "metadata": {
      "needs_background": "light"
     },
     "output_type": "display_data"
    },
    {
     "name": "stdout",
     "output_type": "stream",
     "text": [
      "mean: +3.055e-02\n",
      "std: +1.959e-02\n",
      "\n",
      "-- boostedJets_tau21_wta --\n",
      "----------------------------------------\n"
     ]
    },
    {
     "data": {
      "image/png": "[encoded data removed]",
      "text/plain": [
       "<Figure size 432x288 with 1 Axes>"
      ]
     },
     "metadata": {
      "needs_background": "light"
     },
     "output_type": "display_data"
    },
    {
     "name": "stdout",
     "output_type": "stream",
     "text": [
      "mean: +3.221e-01\n",
      "std: +1.528e-01\n",
      "\n",
      "-- boostedJets_tau32_wta --\n",
      "----------------------------------------\n"
     ]
    },
    {
     "data": {
      "image/png": "[encoded data removed]",
      "text/plain": [
       "<Figure size 432x288 with 1 Axes>"
      ]
     },
     "metadata": {
      "needs_background": "light"
     },
     "output_type": "display_data"
    },
    {
     "name": "stdout",
     "output_type": "stream",
     "text": [
      "mean: +6.322e-01\n",
      "std: +1.451e-01\n",
      "\n",
      "-- boostedJets_ECF1 --\n",
      "----------------------------------------\n"
     ]
    },
    {
     "data": {
      "image/png": "[encoded data removed]",
      "text/plain": [
       "<Figure size 432x288 with 1 Axes>"
      ]
     },
     "metadata": {
      "needs_background": "light"
     },
     "output_type": "display_data"
    },
    {
     "name": "stdout",
     "output_type": "stream",
     "text": [
      "mean: +6.26e+00\n",
      "std: +4.059e-01\n",
      "\n",
      "-- boostedJets_ECF2 --\n",
      "----------------------------------------\n"
     ]
    },
    {
     "data": {
      "image/png": "[encoded data removed]",
      "text/plain": [
       "<Figure size 432x288 with 1 Axes>"
      ]
     },
     "metadata": {
      "needs_background": "light"
     },
     "output_type": "display_data"
    },
    {
     "name": "stdout",
     "output_type": "stream",
     "text": [
      "mean: +1.71e+01\n",
      "std: +5.691e-01\n",
      "\n",
      "-- boostedJets_ECF3 --\n",
      "----------------------------------------\n"
     ]
    },
    {
     "data": {
      "image/png": "[encoded data removed]",
      "text/plain": [
       "<Figure size 432x288 with 1 Axes>"
      ]
     },
     "metadata": {
      "needs_background": "light"
     },
     "output_type": "display_data"
    },
    {
     "name": "stdout",
     "output_type": "stream",
     "text": [
      "mean: +2.574e+01\n",
      "std: +9.006e-01\n",
      "\n",
      "-- boostedJets_C2 --\n",
      "----------------------------------------\n"
     ]
    },
    {
     "data": {
      "image/png": "[encoded data removed]",
      "text/plain": [
       "<Figure size 432x288 with 1 Axes>"
      ]
     },
     "metadata": {
      "needs_background": "light"
     },
     "output_type": "display_data"
    },
    {
     "name": "stdout",
     "output_type": "stream",
     "text": [
      "mean: +1.247e-01\n",
      "std: +5.655e-02\n",
      "\n",
      "-- boostedJets_D2 --\n",
      "----------------------------------------\n"
     ]
    },
    {
     "data": {
      "image/png": "[encoded data removed]",
      "text/plain": [
       "<Figure size 432x288 with 1 Axes>"
      ]
     },
     "metadata": {
      "needs_background": "light"
     },
     "output_type": "display_data"
    },
    {
     "name": "stdout",
     "output_type": "stream",
     "text": [
      "mean: +1.301e+00\n",
      "std: +1.22e+00\n",
      "\n",
      "-- boostedJets_NTrimSubjets --\n",
      "----------------------------------------\n"
     ]
    },
    {
     "data": {
      "image/png": "[encoded data removed]",
      "text/plain": [
       "<Figure size 432x288 with 1 Axes>"
      ]
     },
     "metadata": {
      "needs_background": "light"
     },
     "output_type": "display_data"
    },
    {
     "name": "stdout",
     "output_type": "stream",
     "text": [
      "mean: +2.e+00\n",
      "std: +1.e+00\n",
      "\n",
      "-- boostedJets_nTracks --\n",
      "----------------------------------------\n"
     ]
    },
    {
     "data": {
      "image/png": "[encoded data removed]",
      "text/plain": [
       "<Figure size 432x288 with 1 Axes>"
      ]
     },
     "metadata": {
      "needs_background": "light"
     },
     "output_type": "display_data"
    },
    {
     "name": "stdout",
     "output_type": "stream",
     "text": [
      "mean: +3.4e+01\n",
      "std: +1.e+01\n",
      "\n",
      "-- boostedJets_ungrtrk500 --\n",
      "----------------------------------------\n"
     ]
    },
    {
     "data": {
      "image/png": "[encoded data removed]",
      "text/plain": [
       "<Figure size 432x288 with 1 Axes>"
      ]
     },
     "metadata": {
      "needs_background": "light"
     },
     "output_type": "display_data"
    },
    {
     "name": "stdout",
     "output_type": "stream",
     "text": [
      "mean: +2.6e+01\n",
      "std: +1.e+01\n",
      "\n",
      "-- boostedJets_numConstituents --\n",
      "----------------------------------------\n"
     ]
    },
    {
     "data": {
      "image/png": "[encoded data removed]",
      "text/plain": [
       "<Figure size 432x288 with 1 Axes>"
      ]
     },
     "metadata": {
      "needs_background": "light"
     },
     "output_type": "display_data"
    },
    {
     "name": "stdout",
     "output_type": "stream",
     "text": [
      "mean: +1.862e+01\n",
      "std: +7.585e+00\n",
      "\n"
     ]
    }
   ],
   "source": [
    "for key in boostedJets_keys:\n",
    "\n",
    "    var_mean = boostedJets_norm_mean[key][0]\n",
    "    var_std = boostedJets_norm_mean[key][1]\n",
    "    # Show the histograms of flattened variables\n",
    "    \n",
    "    A = boostedJets_normalized[key].flatten()\n",
    "    print('-- {} --'.format(key))\n",
    "    print('-'*40)\n",
    "    bons = plot_norm_dict[key]['bins']\n",
    "    plt.hist(A, bins=bons)\n",
    "    plt.xlim(bons[0], bons[-1])\n",
    "    plt.show()\n",
    "    mean_sci = np.format_float_scientific(var_mean, precision=3, sign=True)\n",
    "    std_sci = np.format_float_scientific(var_std, precision=3, sign=True)\n",
    "    print('mean: {}'.format(mean_sci))\n",
    "    print('std: {}'.format(std_sci))\n",
    "    print()"
   ]
  },
  {
   "cell_type": "markdown",
   "id": "ac1c8e15-76d1-4dc7-8cc6-5830fded3734",
   "metadata": {},
   "source": [
    "## Fill Arrays With Relevant Variables\n",
    "### Truth\n",
    "Note this has to be done in a loop because in rare cases the truth leading pt does not match the reconstructed leading pt geometrically, rather the geometric match is switched in order of pt"
   ]
  },
  {
   "cell_type": "code",
   "execution_count": 18,
   "id": "336ab9a2-a309-449c-8187-95afbc079f60",
   "metadata": {},
   "outputs": [],
   "source": [
    "Y = np.empty((matched_jets.shape[0],2))"
   ]
  },
  {
   "cell_type": "code",
   "execution_count": 19,
   "id": "4fad3846-a5a5-45f7-b916-21bcd80eae8e",
   "metadata": {},
   "outputs": [
    {
     "name": "stdout",
     "output_type": "stream",
     "text": [
      "14.048681640997529 (s)\n"
     ]
    }
   ],
   "source": [
    "t0 = cput()\n",
    "for i in range(matched_jets.shape[0]):\n",
    "    evt, ld_idx, sld_idx = matched_jets[i,:]\n",
    "    \n",
    "    # Truth Jet\n",
    "    ''' in rare circumstances these can be mismatched with reco\n",
    "    jets so we need to be consistent with this! '''\n",
    "    Y[i,0] = truthJets_dict['truthjet_antikt10_m'][evt][ld_idx]\n",
    "    Y[i,1] = truthJets_dict['truthjet_antikt10_m'][evt][sld_idx]\n",
    "t1 = cput()\n",
    "print('{} (s)'.format(t1 - t0))"
   ]
  },
  {
   "cell_type": "markdown",
   "id": "40672620-4074-4ec6-80ee-68a447660415",
   "metadata": {},
   "source": [
    "### Normalize Target"
   ]
  },
  {
   "cell_type": "code",
   "execution_count": 20,
   "id": "307a0fdc-bacd-486e-a68c-486e2c2ebd97",
   "metadata": {},
   "outputs": [],
   "source": [
    "Yn = (Y - 1e5) / 1e5 #this is in MeV"
   ]
  },
  {
   "cell_type": "markdown",
   "id": "1415b501-48a2-42fa-aa06-0253d51548d6",
   "metadata": {},
   "source": [
    "### Target"
   ]
  },
  {
   "cell_type": "code",
   "execution_count": 21,
   "id": "bff2ce14-1723-477e-81a1-c1e9a0b7c938",
   "metadata": {},
   "outputs": [
    {
     "name": "stderr",
     "output_type": "stream",
     "text": [
      "findfont: Font family ['sans-serif'] not found. Falling back to DejaVu Sans.\n",
      "findfont: Generic family 'sans-serif' not found because none of the following families were found: Tex Gyre Heros, Helvetica, Nimbus Sans, FreeSans, Arial\n"
     ]
    },
    {
     "data": {
      "image/png": "[encoded data removed]",
      "text/plain": [
       "<Figure size 432x288 with 1 Axes>"
      ]
     },
     "metadata": {
      "needs_background": "light"
     },
     "output_type": "display_data"
    }
   ],
   "source": [
    "# This is an artifact of how we viewd the unnormalized target\n",
    "target_bins = np.linspace(0,175,100,endpoint=True)\n",
    "targetn_bins = (target_bins - 1e2) / 1e2 #because of MeV to GeV as above\n",
    "\n",
    "plt.hist(Yn[:,0], bins=targetn_bins, label='leading', alpha=.65, color='thistle',\n",
    "        edgecolor='black', histtype='stepfilled')\n",
    "plt.hist(Yn[:,1], bins=targetn_bins, label='sub leading', alpha=.65,\n",
    "         color='greenyellow', edgecolor='black', histtype='stepfilled')\n",
    "plt.xlim(np.min(targetn_bins), np.max(targetn_bins))\n",
    "plt.xlabel('Normalized Truth Jet Mass', fontsize=12)\n",
    "plt.legend()\n",
    "plt.tight_layout()\n",
    "# plt.savefig('Plots/Sept22/truthJetMass_normalized.png')\n",
    "plt.show()"
   ]
  },
  {
   "cell_type": "markdown",
   "id": "f4c4dc6e-684f-495b-b19b-f69199050be3",
   "metadata": {},
   "source": [
    "### Reconstructed Jets"
   ]
  },
  {
   "cell_type": "code",
   "execution_count": 22,
   "id": "f185d685-1c3d-4c00-9172-569dcf572bbf",
   "metadata": {},
   "outputs": [
    {
     "name": "stdout",
     "output_type": "stream",
     "text": [
      "20\n",
      "94741\n"
     ]
    }
   ],
   "source": [
    "Nvars = len(boostedJets_keys)\n",
    "print(Nvars)\n",
    "nEvts_new = boostedJets_normalized[boostedJets_keys[0]].shape[0]\n",
    "print(nEvts_new)"
   ]
  },
  {
   "cell_type": "code",
   "execution_count": 23,
   "id": "47950e7f-289a-4456-8944-92d9be13c9c1",
   "metadata": {},
   "outputs": [],
   "source": [
    "X_all = np.empty((nEvts_new, 2*Nvars))\n",
    "\n",
    "X_nomass_list, X_nomasspt_list = [], []\n",
    "for j, key in enumerate(boostedJets_keys):\n",
    "    # leading jet, take the 0th index\n",
    "    X_all[:,j] = boostedJets_normalized[key][:,0]\n",
    "    # subleading jet\n",
    "    X_all[:,j+Nvars-1] = boostedJets_normalized[key][:,1]\n",
    "    \n",
    "    # these lists control variables to train on!\n",
    "    if not key == 'boostedJets_m':\n",
    "        X_nomass_list.append(key)\n",
    "    if not key in ['boostedJets_m', 'boostedJets_pt']:\n",
    "        X_nomasspt_list.append(key)\n",
    "        \n",
    "# create an X array which has the same number of features as the list\n",
    "X_nomass = np.empty((nEvts_new, 2*(Nvars -1 )))\n",
    "skip = int(np.floor(len(X_nomass_list)))\n",
    "for j, key in enumerate(X_nomass_list):\n",
    "    j2 = j + skip\n",
    "    X_nomass[:,j] = boostedJets_normalized[key][:,0]\n",
    "    X_nomass[:,j2] = boostedJets_normalized[key][:,1]\n",
    "\n",
    "# similarly, xnomass_pt does not have mass or pt for the jets\n",
    "X_nomasspt = np.empty((nEvts_new, 2*(Nvars -2 )))\n",
    "skip = int(np.floor(len(X_nomasspt_list)))\n",
    "for j, key in enumerate(X_nomasspt_list):\n",
    "    j2 = j + skip\n",
    "    X_nomasspt[:,j] = boostedJets_normalized[key][:,0]\n",
    "    X_nomasspt[:,j2] = boostedJets_normalized[key][:,1]"
   ]
  },
  {
   "cell_type": "markdown",
   "id": "49694480-1496-4521-8c53-51c3d107078d",
   "metadata": {},
   "source": [
    "### Split Variables for Training and Testing"
   ]
  },
  {
   "cell_type": "code",
   "execution_count": 24,
   "id": "2af78181-6967-4c90-b647-fdbc9d3b283c",
   "metadata": {},
   "outputs": [
    {
     "name": "stdout",
     "output_type": "stream",
     "text": [
      "*----------------------------*\n",
      "  -- TRAINING STATISTICS --\n",
      "------------------------------\n",
      "Training   :  66319\n",
      "Validation :  14211\n",
      "Testing    :  14211\n",
      "*----------------------------*\n"
     ]
    }
   ],
   "source": [
    "NTrain, NVal, NTest = tvt_num(Yn, (70,15,15))\n",
    "print('*'+'-'*28+'*')\n",
    "print('  -- TRAINING STATISTICS --')\n",
    "print('-'*30)\n",
    "print('Training   :  {}'.format(NTrain))\n",
    "print('Validation :  {}'.format(NVal))\n",
    "print('Testing    :  {}'.format(NTest))\n",
    "print('*'+'-'*28+'*')"
   ]
  },
  {
   "cell_type": "code",
   "execution_count": 25,
   "id": "8eff5145-df0c-4eab-ba68-e585265f0ca5",
   "metadata": {},
   "outputs": [
    {
     "name": "stdout",
     "output_type": "stream",
     "text": [
      " -- X all --\n",
      "(66319, 40)\n",
      "(14211, 40)\n",
      "(14211, 40)\n",
      "\n",
      " -- X no mass --\n",
      "(66319, 38)\n",
      "(14211, 38)\n",
      "(14211, 38)\n",
      "\n",
      " -- X no mass or pt --\n",
      "(66319, 36)\n",
      "(14211, 36)\n",
      "(14211, 36)\n",
      "\n"
     ]
    }
   ],
   "source": [
    "X_all_tr = X_all[:NTrain,:]\n",
    "X_all_val = X_all[NTrain:NVal+NTrain,:]\n",
    "X_all_test = X_all[NVal+NTrain:,:]\n",
    "\n",
    "X_nomass_tr = X_nomass[:NTrain,:]\n",
    "X_nomass_val = X_nomass[NTrain:NVal+NTrain,:]\n",
    "X_nomass_test = X_nomass[NVal+NTrain:,:]\n",
    "\n",
    "X_nomasspt_tr = X_nomasspt[:NTrain,:]\n",
    "X_nomasspt_val = X_nomasspt[NTrain:NVal+NTrain,:]\n",
    "X_nomasspt_test = X_nomasspt[NVal+NTrain:,:]\n",
    "\n",
    "Yn_tr = Yn[:NTrain,:]\n",
    "Yn_val = Yn[NTrain:NVal+NTrain,:]\n",
    "Yn_test = Yn[NVal+NTrain:,:]\n",
    "\n",
    "print(' -- X all --')\n",
    "print(X_all_tr.shape)\n",
    "print(X_all_val.shape)\n",
    "print(X_all_test.shape);print()\n",
    "\n",
    "print(' -- X no mass --')\n",
    "print(X_nomass_tr.shape)\n",
    "print(X_nomass_val.shape)\n",
    "print(X_nomass_test.shape);print()\n",
    "\n",
    "print(' -- X no mass or pt --')\n",
    "print(X_nomasspt_tr.shape)\n",
    "print(X_nomasspt_val.shape)\n",
    "print(X_nomasspt_test.shape);print()"
   ]
  },
  {
   "cell_type": "markdown",
   "id": "527df173-751f-4c03-8e9d-d2363f98d2cb",
   "metadata": {},
   "source": [
    "## TensorFlow"
   ]
  },
  {
   "cell_type": "code",
   "execution_count": 26,
   "id": "13b0d49f-dbbd-41a0-905f-408e807ebd13",
   "metadata": {},
   "outputs": [],
   "source": [
    "from ml_mass_regression_models import Dumb_Network, DNN_wDropout, Split_Network\n",
    "import tensorflow as tf\n",
    "from tensorflow import keras\n",
    "\n",
    "import os\n",
    "os.environ['CUDA_VISIBLE_DEVICES'] = \"7\"\n",
    "os.environ['TF_FORCE_GPU_ALLOW_GROWTH'] = 'true'"
   ]
  },
  {
   "cell_type": "markdown",
   "id": "16aa36f7-5ae5-45ef-86d6-47973fb5f7a1",
   "metadata": {},
   "source": [
    "## Define Models"
   ]
  },
  {
   "cell_type": "code",
   "execution_count": 27,
   "id": "75aa68e9-8cf4-420c-ac53-e9704bef4c44",
   "metadata": {
    "scrolled": true,
    "tags": []
   },
   "outputs": [
    {
     "name": "stdout",
     "output_type": "stream",
     "text": [
      "Model: \"DNN_all_variables\"\n",
      "_________________________________________________________________\n",
      "Layer (type)                 Output Shape              Param #   \n",
      "=================================================================\n",
      "input (InputLayer)           [(None, 40)]              0         \n",
      "_________________________________________________________________\n",
      "dense_0 (Dense)              (None, 100)               4100      \n",
      "_________________________________________________________________\n",
      "activation_0 (Activation)    (None, 100)               0         \n",
      "_________________________________________________________________\n",
      "dense_1 (Dense)              (None, 100)               10100     \n",
      "_________________________________________________________________\n",
      "activation_1 (Activation)    (None, 100)               0         \n",
      "_________________________________________________________________\n",
      "dense_2 (Dense)              (None, 100)               10100     \n",
      "_________________________________________________________________\n",
      "activation_2 (Activation)    (None, 100)               0         \n",
      "_________________________________________________________________\n",
      "output (Dense)               (None, 2)                 202       \n",
      "_________________________________________________________________\n",
      "activation_3 (Activation)    (None, 2)                 0         \n",
      "=================================================================\n",
      "Total params: 24,502\n",
      "Trainable params: 24,502\n",
      "Non-trainable params: 0\n",
      "_________________________________________________________________\n"
     ]
    },
    {
     "name": "stderr",
     "output_type": "stream",
     "text": [
      "2023-01-13 08:35:29.755374: W tensorflow/core/common_runtime/gpu/gpu_bfc_allocator.cc:39] Overriding allow_growth setting because the TF_FORCE_GPU_ALLOW_GROWTH environment variable is set. Original config value was 0.\n",
      "2023-01-13 08:35:29.755468: I tensorflow/core/common_runtime/gpu/gpu_device.cc:1510] Created device /job:localhost/replica:0/task:0/device:GPU:0 with 9672 MB memory:  -> device: 0, name: NVIDIA GeForce RTX 2080 Ti, pci bus id: 0000:b2:00.0, compute capability: 7.5\n"
     ]
    }
   ],
   "source": [
    "allvars_model = Dumb_Network(num_features=X_all_tr.shape[1], name='DNN_all_variables')\n",
    "allvars_model.compile(loss='mse', optimizer=keras.optimizers.Adam(\n",
    "    learning_rate=.002))\n",
    "allvars_model.summary()"
   ]
  },
  {
   "cell_type": "code",
   "execution_count": 28,
   "id": "facfb68d-d394-4cce-8b35-7b19cca4b90d",
   "metadata": {
    "scrolled": true,
    "tags": []
   },
   "outputs": [
    {
     "name": "stdout",
     "output_type": "stream",
     "text": [
      "Model: \"DNN_nomass\"\n",
      "_________________________________________________________________\n",
      "Layer (type)                 Output Shape              Param #   \n",
      "=================================================================\n",
      "input (InputLayer)           [(None, 38)]              0         \n",
      "_________________________________________________________________\n",
      "dense_0 (Dense)              (None, 100)               3900      \n",
      "_________________________________________________________________\n",
      "activation_0 (Activation)    (None, 100)               0         \n",
      "_________________________________________________________________\n",
      "dense_1 (Dense)              (None, 100)               10100     \n",
      "_________________________________________________________________\n",
      "activation_1 (Activation)    (None, 100)               0         \n",
      "_________________________________________________________________\n",
      "dense_2 (Dense)              (None, 100)               10100     \n",
      "_________________________________________________________________\n",
      "activation_2 (Activation)    (None, 100)               0         \n",
      "_________________________________________________________________\n",
      "output (Dense)               (None, 2)                 202       \n",
      "_________________________________________________________________\n",
      "activation_3 (Activation)    (None, 2)                 0         \n",
      "=================================================================\n",
      "Total params: 24,302\n",
      "Trainable params: 24,302\n",
      "Non-trainable params: 0\n",
      "_________________________________________________________________\n"
     ]
    }
   ],
   "source": [
    "nomass_model = Dumb_Network(num_features=X_nomass_tr.shape[1], name='DNN_nomass')\n",
    "nomass_model.compile(loss='mse', optimizer=keras.optimizers.Adam(\n",
    "    learning_rate=.002))\n",
    "nomass_model.summary()"
   ]
  },
  {
   "cell_type": "code",
   "execution_count": 29,
   "id": "af8e4112-5760-4cc3-b271-94a83104a1b6",
   "metadata": {
    "scrolled": true,
    "tags": []
   },
   "outputs": [
    {
     "name": "stdout",
     "output_type": "stream",
     "text": [
      "Model: \"DNN_nomass_pt\"\n",
      "_________________________________________________________________\n",
      "Layer (type)                 Output Shape              Param #   \n",
      "=================================================================\n",
      "input (InputLayer)           [(None, 36)]              0         \n",
      "_________________________________________________________________\n",
      "dense_0 (Dense)              (None, 100)               3700      \n",
      "_________________________________________________________________\n",
      "activation_0 (Activation)    (None, 100)               0         \n",
      "_________________________________________________________________\n",
      "dense_1 (Dense)              (None, 100)               10100     \n",
      "_________________________________________________________________\n",
      "activation_1 (Activation)    (None, 100)               0         \n",
      "_________________________________________________________________\n",
      "dense_2 (Dense)              (None, 100)               10100     \n",
      "_________________________________________________________________\n",
      "activation_2 (Activation)    (None, 100)               0         \n",
      "_________________________________________________________________\n",
      "output (Dense)               (None, 2)                 202       \n",
      "_________________________________________________________________\n",
      "activation_3 (Activation)    (None, 2)                 0         \n",
      "=================================================================\n",
      "Total params: 24,102\n",
      "Trainable params: 24,102\n",
      "Non-trainable params: 0\n",
      "_________________________________________________________________\n"
     ]
    }
   ],
   "source": [
    "nomasspt_model = Dumb_Network(num_features=X_nomasspt_tr.shape[1], name='DNN_nomass_pt')\n",
    "nomasspt_model.compile(loss='mse', optimizer=keras.optimizers.Adam(\n",
    "    learning_rate=.002))\n",
    "nomasspt_model.summary()"
   ]
  },
  {
   "cell_type": "markdown",
   "id": "ddde2470-faae-4754-b43f-a30403068cbd",
   "metadata": {},
   "source": [
    "## Train Models"
   ]
  },
  {
   "cell_type": "code",
   "execution_count": 30,
   "id": "d66a9c0e-76d3-4200-be4e-c1a797b032bb",
   "metadata": {
    "scrolled": true,
    "tags": []
   },
   "outputs": [
    {
     "name": "stderr",
     "output_type": "stream",
     "text": [
      "2023-01-13 08:35:31.642037: I tensorflow/compiler/mlir/mlir_graph_optimization_pass.cc:185] None of the MLIR Optimization Passes are enabled (registered 2)\n"
     ]
    },
    {
     "name": "stdout",
     "output_type": "stream",
     "text": [
      "Epoch 1/100\n",
      "12/12 [==============================] - 4s 41ms/step - loss: 0.0588 - val_loss: 0.0332\n",
      "Epoch 2/100\n",
      "12/12 [==============================] - 0s 7ms/step - loss: 0.0286 - val_loss: 0.0255\n",
      "Epoch 3/100\n",
      "12/12 [==============================] - 0s 7ms/step - loss: 0.0237 - val_loss: 0.0221\n",
      "Epoch 4/100\n",
      "12/12 [==============================] - 0s 7ms/step - loss: 0.0215 - val_loss: 0.0206\n",
      "Epoch 5/100\n",
      "12/12 [==============================] - 0s 7ms/step - loss: 0.0202 - val_loss: 0.0198\n",
      "Epoch 6/100\n",
      "12/12 [==============================] - 0s 7ms/step - loss: 0.0194 - val_loss: 0.0190\n",
      "Epoch 7/100\n",
      "12/12 [==============================] - 0s 7ms/step - loss: 0.0187 - val_loss: 0.0186\n",
      "Epoch 8/100\n",
      "12/12 [==============================] - 0s 7ms/step - loss: 0.0182 - val_loss: 0.0184\n",
      "Epoch 9/100\n",
      "12/12 [==============================] - 0s 7ms/step - loss: 0.0179 - val_loss: 0.0180\n",
      "Epoch 10/100\n",
      "12/12 [==============================] - 0s 7ms/step - loss: 0.0175 - val_loss: 0.0180\n",
      "Epoch 11/100\n",
      "12/12 [==============================] - 0s 7ms/step - loss: 0.0173 - val_loss: 0.0176\n",
      "Epoch 12/100\n",
      "12/12 [==============================] - 0s 7ms/step - loss: 0.0170 - val_loss: 0.0174\n",
      "Epoch 13/100\n",
      "12/12 [==============================] - 0s 7ms/step - loss: 0.0168 - val_loss: 0.0173\n",
      "Epoch 14/100\n",
      "12/12 [==============================] - 0s 8ms/step - loss: 0.0166 - val_loss: 0.0171\n",
      "Epoch 15/100\n",
      "12/12 [==============================] - 0s 7ms/step - loss: 0.0164 - val_loss: 0.0170\n",
      "Epoch 16/100\n",
      "12/12 [==============================] - 0s 7ms/step - loss: 0.0163 - val_loss: 0.0170\n",
      "Epoch 17/100\n",
      "12/12 [==============================] - 0s 7ms/step - loss: 0.0161 - val_loss: 0.0168\n",
      "Epoch 18/100\n",
      "12/12 [==============================] - 0s 7ms/step - loss: 0.0160 - val_loss: 0.0167\n",
      "Epoch 19/100\n",
      "12/12 [==============================] - 0s 7ms/step - loss: 0.0158 - val_loss: 0.0167\n",
      "Epoch 20/100\n",
      "12/12 [==============================] - 0s 7ms/step - loss: 0.0157 - val_loss: 0.0167\n",
      "Epoch 21/100\n",
      "12/12 [==============================] - 0s 7ms/step - loss: 0.0157 - val_loss: 0.0166\n",
      "Epoch 22/100\n",
      "12/12 [==============================] - 0s 7ms/step - loss: 0.0157 - val_loss: 0.0166\n",
      "Epoch 23/100\n",
      "12/12 [==============================] - 0s 7ms/step - loss: 0.0156 - val_loss: 0.0165\n",
      "Epoch 24/100\n",
      "12/12 [==============================] - 0s 7ms/step - loss: 0.0155 - val_loss: 0.0166\n",
      "Epoch 25/100\n",
      "12/12 [==============================] - 0s 7ms/step - loss: 0.0154 - val_loss: 0.0165\n",
      "Epoch 26/100\n",
      "12/12 [==============================] - 0s 8ms/step - loss: 0.0153 - val_loss: 0.0164\n",
      "Epoch 27/100\n",
      "12/12 [==============================] - 0s 8ms/step - loss: 0.0153 - val_loss: 0.0162\n",
      "Epoch 28/100\n",
      "12/12 [==============================] - 0s 7ms/step - loss: 0.0151 - val_loss: 0.0162\n",
      "Epoch 29/100\n",
      "12/12 [==============================] - 0s 8ms/step - loss: 0.0149 - val_loss: 0.0163\n",
      "Epoch 30/100\n",
      "12/12 [==============================] - 0s 8ms/step - loss: 0.0151 - val_loss: 0.0165\n",
      "Epoch 31/100\n",
      "12/12 [==============================] - 0s 7ms/step - loss: 0.0150 - val_loss: 0.0163\n",
      "Epoch 32/100\n",
      "12/12 [==============================] - 0s 7ms/step - loss: 0.0149 - val_loss: 0.0161\n",
      "Epoch 33/100\n",
      "12/12 [==============================] - 0s 7ms/step - loss: 0.0148 - val_loss: 0.0162\n",
      "Epoch 34/100\n",
      "12/12 [==============================] - 0s 7ms/step - loss: 0.0147 - val_loss: 0.0161\n",
      "Epoch 35/100\n",
      "12/12 [==============================] - 0s 7ms/step - loss: 0.0146 - val_loss: 0.0161\n",
      "Epoch 36/100\n",
      "12/12 [==============================] - 0s 7ms/step - loss: 0.0147 - val_loss: 0.0160\n",
      "Epoch 37/100\n",
      "12/12 [==============================] - 0s 7ms/step - loss: 0.0146 - val_loss: 0.0160\n",
      "Epoch 38/100\n",
      "12/12 [==============================] - 0s 7ms/step - loss: 0.0145 - val_loss: 0.0161\n",
      "Epoch 39/100\n",
      "12/12 [==============================] - 0s 7ms/step - loss: 0.0144 - val_loss: 0.0160\n",
      "Epoch 40/100\n",
      "12/12 [==============================] - 0s 7ms/step - loss: 0.0144 - val_loss: 0.0166\n",
      "Epoch 41/100\n",
      "12/12 [==============================] - 0s 7ms/step - loss: 0.0146 - val_loss: 0.0162\n",
      "Epoch 42/100\n",
      "12/12 [==============================] - 0s 7ms/step - loss: 0.0145 - val_loss: 0.0161\n",
      "Epoch 43/100\n",
      "12/12 [==============================] - 0s 7ms/step - loss: 0.0145 - val_loss: 0.0163\n",
      "Epoch 44/100\n",
      "12/12 [==============================] - 0s 7ms/step - loss: 0.0143 - val_loss: 0.0159\n",
      "Epoch 45/100\n",
      "12/12 [==============================] - 0s 7ms/step - loss: 0.0142 - val_loss: 0.0159\n",
      "Epoch 46/100\n",
      "12/12 [==============================] - 0s 7ms/step - loss: 0.0142 - val_loss: 0.0160\n",
      "Epoch 47/100\n",
      "12/12 [==============================] - 0s 7ms/step - loss: 0.0141 - val_loss: 0.0159\n",
      "Epoch 48/100\n",
      "12/12 [==============================] - 0s 7ms/step - loss: 0.0140 - val_loss: 0.0160\n",
      "Epoch 49/100\n",
      "12/12 [==============================] - 0s 7ms/step - loss: 0.0141 - val_loss: 0.0162\n",
      "Epoch 50/100\n",
      "12/12 [==============================] - 0s 7ms/step - loss: 0.0140 - val_loss: 0.0160\n",
      "Epoch 51/100\n",
      "12/12 [==============================] - 0s 7ms/step - loss: 0.0140 - val_loss: 0.0159\n",
      "Epoch 52/100\n",
      "12/12 [==============================] - 0s 7ms/step - loss: 0.0139 - val_loss: 0.0160\n",
      "Epoch 53/100\n",
      "12/12 [==============================] - 0s 7ms/step - loss: 0.0139 - val_loss: 0.0159\n",
      "Epoch 54/100\n",
      "12/12 [==============================] - 0s 7ms/step - loss: 0.0139 - val_loss: 0.0159\n",
      "Epoch 55/100\n",
      "12/12 [==============================] - 0s 7ms/step - loss: 0.0139 - val_loss: 0.0160\n",
      "Epoch 56/100\n",
      "12/12 [==============================] - 0s 7ms/step - loss: 0.0138 - val_loss: 0.0159\n",
      "Epoch 57/100\n",
      "12/12 [==============================] - 0s 7ms/step - loss: 0.0137 - val_loss: 0.0160\n",
      "Epoch 58/100\n",
      "12/12 [==============================] - 0s 7ms/step - loss: 0.0137 - val_loss: 0.0159\n",
      "Epoch 59/100\n",
      "12/12 [==============================] - 0s 7ms/step - loss: 0.0136 - val_loss: 0.0160\n",
      "Epoch 60/100\n",
      "12/12 [==============================] - 0s 7ms/step - loss: 0.0136 - val_loss: 0.0159\n",
      "Epoch 61/100\n",
      "12/12 [==============================] - 0s 7ms/step - loss: 0.0136 - val_loss: 0.0159\n",
      "Epoch 62/100\n",
      "12/12 [==============================] - 0s 7ms/step - loss: 0.0137 - val_loss: 0.0159\n",
      "Epoch 63/100\n",
      "12/12 [==============================] - 0s 7ms/step - loss: 0.0136 - val_loss: 0.0161\n",
      "Epoch 64/100\n",
      "12/12 [==============================] - 0s 7ms/step - loss: 0.0136 - val_loss: 0.0159\n",
      "Epoch 65/100\n",
      "12/12 [==============================] - 0s 7ms/step - loss: 0.0135 - val_loss: 0.0158\n",
      "Epoch 66/100\n",
      "12/12 [==============================] - 0s 8ms/step - loss: 0.0135 - val_loss: 0.0159\n",
      "Epoch 67/100\n",
      "12/12 [==============================] - 0s 8ms/step - loss: 0.0138 - val_loss: 0.0159\n",
      "Epoch 68/100\n",
      "12/12 [==============================] - 0s 8ms/step - loss: 0.0135 - val_loss: 0.0159\n",
      "Epoch 69/100\n",
      "12/12 [==============================] - 0s 7ms/step - loss: 0.0133 - val_loss: 0.0160\n",
      "Epoch 70/100\n",
      "12/12 [==============================] - 0s 8ms/step - loss: 0.0134 - val_loss: 0.0158\n",
      "Epoch 71/100\n",
      "12/12 [==============================] - 0s 7ms/step - loss: 0.0133 - val_loss: 0.0158\n",
      "Epoch 72/100\n",
      "12/12 [==============================] - 0s 7ms/step - loss: 0.0133 - val_loss: 0.0159\n",
      "Epoch 73/100\n",
      "12/12 [==============================] - 0s 8ms/step - loss: 0.0134 - val_loss: 0.0160\n",
      "Epoch 74/100\n",
      "12/12 [==============================] - 0s 8ms/step - loss: 0.0132 - val_loss: 0.0162\n",
      "Epoch 75/100\n",
      "12/12 [==============================] - 0s 7ms/step - loss: 0.0133 - val_loss: 0.0167\n",
      "Epoch 76/100\n",
      "12/12 [==============================] - 0s 7ms/step - loss: 0.0141 - val_loss: 0.0161\n",
      "Epoch 77/100\n",
      "12/12 [==============================] - 0s 7ms/step - loss: 0.0135 - val_loss: 0.0160\n",
      "Epoch 78/100\n",
      "12/12 [==============================] - 0s 8ms/step - loss: 0.0132 - val_loss: 0.0161\n",
      "Epoch 79/100\n",
      "12/12 [==============================] - 0s 7ms/step - loss: 0.0131 - val_loss: 0.0158\n",
      "Epoch 80/100\n",
      "12/12 [==============================] - 0s 7ms/step - loss: 0.0131 - val_loss: 0.0161\n",
      "Epoch 81/100\n",
      "12/12 [==============================] - 0s 7ms/step - loss: 0.0130 - val_loss: 0.0158\n",
      "Epoch 82/100\n",
      "12/12 [==============================] - 0s 7ms/step - loss: 0.0130 - val_loss: 0.0161\n",
      "Epoch 83/100\n",
      "12/12 [==============================] - 0s 7ms/step - loss: 0.0130 - val_loss: 0.0157\n",
      "Epoch 84/100\n",
      "12/12 [==============================] - 0s 8ms/step - loss: 0.0129 - val_loss: 0.0161\n",
      "Epoch 85/100\n",
      "12/12 [==============================] - 0s 8ms/step - loss: 0.0130 - val_loss: 0.0160\n",
      "Epoch 86/100\n",
      "12/12 [==============================] - 0s 8ms/step - loss: 0.0129 - val_loss: 0.0160\n",
      "Epoch 87/100\n",
      "12/12 [==============================] - 0s 7ms/step - loss: 0.0128 - val_loss: 0.0159\n",
      "Epoch 88/100\n",
      "12/12 [==============================] - 0s 8ms/step - loss: 0.0128 - val_loss: 0.0159\n",
      "Epoch 89/100\n",
      "12/12 [==============================] - 0s 7ms/step - loss: 0.0127 - val_loss: 0.0161\n",
      "Epoch 90/100\n",
      "12/12 [==============================] - 0s 7ms/step - loss: 0.0127 - val_loss: 0.0159\n",
      "Epoch 91/100\n",
      "12/12 [==============================] - 0s 8ms/step - loss: 0.0126 - val_loss: 0.0161\n",
      "Epoch 92/100\n",
      "12/12 [==============================] - 0s 8ms/step - loss: 0.0126 - val_loss: 0.0161\n",
      "Epoch 93/100\n",
      "12/12 [==============================] - 0s 8ms/step - loss: 0.0126 - val_loss: 0.0159\n",
      "Epoch 94/100\n",
      "12/12 [==============================] - 0s 8ms/step - loss: 0.0125 - val_loss: 0.0160\n",
      "Epoch 95/100\n",
      "12/12 [==============================] - 0s 8ms/step - loss: 0.0125 - val_loss: 0.0161\n",
      "Epoch 96/100\n",
      "12/12 [==============================] - 0s 8ms/step - loss: 0.0125 - val_loss: 0.0159\n",
      "Epoch 97/100\n",
      "12/12 [==============================] - 0s 8ms/step - loss: 0.0124 - val_loss: 0.0161\n",
      "Epoch 98/100\n",
      "12/12 [==============================] - 0s 8ms/step - loss: 0.0124 - val_loss: 0.0161\n",
      "Epoch 99/100\n",
      "12/12 [==============================] - 0s 8ms/step - loss: 0.0124 - val_loss: 0.0163\n",
      "Epoch 100/100\n",
      "12/12 [==============================] - 0s 7ms/step - loss: 0.0125 - val_loss: 0.0165\n"
     ]
    }
   ],
   "source": [
    "allvars_history = allvars_model.fit(\n",
    "                X_all_tr,\n",
    "                Yn_tr,\n",
    "                validation_data=(X_all_val, Yn_val),\n",
    "                shuffle=True,\n",
    "                epochs=100,\n",
    "                batch_size=6000)"
   ]
  },
  {
   "cell_type": "code",
   "execution_count": 31,
   "id": "9885df23-cef5-4f6c-9a5b-294c2a956814",
   "metadata": {
    "scrolled": true,
    "tags": []
   },
   "outputs": [
    {
     "name": "stdout",
     "output_type": "stream",
     "text": [
      "Epoch 1/100\n",
      "12/12 [==============================] - 1s 18ms/step - loss: 0.1100 - val_loss: 0.0607\n",
      "Epoch 2/100\n",
      "12/12 [==============================] - 0s 7ms/step - loss: 0.0415 - val_loss: 0.0340\n",
      "Epoch 3/100\n",
      "12/12 [==============================] - 0s 7ms/step - loss: 0.0309 - val_loss: 0.0283\n",
      "Epoch 4/100\n",
      "12/12 [==============================] - 0s 7ms/step - loss: 0.0269 - val_loss: 0.0256\n",
      "Epoch 5/100\n",
      "12/12 [==============================] - 0s 8ms/step - loss: 0.0248 - val_loss: 0.0241\n",
      "Epoch 6/100\n",
      "12/12 [==============================] - 0s 7ms/step - loss: 0.0233 - val_loss: 0.0229\n",
      "Epoch 7/100\n",
      "12/12 [==============================] - 0s 7ms/step - loss: 0.0224 - val_loss: 0.0221\n",
      "Epoch 8/100\n",
      "12/12 [==============================] - 0s 7ms/step - loss: 0.0216 - val_loss: 0.0218\n",
      "Epoch 9/100\n",
      "12/12 [==============================] - 0s 7ms/step - loss: 0.0212 - val_loss: 0.0211\n",
      "Epoch 10/100\n",
      "12/12 [==============================] - 0s 7ms/step - loss: 0.0206 - val_loss: 0.0207\n",
      "Epoch 11/100\n",
      "12/12 [==============================] - 0s 7ms/step - loss: 0.0201 - val_loss: 0.0204\n",
      "Epoch 12/100\n",
      "12/12 [==============================] - 0s 7ms/step - loss: 0.0198 - val_loss: 0.0200\n",
      "Epoch 13/100\n",
      "12/12 [==============================] - 0s 7ms/step - loss: 0.0195 - val_loss: 0.0198\n",
      "Epoch 14/100\n",
      "12/12 [==============================] - 0s 7ms/step - loss: 0.0192 - val_loss: 0.0199\n",
      "Epoch 15/100\n",
      "12/12 [==============================] - 0s 7ms/step - loss: 0.0191 - val_loss: 0.0195\n",
      "Epoch 16/100\n",
      "12/12 [==============================] - 0s 7ms/step - loss: 0.0189 - val_loss: 0.0194\n",
      "Epoch 17/100\n",
      "12/12 [==============================] - 0s 7ms/step - loss: 0.0186 - val_loss: 0.0192\n",
      "Epoch 18/100\n",
      "12/12 [==============================] - 0s 7ms/step - loss: 0.0184 - val_loss: 0.0192\n",
      "Epoch 19/100\n",
      "12/12 [==============================] - 0s 7ms/step - loss: 0.0182 - val_loss: 0.0188\n",
      "Epoch 20/100\n",
      "12/12 [==============================] - 0s 7ms/step - loss: 0.0180 - val_loss: 0.0188\n",
      "Epoch 21/100\n",
      "12/12 [==============================] - 0s 7ms/step - loss: 0.0179 - val_loss: 0.0187\n",
      "Epoch 22/100\n",
      "12/12 [==============================] - 0s 7ms/step - loss: 0.0178 - val_loss: 0.0187\n",
      "Epoch 23/100\n",
      "12/12 [==============================] - 0s 7ms/step - loss: 0.0176 - val_loss: 0.0184\n",
      "Epoch 24/100\n",
      "12/12 [==============================] - 0s 7ms/step - loss: 0.0175 - val_loss: 0.0186\n",
      "Epoch 25/100\n",
      "12/12 [==============================] - 0s 7ms/step - loss: 0.0174 - val_loss: 0.0182\n",
      "Epoch 26/100\n",
      "12/12 [==============================] - 0s 7ms/step - loss: 0.0172 - val_loss: 0.0183\n",
      "Epoch 27/100\n",
      "12/12 [==============================] - 0s 7ms/step - loss: 0.0172 - val_loss: 0.0181\n",
      "Epoch 28/100\n",
      "12/12 [==============================] - 0s 7ms/step - loss: 0.0170 - val_loss: 0.0181\n",
      "Epoch 29/100\n",
      "12/12 [==============================] - 0s 7ms/step - loss: 0.0170 - val_loss: 0.0181\n",
      "Epoch 30/100\n",
      "12/12 [==============================] - 0s 7ms/step - loss: 0.0170 - val_loss: 0.0186\n",
      "Epoch 31/100\n",
      "12/12 [==============================] - 0s 7ms/step - loss: 0.0174 - val_loss: 0.0188\n",
      "Epoch 32/100\n",
      "12/12 [==============================] - 0s 7ms/step - loss: 0.0168 - val_loss: 0.0180\n",
      "Epoch 33/100\n",
      "12/12 [==============================] - 0s 7ms/step - loss: 0.0166 - val_loss: 0.0177\n",
      "Epoch 34/100\n",
      "12/12 [==============================] - 0s 8ms/step - loss: 0.0165 - val_loss: 0.0177\n",
      "Epoch 35/100\n",
      "12/12 [==============================] - 0s 7ms/step - loss: 0.0164 - val_loss: 0.0176\n",
      "Epoch 36/100\n",
      "12/12 [==============================] - 0s 7ms/step - loss: 0.0163 - val_loss: 0.0178\n",
      "Epoch 37/100\n",
      "12/12 [==============================] - 0s 7ms/step - loss: 0.0163 - val_loss: 0.0175\n",
      "Epoch 38/100\n",
      "12/12 [==============================] - 0s 7ms/step - loss: 0.0162 - val_loss: 0.0174\n",
      "Epoch 39/100\n",
      "12/12 [==============================] - 0s 8ms/step - loss: 0.0161 - val_loss: 0.0175\n",
      "Epoch 40/100\n",
      "12/12 [==============================] - 0s 7ms/step - loss: 0.0161 - val_loss: 0.0174\n",
      "Epoch 41/100\n",
      "12/12 [==============================] - 0s 7ms/step - loss: 0.0160 - val_loss: 0.0173\n",
      "Epoch 42/100\n",
      "12/12 [==============================] - 0s 7ms/step - loss: 0.0160 - val_loss: 0.0174\n",
      "Epoch 43/100\n",
      "12/12 [==============================] - 0s 7ms/step - loss: 0.0160 - val_loss: 0.0173\n",
      "Epoch 44/100\n",
      "12/12 [==============================] - 0s 7ms/step - loss: 0.0159 - val_loss: 0.0172\n",
      "Epoch 45/100\n",
      "12/12 [==============================] - 0s 7ms/step - loss: 0.0158 - val_loss: 0.0170\n",
      "Epoch 46/100\n",
      "12/12 [==============================] - 0s 7ms/step - loss: 0.0157 - val_loss: 0.0172\n",
      "Epoch 47/100\n",
      "12/12 [==============================] - 0s 7ms/step - loss: 0.0157 - val_loss: 0.0171\n",
      "Epoch 48/100\n",
      "12/12 [==============================] - 0s 7ms/step - loss: 0.0156 - val_loss: 0.0169\n",
      "Epoch 49/100\n",
      "12/12 [==============================] - 0s 7ms/step - loss: 0.0155 - val_loss: 0.0170\n",
      "Epoch 50/100\n",
      "12/12 [==============================] - 0s 7ms/step - loss: 0.0155 - val_loss: 0.0168\n",
      "Epoch 51/100\n",
      "12/12 [==============================] - 0s 7ms/step - loss: 0.0154 - val_loss: 0.0172\n",
      "Epoch 52/100\n",
      "12/12 [==============================] - 0s 7ms/step - loss: 0.0157 - val_loss: 0.0170\n",
      "Epoch 53/100\n",
      "12/12 [==============================] - 0s 7ms/step - loss: 0.0154 - val_loss: 0.0170\n",
      "Epoch 54/100\n",
      "12/12 [==============================] - 0s 7ms/step - loss: 0.0154 - val_loss: 0.0169\n",
      "Epoch 55/100\n",
      "12/12 [==============================] - 0s 7ms/step - loss: 0.0153 - val_loss: 0.0169\n",
      "Epoch 56/100\n",
      "12/12 [==============================] - 0s 8ms/step - loss: 0.0152 - val_loss: 0.0170\n",
      "Epoch 57/100\n",
      "12/12 [==============================] - 0s 7ms/step - loss: 0.0152 - val_loss: 0.0169\n",
      "Epoch 58/100\n",
      "12/12 [==============================] - 0s 7ms/step - loss: 0.0150 - val_loss: 0.0167\n",
      "Epoch 59/100\n",
      "12/12 [==============================] - 0s 7ms/step - loss: 0.0150 - val_loss: 0.0168\n",
      "Epoch 60/100\n",
      "12/12 [==============================] - 0s 7ms/step - loss: 0.0150 - val_loss: 0.0168\n",
      "Epoch 61/100\n",
      "12/12 [==============================] - 0s 7ms/step - loss: 0.0149 - val_loss: 0.0167\n",
      "Epoch 62/100\n",
      "12/12 [==============================] - 0s 7ms/step - loss: 0.0150 - val_loss: 0.0169\n",
      "Epoch 63/100\n",
      "12/12 [==============================] - 0s 7ms/step - loss: 0.0150 - val_loss: 0.0170\n",
      "Epoch 64/100\n",
      "12/12 [==============================] - 0s 7ms/step - loss: 0.0151 - val_loss: 0.0169\n",
      "Epoch 65/100\n",
      "12/12 [==============================] - 0s 7ms/step - loss: 0.0148 - val_loss: 0.0167\n",
      "Epoch 66/100\n",
      "12/12 [==============================] - 0s 7ms/step - loss: 0.0149 - val_loss: 0.0166\n",
      "Epoch 67/100\n",
      "12/12 [==============================] - 0s 7ms/step - loss: 0.0149 - val_loss: 0.0169\n",
      "Epoch 68/100\n",
      "12/12 [==============================] - 0s 7ms/step - loss: 0.0147 - val_loss: 0.0165\n",
      "Epoch 69/100\n",
      "12/12 [==============================] - 0s 7ms/step - loss: 0.0147 - val_loss: 0.0165\n",
      "Epoch 70/100\n",
      "12/12 [==============================] - 0s 7ms/step - loss: 0.0146 - val_loss: 0.0165\n",
      "Epoch 71/100\n",
      "12/12 [==============================] - 0s 7ms/step - loss: 0.0145 - val_loss: 0.0165\n",
      "Epoch 72/100\n",
      "12/12 [==============================] - 0s 7ms/step - loss: 0.0145 - val_loss: 0.0167\n",
      "Epoch 73/100\n",
      "12/12 [==============================] - 0s 8ms/step - loss: 0.0146 - val_loss: 0.0166\n",
      "Epoch 74/100\n",
      "12/12 [==============================] - 0s 7ms/step - loss: 0.0146 - val_loss: 0.0166\n",
      "Epoch 75/100\n",
      "12/12 [==============================] - 0s 7ms/step - loss: 0.0145 - val_loss: 0.0167\n",
      "Epoch 76/100\n",
      "12/12 [==============================] - 0s 7ms/step - loss: 0.0144 - val_loss: 0.0165\n",
      "Epoch 77/100\n",
      "12/12 [==============================] - 0s 7ms/step - loss: 0.0143 - val_loss: 0.0165\n",
      "Epoch 78/100\n",
      "12/12 [==============================] - 0s 7ms/step - loss: 0.0144 - val_loss: 0.0164\n",
      "Epoch 79/100\n",
      "12/12 [==============================] - 0s 7ms/step - loss: 0.0143 - val_loss: 0.0165\n",
      "Epoch 80/100\n",
      "12/12 [==============================] - 0s 7ms/step - loss: 0.0142 - val_loss: 0.0166\n",
      "Epoch 81/100\n",
      "12/12 [==============================] - 0s 7ms/step - loss: 0.0143 - val_loss: 0.0165\n",
      "Epoch 82/100\n",
      "12/12 [==============================] - 0s 7ms/step - loss: 0.0142 - val_loss: 0.0169\n",
      "Epoch 83/100\n",
      "12/12 [==============================] - 0s 8ms/step - loss: 0.0146 - val_loss: 0.0166\n",
      "Epoch 84/100\n",
      "12/12 [==============================] - 0s 7ms/step - loss: 0.0143 - val_loss: 0.0166\n",
      "Epoch 85/100\n",
      "12/12 [==============================] - 0s 7ms/step - loss: 0.0142 - val_loss: 0.0164\n",
      "Epoch 86/100\n",
      "12/12 [==============================] - 0s 7ms/step - loss: 0.0141 - val_loss: 0.0165\n",
      "Epoch 87/100\n",
      "12/12 [==============================] - 0s 7ms/step - loss: 0.0141 - val_loss: 0.0165\n",
      "Epoch 88/100\n",
      "12/12 [==============================] - 0s 7ms/step - loss: 0.0141 - val_loss: 0.0164\n",
      "Epoch 89/100\n",
      "12/12 [==============================] - 0s 7ms/step - loss: 0.0140 - val_loss: 0.0164\n",
      "Epoch 90/100\n",
      "12/12 [==============================] - 0s 7ms/step - loss: 0.0140 - val_loss: 0.0165\n",
      "Epoch 91/100\n",
      "12/12 [==============================] - 0s 7ms/step - loss: 0.0140 - val_loss: 0.0164\n",
      "Epoch 92/100\n",
      "12/12 [==============================] - 0s 7ms/step - loss: 0.0140 - val_loss: 0.0166\n",
      "Epoch 93/100\n",
      "12/12 [==============================] - 0s 7ms/step - loss: 0.0140 - val_loss: 0.0164\n",
      "Epoch 94/100\n",
      "12/12 [==============================] - 0s 7ms/step - loss: 0.0138 - val_loss: 0.0165\n",
      "Epoch 95/100\n",
      "12/12 [==============================] - 0s 7ms/step - loss: 0.0139 - val_loss: 0.0169\n",
      "Epoch 96/100\n",
      "12/12 [==============================] - 0s 7ms/step - loss: 0.0139 - val_loss: 0.0163\n",
      "Epoch 97/100\n",
      "12/12 [==============================] - 0s 7ms/step - loss: 0.0137 - val_loss: 0.0166\n",
      "Epoch 98/100\n",
      "12/12 [==============================] - 0s 7ms/step - loss: 0.0138 - val_loss: 0.0169\n",
      "Epoch 99/100\n",
      "12/12 [==============================] - 0s 7ms/step - loss: 0.0139 - val_loss: 0.0165\n",
      "Epoch 100/100\n",
      "12/12 [==============================] - 0s 7ms/step - loss: 0.0137 - val_loss: 0.0165\n"
     ]
    }
   ],
   "source": [
    "nomass_history = nomass_model.fit(\n",
    "                X_nomass_tr,\n",
    "                Yn_tr,\n",
    "                validation_data=(X_nomass_val, Yn_val),\n",
    "                shuffle=True,\n",
    "                epochs=100,\n",
    "                batch_size=6000)"
   ]
  },
  {
   "cell_type": "code",
   "execution_count": 32,
   "id": "f7f822d3-7665-48ef-87aa-0c86ab24380f",
   "metadata": {
    "scrolled": true,
    "tags": []
   },
   "outputs": [
    {
     "name": "stdout",
     "output_type": "stream",
     "text": [
      "Epoch 1/100\n",
      "12/12 [==============================] - 1s 17ms/step - loss: 0.0921 - val_loss: 0.0591\n",
      "Epoch 2/100\n",
      "12/12 [==============================] - 0s 7ms/step - loss: 0.0391 - val_loss: 0.0353\n",
      "Epoch 3/100\n",
      "12/12 [==============================] - 0s 7ms/step - loss: 0.0306 - val_loss: 0.0291\n",
      "Epoch 4/100\n",
      "12/12 [==============================] - 0s 7ms/step - loss: 0.0269 - val_loss: 0.0261\n",
      "Epoch 5/100\n",
      "12/12 [==============================] - 0s 7ms/step - loss: 0.0248 - val_loss: 0.0242\n",
      "Epoch 6/100\n",
      "12/12 [==============================] - 0s 8ms/step - loss: 0.0235 - val_loss: 0.0231\n",
      "Epoch 7/100\n",
      "12/12 [==============================] - 0s 7ms/step - loss: 0.0224 - val_loss: 0.0222\n",
      "Epoch 8/100\n",
      "12/12 [==============================] - 0s 7ms/step - loss: 0.0216 - val_loss: 0.0215\n",
      "Epoch 9/100\n",
      "12/12 [==============================] - 0s 7ms/step - loss: 0.0210 - val_loss: 0.0209\n",
      "Epoch 10/100\n",
      "12/12 [==============================] - 0s 7ms/step - loss: 0.0204 - val_loss: 0.0205\n",
      "Epoch 11/100\n",
      "12/12 [==============================] - 0s 8ms/step - loss: 0.0200 - val_loss: 0.0203\n",
      "Epoch 12/100\n",
      "12/12 [==============================] - 0s 8ms/step - loss: 0.0198 - val_loss: 0.0199\n",
      "Epoch 13/100\n",
      "12/12 [==============================] - 0s 7ms/step - loss: 0.0194 - val_loss: 0.0196\n",
      "Epoch 14/100\n",
      "12/12 [==============================] - 0s 8ms/step - loss: 0.0191 - val_loss: 0.0194\n",
      "Epoch 15/100\n",
      "12/12 [==============================] - 0s 8ms/step - loss: 0.0188 - val_loss: 0.0191\n",
      "Epoch 16/100\n",
      "12/12 [==============================] - 0s 7ms/step - loss: 0.0185 - val_loss: 0.0189\n",
      "Epoch 17/100\n",
      "12/12 [==============================] - 0s 8ms/step - loss: 0.0184 - val_loss: 0.0188\n",
      "Epoch 18/100\n",
      "12/12 [==============================] - 0s 9ms/step - loss: 0.0182 - val_loss: 0.0187\n",
      "Epoch 19/100\n",
      "12/12 [==============================] - 0s 7ms/step - loss: 0.0180 - val_loss: 0.0185\n",
      "Epoch 20/100\n",
      "12/12 [==============================] - 0s 7ms/step - loss: 0.0178 - val_loss: 0.0184\n",
      "Epoch 21/100\n",
      "12/12 [==============================] - 0s 7ms/step - loss: 0.0178 - val_loss: 0.0185\n",
      "Epoch 22/100\n",
      "12/12 [==============================] - 0s 7ms/step - loss: 0.0175 - val_loss: 0.0182\n",
      "Epoch 23/100\n",
      "12/12 [==============================] - 0s 8ms/step - loss: 0.0173 - val_loss: 0.0183\n",
      "Epoch 24/100\n",
      "12/12 [==============================] - 0s 7ms/step - loss: 0.0172 - val_loss: 0.0186\n",
      "Epoch 25/100\n",
      "12/12 [==============================] - 0s 8ms/step - loss: 0.0173 - val_loss: 0.0181\n",
      "Epoch 26/100\n",
      "12/12 [==============================] - 0s 7ms/step - loss: 0.0170 - val_loss: 0.0180\n",
      "Epoch 27/100\n",
      "12/12 [==============================] - 0s 7ms/step - loss: 0.0170 - val_loss: 0.0180\n",
      "Epoch 28/100\n",
      "12/12 [==============================] - 0s 7ms/step - loss: 0.0169 - val_loss: 0.0180\n",
      "Epoch 29/100\n",
      "12/12 [==============================] - 0s 7ms/step - loss: 0.0167 - val_loss: 0.0178\n",
      "Epoch 30/100\n",
      "12/12 [==============================] - 0s 7ms/step - loss: 0.0175 - val_loss: 0.0179\n",
      "Epoch 31/100\n",
      "12/12 [==============================] - 0s 7ms/step - loss: 0.0168 - val_loss: 0.0179\n",
      "Epoch 32/100\n",
      "12/12 [==============================] - 0s 7ms/step - loss: 0.0166 - val_loss: 0.0176\n",
      "Epoch 33/100\n",
      "12/12 [==============================] - 0s 7ms/step - loss: 0.0164 - val_loss: 0.0175\n",
      "Epoch 34/100\n",
      "12/12 [==============================] - 0s 7ms/step - loss: 0.0163 - val_loss: 0.0175\n",
      "Epoch 35/100\n",
      "12/12 [==============================] - 0s 7ms/step - loss: 0.0162 - val_loss: 0.0174\n",
      "Epoch 36/100\n",
      "12/12 [==============================] - 0s 7ms/step - loss: 0.0162 - val_loss: 0.0176\n",
      "Epoch 37/100\n",
      "12/12 [==============================] - 0s 7ms/step - loss: 0.0162 - val_loss: 0.0175\n",
      "Epoch 38/100\n",
      "12/12 [==============================] - 0s 7ms/step - loss: 0.0161 - val_loss: 0.0174\n",
      "Epoch 39/100\n",
      "12/12 [==============================] - 0s 7ms/step - loss: 0.0159 - val_loss: 0.0174\n",
      "Epoch 40/100\n",
      "12/12 [==============================] - 0s 7ms/step - loss: 0.0159 - val_loss: 0.0174\n",
      "Epoch 41/100\n",
      "12/12 [==============================] - 0s 7ms/step - loss: 0.0158 - val_loss: 0.0173\n",
      "Epoch 42/100\n",
      "12/12 [==============================] - 0s 7ms/step - loss: 0.0157 - val_loss: 0.0173\n",
      "Epoch 43/100\n",
      "12/12 [==============================] - 0s 7ms/step - loss: 0.0157 - val_loss: 0.0172\n",
      "Epoch 44/100\n",
      "12/12 [==============================] - 0s 7ms/step - loss: 0.0156 - val_loss: 0.0173\n",
      "Epoch 45/100\n",
      "12/12 [==============================] - 0s 7ms/step - loss: 0.0155 - val_loss: 0.0172\n",
      "Epoch 46/100\n",
      "12/12 [==============================] - 0s 7ms/step - loss: 0.0155 - val_loss: 0.0173\n",
      "Epoch 47/100\n",
      "12/12 [==============================] - 0s 7ms/step - loss: 0.0154 - val_loss: 0.0170\n",
      "Epoch 48/100\n",
      "12/12 [==============================] - 0s 7ms/step - loss: 0.0153 - val_loss: 0.0173\n",
      "Epoch 49/100\n",
      "12/12 [==============================] - 0s 7ms/step - loss: 0.0153 - val_loss: 0.0170\n",
      "Epoch 50/100\n",
      "12/12 [==============================] - 0s 7ms/step - loss: 0.0152 - val_loss: 0.0170\n",
      "Epoch 51/100\n",
      "12/12 [==============================] - 0s 7ms/step - loss: 0.0151 - val_loss: 0.0170\n",
      "Epoch 52/100\n",
      "12/12 [==============================] - 0s 7ms/step - loss: 0.0150 - val_loss: 0.0172\n",
      "Epoch 53/100\n",
      "12/12 [==============================] - 0s 7ms/step - loss: 0.0152 - val_loss: 0.0174\n",
      "Epoch 54/100\n",
      "12/12 [==============================] - 0s 7ms/step - loss: 0.0152 - val_loss: 0.0172\n",
      "Epoch 55/100\n",
      "12/12 [==============================] - 0s 7ms/step - loss: 0.0151 - val_loss: 0.0170\n",
      "Epoch 56/100\n",
      "12/12 [==============================] - 0s 7ms/step - loss: 0.0149 - val_loss: 0.0171\n",
      "Epoch 57/100\n",
      "12/12 [==============================] - 0s 7ms/step - loss: 0.0149 - val_loss: 0.0169\n",
      "Epoch 58/100\n",
      "12/12 [==============================] - 0s 7ms/step - loss: 0.0148 - val_loss: 0.0171\n",
      "Epoch 59/100\n",
      "12/12 [==============================] - 0s 7ms/step - loss: 0.0150 - val_loss: 0.0170\n",
      "Epoch 60/100\n",
      "12/12 [==============================] - 0s 7ms/step - loss: 0.0150 - val_loss: 0.0174\n",
      "Epoch 61/100\n",
      "12/12 [==============================] - 0s 7ms/step - loss: 0.0148 - val_loss: 0.0168\n",
      "Epoch 62/100\n",
      "12/12 [==============================] - 0s 7ms/step - loss: 0.0146 - val_loss: 0.0168\n",
      "Epoch 63/100\n",
      "12/12 [==============================] - 0s 7ms/step - loss: 0.0145 - val_loss: 0.0173\n",
      "Epoch 64/100\n",
      "12/12 [==============================] - 0s 7ms/step - loss: 0.0148 - val_loss: 0.0173\n",
      "Epoch 65/100\n",
      "12/12 [==============================] - 0s 7ms/step - loss: 0.0147 - val_loss: 0.0170\n",
      "Epoch 66/100\n",
      "12/12 [==============================] - 0s 7ms/step - loss: 0.0145 - val_loss: 0.0168\n",
      "Epoch 67/100\n",
      "12/12 [==============================] - 0s 7ms/step - loss: 0.0144 - val_loss: 0.0170\n",
      "Epoch 68/100\n",
      "12/12 [==============================] - 0s 7ms/step - loss: 0.0145 - val_loss: 0.0169\n",
      "Epoch 69/100\n",
      "12/12 [==============================] - 0s 7ms/step - loss: 0.0145 - val_loss: 0.0169\n",
      "Epoch 70/100\n",
      "12/12 [==============================] - 0s 7ms/step - loss: 0.0143 - val_loss: 0.0168\n",
      "Epoch 71/100\n",
      "12/12 [==============================] - 0s 7ms/step - loss: 0.0144 - val_loss: 0.0169\n",
      "Epoch 72/100\n",
      "12/12 [==============================] - 0s 7ms/step - loss: 0.0143 - val_loss: 0.0168\n",
      "Epoch 73/100\n",
      "12/12 [==============================] - 0s 8ms/step - loss: 0.0143 - val_loss: 0.0167\n",
      "Epoch 74/100\n",
      "12/12 [==============================] - 0s 7ms/step - loss: 0.0145 - val_loss: 0.0167\n",
      "Epoch 75/100\n",
      "12/12 [==============================] - 0s 7ms/step - loss: 0.0142 - val_loss: 0.0168\n",
      "Epoch 76/100\n",
      "12/12 [==============================] - 0s 7ms/step - loss: 0.0142 - val_loss: 0.0168\n",
      "Epoch 77/100\n",
      "12/12 [==============================] - 0s 7ms/step - loss: 0.0141 - val_loss: 0.0169\n",
      "Epoch 78/100\n",
      "12/12 [==============================] - 0s 7ms/step - loss: 0.0142 - val_loss: 0.0168\n",
      "Epoch 79/100\n",
      "12/12 [==============================] - 0s 7ms/step - loss: 0.0141 - val_loss: 0.0168\n",
      "Epoch 80/100\n",
      "12/12 [==============================] - 0s 7ms/step - loss: 0.0141 - val_loss: 0.0166\n",
      "Epoch 81/100\n",
      "12/12 [==============================] - 0s 7ms/step - loss: 0.0140 - val_loss: 0.0167\n",
      "Epoch 82/100\n",
      "12/12 [==============================] - 0s 7ms/step - loss: 0.0139 - val_loss: 0.0168\n",
      "Epoch 83/100\n",
      "12/12 [==============================] - 0s 7ms/step - loss: 0.0139 - val_loss: 0.0168\n",
      "Epoch 84/100\n",
      "12/12 [==============================] - 0s 7ms/step - loss: 0.0139 - val_loss: 0.0168\n",
      "Epoch 85/100\n",
      "12/12 [==============================] - 0s 7ms/step - loss: 0.0139 - val_loss: 0.0166\n",
      "Epoch 86/100\n",
      "12/12 [==============================] - 0s 7ms/step - loss: 0.0138 - val_loss: 0.0169\n",
      "Epoch 87/100\n",
      "12/12 [==============================] - 0s 7ms/step - loss: 0.0138 - val_loss: 0.0167\n",
      "Epoch 88/100\n",
      "12/12 [==============================] - 0s 7ms/step - loss: 0.0136 - val_loss: 0.0168\n",
      "Epoch 89/100\n",
      "12/12 [==============================] - 0s 7ms/step - loss: 0.0137 - val_loss: 0.0168\n",
      "Epoch 90/100\n",
      "12/12 [==============================] - 0s 7ms/step - loss: 0.0136 - val_loss: 0.0170\n",
      "Epoch 91/100\n",
      "12/12 [==============================] - 0s 7ms/step - loss: 0.0136 - val_loss: 0.0168\n",
      "Epoch 92/100\n",
      "12/12 [==============================] - 0s 7ms/step - loss: 0.0137 - val_loss: 0.0166\n",
      "Epoch 93/100\n",
      "12/12 [==============================] - 0s 7ms/step - loss: 0.0137 - val_loss: 0.0167\n",
      "Epoch 94/100\n",
      "12/12 [==============================] - 0s 8ms/step - loss: 0.0136 - val_loss: 0.0169\n",
      "Epoch 95/100\n",
      "12/12 [==============================] - 0s 7ms/step - loss: 0.0136 - val_loss: 0.0167\n",
      "Epoch 96/100\n",
      "12/12 [==============================] - 0s 7ms/step - loss: 0.0134 - val_loss: 0.0168\n",
      "Epoch 97/100\n",
      "12/12 [==============================] - 0s 7ms/step - loss: 0.0134 - val_loss: 0.0168\n",
      "Epoch 98/100\n",
      "12/12 [==============================] - 0s 9ms/step - loss: 0.0133 - val_loss: 0.0168\n",
      "Epoch 99/100\n",
      "12/12 [==============================] - 0s 8ms/step - loss: 0.0134 - val_loss: 0.0169\n",
      "Epoch 100/100\n",
      "12/12 [==============================] - 0s 7ms/step - loss: 0.0135 - val_loss: 0.0168\n"
     ]
    }
   ],
   "source": [
    "nomasspt_history = nomasspt_model.fit(\n",
    "                X_nomasspt_tr,\n",
    "                Yn_tr,\n",
    "                validation_data=(X_nomasspt_val, Yn_val),\n",
    "                shuffle=True,\n",
    "                epochs=100,\n",
    "                batch_size=6000)"
   ]
  },
  {
   "cell_type": "markdown",
   "id": "23b96f3a-2388-4507-a0b0-11053e2fc364",
   "metadata": {},
   "source": [
    "## View Results"
   ]
  },
  {
   "cell_type": "code",
   "execution_count": 33,
   "id": "43b0081d-7f91-4130-9ef9-a9e9e85571cb",
   "metadata": {},
   "outputs": [],
   "source": [
    "results_keys = ['all_vars', 'nomass', 'nomasspt']\n",
    "results = [allvars_history, nomass_history, nomasspt_history]\n",
    "results_dict = dict(zip(results_keys, results))"
   ]
  },
  {
   "cell_type": "code",
   "execution_count": 34,
   "id": "e4174188-cbd1-4bac-8258-c4f356d8a0c2",
   "metadata": {},
   "outputs": [
    {
     "name": "stdout",
     "output_type": "stream",
     "text": [
      "Key: all_vars\n",
      "Color: mediumvioletred\n",
      "Key: nomass\n",
      "Color: slateblue\n",
      "Key: nomasspt\n",
      "Color: g\n"
     ]
    },
    {
     "data": {
      "text/plain": [
       "<Figure size 432x288 with 0 Axes>"
      ]
     },
     "metadata": {},
     "output_type": "display_data"
    },
    {
     "data": {
      "image/png": "[encoded data removed]",
      "text/plain": [
       "<Figure size 720x432 with 2 Axes>"
      ]
     },
     "metadata": {
      "needs_background": "light"
     },
     "output_type": "display_data"
    }
   ],
   "source": [
    "loss_curve_colors = ['mediumvioletred', 'slateblue', 'g', 'orangered']\n",
    "\n",
    "# get the epochs\n",
    "plt.cla(); plt.clf()\n",
    "fig = plt.figure(figsize=(10,6))\n",
    "dnn_loss = np.array(allvars_history.history['loss'])\n",
    "epoch = np.arange(1,len(dnn_loss)+1,1)\n",
    "\n",
    "ax1 = fig.add_axes([.075,.1,.9,.85])\n",
    "ax2 = fig.add_axes([.39,.325,.565,.575])\n",
    "\n",
    "for (color, (key, hist)) in zip(loss_curve_colors, results_dict.items()):\n",
    "    print('Key: {}'.format(key))\n",
    "    print('Color: {}'.format(color))\n",
    "    loss = hist.history['loss']\n",
    "    val_loss = hist.history['val_loss']    \n",
    "    ax1.plot(epoch, loss, label='{} model loss'.format(key), ls='solid',\n",
    "             color=color)\n",
    "    ax1.plot(epoch, val_loss, label='{} validation'.format(key),\n",
    "             ls='dashed', color=color)\n",
    "    ax2.plot(epoch, loss, ls='solid',\n",
    "             color=color)\n",
    "    ax2.plot(epoch, val_loss,\n",
    "             ls='dashed', color=color)\n",
    "\n",
    "# Axis 1\n",
    "ax1.set_xlim(0,len(dnn_loss))\n",
    "ax1.set_xlabel('Epoch', fontsize=18)\n",
    "ax1.set_ylabel('Mean Squared Error', fontsize=18)\n",
    "\n",
    "# Axis 2\n",
    "ax2.set_xlim(80,100)\n",
    "ax2.set_ylim(.012,.020)\n",
    "ax2.set_xticklabels([])\n",
    "\n",
    "# Figure\n",
    "fig.legend(fontsize=12, loc=[.115,.65], frameon=True, shadow=True, fancybox=True)\n",
    "# fig.savefig('Plots/Nov22/AllVariables_nomassComparison_lossCurves.png',\n",
    "#             format='png')\n",
    "fig.show()"
   ]
  },
  {
   "cell_type": "markdown",
   "id": "9d5c55a0-e3f0-4528-9a4e-e53addda5a03",
   "metadata": {},
   "source": [
    "### Compare Results to Old Results"
   ]
  },
  {
   "cell_type": "code",
   "execution_count": 35,
   "id": "e6410244-7434-4457-806d-e84161565448",
   "metadata": {},
   "outputs": [],
   "source": [
    "import pickle as pkl\n",
    "\n",
    "with open('Data/large_dnn_history', 'rb') as pkl_obj:\n",
    "    old_dnn_history = pkl.load(pkl_obj)"
   ]
  },
  {
   "cell_type": "code",
   "execution_count": 36,
   "id": "e994325f-aa89-405c-8a5f-55b2c7f46466",
   "metadata": {},
   "outputs": [
    {
     "name": "stdout",
     "output_type": "stream",
     "text": [
      "Key: old_dnn\n",
      "Color: orange\n",
      "Key: all_vars\n",
      "Color: mediumblue\n"
     ]
    },
    {
     "data": {
      "text/plain": [
       "<Figure size 432x288 with 0 Axes>"
      ]
     },
     "metadata": {},
     "output_type": "display_data"
    },
    {
     "data": {
      "image/png": "[encoded data removed]",
      "text/plain": [
       "<Figure size 720x432 with 2 Axes>"
      ]
     },
     "metadata": {
      "needs_background": "light"
     },
     "output_type": "display_data"
    }
   ],
   "source": [
    "# as a note we have to take the history because the pickle file could only\n",
    "# pickle the history therefore we need to take the history object from the\n",
    "# allvars history as well :-)\n",
    "compare_dict = dict()\n",
    "compare_dict['old_dnn'] = old_dnn_history\n",
    "compare_dict['all_vars'] = allvars_history.history\n",
    "\n",
    "loss_curve_colors = ['orange', 'mediumblue']\n",
    "\n",
    "# get the epochs\n",
    "plt.cla(); plt.clf()\n",
    "fig = plt.figure(figsize=(10,6))\n",
    "dnn_loss = np.array(allvars_history.history['loss'])\n",
    "epoch = np.arange(1,len(dnn_loss)+1,1)\n",
    "\n",
    "ax1 = fig.add_axes([.075,.1,.9,.85])\n",
    "ax2 = fig.add_axes([.39,.325,.565,.575])\n",
    "\n",
    "for (color, (key, hist)) in zip(loss_curve_colors, compare_dict.items()):\n",
    "    print('Key: {}'.format(key))\n",
    "    print('Color: {}'.format(color))\n",
    "    loss = hist['loss']\n",
    "    val_loss = hist['val_loss']    \n",
    "    ax1.plot(epoch, loss, label='{} model loss'.format(key), ls='solid',\n",
    "             color=color)\n",
    "    ax1.plot(epoch, val_loss, label='{} validation'.format(key),\n",
    "             ls='dashed', color=color)\n",
    "    ax2.plot(epoch, loss, ls='solid',\n",
    "             color=color)\n",
    "    ax2.plot(epoch, val_loss,\n",
    "             ls='dashed', color=color)\n",
    "\n",
    "# Axis 1\n",
    "ax1.set_xlim(0,len(dnn_loss))\n",
    "ax1.set_xlabel('Epoch', fontsize=18)\n",
    "ax1.set_ylabel('Mean Squared Error', fontsize=18)\n",
    "\n",
    "# Axis 2\n",
    "ax2.set_xlim(80,100)\n",
    "ax2.set_ylim(.012,.020)\n",
    "ax2.set_xticklabels([])\n",
    "\n",
    "# Figure\n",
    "fig.legend(fontsize=12, loc=[.115,.65], frameon=True, shadow=True, fancybox=True)\n",
    "# fig.savefig('Plots/Nov22/NewOldComparison_lossCurves.png', format='png')\n",
    "fig.show()"
   ]
  }
 ],
 "metadata": {
  "kernelspec": {
   "display_name": "Python 3 (ipykernel)",
   "language": "python",
   "name": "python3"
  },
  "language_info": {
   "codemirror_mode": {
    "name": "ipython",
    "version": 3
   },
   "file_extension": ".py",
   "mimetype": "text/x-python",
   "name": "python",
   "nbconvert_exporter": "python",
   "pygments_lexer": "ipython3",
   "version": "3.8.10"
  }
 },
 "nbformat": 4,
 "nbformat_minor": 5
}
