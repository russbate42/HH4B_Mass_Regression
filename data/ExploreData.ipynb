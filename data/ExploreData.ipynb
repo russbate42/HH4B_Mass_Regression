{
 "cells": [
  {
   "cell_type": "markdown",
   "id": "9117d41b-93b0-4c3b-a66f-fa8cc9b58d83",
   "metadata": {},
   "source": [
    "# Notebook for Exploratory Data Analysis\n",
    "Notes:\n",
    " - Any general \"to do\" can go here"
   ]
  },
  {
   "cell_type": "markdown",
   "id": "2090b00d-581d-4498-bc8f-077ec131f4d5",
   "metadata": {},
   "source": [
    "## Standard Loads for Uprooting"
   ]
  },
  {
   "cell_type": "code",
   "execution_count": 2,
   "id": "7be775cf-a710-414b-87e2-4763836be01e",
   "metadata": {},
   "outputs": [
    {
     "name": "stdout",
     "output_type": "stream",
     "text": [
      "Numpy version: 1.21.4\n",
      "Uproot version: 4.1.8\n"
     ]
    }
   ],
   "source": [
    "import numpy as np\n",
    "import matplotlib.pyplot as plt\n",
    "import uproot as ur\n",
    "\n",
    "print('Numpy version: {}'.format(np.__version__))\n",
    "print('Uproot version: {}'.format(ur.__version__))"
   ]
  },
  {
   "cell_type": "markdown",
   "id": "6d9386b2-4b0f-4304-b540-e3db0b6a3d0a",
   "metadata": {},
   "source": [
    "## Load Root Files and Make Histograms"
   ]
  },
  {
   "cell_type": "code",
   "execution_count": null,
   "id": "cb70ea55-cd2a-498d-89cc-d59788e13b2b",
   "metadata": {},
   "outputs": [],
   "source": []
  }
 ],
 "metadata": {
  "kernelspec": {
   "display_name": "Python 3 (ipykernel)",
   "language": "python",
   "name": "python3"
  },
  "language_info": {
   "codemirror_mode": {
    "name": "ipython",
    "version": 3
   },
   "file_extension": ".py",
   "mimetype": "text/x-python",
   "name": "python",
   "nbconvert_exporter": "python",
   "pygments_lexer": "ipython3",
   "version": "3.8.10"
  }
 },
 "nbformat": 4,
 "nbformat_minor": 5
}
