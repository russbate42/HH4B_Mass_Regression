{
 "cells": [
  {
   "cell_type": "markdown",
   "id": "9117d41b-93b0-4c3b-a66f-fa8cc9b58d83",
   "metadata": {
    "tags": []
   },
   "source": [
    "# Notebook for Exploratory Data Analysis\n",
    "Notes:\n",
    " - Any general \"to do\" can go here"
   ]
  },
  {
   "cell_type": "markdown",
   "id": "2090b00d-581d-4498-bc8f-077ec131f4d5",
   "metadata": {
    "tags": []
   },
   "source": [
    "## Standard Loads for Uprooting"
   ]
  },
  {
   "cell_type": "code",
   "execution_count": 1,
   "id": "7be775cf-a710-414b-87e2-4763836be01e",
   "metadata": {},
   "outputs": [
    {
     "name": "stdout",
     "output_type": "stream",
     "text": [
      "Numpy version: 1.23.1\n",
      "Uproot version: 4.3.3\n",
      "Awkward version: 1.8.0\n"
     ]
    }
   ],
   "source": [
    "import numpy as np\n",
    "import matplotlib.pyplot as plt\n",
    "import uproot as ur\n",
    "import awkward as ak\n",
    "\n",
    "print('Numpy version: {}'.format(np.__version__))\n",
    "print('Uproot version: {}'.format(ur.__version__))\n",
    "print('Awkward version: {}'.format(ak.__version__))"
   ]
  },
  {
   "cell_type": "markdown",
   "id": "6d9386b2-4b0f-4304-b540-e3db0b6a3d0a",
   "metadata": {
    "tags": []
   },
   "source": [
    "## Load Root Files and Make Histograms"
   ]
  },
  {
   "cell_type": "markdown",
   "id": "f28461c8-f55e-4dc7-a2c5-3c4d2c22ca5c",
   "metadata": {},
   "source": [
    "### Files"
   ]
  },
  {
   "cell_type": "code",
   "execution_count": 2,
   "id": "c8b0659d-0292-4945-a227-e5f12d67fddc",
   "metadata": {},
   "outputs": [],
   "source": [
    "rootfile_prefix = '/fast_scratch_1/atlas_images/XhhNTuple/'\n",
    "rfile = 'user.zhenw.29137978._000001.MiniNTuple.root'"
   ]
  },
  {
   "cell_type": "code",
   "execution_count": 3,
   "id": "7f518a26-fbda-4534-a8d6-70ed255e8896",
   "metadata": {},
   "outputs": [
    {
     "data": {
      "text/plain": [
       "['XhhMiniNtuple;1',\n",
       " 'cutflow_XhhMiniNtuple;1',\n",
       " 'cutflow_weighted_XhhMiniNtuple;1',\n",
       " 'MetaData_EventCount_XhhMiniNtuple;1']"
      ]
     },
     "execution_count": 3,
     "metadata": {},
     "output_type": "execute_result"
    }
   ],
   "source": [
    "uprooted = ur.open(rootfile_prefix+rfile)\n",
    "uprooted.keys()"
   ]
  },
  {
   "cell_type": "code",
   "execution_count": 4,
   "id": "645d3e24-5475-46b7-ba80-89d76f78c16e",
   "metadata": {
    "scrolled": true,
    "tags": []
   },
   "outputs": [
    {
     "name": "stdout",
     "output_type": "stream",
     "text": [
      "name                             | typename                 | interpretation                \n",
      "---------------------------------+--------------------------+-------------------------------\n",
      "runNumber                        | int32_t                  | AsDtype('>i4')\n",
      "eventNumber                      | int64_t                  | AsDtype('>i8')\n",
      "lumiBlock                        | int32_t                  | AsDtype('>i4')\n",
      "coreFlags                        | uint32_t                 | AsDtype('>u4')\n",
      "bcid                             | int32_t                  | AsDtype('>i4')\n",
      "mcEventNumber                    | int32_t                  | AsDtype('>i4')\n",
      "mcChannelNumber                  | int32_t                  | AsDtype('>i4')\n",
      "mcEventWeight                    | float                    | AsDtype('>f4')\n",
      "NPV                              | int32_t                  | AsDtype('>i4')\n",
      "actualInteractionsPerCrossing    | float                    | AsDtype('>f4')\n",
      "averageInteractionsPerCrossing   | float                    | AsDtype('>f4')\n",
      "weight_pileup                    | float                    | AsDtype('>f4')\n",
      "correctedAverageMu               | float                    | AsDtype('>f4')\n",
      "correctedAndScaledAverageMu      | float                    | AsDtype('>f4')\n",
      "correctedActualMu                | float                    | AsDtype('>f4')\n",
      "correctedAndScaledActualMu       | float                    | AsDtype('>f4')\n",
      "weight_pileup_up                 | float                    | AsDtype('>f4')\n",
      "weight_pileup_down               | float                    | AsDtype('>f4')\n",
      "rand_run_nr                      | int32_t                  | AsDtype('>i4')\n",
      "rand_lumiblock_nr                | int32_t                  | AsDtype('>i4')\n",
      "passedTriggerHashes              | std::vector<uint64_t>    | AsJagged(AsDtype('>u8'), he...\n",
      "matchedTriggerHashes             | std::vector<uint64_t>    | AsJagged(AsDtype('>u8'), he...\n",
      "HLT_2j15_gsc35_bmv2c1040_spli... | bool                     | AsDtype('bool')\n",
      "HLT_2j330_a10t_lcw_jes_35smcI... | bool                     | AsDtype('bool')\n",
      "HLT_2j330_a10t_lcw_jes_35smcI... | bool                     | AsDtype('bool')\n",
      "HLT_2j330_a10t_lcw_jes_40smcI... | bool                     | AsDtype('bool')\n",
      "HLT_2j35_bmv2c1060_split_2j35... | bool                     | AsDtype('bool')\n",
      "HLT_2j35_bmv2c2060_split_2j35... | bool                     | AsDtype('bool')\n",
      "HLT_2j35_btight_2j35_L13J25_0... | bool                     | AsDtype('bool')\n",
      "HLT_2j35_gsc55_bmv2c1050_spli... | bool                     | AsDtype('bool')\n",
      "HLT_2j45_gsc55_bmv2c1050_spli... | bool                     | AsDtype('bool')\n",
      "HLT_2j55_bmv2c2060_split_ht30... | bool                     | AsDtype('bool')\n",
      "HLT_ht1000_L1J100                | bool                     | AsDtype('bool')\n",
      "HLT_j100_2j55_bmedium            | bool                     | AsDtype('bool')\n",
      "HLT_j100_2j55_bmv2c2060_split    | bool                     | AsDtype('bool')\n",
      "HLT_j110_gsc150_boffperf_spli... | bool                     | AsDtype('bool')\n",
      "HLT_j110_gsc150_boffperf_spli... | bool                     | AsDtype('bool')\n",
      "HLT_j225_bloose                  | bool                     | AsDtype('bool')\n",
      "HLT_j225_bmv2c2060_split         | bool                     | AsDtype('bool')\n",
      "HLT_j225_gsc300_bmv2c1070_split  | bool                     | AsDtype('bool')\n",
      "HLT_j35_gsc55_bmv2c1070_split... | bool                     | AsDtype('bool')\n",
      "HLT_j360_a10_lcw_sub_L1J100      | bool                     | AsDtype('bool')\n",
      "HLT_j360_a10t_lcw_jes_60smcIN... | bool                     | AsDtype('bool')\n",
      "HLT_j370_a10t_lcw_jes_35smcIN... | bool                     | AsDtype('bool')\n",
      "HLT_j390_a10t_lcw_jes_30smcIN... | bool                     | AsDtype('bool')\n",
      "HLT_j420_a10_lcw_L1J100          | bool                     | AsDtype('bool')\n",
      "HLT_j420_a10t_lcw_jes_35smcIN... | bool                     | AsDtype('bool')\n",
      "HLT_j420_a10t_lcw_jes_35smcIN... | bool                     | AsDtype('bool')\n",
      "HLT_j420_a10t_lcw_jes_40smcIN... | bool                     | AsDtype('bool')\n",
      "HLT_j460_a10_lcw_subjes_L1J100   | bool                     | AsDtype('bool')\n",
      "HLT_j460_a10_lcw_subjes_L1SC111  | bool                     | AsDtype('bool')\n",
      "HLT_j460_a10t_lcw_jes_L1J100     | bool                     | AsDtype('bool')\n",
      "HLT_j460_a10t_lcw_jes_L1SC111    | bool                     | AsDtype('bool')\n",
      "HLT_j70_0eta490_j50_0eta490_2... | bool                     | AsDtype('bool')\n",
      "HLT_j70_j50_0eta490_invm1100j... | bool                     | AsDtype('bool')\n",
      "nresolvedJets                    | int32_t                  | AsDtype('>i4')\n",
      "resolvedJets_E                   | std::vector<float>       | AsJagged(AsDtype('>f4'), he...\n",
      "resolvedJets_pt                  | std::vector<float>       | AsJagged(AsDtype('>f4'), he...\n",
      "resolvedJets_phi                 | std::vector<float>       | AsJagged(AsDtype('>f4'), he...\n",
      "resolvedJets_eta                 | std::vector<float>       | AsJagged(AsDtype('>f4'), he...\n",
      "resolvedJets_NumTrkPt1000PV      | std::vector<float>       | AsJagged(AsDtype('>f4'), he...\n",
      "resolvedJets_SumPtTrkPt1000PV    | std::vector<float>       | AsJagged(AsDtype('>f4'), he...\n",
      "resolvedJets_TrackWidthPt1000PV  | std::vector<float>       | AsJagged(AsDtype('>f4'), he...\n",
      "resolvedJets_NumTrkPt500PV       | std::vector<float>       | AsJagged(AsDtype('>f4'), he...\n",
      "resolvedJets_SumPtTrkPt500PV     | std::vector<float>       | AsJagged(AsDtype('>f4'), he...\n",
      "resolvedJets_TrackWidthPt500PV   | std::vector<float>       | AsJagged(AsDtype('>f4'), he...\n",
      "resolvedJets_JVFPV               | std::vector<float>       | AsJagged(AsDtype('>f4'), he...\n",
      "resolvedJets_JvtJvfcorr          | std::vector<float>       | AsJagged(AsDtype('>f4'), he...\n",
      "resolvedJets_JvtRpt              | std::vector<float>       | AsJagged(AsDtype('>f4'), he...\n",
      "resolvedJets_Jvt                 | std::vector<float>       | AsJagged(AsDtype('>f4'), he...\n",
      "resolvedJets_JvtPass_Loose       | std::vector<int32_t>     | AsJagged(AsDtype('>i4'), he...\n",
      "resolvedJets_JvtEff_SF_Loose     | std::vector<std::vect... | AsObjects(AsVector(True, As...\n",
      "resolvedJets_JvtPass_Medium      | std::vector<int32_t>     | AsJagged(AsDtype('>i4'), he...\n",
      "resolvedJets_JvtEff_SF_Medium    | std::vector<std::vect... | AsObjects(AsVector(True, As...\n",
      "resolvedJets_JvtPass_Tight       | std::vector<int32_t>     | AsJagged(AsDtype('>i4'), he...\n",
      "resolvedJets_JvtEff_SF_Tight     | std::vector<std::vect... | AsObjects(AsVector(True, As...\n",
      "resolvedJets_fJvtPass_Medium     | std::vector<int32_t>     | AsJagged(AsDtype('>i4'), he...\n",
      "resolvedJets_fJvtEff_SF_Medium   | std::vector<std::vect... | AsObjects(AsVector(True, As...\n",
      "resolvedJets_fJvtPass_Tight      | std::vector<int32_t>     | AsJagged(AsDtype('>i4'), he...\n",
      "resolvedJets_fJvtEff_SF_Tight    | std::vector<std::vect... | AsObjects(AsVector(True, As...\n",
      "resolvedJets_MV2c00              | std::vector<float>       | AsJagged(AsDtype('>f4'), he...\n",
      "resolvedJets_MV2c10              | std::vector<float>       | AsJagged(AsDtype('>f4'), he...\n",
      "resolvedJets_MV2c10mu            | std::vector<float>       | AsJagged(AsDtype('>f4'), he...\n",
      "resolvedJets_MV2c10rnn           | std::vector<float>       | AsJagged(AsDtype('>f4'), he...\n",
      "resolvedJets_MV2rmu              | std::vector<float>       | AsJagged(AsDtype('>f4'), he...\n",
      "resolvedJets_MV2r                | std::vector<float>       | AsJagged(AsDtype('>f4'), he...\n",
      "resolvedJets_MV2c20              | std::vector<float>       | AsJagged(AsDtype('>f4'), he...\n",
      "resolvedJets_MV2c100             | std::vector<float>       | AsJagged(AsDtype('>f4'), he...\n",
      "resolvedJets_DL1                 | std::vector<float>       | AsJagged(AsDtype('>f4'), he...\n",
      "resolvedJets_DL1_pu              | std::vector<float>       | AsJagged(AsDtype('>f4'), he...\n",
      "resolvedJets_DL1_pc              | std::vector<float>       | AsJagged(AsDtype('>f4'), he...\n",
      "resolvedJets_DL1_pb              | std::vector<float>       | AsJagged(AsDtype('>f4'), he...\n",
      "resolvedJets_DL1mu               | std::vector<float>       | AsJagged(AsDtype('>f4'), he...\n",
      "resolvedJets_DL1mu_pu            | std::vector<float>       | AsJagged(AsDtype('>f4'), he...\n",
      "resolvedJets_DL1mu_pc            | std::vector<float>       | AsJagged(AsDtype('>f4'), he...\n",
      "resolvedJets_DL1mu_pb            | std::vector<float>       | AsJagged(AsDtype('>f4'), he...\n",
      "resolvedJets_DL1rnn              | std::vector<float>       | AsJagged(AsDtype('>f4'), he...\n",
      "resolvedJets_DL1rnn_pu           | std::vector<float>       | AsJagged(AsDtype('>f4'), he...\n",
      "resolvedJets_DL1rnn_pc           | std::vector<float>       | AsJagged(AsDtype('>f4'), he...\n",
      "resolvedJets_DL1rnn_pb           | std::vector<float>       | AsJagged(AsDtype('>f4'), he...\n",
      "resolvedJets_DL1rmu              | std::vector<float>       | AsJagged(AsDtype('>f4'), he...\n",
      "resolvedJets_DL1rmu_pu           | std::vector<float>       | AsJagged(AsDtype('>f4'), he...\n",
      "resolvedJets_DL1rmu_pc           | std::vector<float>       | AsJagged(AsDtype('>f4'), he...\n",
      "resolvedJets_DL1rmu_pb           | std::vector<float>       | AsJagged(AsDtype('>f4'), he...\n",
      "resolvedJets_DL1r                | std::vector<float>       | AsJagged(AsDtype('>f4'), he...\n",
      "resolvedJets_DL1r_pu             | std::vector<float>       | AsJagged(AsDtype('>f4'), he...\n",
      "resolvedJets_DL1r_pc             | std::vector<float>       | AsJagged(AsDtype('>f4'), he...\n",
      "resolvedJets_DL1r_pb             | std::vector<float>       | AsJagged(AsDtype('>f4'), he...\n",
      "resolvedJets_HadronConeExclTr... | std::vector<int32_t>     | AsJagged(AsDtype('>i4'), he...\n",
      "resolvedJets_HadronConeExclEx... | std::vector<int32_t>     | AsJagged(AsDtype('>i4'), he...\n",
      "resolvedJets_JetVertexCharge_... | std::vector<double>      | AsJagged(AsDtype('>f8'), he...\n",
      "resolvedJets_is_DL1r_FixedCut... | std::vector<int32_t>     | AsJagged(AsDtype('>i4'), he...\n",
      "resolvedJets_SF_DL1r_FixedCut... | std::vector<std::vect... | AsObjects(AsVector(True, As...\n",
      "resolvedJets_is_DL1r_FixedCut... | std::vector<int32_t>     | AsJagged(AsDtype('>i4'), he...\n",
      "resolvedJets_SF_DL1r_FixedCut... | std::vector<std::vect... | AsObjects(AsVector(True, As...\n",
      "resolvedJets_is_DL1r_FixedCut... | std::vector<int32_t>     | AsJagged(AsDtype('>i4'), he...\n",
      "resolvedJets_SF_DL1r_FixedCut... | std::vector<std::vect... | AsObjects(AsVector(True, As...\n",
      "resolvedJets_Quantile_DL1r_Co... | std::vector<int32_t>     | AsJagged(AsDtype('>i4'), he...\n",
      "resolvedJets_SF_DL1r_Continuous  | std::vector<std::vect... | AsObjects(AsVector(True, As...\n",
      "resolvedJets_InefficiencySF_D... | std::vector<std::vect... | AsObjects(AsVector(True, As...\n",
      "nboostedJets                     | int32_t                  | AsDtype('>i4')\n",
      "boostedJets_m                    | std::vector<float>       | AsJagged(AsDtype('>f4'), he...\n",
      "boostedJets_pt                   | std::vector<float>       | AsJagged(AsDtype('>f4'), he...\n",
      "boostedJets_phi                  | std::vector<float>       | AsJagged(AsDtype('>f4'), he...\n",
      "boostedJets_eta                  | std::vector<float>       | AsJagged(AsDtype('>f4'), he...\n",
      "boostedJets_Split12              | std::vector<float>       | AsJagged(AsDtype('>f4'), he...\n",
      "boostedJets_Split23              | std::vector<float>       | AsJagged(AsDtype('>f4'), he...\n",
      "boostedJets_Split34              | std::vector<float>       | AsJagged(AsDtype('>f4'), he...\n",
      "boostedJets_tau1_wta             | std::vector<float>       | AsJagged(AsDtype('>f4'), he...\n",
      "boostedJets_tau2_wta             | std::vector<float>       | AsJagged(AsDtype('>f4'), he...\n",
      "boostedJets_tau3_wta             | std::vector<float>       | AsJagged(AsDtype('>f4'), he...\n",
      "boostedJets_tau21_wta            | std::vector<float>       | AsJagged(AsDtype('>f4'), he...\n",
      "boostedJets_tau32_wta            | std::vector<float>       | AsJagged(AsDtype('>f4'), he...\n",
      "boostedJets_ECF1                 | std::vector<float>       | AsJagged(AsDtype('>f4'), he...\n",
      "boostedJets_ECF2                 | std::vector<float>       | AsJagged(AsDtype('>f4'), he...\n",
      "boostedJets_ECF3                 | std::vector<float>       | AsJagged(AsDtype('>f4'), he...\n",
      "boostedJets_C2                   | std::vector<float>       | AsJagged(AsDtype('>f4'), he...\n",
      "boostedJets_D2                   | std::vector<float>       | AsJagged(AsDtype('>f4'), he...\n",
      "boostedJets_NTrimSubjets         | std::vector<float>       | AsJagged(AsDtype('>f4'), he...\n",
      "boostedJets_Nclusters            | std::vector<int32_t>     | AsJagged(AsDtype('>i4'), he...\n",
      "boostedJets_nTracks              | std::vector<int32_t>     | AsJagged(AsDtype('>i4'), he...\n",
      "boostedJets_ungrtrk500           | std::vector<int32_t>     | AsJagged(AsDtype('>i4'), he...\n",
      "boostedJets_EMFrac               | std::vector<float>       | AsJagged(AsDtype('>f4'), he...\n",
      "boostedJets_nChargedParticles    | std::vector<int32_t>     | AsJagged(AsDtype('>i4'), he...\n",
      "boostedJets_numConstituents      | std::vector<int32_t>     | AsJagged(AsDtype('>i4'), he...\n",
      "nboostedTrkJets                  | int32_t                  | AsDtype('>i4')\n",
      "boostedTrkJets_E                 | std::vector<float>       | AsJagged(AsDtype('>f4'), he...\n",
      "boostedTrkJets_pt                | std::vector<float>       | AsJagged(AsDtype('>f4'), he...\n",
      "boostedTrkJets_phi               | std::vector<float>       | AsJagged(AsDtype('>f4'), he...\n",
      "boostedTrkJets_eta               | std::vector<float>       | AsJagged(AsDtype('>f4'), he...\n",
      "boostedTrkJets_NumTrkPt1000PV    | std::vector<float>       | AsJagged(AsDtype('>f4'), he...\n",
      "boostedTrkJets_SumPtTrkPt1000PV  | std::vector<float>       | AsJagged(AsDtype('>f4'), he...\n",
      "boostedTrkJets_TrackWidthPt10... | std::vector<float>       | AsJagged(AsDtype('>f4'), he...\n",
      "boostedTrkJets_NumTrkPt500PV     | std::vector<float>       | AsJagged(AsDtype('>f4'), he...\n",
      "boostedTrkJets_SumPtTrkPt500PV   | std::vector<float>       | AsJagged(AsDtype('>f4'), he...\n",
      "boostedTrkJets_TrackWidthPt500PV | std::vector<float>       | AsJagged(AsDtype('>f4'), he...\n",
      "boostedTrkJets_JVFPV             | std::vector<float>       | AsJagged(AsDtype('>f4'), he...\n",
      "boostedTrkJets_JvtJvfcorr        | std::vector<float>       | AsJagged(AsDtype('>f4'), he...\n",
      "boostedTrkJets_JvtRpt            | std::vector<float>       | AsJagged(AsDtype('>f4'), he...\n",
      "boostedTrkJets_Jvt               | std::vector<float>       | AsJagged(AsDtype('>f4'), he...\n",
      "boostedTrkJets_JvtPass_Loose     | std::vector<int32_t>     | AsJagged(AsDtype('>i4'), he...\n",
      "boostedTrkJets_JvtEff_SF_Loose   | std::vector<std::vect... | AsObjects(AsVector(True, As...\n",
      "boostedTrkJets_JvtPass_Medium    | std::vector<int32_t>     | AsJagged(AsDtype('>i4'), he...\n",
      "boostedTrkJets_JvtEff_SF_Medium  | std::vector<std::vect... | AsObjects(AsVector(True, As...\n",
      "boostedTrkJets_JvtPass_Tight     | std::vector<int32_t>     | AsJagged(AsDtype('>i4'), he...\n",
      "boostedTrkJets_JvtEff_SF_Tight   | std::vector<std::vect... | AsObjects(AsVector(True, As...\n",
      "boostedTrkJets_fJvtPass_Medium   | std::vector<int32_t>     | AsJagged(AsDtype('>i4'), he...\n",
      "boostedTrkJets_fJvtEff_SF_Medium | std::vector<std::vect... | AsObjects(AsVector(True, As...\n",
      "boostedTrkJets_fJvtPass_Tight    | std::vector<int32_t>     | AsJagged(AsDtype('>i4'), he...\n",
      "boostedTrkJets_fJvtEff_SF_Tight  | std::vector<std::vect... | AsObjects(AsVector(True, As...\n",
      "boostedTrkJets_MV2c00            | std::vector<float>       | AsJagged(AsDtype('>f4'), he...\n",
      "boostedTrkJets_MV2c10            | std::vector<float>       | AsJagged(AsDtype('>f4'), he...\n",
      "boostedTrkJets_MV2c10mu          | std::vector<float>       | AsJagged(AsDtype('>f4'), he...\n",
      "boostedTrkJets_MV2c10rnn         | std::vector<float>       | AsJagged(AsDtype('>f4'), he...\n",
      "boostedTrkJets_MV2rmu            | std::vector<float>       | AsJagged(AsDtype('>f4'), he...\n",
      "boostedTrkJets_MV2r              | std::vector<float>       | AsJagged(AsDtype('>f4'), he...\n",
      "boostedTrkJets_MV2c20            | std::vector<float>       | AsJagged(AsDtype('>f4'), he...\n",
      "boostedTrkJets_MV2c100           | std::vector<float>       | AsJagged(AsDtype('>f4'), he...\n",
      "boostedTrkJets_DL1               | std::vector<float>       | AsJagged(AsDtype('>f4'), he...\n",
      "boostedTrkJets_DL1_pu            | std::vector<float>       | AsJagged(AsDtype('>f4'), he...\n",
      "boostedTrkJets_DL1_pc            | std::vector<float>       | AsJagged(AsDtype('>f4'), he...\n",
      "boostedTrkJets_DL1_pb            | std::vector<float>       | AsJagged(AsDtype('>f4'), he...\n",
      "boostedTrkJets_DL1mu             | std::vector<float>       | AsJagged(AsDtype('>f4'), he...\n",
      "boostedTrkJets_DL1mu_pu          | std::vector<float>       | AsJagged(AsDtype('>f4'), he...\n",
      "boostedTrkJets_DL1mu_pc          | std::vector<float>       | AsJagged(AsDtype('>f4'), he...\n",
      "boostedTrkJets_DL1mu_pb          | std::vector<float>       | AsJagged(AsDtype('>f4'), he...\n",
      "boostedTrkJets_DL1rnn            | std::vector<float>       | AsJagged(AsDtype('>f4'), he...\n",
      "boostedTrkJets_DL1rnn_pu         | std::vector<float>       | AsJagged(AsDtype('>f4'), he...\n",
      "boostedTrkJets_DL1rnn_pc         | std::vector<float>       | AsJagged(AsDtype('>f4'), he...\n",
      "boostedTrkJets_DL1rnn_pb         | std::vector<float>       | AsJagged(AsDtype('>f4'), he...\n",
      "boostedTrkJets_DL1rmu            | std::vector<float>       | AsJagged(AsDtype('>f4'), he...\n",
      "boostedTrkJets_DL1rmu_pu         | std::vector<float>       | AsJagged(AsDtype('>f4'), he...\n",
      "boostedTrkJets_DL1rmu_pc         | std::vector<float>       | AsJagged(AsDtype('>f4'), he...\n",
      "boostedTrkJets_DL1rmu_pb         | std::vector<float>       | AsJagged(AsDtype('>f4'), he...\n",
      "boostedTrkJets_DL1r              | std::vector<float>       | AsJagged(AsDtype('>f4'), he...\n",
      "boostedTrkJets_DL1r_pu           | std::vector<float>       | AsJagged(AsDtype('>f4'), he...\n",
      "boostedTrkJets_DL1r_pc           | std::vector<float>       | AsJagged(AsDtype('>f4'), he...\n",
      "boostedTrkJets_DL1r_pb           | std::vector<float>       | AsJagged(AsDtype('>f4'), he...\n",
      "boostedTrkJets_HadronConeExcl... | std::vector<int32_t>     | AsJagged(AsDtype('>i4'), he...\n",
      "boostedTrkJets_HadronConeExcl... | std::vector<int32_t>     | AsJagged(AsDtype('>i4'), he...\n",
      "boostedTrkJets_is_DL1r_FixedC... | std::vector<int32_t>     | AsJagged(AsDtype('>i4'), he...\n",
      "boostedTrkJets_SF_DL1r_FixedC... | std::vector<std::vect... | AsObjects(AsVector(True, As...\n",
      "boostedTrkJets_is_DL1r_FixedC... | std::vector<int32_t>     | AsJagged(AsDtype('>i4'), he...\n",
      "boostedTrkJets_SF_DL1r_FixedC... | std::vector<std::vect... | AsObjects(AsVector(True, As...\n",
      "boostedTrkJets_is_DL1r_FixedC... | std::vector<int32_t>     | AsJagged(AsDtype('>i4'), he...\n",
      "boostedTrkJets_SF_DL1r_FixedC... | std::vector<std::vect... | AsObjects(AsVector(True, As...\n",
      "boostedTrkJets_is_DL1r_FixedC... | std::vector<int32_t>     | AsJagged(AsDtype('>i4'), he...\n",
      "boostedTrkJets_SF_DL1r_FixedC... | std::vector<std::vect... | AsObjects(AsVector(True, As...\n",
      "nmuon                            | int32_t                  | AsDtype('>i4')\n",
      "muon_m                           | std::vector<float>       | AsJagged(AsDtype('>f4'), he...\n",
      "muon_pt                          | std::vector<float>       | AsJagged(AsDtype('>f4'), he...\n",
      "muon_phi                         | std::vector<float>       | AsJagged(AsDtype('>f4'), he...\n",
      "muon_eta                         | std::vector<float>       | AsJagged(AsDtype('>f4'), he...\n",
      "muon_charge                      | std::vector<float>       | AsJagged(AsDtype('>f4'), he...\n",
      "muon_isIsolated_FCTight          | std::vector<int32_t>     | AsJagged(AsDtype('>i4'), he...\n",
      "muon_trkd0                       | std::vector<float>       | AsJagged(AsDtype('>f4'), he...\n",
      "muon_trkd0sig                    | std::vector<float>       | AsJagged(AsDtype('>f4'), he...\n",
      "muon_trkz0                       | std::vector<float>       | AsJagged(AsDtype('>f4'), he...\n",
      "muon_trkz0sintheta               | std::vector<float>       | AsJagged(AsDtype('>f4'), he...\n",
      "muon_trkphi0                     | std::vector<float>       | AsJagged(AsDtype('>f4'), he...\n",
      "muon_trktheta                    | std::vector<float>       | AsJagged(AsDtype('>f4'), he...\n",
      "muon_trkcharge                   | std::vector<float>       | AsJagged(AsDtype('>f4'), he...\n",
      "muon_trkqOverP                   | std::vector<float>       | AsJagged(AsDtype('>f4'), he...\n",
      "muon_EnergyLoss                  | std::vector<float>       | AsJagged(AsDtype('>f4'), he...\n",
      "muon_EnergyLossSigma             | std::vector<float>       | AsJagged(AsDtype('>f4'), he...\n",
      "muon_energyLossType              | std::vector<uint8_t>     | AsJagged(AsDtype('uint8'), ...\n",
      "muon_MeasEnergyLoss              | std::vector<float>       | AsJagged(AsDtype('>f4'), he...\n",
      "muon_MeasEnergyLossSigma         | std::vector<float>       | AsJagged(AsDtype('>f4'), he...\n",
      "muon_ParamEnergyLoss             | std::vector<float>       | AsJagged(AsDtype('>f4'), he...\n",
      "muon_ParamEnergyLossSigmaMinus   | std::vector<float>       | AsJagged(AsDtype('>f4'), he...\n",
      "muon_ParamEnergyLossSigmaPlus    | std::vector<float>       | AsJagged(AsDtype('>f4'), he...\n",
      "ntruth                           | int32_t                  | AsDtype('>i4')\n",
      "truth_E                          | std::vector<float>       | AsJagged(AsDtype('>f4'), he...\n",
      "truth_pt                         | std::vector<float>       | AsJagged(AsDtype('>f4'), he...\n",
      "truth_phi                        | std::vector<float>       | AsJagged(AsDtype('>f4'), he...\n",
      "truth_eta                        | std::vector<float>       | AsJagged(AsDtype('>f4'), he...\n",
      "truth_pdgId                      | std::vector<int32_t>     | AsJagged(AsDtype('>i4'), he...\n",
      "truth_status                     | std::vector<int32_t>     | AsJagged(AsDtype('>i4'), he...\n",
      "truth_barcode                    | std::vector<int32_t>     | AsJagged(AsDtype('>i4'), he...\n",
      "truth_is_higgs                   | std::vector<int32_t>     | AsJagged(AsDtype('>i4'), he...\n",
      "truth_is_bhad                    | std::vector<int32_t>     | AsJagged(AsDtype('>i4'), he...\n",
      "truth_Bdecay_x                   | std::vector<float>       | AsJagged(AsDtype('>f4'), he...\n",
      "truth_Bdecay_y                   | std::vector<float>       | AsJagged(AsDtype('>f4'), he...\n",
      "truth_Bdecay_z                   | std::vector<float>       | AsJagged(AsDtype('>f4'), he...\n",
      "truth_nParents                   | std::vector<int32_t>     | AsJagged(AsDtype('>i4'), he...\n",
      "truth_parent_pdgId               | std::vector<std::vect... | AsObjects(AsVector(True, As...\n",
      "truth_parent_barcode             | std::vector<std::vect... | AsObjects(AsVector(True, As...\n",
      "truth_parent_status              | std::vector<std::vect... | AsObjects(AsVector(True, As...\n",
      "truth_nChildren                  | std::vector<int32_t>     | AsJagged(AsDtype('>i4'), he...\n",
      "truth_child_pdgId                | std::vector<std::vect... | AsObjects(AsVector(True, As...\n",
      "truth_child_barcode              | std::vector<std::vect... | AsObjects(AsVector(True, As...\n",
      "truth_child_status               | std::vector<std::vect... | AsObjects(AsVector(True, As...\n",
      "truth_mtt                        | double                   | AsDtype('>f8')\n",
      "isVHH                            | bool                     | AsDtype('bool')\n",
      "truth_mHH                        | double                   | AsDtype('>f8')\n",
      "truth_pT_H1                      | double                   | AsDtype('>f8')\n",
      "resolvedJets_bjetTrigSFs         | std::vector<std::vect... | AsObjects(AsVector(True, As...\n",
      "resolvedJets_jetTrigL1SFs        | vector<TrigSF>           | AsGroup(<TBranchElement 're...\n",
      "resolvedJets_jetTrigL1SFs/res... | float[]                  | AsJagged(AsDtype('>f4'))\n",
      "resolvedJets_jetTrigL1SFs/res... | float[]                  | AsJagged(AsDtype('>f4'))\n",
      "resolvedJets_jetTrigL1SFs/res... | float[]                  | AsJagged(AsDtype('>f4'))\n",
      "resolvedJets_jetTrigL1SFs/res... | float[]                  | AsJagged(AsDtype('>f4'))\n",
      "resolvedJets_jetTrigL1SFs_1up    | vector<TrigSF>           | AsGroup(<TBranchElement 're...\n",
      "resolvedJets_jetTrigL1SFs_1up... | float[]                  | AsJagged(AsDtype('>f4'))\n",
      "resolvedJets_jetTrigL1SFs_1up... | float[]                  | AsJagged(AsDtype('>f4'))\n",
      "resolvedJets_jetTrigL1SFs_1up... | float[]                  | AsJagged(AsDtype('>f4'))\n",
      "resolvedJets_jetTrigL1SFs_1up... | float[]                  | AsJagged(AsDtype('>f4'))\n",
      "resolvedJets_jetTrigL1SFs_1down  | vector<TrigSF>           | AsGroup(<TBranchElement 're...\n",
      "resolvedJets_jetTrigL1SFs_1do... | float[]                  | AsJagged(AsDtype('>f4'))\n",
      "resolvedJets_jetTrigL1SFs_1do... | float[]                  | AsJagged(AsDtype('>f4'))\n",
      "resolvedJets_jetTrigL1SFs_1do... | float[]                  | AsJagged(AsDtype('>f4'))\n",
      "resolvedJets_jetTrigL1SFs_1do... | float[]                  | AsJagged(AsDtype('>f4'))\n",
      "resolvedJets_jetTrigHLTSFs       | vector<TrigSF>           | AsGroup(<TBranchElement 're...\n",
      "resolvedJets_jetTrigHLTSFs/re... | float[]                  | AsJagged(AsDtype('>f4'))\n",
      "resolvedJets_jetTrigHLTSFs/re... | float[]                  | AsJagged(AsDtype('>f4'))\n",
      "resolvedJets_jetTrigHLTSFs/re... | float[]                  | AsJagged(AsDtype('>f4'))\n",
      "resolvedJets_jetTrigHLTSFs/re... | float[]                  | AsJagged(AsDtype('>f4'))\n",
      "resolvedJets_jetTrigHLTSFs_1up   | vector<TrigSF>           | AsGroup(<TBranchElement 're...\n",
      "resolvedJets_jetTrigHLTSFs_1u... | float[]                  | AsJagged(AsDtype('>f4'))\n",
      "resolvedJets_jetTrigHLTSFs_1u... | float[]                  | AsJagged(AsDtype('>f4'))\n",
      "resolvedJets_jetTrigHLTSFs_1u... | float[]                  | AsJagged(AsDtype('>f4'))\n",
      "resolvedJets_jetTrigHLTSFs_1u... | float[]                  | AsJagged(AsDtype('>f4'))\n",
      "resolvedJets_jetTrigHLTSFs_1down | vector<TrigSF>           | AsGroup(<TBranchElement 're...\n",
      "resolvedJets_jetTrigHLTSFs_1d... | float[]                  | AsJagged(AsDtype('>f4'))\n",
      "resolvedJets_jetTrigHLTSFs_1d... | float[]                  | AsJagged(AsDtype('>f4'))\n",
      "resolvedJets_jetTrigHLTSFs_1d... | float[]                  | AsJagged(AsDtype('>f4'))\n",
      "resolvedJets_jetTrigHLTSFs_1d... | float[]                  | AsJagged(AsDtype('>f4'))\n",
      "resolved_htTrigL1SF              | float                    | AsDtype('>f4')\n",
      "resolved_htTrigL1SF_1up          | float                    | AsDtype('>f4')\n",
      "resolved_htTrigL1SF_1down        | float                    | AsDtype('>f4')\n",
      "resolved_htTrigHLTSF             | float                    | AsDtype('>f4')\n",
      "resolved_htTrigHLTSF_1up         | float                    | AsDtype('>f4')\n",
      "resolved_htTrigHLTSF_1down       | float                    | AsDtype('>f4')\n",
      "resolvedJets_isOnlineTagged      | vector<TrigSF>           | AsGroup(<TBranchElement 're...\n",
      "resolvedJets_isOnlineTagged/r... | float[]                  | AsJagged(AsDtype('>f4'))\n",
      "resolvedJets_isOnlineTagged/r... | float[]                  | AsJagged(AsDtype('>f4'))\n",
      "resolvedJets_isOnlineTagged/r... | float[]                  | AsJagged(AsDtype('>f4'))\n",
      "resolvedJets_isOnlineTagged/r... | float[]                  | AsJagged(AsDtype('>f4'))\n",
      "resolvedJets_rawPt               | std::vector<float>       | AsJagged(AsDtype('>f4'), he...\n",
      "resolvedJets_pullMag             | std::vector<float>       | AsJagged(AsDtype('>f4'), he...\n",
      "resolvedJets_pullPhi             | std::vector<float>       | AsJagged(AsDtype('>f4'), he...\n",
      "resolved_nGoodJets               | int32_t                  | AsDtype('>i4')\n",
      "resolved_nBTags                  | int32_t                  | AsDtype('>i4')\n",
      "resolved_nValidPairings          | int32_t                  | AsDtype('>i4')\n",
      "resolved_isSR                    | bool                     | AsDtype('bool')\n",
      "resolved_isVR                    | bool                     | AsDtype('bool')\n",
      "resolved_isCR                    | bool                     | AsDtype('bool')\n",
      "resolved_mHH                     | float                    | AsDtype('>f4')\n",
      "boosted_nGoodJets                | int32_t                  | AsDtype('>i4')\n",
      "boosted_DEtaHH                   | float                    | AsDtype('>f4')\n",
      "boosted_mHH                      | float                    | AsDtype('>f4')\n",
      "boosted_isSR                     | bool                     | AsDtype('bool')\n",
      "boosted_isVR                     | bool                     | AsDtype('bool')\n",
      "boosted_isCR                     | bool                     | AsDtype('bool')\n",
      "boosted_is2b                     | bool                     | AsDtype('bool')\n",
      "boosted_is3b                     | bool                     | AsDtype('bool')\n",
      "boosted_is4b                     | bool                     | AsDtype('bool')\n",
      "boosted_is1b-1                   | bool                     | AsDtype('bool')\n",
      "boosted_is2b-1                   | bool                     | AsDtype('bool')\n",
      "boosted_is2b-2                   | bool                     | AsDtype('bool')\n",
      "boostedJets_ptcalo               | std::vector<float>       | AsJagged(AsDtype('>f4'), he...\n",
      "boostedJets_ptTA                 | std::vector<float>       | AsJagged(AsDtype('>f4'), he...\n",
      "boostedJets_etacalo              | std::vector<float>       | AsJagged(AsDtype('>f4'), he...\n",
      "boostedJets_etaTA                | std::vector<float>       | AsJagged(AsDtype('>f4'), he...\n",
      "boostedJets_phicalo              | std::vector<float>       | AsJagged(AsDtype('>f4'), he...\n",
      "boostedJets_phiTA                | std::vector<float>       | AsJagged(AsDtype('>f4'), he...\n",
      "boostedJets_mcalo                | std::vector<float>       | AsJagged(AsDtype('>f4'), he...\n",
      "boostedJets_mTA                  | std::vector<float>       | AsJagged(AsDtype('>f4'), he...\n",
      "boostedJets_dRjj                 | std::vector<float>       | AsJagged(AsDtype('>f4'), he...\n",
      "boostedJets_ntrk500              | std::vector<float>       | AsJagged(AsDtype('>f4'), he...\n",
      "boostedJets_ntrk1000             | std::vector<float>       | AsJagged(AsDtype('>f4'), he...\n",
      "boostedJets_trkwidth500          | std::vector<float>       | AsJagged(AsDtype('>f4'), he...\n",
      "boostedJets_trkwidth1000         | std::vector<float>       | AsJagged(AsDtype('>f4'), he...\n",
      "jet_ak2track_asso_fatjet         | std::vector<int32_t>     | AsJagged(AsDtype('>i4'), he...\n",
      "jet_ak2track_asso_sys            | std::vector<std::vect... | AsObjects(AsVector(True, As...\n",
      "boosted_bevent_sys               | std::vector<float>       | AsJagged(AsDtype('>f4'), he...\n",
      "boostedTrkJets_BHadPt            | std::vector<float>       | AsJagged(AsDtype('>f4'), he...\n",
      "boostedJets_Xbb202006_Higgs      | std::vector<float>       | AsJagged(AsDtype('>f4'), he...\n",
      "boostedJets_Xbb202006_Top        | std::vector<float>       | AsJagged(AsDtype('>f4'), he...\n",
      "boostedJets_Xbb202006_QCD        | std::vector<float>       | AsJagged(AsDtype('>f4'), he...\n",
      "boostedJets_Xbb2020v2_Higgs      | std::vector<float>       | AsJagged(AsDtype('>f4'), he...\n",
      "boostedJets_Xbb2020v2_Top        | std::vector<float>       | AsJagged(AsDtype('>f4'), he...\n",
      "boostedJets_Xbb2020v2_QCD        | std::vector<float>       | AsJagged(AsDtype('>f4'), he...\n",
      "boostedJets_Xbb2020v3_Higgs      | std::vector<float>       | AsJagged(AsDtype('>f4'), he...\n",
      "boostedJets_Xbb2020v3_Top        | std::vector<float>       | AsJagged(AsDtype('>f4'), he...\n",
      "boostedJets_Xbb2020v3_QCD        | std::vector<float>       | AsJagged(AsDtype('>f4'), he...\n",
      "truthjet_antikt4_pt              | std::vector<float>       | AsJagged(AsDtype('>f4'), he...\n",
      "truthjet_antikt4_eta             | std::vector<float>       | AsJagged(AsDtype('>f4'), he...\n",
      "truthjet_antikt4_phi             | std::vector<float>       | AsJagged(AsDtype('>f4'), he...\n",
      "truthjet_antikt4_m               | std::vector<float>       | AsJagged(AsDtype('>f4'), he...\n",
      "truthjet_antikt10_pt             | std::vector<float>       | AsJagged(AsDtype('>f4'), he...\n",
      "truthjet_antikt10_eta            | std::vector<float>       | AsJagged(AsDtype('>f4'), he...\n",
      "truthjet_antikt10_phi            | std::vector<float>       | AsJagged(AsDtype('>f4'), he...\n",
      "truthjet_antikt10_m              | std::vector<float>       | AsJagged(AsDtype('>f4'), he...\n",
      "passedEmulatedTriggerHashes      | std::vector<uint64_t>    | AsJagged(AsDtype('>u8'), he...\n",
      "GenFiltHT                        | float                    | AsDtype('>f4')\n",
      "weight                           | float                    | AsDtype('>f4')\n",
      "weight_xs                        | float                    | AsDtype('>f4')\n",
      "cleanEvent                       | bool                     | AsDtype('bool')\n",
      "passResolvedGRL                  | bool                     | AsDtype('bool')\n"
     ]
    }
   ],
   "source": [
    "MNTuple = uprooted['XhhMiniNtuple']\n",
    "# events.arrays([\"px1\", \"py1\", \"pz1\"])\n",
    "MNTuple.show(name_width=32,\n",
    "            interpretation_width=30)"
   ]
  },
  {
   "cell_type": "markdown",
   "id": "e7995372-97d1-4ed4-98d6-1cfe10221d8e",
   "metadata": {},
   "source": [
    "## Inputs\n",
    "boosted_nGoodJets\n",
    "nboostedJets\n",
    "boostedJets_m\n",
    "boostedJets_pt\n",
    "boostedJets_phi\n",
    "boostedJets_eta\n",
    "\n",
    "\n",
    "## Questions\n",
    "boostedJets_Xbb2020v3_Higgs      | std::vector\\<float>\n",
    "boostedJets_Xbb2020v3_Top        | std::vector\\<float>\n",
    "boostedJets_Xbb2020v3_QCD        | std::vector\\<float>\n",
    "boostedJets_dRjj                 | std::vector\\<float>\n",
    "boostedJets_Split12              | std::vector\\<float>\n",
    "boostedJets_Split23              | std::vector\\<float>\n",
    "boostedJets_tau1_wta             | std::vector\\<float>\n",
    "\n",
    "\n",
    "## Targets\n",
    "truth_mHH\n",
    "truthjet_antikt10_pt\n",
    "truthjet_antikt10_eta\n",
    "truthjet_antikt10_phi\n",
    "truthjet_antikt10_m\n",
    "\n",
    "Notes: create histograms of delta R for jet matching\n",
    "double check pt sorting\n",
    "only choose first two jets"
   ]
  },
  {
   "cell_type": "markdown",
   "id": "0a613145-9010-4aea-b830-fd7940498948",
   "metadata": {},
   "source": [
    "## Load utils"
   ]
  },
  {
   "cell_type": "markdown",
   "id": "c4ae8327-be0e-4178-bc89-696a31ce0d35",
   "metadata": {},
   "source": [
    "<M>"
   ]
  },
  {
   "cell_type": "code",
   "execution_count": 44,
   "id": "05a7886a-b906-4e2f-8bf0-840fc5ed06a9",
   "metadata": {},
   "outputs": [],
   "source": [
    "import os\n",
    "import sys\n",
    "cwd = os.getcwd()\n",
    "path_head, path_tail = os.path.split(cwd)\n",
    "sys.path.append(path_head+'/utils')\n",
    "from ml_utils import dict_from_tree, DeltaR\n",
    "from time import perf_counter as cput"
   ]
  },
  {
   "cell_type": "code",
   "execution_count": 6,
   "id": "b239a8a4-83a8-4a1e-bb1a-79031c599fbf",
   "metadata": {},
   "outputs": [],
   "source": [
    "branches = ['boosted_nGoodJets', \"nboostedJets\", \"boostedJets_m\",\n",
    "            \"boostedJets_pt\", \"boostedJets_phi\", \"boostedJets_eta\",\n",
    "           \"truth_mHH\", 'truthjet_antikt10_pt', 'truthjet_antikt10_eta',\n",
    "           'truthjet_antikt10_phi', 'truthjet_antikt10_m']\n",
    "np_branches = ['eventNumber']"
   ]
  },
  {
   "cell_type": "code",
   "execution_count": 7,
   "id": "30666e41-4669-4223-87f4-bcb31c476a6d",
   "metadata": {},
   "outputs": [],
   "source": [
    "# hh4b_dict = dict_from_tree(MNTuple, branches, np_branches)"
   ]
  },
  {
   "cell_type": "code",
   "execution_count": 18,
   "id": "98804baa-cc70-4a1c-9af8-7753d42ce49d",
   "metadata": {},
   "outputs": [
    {
     "name": "stdout",
     "output_type": "stream",
     "text": [
      "Time to load arrays:   1.0542 (s)\n",
      "339978 Events\n"
     ]
    }
   ],
   "source": [
    "t0 = cput()\n",
    "hh4b_dict = dict_from_tree(MNTuple, branches, np_branches)\n",
    "t1 = cput()\n",
    "method_1_time = t1 - t0\n",
    "print('Time to load arrays: {:8.4f} (s)'.format(method_1_time))\n",
    "\n",
    "nEvents = len(hh4b_dict['eventNumber'])\n",
    "print('{} Events'.format(nEvents))"
   ]
  },
  {
   "cell_type": "markdown",
   "id": "d38bc331-d4fc-4bcc-9a38-de9d2036bfff",
   "metadata": {},
   "source": [
    "## Check for pt ordering of jets"
   ]
  },
  {
   "cell_type": "code",
   "execution_count": 36,
   "id": "a57adc8b-2093-401d-a831-a97383cbd20a",
   "metadata": {},
   "outputs": [
    {
     "name": "stdout",
     "output_type": "stream",
     "text": [
      "Jets are ordered with respect to pt\n",
      "Number of events with two or more boosted jets: 95892\n"
     ]
    }
   ],
   "source": [
    "ordered_jets = np.zeros(nEvents, dtype=bool)\n",
    "nBoostedJets = np.empty(nEvents, dtype=int)\n",
    "gt_twoJets = np.zeros(nEvents, dtype=bool)\n",
    "\n",
    "t0 = cput()\n",
    "for i in range(nEvents):\n",
    "    boostedJets_pt = ak.to_numpy(hh4b_dict['boostedJets_pt'][i])\n",
    "    \n",
    "    nBoostedJets[i] = len(boostedJets_pt)\n",
    "    ordered_jets[i] = np.all(boostedJets_pt[:-1] >= boostedJets_pt[1:])\n",
    "    \n",
    "    if nBoostedJets[i] >=2:\n",
    "        gt_twoJets[i] = True\n",
    "    \n",
    "if np.any(np.invert(ordered_jets)):\n",
    "    print('Found Jets that are not ordered!!')\n",
    "else:\n",
    "    print('Jets are ordered with respect to pt')\n",
    "t1 = cput()\n",
    "\n",
    "print('Number of events with two or more boosted jets: {}'.format(\n",
    "    np.count_nonzero(gt_twoJets)))"
   ]
  },
  {
   "cell_type": "markdown",
   "id": "d04b5025-10dd-44c5-8d25-d94271db495c",
   "metadata": {},
   "source": [
    "## Find number of boosted jets!"
   ]
  },
  {
   "cell_type": "code",
   "execution_count": 35,
   "id": "53032346-5650-4e12-8cea-0bce0de0ac10",
   "metadata": {},
   "outputs": [
    {
     "data": {
      "image/png": "[encoded data removed]",
      "text/plain": [
       "<Figure size 432x288 with 1 Axes>"
      ]
     },
     "metadata": {
      "needs_background": "light"
     },
     "output_type": "display_data"
    }
   ],
   "source": [
    "bin_edges = np.arange(-.5, 4.5, 1)\n",
    "\n",
    "plt.hist(nBoostedJets, bins=bin_edges, density=True, rwidth=.8, color='red')\n",
    "plt.xlim(np.min(bin_edges), np.max(bin_edges))\n",
    "# plt.title('Number of boosted Jets', fontsize=14)\n",
    "plt.ylabel('Normalized Fraction', fontsize=12)\n",
    "plt.xlabel('Number of Boosted Jets', fontsize=12)\n",
    "# plt.tight_layout()\n",
    "# plt.savefig('Plots/Summer22/MNT_NumberBoostedJets.png', format='png')\n",
    "plt.show()"
   ]
  },
  {
   "cell_type": "code",
   "execution_count": 46,
   "id": "55d92644-e978-48f6-b8ec-cf76fc7ef5a7",
   "metadata": {},
   "outputs": [],
   "source": [
    "evt_idx = np.arange(nEvents)[gt_twoJets]\n",
    "matched_jets = np.zeros(len(gt_twoJets), dtype=bool)\n",
    "\n",
    "LeadingJet_DR = np.empty(len(gt_twoJets))\n",
    "subLeadingJet_DR = np.empty(len(gt_twoJets))"
   ]
  },
  {
   "cell_type": "code",
   "execution_count": 47,
   "id": "032559ff-3d07-432a-afac-8a701fdcb7da",
   "metadata": {},
   "outputs": [],
   "source": [
    "np.set_printoptions(precision=2)"
   ]
  },
  {
   "cell_type": "code",
   "execution_count": 59,
   "id": "407937e7-2a07-4246-a2ed-08ffcbe51867",
   "metadata": {
    "scrolled": true,
    "tags": []
   },
   "outputs": [
    {
     "name": "stdout",
     "output_type": "stream",
     "text": [
      "Time to complete jet matching:  1.623 (m)\n",
      "\n",
      "\n",
      "[0 1]\n",
      "[0 1]\n",
      "[0 1]\n",
      "[0 1]\n",
      "[0 1]\n",
      "[0 1]\n",
      "[0 1]\n",
      "[0 1]\n",
      "[0 1]\n",
      "[0 1]\n",
      "[0 1]\n",
      "[1 0]\n",
      "[0 1]\n",
      "[0 1]\n",
      "[0 1]\n",
      "[0 1]\n",
      "[0 1]\n",
      "[0 1]\n",
      "[0 1]\n",
      "[1 0]\n"
     ]
    }
   ],
   "source": [
    "matched_jets = []\n",
    "\n",
    "t0 = cput()\n",
    "for i, evt in enumerate(evt_idx):\n",
    "    \n",
    "    nTruthJets = ak.to_numpy(hh4b_dict['truthjet_antikt10_m'][evt]).shape[0]\n",
    "    truthJet_coords = np.empty((nTruthJets, 2))\n",
    "    for j in range(nTruthJets):\n",
    "        truthJet_coords[j,0] = hh4b_dict['truthjet_antikt10_eta'][evt][j]\n",
    "        truthJet_coords[j,1] = hh4b_dict['truthjet_antikt10_phi'][evt][j]\n",
    "\n",
    "    # print(truthJet_coords)\n",
    "    \n",
    "    BoostedJet0_eta = hh4b_dict['boostedJets_eta'][evt][0]\n",
    "    BoostedJet0_phi = hh4b_dict['boostedJets_phi'][evt][0]\n",
    "    BoostedJet0_coords = np.array([BoostedJet0_eta, BoostedJet0_phi])\n",
    "    LeadingJet_DR_arr = DeltaR(truthJet_coords, BoostedJet0_coords)\n",
    "    # print(LeadingJet_DR_arr)\n",
    "    LJ_DR = np.min(LeadingJet_DR_arr)\n",
    "    LJ_DR_idx = np.argmin(LeadingJet_DR_arr)\n",
    "    LeadingJet_DR[i] = LJ_DR\n",
    "    \n",
    "    BoostedJet1_eta = hh4b_dict['boostedJets_eta'][evt][1]\n",
    "    BoostedJet1_phi = hh4b_dict['boostedJets_phi'][evt][1]\n",
    "    BoostedJet1_coords = np.array([BoostedJet1_eta, BoostedJet1_phi])\n",
    "    subLeadingJet_DR_arr = DeltaR(truthJet_coords, BoostedJet1_coords)\n",
    "    # print(subLeadingJet_DR_arr)\n",
    "    SLJ_DR = np.min(subLeadingJet_DR_arr)\n",
    "    SLJ_DR_idx = np.argmin(subLeadingJet_DR_arr)\n",
    "    subLeadingJet_DR[i] = SLJ_DR\n",
    "    \n",
    "    if SLJ_DR_idx != LJ_DR_idx:\n",
    "        if LJ_DR < .1 and SLJ_DR < .1:\n",
    "            matched_jets.append([LJ_DR_idx, SLJ_DR_idx])\n",
    "    \n",
    "    # print();print()\n",
    "\n",
    "t1 = cput()\n",
    "print('Time to complete jet matching: {:6.3f} (m)'.format((t1 - t0)/60))\n",
    "print();print()\n",
    "matched_jets = np.array(matched_jets)\n",
    "for i in range(20):\n",
    "    print(matched_jets[i])"
   ]
  },
  {
   "cell_type": "markdown",
   "id": "d7c34a8f-96ec-492e-9b67-441ce1be3548",
   "metadata": {},
   "source": [
    "## Plot $\\Delta R$ for Leading and sub-Leading Jets"
   ]
  },
  {
   "cell_type": "markdown",
   "id": "bbca1876-036b-482d-afac-8a40225da386",
   "metadata": {},
   "source": [
    "### Leading Jet"
   ]
  },
  {
   "cell_type": "code",
   "execution_count": 70,
   "id": "f88d680a-8f53-49ae-88ab-2a8bf28ff64a",
   "metadata": {},
   "outputs": [
    {
     "data": {
      "image/png": "[encoded data removed]",
      "text/plain": [
       "<Figure size 432x288 with 1 Axes>"
      ]
     },
     "metadata": {
      "needs_background": "light"
     },
     "output_type": "display_data"
    }
   ],
   "source": [
    "DR_bins = np.linspace(0,.5,100,endpoint=True)\n",
    "plt.hist(LeadingJet_DR, bins=DR_bins, color='steelblue',\n",
    "         alpha=.75, linewidth=.75, edgecolor='black')\n",
    "plt.yscale('log')\n",
    "plt.xlim(0,.5)\n",
    "plt.title('Leading Jet', fontsize=14)\n",
    "plt.xlabel('$\\Delta R$', fontsize=14)\n",
    "# plt.tight_layout()\n",
    "# plt.savefig('Plots/Summer22/MNT_LeadingJet_DR.png', format='png')\n",
    "plt.show()"
   ]
  },
  {
   "cell_type": "markdown",
   "id": "e1971536-c9c5-4b80-99bf-67a2f0f0b33a",
   "metadata": {},
   "source": [
    "### Sub-Leading Jet"
   ]
  },
  {
   "cell_type": "code",
   "execution_count": 71,
   "id": "291bf1fe-68cc-4ce5-8901-98adb29f6406",
   "metadata": {},
   "outputs": [
    {
     "data": {
      "image/png": "[encoded data removed]",
      "text/plain": [
       "<Figure size 432x288 with 1 Axes>"
      ]
     },
     "metadata": {
      "needs_background": "light"
     },
     "output_type": "display_data"
    }
   ],
   "source": [
    "DR_bins = np.linspace(0,.5,100,endpoint=True)\n",
    "plt.hist(subLeadingJet_DR, bins=DR_bins, color='indianred',\n",
    "         alpha=.75, linewidth=.75, edgecolor='black')\n",
    "plt.yscale('log')\n",
    "plt.xlim(0,.5)\n",
    "plt.title('Sub-Leading Jet', fontsize=14)\n",
    "plt.xlabel('$\\Delta R$', fontsize=14)\n",
    "# plt.tight_layout()\n",
    "# plt.savefig('Plots/Summer22/MNT_SubLeadingJet_DR.png', format='png')\n",
    "plt.show()"
   ]
  },
  {
   "cell_type": "markdown",
   "id": "957b5597-1285-4889-8a79-432f37f81385",
   "metadata": {},
   "source": [
    "### Combined"
   ]
  },
  {
   "cell_type": "code",
   "execution_count": 74,
   "id": "0cd7df42-96ab-43fa-ab7e-18dd1c84eb03",
   "metadata": {},
   "outputs": [
    {
     "data": {
      "image/png": "[encoded data removed]",
      "text/plain": [
       "<Figure size 432x288 with 1 Axes>"
      ]
     },
     "metadata": {
      "needs_background": "light"
     },
     "output_type": "display_data"
    }
   ],
   "source": [
    "DR_bins = np.linspace(0,.5,100,endpoint=True)\n",
    "plt.hist(LeadingJet_DR, bins=DR_bins, color='steelblue',\n",
    "         alpha=.35, linewidth=.75, edgecolor='dodgerblue', label='leading')\n",
    "plt.hist(subLeadingJet_DR, bins=DR_bins, color='indianred',\n",
    "         alpha=.35, linewidth=.75, edgecolor='maroon', label='subleading')\n",
    "plt.yscale('log')\n",
    "plt.xlim(0,.5)\n",
    "plt.title('Combined (sub)Leading Jets', fontsize=14)\n",
    "plt.xlabel('$\\Delta R$', fontsize=14)\n",
    "plt.legend()\n",
    "# plt.tight_layout()\n",
    "# plt.savefig('Plots/Summer22/MNT_Combined_Jet_DR.png', format='png')\n",
    "plt.show()"
   ]
  },
  {
   "cell_type": "code",
   "execution_count": null,
   "id": "44233c85-c5f0-4f91-a61d-c8fa844fecc5",
   "metadata": {},
   "outputs": [],
   "source": []
  }
 ],
 "metadata": {
  "kernelspec": {
   "display_name": "Python 3 (ipykernel)",
   "language": "python",
   "name": "python3"
  },
  "language_info": {
   "codemirror_mode": {
    "name": "ipython",
    "version": 3
   },
   "file_extension": ".py",
   "mimetype": "text/x-python",
   "name": "python",
   "nbconvert_exporter": "python",
   "pygments_lexer": "ipython3",
   "version": "3.8.10"
  }
 },
 "nbformat": 4,
 "nbformat_minor": 5
}
